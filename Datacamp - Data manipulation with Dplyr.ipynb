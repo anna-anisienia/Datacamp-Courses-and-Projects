{
 "cells": [
  {
   "cell_type": "markdown",
   "metadata": {
    "toc": true
   },
   "source": [
    "<h1>Table of Contents<span class=\"tocSkip\"></span></h1>\n",
    "<div class=\"toc\"><ul class=\"toc-item\"><li><span><a href=\"#Ch1:-Introduction\" data-toc-modified-id=\"Ch1:-Introduction-1\"><span class=\"toc-item-num\">1&nbsp;&nbsp;</span>Ch1: Introduction</a></span><ul class=\"toc-item\"><li><span><a href=\"#Load-the-dplyr-and-hflights-package\" data-toc-modified-id=\"Load-the-dplyr-and-hflights-package-1.1\"><span class=\"toc-item-num\">1.1&nbsp;&nbsp;</span>Load the dplyr and hflights package</a></span></li><li><span><a href=\"#Explore-the-data-set\" data-toc-modified-id=\"Explore-the-data-set-1.2\"><span class=\"toc-item-num\">1.2&nbsp;&nbsp;</span>Explore the data set</a></span></li><li><span><a href=\"#Changing-labels-of-hflights,-part-1-of-2\" data-toc-modified-id=\"Changing-labels-of-hflights,-part-1-of-2-1.3\"><span class=\"toc-item-num\">1.3&nbsp;&nbsp;</span>Changing labels of hflights, part 1 of 2</a></span></li><li><span><a href=\"#Changing-labels-of-hflights,-part-2-of-2\" data-toc-modified-id=\"Changing-labels-of-hflights,-part-2-of-2-1.4\"><span class=\"toc-item-num\">1.4&nbsp;&nbsp;</span>Changing labels of hflights, part 2 of 2</a></span></li></ul></li><li><span><a href=\"#Ch2:-Select,-mutate,-filter,-arrange,-summarize\" data-toc-modified-id=\"Ch2:-Select,-mutate,-filter,-arrange,-summarize-2\"><span class=\"toc-item-num\">2&nbsp;&nbsp;</span>Ch2: Select, mutate, filter, arrange, summarize</a></span><ul class=\"toc-item\"><li><span><a href=\"#The-five-verbs-and-their-meaning\" data-toc-modified-id=\"The-five-verbs-and-their-meaning-2.1\"><span class=\"toc-item-num\">2.1&nbsp;&nbsp;</span>The five verbs and their meaning</a></span></li><li><span><a href=\"#Choosing-is-not-losing!-The-select-verb\" data-toc-modified-id=\"Choosing-is-not-losing!-The-select-verb-2.2\"><span class=\"toc-item-num\">2.2&nbsp;&nbsp;</span>Choosing is not losing! The select verb</a></span></li><li><span><a href=\"#Helper-functions-for-variable-selection\" data-toc-modified-id=\"Helper-functions-for-variable-selection-2.3\"><span class=\"toc-item-num\">2.3&nbsp;&nbsp;</span>Helper functions for variable selection</a></span></li><li><span><a href=\"#Comparison-to-base-R\" data-toc-modified-id=\"Comparison-to-base-R-2.4\"><span class=\"toc-item-num\">2.4&nbsp;&nbsp;</span>Comparison to base R</a></span></li><li><span><a href=\"#Mutating-is-creating\" data-toc-modified-id=\"Mutating-is-creating-2.5\"><span class=\"toc-item-num\">2.5&nbsp;&nbsp;</span>Mutating is creating</a></span></li><li><span><a href=\"#Add-multiple-variables-using-mutate\" data-toc-modified-id=\"Add-multiple-variables-using-mutate-2.6\"><span class=\"toc-item-num\">2.6&nbsp;&nbsp;</span>Add multiple variables using mutate</a></span></li><li><span><a href=\"#Recap-on-mutate-and-select\" data-toc-modified-id=\"Recap-on-mutate-and-select-2.7\"><span class=\"toc-item-num\">2.7&nbsp;&nbsp;</span>Recap on mutate and select</a></span></li></ul></li><li><span><a href=\"#Ch3:-Filter-&amp;-arrange\" data-toc-modified-id=\"Ch3:-Filter-&amp;-arrange-3\"><span class=\"toc-item-num\">3&nbsp;&nbsp;</span>Ch3: Filter &amp; arrange</a></span><ul class=\"toc-item\"><li><span><a href=\"#Logical-operators\" data-toc-modified-id=\"Logical-operators-3.1\"><span class=\"toc-item-num\">3.1&nbsp;&nbsp;</span>Logical operators</a></span></li><li><span><a href=\"#Combining-tests-using-boolean-operators\" data-toc-modified-id=\"Combining-tests-using-boolean-operators-3.2\"><span class=\"toc-item-num\">3.2&nbsp;&nbsp;</span>Combining tests using boolean operators</a></span></li><li><span><a href=\"#Blend-together-what-you've-learned!\" data-toc-modified-id=\"Blend-together-what-you've-learned!-3.3\"><span class=\"toc-item-num\">3.3&nbsp;&nbsp;</span>Blend together what you've learned!</a></span></li><li><span><a href=\"#Recap-on-select,-mutate-and-filter\" data-toc-modified-id=\"Recap-on-select,-mutate-and-filter-3.4\"><span class=\"toc-item-num\">3.4&nbsp;&nbsp;</span>Recap on select, mutate and filter</a></span></li><li><span><a href=\"#Arranging-your-data\" data-toc-modified-id=\"Arranging-your-data-3.5\"><span class=\"toc-item-num\">3.5&nbsp;&nbsp;</span>Arranging your data</a></span></li><li><span><a href=\"#Recap-on-select,-mutate,-filter-and-arrange\" data-toc-modified-id=\"Recap-on-select,-mutate,-filter-and-arrange-3.6\"><span class=\"toc-item-num\">3.6&nbsp;&nbsp;</span>Recap on select, mutate, filter and arrange</a></span></li></ul></li><li><span><a href=\"#Ch4:-Summarise-&amp;-pipes\" data-toc-modified-id=\"Ch4:-Summarise-&amp;-pipes-4\"><span class=\"toc-item-num\">4&nbsp;&nbsp;</span>Ch4: Summarise &amp; pipes</a></span><ul class=\"toc-item\"><li><span><a href=\"#The-syntax-of-summarise\" data-toc-modified-id=\"The-syntax-of-summarise-4.1\"><span class=\"toc-item-num\">4.1&nbsp;&nbsp;</span>The syntax of summarise</a></span></li><li><span><a href=\"#Aggregate-functions\" data-toc-modified-id=\"Aggregate-functions-4.2\"><span class=\"toc-item-num\">4.2&nbsp;&nbsp;</span>Aggregate functions</a></span></li><li><span><a href=\"#dplyr-aggregate-functions\" data-toc-modified-id=\"dplyr-aggregate-functions-4.3\"><span class=\"toc-item-num\">4.3&nbsp;&nbsp;</span>dplyr aggregate functions</a></span></li><li><span><a href=\"#Overview-of-pipe-syntax\" data-toc-modified-id=\"Overview-of-pipe-syntax-4.4\"><span class=\"toc-item-num\">4.4&nbsp;&nbsp;</span>Overview of pipe syntax</a></span></li><li><span><a href=\"#Drive-or-fly?-Part-1-of-2\" data-toc-modified-id=\"Drive-or-fly?-Part-1-of-2-4.5\"><span class=\"toc-item-num\">4.5&nbsp;&nbsp;</span>Drive or fly? Part 1 of 2</a></span></li><li><span><a href=\"#Drive-or-fly?-Part-2-of-2\" data-toc-modified-id=\"Drive-or-fly?-Part-2-of-2-4.6\"><span class=\"toc-item-num\">4.6&nbsp;&nbsp;</span>Drive or fly? Part 2 of 2</a></span></li><li><span><a href=\"#Advanced-piping-exercise\" data-toc-modified-id=\"Advanced-piping-exercise-4.7\"><span class=\"toc-item-num\">4.7&nbsp;&nbsp;</span>Advanced piping exercise</a></span></li></ul></li><li><span><a href=\"#Ch5:-Group_by-&amp;-Databases\" data-toc-modified-id=\"Ch5:-Group_by-&amp;-Databases-5\"><span class=\"toc-item-num\">5&nbsp;&nbsp;</span>Ch5: Group_by &amp; Databases</a></span><ul class=\"toc-item\"><li><span><a href=\"#Unite-and-conquer-using-group_by\" data-toc-modified-id=\"Unite-and-conquer-using-group_by-5.1\"><span class=\"toc-item-num\">5.1&nbsp;&nbsp;</span>Unite and conquer using group_by</a></span></li><li><span><a href=\"#Combine-group_by-with-mutate\" data-toc-modified-id=\"Combine-group_by-with-mutate-5.2\"><span class=\"toc-item-num\">5.2&nbsp;&nbsp;</span>Combine group_by with mutate</a></span></li><li><span><a href=\"#Advanced-group_by-exercises\" data-toc-modified-id=\"Advanced-group_by-exercises-5.3\"><span class=\"toc-item-num\">5.3&nbsp;&nbsp;</span>Advanced group_by exercises</a></span></li><li><span><a href=\"#dplyr-deals-with-different-types\" data-toc-modified-id=\"dplyr-deals-with-different-types-5.4\"><span class=\"toc-item-num\">5.4&nbsp;&nbsp;</span>dplyr deals with different types</a></span></li><li><span><a href=\"#dplyr-and-mySQL-databases\" data-toc-modified-id=\"dplyr-and-mySQL-databases-5.5\"><span class=\"toc-item-num\">5.5&nbsp;&nbsp;</span>dplyr and mySQL databases</a></span></li></ul></li></ul></div>"
   ]
  },
  {
   "cell_type": "markdown",
   "metadata": {},
   "source": [
    "## Ch1: Introduction\n",
    "### Load the dplyr and hflights package\n",
    "*  dplyr = a collection of functions and data sets that enhance R.\n",
    "*  we use airline flight data containing flights that departed from Houston. This data is stored in a package called hflights."
   ]
  },
  {
   "cell_type": "code",
   "execution_count": 78,
   "metadata": {},
   "outputs": [
    {
     "name": "stdout",
     "output_type": "stream",
     "text": [
      "[1] \"libraries loaded\"\n"
     ]
    }
   ],
   "source": [
    "library(dplyr)\n",
    "library(hflights)\n",
    "print(\"libraries loaded\")"
   ]
  },
  {
   "cell_type": "code",
   "execution_count": 2,
   "metadata": {},
   "outputs": [
    {
     "data": {
      "text/html": [
       "<table>\n",
       "<thead><tr><th></th><th scope=col>Year</th><th scope=col>Month</th><th scope=col>DayofMonth</th><th scope=col>DayOfWeek</th><th scope=col>DepTime</th><th scope=col>ArrTime</th><th scope=col>UniqueCarrier</th><th scope=col>FlightNum</th><th scope=col>TailNum</th><th scope=col>ActualElapsedTime</th><th scope=col>...</th><th scope=col>ArrDelay</th><th scope=col>DepDelay</th><th scope=col>Origin</th><th scope=col>Dest</th><th scope=col>Distance</th><th scope=col>TaxiIn</th><th scope=col>TaxiOut</th><th scope=col>Cancelled</th><th scope=col>CancellationCode</th><th scope=col>Diverted</th></tr></thead>\n",
       "<tbody>\n",
       "\t<tr><th scope=row>5424</th><td>2011  </td><td>1     </td><td>1     </td><td>6     </td><td>1400  </td><td>1500  </td><td>AA    </td><td>428   </td><td>N576AA</td><td>60    </td><td>...   </td><td>-10   </td><td> 0    </td><td>IAH   </td><td>DFW   </td><td>224   </td><td>7     </td><td>13    </td><td>0     </td><td>      </td><td>0     </td></tr>\n",
       "\t<tr><th scope=row>5425</th><td>2011  </td><td>1     </td><td>2     </td><td>7     </td><td>1401  </td><td>1501  </td><td>AA    </td><td>428   </td><td>N557AA</td><td>60    </td><td>...   </td><td> -9   </td><td> 1    </td><td>IAH   </td><td>DFW   </td><td>224   </td><td>6     </td><td> 9    </td><td>0     </td><td>      </td><td>0     </td></tr>\n",
       "\t<tr><th scope=row>5426</th><td>2011  </td><td>1     </td><td>3     </td><td>1     </td><td>1352  </td><td>1502  </td><td>AA    </td><td>428   </td><td>N541AA</td><td>70    </td><td>...   </td><td> -8   </td><td>-8    </td><td>IAH   </td><td>DFW   </td><td>224   </td><td>5     </td><td>17    </td><td>0     </td><td>      </td><td>0     </td></tr>\n",
       "\t<tr><th scope=row>5427</th><td>2011  </td><td>1     </td><td>4     </td><td>2     </td><td>1403  </td><td>1513  </td><td>AA    </td><td>428   </td><td>N403AA</td><td>70    </td><td>...   </td><td>  3   </td><td> 3    </td><td>IAH   </td><td>DFW   </td><td>224   </td><td>9     </td><td>22    </td><td>0     </td><td>      </td><td>0     </td></tr>\n",
       "\t<tr><th scope=row>5428</th><td>2011  </td><td>1     </td><td>5     </td><td>3     </td><td>1405  </td><td>1507  </td><td>AA    </td><td>428   </td><td>N492AA</td><td>62    </td><td>...   </td><td> -3   </td><td> 5    </td><td>IAH   </td><td>DFW   </td><td>224   </td><td>9     </td><td> 9    </td><td>0     </td><td>      </td><td>0     </td></tr>\n",
       "\t<tr><th scope=row>5429</th><td>2011  </td><td>1     </td><td>6     </td><td>4     </td><td>1359  </td><td>1503  </td><td>AA    </td><td>428   </td><td>N262AA</td><td>64    </td><td>...   </td><td> -7   </td><td>-1    </td><td>IAH   </td><td>DFW   </td><td>224   </td><td>6     </td><td>13    </td><td>0     </td><td>      </td><td>0     </td></tr>\n",
       "</tbody>\n",
       "</table>\n"
      ],
      "text/latex": [
       "\\begin{tabular}{r|lllllllllllllllllllll}\n",
       "  & Year & Month & DayofMonth & DayOfWeek & DepTime & ArrTime & UniqueCarrier & FlightNum & TailNum & ActualElapsedTime & ... & ArrDelay & DepDelay & Origin & Dest & Distance & TaxiIn & TaxiOut & Cancelled & CancellationCode & Diverted\\\\\n",
       "\\hline\n",
       "\t5424 & 2011   & 1      & 1      & 6      & 1400   & 1500   & AA     & 428    & N576AA & 60     & ...    & -10    &  0     & IAH    & DFW    & 224    & 7      & 13     & 0      &        & 0     \\\\\n",
       "\t5425 & 2011   & 1      & 2      & 7      & 1401   & 1501   & AA     & 428    & N557AA & 60     & ...    &  -9    &  1     & IAH    & DFW    & 224    & 6      &  9     & 0      &        & 0     \\\\\n",
       "\t5426 & 2011   & 1      & 3      & 1      & 1352   & 1502   & AA     & 428    & N541AA & 70     & ...    &  -8    & -8     & IAH    & DFW    & 224    & 5      & 17     & 0      &        & 0     \\\\\n",
       "\t5427 & 2011   & 1      & 4      & 2      & 1403   & 1513   & AA     & 428    & N403AA & 70     & ...    &   3    &  3     & IAH    & DFW    & 224    & 9      & 22     & 0      &        & 0     \\\\\n",
       "\t5428 & 2011   & 1      & 5      & 3      & 1405   & 1507   & AA     & 428    & N492AA & 62     & ...    &  -3    &  5     & IAH    & DFW    & 224    & 9      &  9     & 0      &        & 0     \\\\\n",
       "\t5429 & 2011   & 1      & 6      & 4      & 1359   & 1503   & AA     & 428    & N262AA & 64     & ...    &  -7    & -1     & IAH    & DFW    & 224    & 6      & 13     & 0      &        & 0     \\\\\n",
       "\\end{tabular}\n"
      ],
      "text/markdown": [
       "\n",
       "| <!--/--> | Year | Month | DayofMonth | DayOfWeek | DepTime | ArrTime | UniqueCarrier | FlightNum | TailNum | ActualElapsedTime | ... | ArrDelay | DepDelay | Origin | Dest | Distance | TaxiIn | TaxiOut | Cancelled | CancellationCode | Diverted | \n",
       "|---|---|---|---|---|---|\n",
       "| 5424 | 2011   | 1      | 1      | 6      | 1400   | 1500   | AA     | 428    | N576AA | 60     | ...    | -10    |  0     | IAH    | DFW    | 224    | 7      | 13     | 0      |        | 0      | \n",
       "| 5425 | 2011   | 1      | 2      | 7      | 1401   | 1501   | AA     | 428    | N557AA | 60     | ...    |  -9    |  1     | IAH    | DFW    | 224    | 6      |  9     | 0      |        | 0      | \n",
       "| 5426 | 2011   | 1      | 3      | 1      | 1352   | 1502   | AA     | 428    | N541AA | 70     | ...    |  -8    | -8     | IAH    | DFW    | 224    | 5      | 17     | 0      |        | 0      | \n",
       "| 5427 | 2011   | 1      | 4      | 2      | 1403   | 1513   | AA     | 428    | N403AA | 70     | ...    |   3    |  3     | IAH    | DFW    | 224    | 9      | 22     | 0      |        | 0      | \n",
       "| 5428 | 2011   | 1      | 5      | 3      | 1405   | 1507   | AA     | 428    | N492AA | 62     | ...    |  -3    |  5     | IAH    | DFW    | 224    | 9      |  9     | 0      |        | 0      | \n",
       "| 5429 | 2011   | 1      | 6      | 4      | 1359   | 1503   | AA     | 428    | N262AA | 64     | ...    |  -7    | -1     | IAH    | DFW    | 224    | 6      | 13     | 0      |        | 0      | \n",
       "\n",
       "\n"
      ],
      "text/plain": [
       "     Year Month DayofMonth DayOfWeek DepTime ArrTime UniqueCarrier FlightNum\n",
       "5424 2011 1     1          6         1400    1500    AA            428      \n",
       "5425 2011 1     2          7         1401    1501    AA            428      \n",
       "5426 2011 1     3          1         1352    1502    AA            428      \n",
       "5427 2011 1     4          2         1403    1513    AA            428      \n",
       "5428 2011 1     5          3         1405    1507    AA            428      \n",
       "5429 2011 1     6          4         1359    1503    AA            428      \n",
       "     TailNum ActualElapsedTime ... ArrDelay DepDelay Origin Dest Distance\n",
       "5424 N576AA  60                ... -10       0       IAH    DFW  224     \n",
       "5425 N557AA  60                ...  -9       1       IAH    DFW  224     \n",
       "5426 N541AA  70                ...  -8      -8       IAH    DFW  224     \n",
       "5427 N403AA  70                ...   3       3       IAH    DFW  224     \n",
       "5428 N492AA  62                ...  -3       5       IAH    DFW  224     \n",
       "5429 N262AA  64                ...  -7      -1       IAH    DFW  224     \n",
       "     TaxiIn TaxiOut Cancelled CancellationCode Diverted\n",
       "5424 7      13      0                          0       \n",
       "5425 6       9      0                          0       \n",
       "5426 5      17      0                          0       \n",
       "5427 9      22      0                          0       \n",
       "5428 9       9      0                          0       \n",
       "5429 6      13      0                          0       "
      ]
     },
     "metadata": {},
     "output_type": "display_data"
    },
    {
     "data": {
      "text/plain": [
       "      Year          Month          DayofMonth      DayOfWeek        DepTime    \n",
       " Min.   :2011   Min.   : 1.000   Min.   : 1.00   Min.   :1.000   Min.   :   1  \n",
       " 1st Qu.:2011   1st Qu.: 4.000   1st Qu.: 8.00   1st Qu.:2.000   1st Qu.:1021  \n",
       " Median :2011   Median : 7.000   Median :16.00   Median :4.000   Median :1416  \n",
       " Mean   :2011   Mean   : 6.514   Mean   :15.74   Mean   :3.948   Mean   :1396  \n",
       " 3rd Qu.:2011   3rd Qu.: 9.000   3rd Qu.:23.00   3rd Qu.:6.000   3rd Qu.:1801  \n",
       " Max.   :2011   Max.   :12.000   Max.   :31.00   Max.   :7.000   Max.   :2400  \n",
       "                                                                 NA's   :2905  \n",
       "    ArrTime     UniqueCarrier        FlightNum      TailNum         \n",
       " Min.   :   1   Length:227496      Min.   :   1   Length:227496     \n",
       " 1st Qu.:1215   Class :character   1st Qu.: 855   Class :character  \n",
       " Median :1617   Mode  :character   Median :1696   Mode  :character  \n",
       " Mean   :1578                      Mean   :1962                     \n",
       " 3rd Qu.:1953                      3rd Qu.:2755                     \n",
       " Max.   :2400                      Max.   :7290                     \n",
       " NA's   :3066                                                       \n",
       " ActualElapsedTime    AirTime         ArrDelay          DepDelay      \n",
       " Min.   : 34.0     Min.   : 11.0   Min.   :-70.000   Min.   :-33.000  \n",
       " 1st Qu.: 77.0     1st Qu.: 58.0   1st Qu.: -8.000   1st Qu.: -3.000  \n",
       " Median :128.0     Median :107.0   Median :  0.000   Median :  0.000  \n",
       " Mean   :129.3     Mean   :108.1   Mean   :  7.094   Mean   :  9.445  \n",
       " 3rd Qu.:165.0     3rd Qu.:141.0   3rd Qu.: 11.000   3rd Qu.:  9.000  \n",
       " Max.   :575.0     Max.   :549.0   Max.   :978.000   Max.   :981.000  \n",
       " NA's   :3622      NA's   :3622    NA's   :3622      NA's   :2905     \n",
       "    Origin              Dest              Distance          TaxiIn       \n",
       " Length:227496      Length:227496      Min.   :  79.0   Min.   :  1.000  \n",
       " Class :character   Class :character   1st Qu.: 376.0   1st Qu.:  4.000  \n",
       " Mode  :character   Mode  :character   Median : 809.0   Median :  5.000  \n",
       "                                       Mean   : 787.8   Mean   :  6.099  \n",
       "                                       3rd Qu.:1042.0   3rd Qu.:  7.000  \n",
       "                                       Max.   :3904.0   Max.   :165.000  \n",
       "                                                        NA's   :3066     \n",
       "    TaxiOut         Cancelled       CancellationCode      Diverted       \n",
       " Min.   :  1.00   Min.   :0.00000   Length:227496      Min.   :0.000000  \n",
       " 1st Qu.: 10.00   1st Qu.:0.00000   Class :character   1st Qu.:0.000000  \n",
       " Median : 14.00   Median :0.00000   Mode  :character   Median :0.000000  \n",
       " Mean   : 15.09   Mean   :0.01307                      Mean   :0.002853  \n",
       " 3rd Qu.: 18.00   3rd Qu.:0.00000                      3rd Qu.:0.000000  \n",
       " Max.   :163.00   Max.   :1.00000                      Max.   :1.000000  \n",
       " NA's   :2947                                                            "
      ]
     },
     "metadata": {},
     "output_type": "display_data"
    }
   ],
   "source": [
    "head(hflights)\n",
    "summary(hflights)"
   ]
  },
  {
   "cell_type": "markdown",
   "metadata": {},
   "source": [
    "### Explore the data set\n",
    "How many observations and how many variables are contained in the hflights data set?"
   ]
  },
  {
   "cell_type": "code",
   "execution_count": 17,
   "metadata": {},
   "outputs": [
    {
     "data": {
      "text/html": [
       "<ol class=list-inline>\n",
       "\t<li>227496</li>\n",
       "\t<li>21</li>\n",
       "</ol>\n"
      ],
      "text/latex": [
       "\\begin{enumerate*}\n",
       "\\item 227496\n",
       "\\item 21\n",
       "\\end{enumerate*}\n"
      ],
      "text/markdown": [
       "1. 227496\n",
       "2. 21\n",
       "\n",
       "\n"
      ],
      "text/plain": [
       "[1] 227496     21"
      ]
     },
     "metadata": {},
     "output_type": "display_data"
    }
   ],
   "source": [
    "# save(hflights, file = \"data/hflights.rda\")\n",
    "load(\"data/hflights.rda\")\n",
    "dim(hflights)"
   ]
  },
  {
   "cell_type": "markdown",
   "metadata": {},
   "source": [
    "*  tbl_df(hflights) transforms df to a tibble, same as data_frame(hflights)"
   ]
  },
  {
   "cell_type": "code",
   "execution_count": 18,
   "metadata": {},
   "outputs": [
    {
     "data": {
      "text/html": [
       "<ol class=list-inline>\n",
       "\t<li>'AA'</li>\n",
       "\t<li>'AA'</li>\n",
       "\t<li>'AA'</li>\n",
       "\t<li>'AA'</li>\n",
       "\t<li>'AA'</li>\n",
       "\t<li>'AA'</li>\n",
       "</ol>\n"
      ],
      "text/latex": [
       "\\begin{enumerate*}\n",
       "\\item 'AA'\n",
       "\\item 'AA'\n",
       "\\item 'AA'\n",
       "\\item 'AA'\n",
       "\\item 'AA'\n",
       "\\item 'AA'\n",
       "\\end{enumerate*}\n"
      ],
      "text/markdown": [
       "1. 'AA'\n",
       "2. 'AA'\n",
       "3. 'AA'\n",
       "4. 'AA'\n",
       "5. 'AA'\n",
       "6. 'AA'\n",
       "\n",
       "\n"
      ],
      "text/plain": [
       "[1] \"AA\" \"AA\" \"AA\" \"AA\" \"AA\" \"AA\""
      ]
     },
     "metadata": {},
     "output_type": "display_data"
    }
   ],
   "source": [
    "# Convert the hflights data.frame into a hflights tbl\n",
    "hflights = tbl_df(hflights)\n",
    "\n",
    "# Create the object carriers\n",
    "carriers = hflights$UniqueCarrier\n",
    "head(carriers)"
   ]
  },
  {
   "cell_type": "markdown",
   "metadata": {},
   "source": [
    "### Changing labels of hflights, part 1 of 2\n",
    "A bit of cleaning would be a good idea since the UniqueCarrier variable of hflights uses a confusing code system.\n",
    "\n",
    "To do this, let's work with a **lookup table**, that comes **in the form of a named vector**."
   ]
  },
  {
   "cell_type": "code",
   "execution_count": 6,
   "metadata": {},
   "outputs": [
    {
     "data": {
      "text/html": [
       "<dl class=dl-horizontal>\n",
       "\t<dt>AA</dt>\n",
       "\t\t<dd>'American'</dd>\n",
       "\t<dt>AS</dt>\n",
       "\t\t<dd>'Alaska'</dd>\n",
       "</dl>\n"
      ],
      "text/latex": [
       "\\begin{description*}\n",
       "\\item[AA] 'American'\n",
       "\\item[AS] 'Alaska'\n",
       "\\end{description*}\n"
      ],
      "text/markdown": [
       "AA\n",
       ":   'American'AS\n",
       ":   'Alaska'\n",
       "\n"
      ],
      "text/plain": [
       "        AA         AS \n",
       "\"American\"   \"Alaska\" "
      ]
     },
     "metadata": {},
     "output_type": "display_data"
    }
   ],
   "source": [
    "two <- c(\"AA\", \"AS\")\n",
    "lut <- c(\"AA\" = \"American\", \n",
    "         \"AS\" = \"Alaska\", \n",
    "         \"B6\" = \"JetBlue\")\n",
    "two <- lut[two]\n",
    "two"
   ]
  },
  {
   "cell_type": "code",
   "execution_count": 19,
   "metadata": {},
   "outputs": [
    {
     "name": "stdout",
     "output_type": "stream",
     "text": [
      "Observations: 227,496\n",
      "Variables: 22\n",
      "$ Year              <int> 2011, 2011, 2011, 2011, 2011, 2011, 2011, 2011, 2...\n",
      "$ Month             <int> 1, 1, 1, 1, 1, 1, 1, 1, 1, 1, 1, 1, 1, 1, 1, 1, 1...\n",
      "$ DayofMonth        <int> 1, 2, 3, 4, 5, 6, 7, 8, 9, 10, 11, 12, 13, 14, 15...\n",
      "$ DayOfWeek         <int> 6, 7, 1, 2, 3, 4, 5, 6, 7, 1, 2, 3, 4, 5, 6, 7, 1...\n",
      "$ DepTime           <int> 1400, 1401, 1352, 1403, 1405, 1359, 1359, 1355, 1...\n",
      "$ ArrTime           <int> 1500, 1501, 1502, 1513, 1507, 1503, 1509, 1454, 1...\n",
      "$ UniqueCarrier     <chr> \"AA\", \"AA\", \"AA\", \"AA\", \"AA\", \"AA\", \"AA\", \"AA\", \"...\n",
      "$ FlightNum         <int> 428, 428, 428, 428, 428, 428, 428, 428, 428, 428,...\n",
      "$ TailNum           <chr> \"N576AA\", \"N557AA\", \"N541AA\", \"N403AA\", \"N492AA\",...\n",
      "$ ActualElapsedTime <int> 60, 60, 70, 70, 62, 64, 70, 59, 71, 70, 70, 56, 6...\n",
      "$ AirTime           <int> 40, 45, 48, 39, 44, 45, 43, 40, 41, 45, 42, 41, 4...\n",
      "$ ArrDelay          <int> -10, -9, -8, 3, -3, -7, -1, -16, 44, 43, 29, 5, -...\n",
      "$ DepDelay          <int> 0, 1, -8, 3, 5, -1, -1, -5, 43, 43, 29, 19, -2, -...\n",
      "$ Origin            <chr> \"IAH\", \"IAH\", \"IAH\", \"IAH\", \"IAH\", \"IAH\", \"IAH\", ...\n",
      "$ Dest              <chr> \"DFW\", \"DFW\", \"DFW\", \"DFW\", \"DFW\", \"DFW\", \"DFW\", ...\n",
      "$ Distance          <int> 224, 224, 224, 224, 224, 224, 224, 224, 224, 224,...\n",
      "$ TaxiIn            <int> 7, 6, 5, 9, 9, 6, 12, 7, 8, 6, 8, 4, 6, 5, 6, 12,...\n",
      "$ TaxiOut           <int> 13, 9, 17, 22, 9, 13, 15, 12, 22, 19, 20, 11, 13,...\n",
      "$ Cancelled         <int> 0, 0, 0, 0, 0, 0, 0, 0, 0, 0, 0, 0, 0, 0, 0, 0, 0...\n",
      "$ CancellationCode  <chr> \"\", \"\", \"\", \"\", \"\", \"\", \"\", \"\", \"\", \"\", \"\", \"\", \"...\n",
      "$ Diverted          <int> 0, 0, 0, 0, 0, 0, 0, 0, 0, 0, 0, 0, 0, 0, 0, 0, 0...\n",
      "$ Carrier           <chr> \"American\", \"American\", \"American\", \"American\", \"...\n"
     ]
    }
   ],
   "source": [
    "lut <- c(\"AA\" = \"American\", \"AS\" = \"Alaska\", \"B6\" = \"JetBlue\", \"CO\" = \"Continental\", \n",
    "         \"DL\" = \"Delta\", \"OO\" = \"SkyWest\", \"UA\" = \"United\", \"US\" = \"US_Airways\", \n",
    "         \"WN\" = \"Southwest\", \"EV\" = \"Atlantic_Southeast\", \"F9\" = \"Frontier\", \n",
    "         \"FL\" = \"AirTran\", \"MQ\" = \"American_Eagle\", \"XE\" = \"ExpressJet\", \"YV\" = \"Mesa\")\n",
    "\n",
    "# Change the UniqueCarrier column by using lookup table lut\n",
    "hflights$Carrier <- lut[hflights$UniqueCarrier]\n",
    "\n",
    "# Glimpse at hflights\n",
    "glimpse(hflights)"
   ]
  },
  {
   "cell_type": "code",
   "execution_count": 20,
   "metadata": {},
   "outputs": [
    {
     "data": {
      "text/html": [
       "<ol class=list-inline>\n",
       "\t<li>'AA'</li>\n",
       "\t<li>'AS'</li>\n",
       "\t<li>'B6'</li>\n",
       "\t<li>'CO'</li>\n",
       "\t<li>'DL'</li>\n",
       "\t<li>'OO'</li>\n",
       "\t<li>'UA'</li>\n",
       "\t<li>'US'</li>\n",
       "\t<li>'WN'</li>\n",
       "\t<li>'EV'</li>\n",
       "\t<li>'F9'</li>\n",
       "\t<li>'FL'</li>\n",
       "\t<li>'MQ'</li>\n",
       "\t<li>'XE'</li>\n",
       "\t<li>'YV'</li>\n",
       "</ol>\n"
      ],
      "text/latex": [
       "\\begin{enumerate*}\n",
       "\\item 'AA'\n",
       "\\item 'AS'\n",
       "\\item 'B6'\n",
       "\\item 'CO'\n",
       "\\item 'DL'\n",
       "\\item 'OO'\n",
       "\\item 'UA'\n",
       "\\item 'US'\n",
       "\\item 'WN'\n",
       "\\item 'EV'\n",
       "\\item 'F9'\n",
       "\\item 'FL'\n",
       "\\item 'MQ'\n",
       "\\item 'XE'\n",
       "\\item 'YV'\n",
       "\\end{enumerate*}\n"
      ],
      "text/markdown": [
       "1. 'AA'\n",
       "2. 'AS'\n",
       "3. 'B6'\n",
       "4. 'CO'\n",
       "5. 'DL'\n",
       "6. 'OO'\n",
       "7. 'UA'\n",
       "8. 'US'\n",
       "9. 'WN'\n",
       "10. 'EV'\n",
       "11. 'F9'\n",
       "12. 'FL'\n",
       "13. 'MQ'\n",
       "14. 'XE'\n",
       "15. 'YV'\n",
       "\n",
       "\n"
      ],
      "text/plain": [
       " [1] \"AA\" \"AS\" \"B6\" \"CO\" \"DL\" \"OO\" \"UA\" \"US\" \"WN\" \"EV\" \"F9\" \"FL\" \"MQ\" \"XE\" \"YV\""
      ]
     },
     "metadata": {},
     "output_type": "display_data"
    },
    {
     "data": {
      "text/html": [
       "<ol class=list-inline>\n",
       "\t<li>'American'</li>\n",
       "\t<li>'Alaska'</li>\n",
       "\t<li>'JetBlue'</li>\n",
       "\t<li>'Continental'</li>\n",
       "\t<li>'Delta'</li>\n",
       "\t<li>'SkyWest'</li>\n",
       "\t<li>'United'</li>\n",
       "\t<li>'US_Airways'</li>\n",
       "\t<li>'Southwest'</li>\n",
       "\t<li>'Atlantic_Southeast'</li>\n",
       "\t<li>'Frontier'</li>\n",
       "\t<li>'AirTran'</li>\n",
       "\t<li>'American_Eagle'</li>\n",
       "\t<li>'ExpressJet'</li>\n",
       "\t<li>'Mesa'</li>\n",
       "</ol>\n"
      ],
      "text/latex": [
       "\\begin{enumerate*}\n",
       "\\item 'American'\n",
       "\\item 'Alaska'\n",
       "\\item 'JetBlue'\n",
       "\\item 'Continental'\n",
       "\\item 'Delta'\n",
       "\\item 'SkyWest'\n",
       "\\item 'United'\n",
       "\\item 'US\\_Airways'\n",
       "\\item 'Southwest'\n",
       "\\item 'Atlantic\\_Southeast'\n",
       "\\item 'Frontier'\n",
       "\\item 'AirTran'\n",
       "\\item 'American\\_Eagle'\n",
       "\\item 'ExpressJet'\n",
       "\\item 'Mesa'\n",
       "\\end{enumerate*}\n"
      ],
      "text/markdown": [
       "1. 'American'\n",
       "2. 'Alaska'\n",
       "3. 'JetBlue'\n",
       "4. 'Continental'\n",
       "5. 'Delta'\n",
       "6. 'SkyWest'\n",
       "7. 'United'\n",
       "8. 'US_Airways'\n",
       "9. 'Southwest'\n",
       "10. 'Atlantic_Southeast'\n",
       "11. 'Frontier'\n",
       "12. 'AirTran'\n",
       "13. 'American_Eagle'\n",
       "14. 'ExpressJet'\n",
       "15. 'Mesa'\n",
       "\n",
       "\n"
      ],
      "text/plain": [
       " [1] \"American\"           \"Alaska\"             \"JetBlue\"           \n",
       " [4] \"Continental\"        \"Delta\"              \"SkyWest\"           \n",
       " [7] \"United\"             \"US_Airways\"         \"Southwest\"         \n",
       "[10] \"Atlantic_Southeast\" \"Frontier\"           \"AirTran\"           \n",
       "[13] \"American_Eagle\"     \"ExpressJet\"         \"Mesa\"              "
      ]
     },
     "metadata": {},
     "output_type": "display_data"
    }
   ],
   "source": [
    "unique(hflights$UniqueCarrier)\n",
    "unique(hflights$Carrier)"
   ]
  },
  {
   "cell_type": "markdown",
   "metadata": {},
   "source": [
    "### Changing labels of hflights, part 2 of 2\n",
    "Let's try a similar thing, but this time to change the labels in the CancellationCode column. This column lists reasons why a flight was cancelled using a non-informative alphabetical code. \n",
    "*  A lookup table lut has already been created for you, that converts the alphabetical codes into more meaningful strings."
   ]
  },
  {
   "cell_type": "code",
   "execution_count": 21,
   "metadata": {},
   "outputs": [
    {
     "data": {
      "text/html": [
       "<ol class=list-inline>\n",
       "\t<li>''</li>\n",
       "\t<li>'A'</li>\n",
       "\t<li>'B'</li>\n",
       "\t<li>'C'</li>\n",
       "\t<li>'D'</li>\n",
       "</ol>\n"
      ],
      "text/latex": [
       "\\begin{enumerate*}\n",
       "\\item ''\n",
       "\\item 'A'\n",
       "\\item 'B'\n",
       "\\item 'C'\n",
       "\\item 'D'\n",
       "\\end{enumerate*}\n"
      ],
      "text/markdown": [
       "1. ''\n",
       "2. 'A'\n",
       "3. 'B'\n",
       "4. 'C'\n",
       "5. 'D'\n",
       "\n",
       "\n"
      ],
      "text/plain": [
       "[1] \"\"  \"A\" \"B\" \"C\" \"D\""
      ]
     },
     "metadata": {},
     "output_type": "display_data"
    }
   ],
   "source": [
    "unique(hflights$CancellationCode)"
   ]
  },
  {
   "cell_type": "code",
   "execution_count": 22,
   "metadata": {},
   "outputs": [
    {
     "name": "stdout",
     "output_type": "stream",
     "text": [
      "Observations: 227,496\n",
      "Variables: 23\n",
      "$ Year              <int> 2011, 2011, 2011, 2011, 2011, 2011, 2011, 2011, 2...\n",
      "$ Month             <int> 1, 1, 1, 1, 1, 1, 1, 1, 1, 1, 1, 1, 1, 1, 1, 1, 1...\n",
      "$ DayofMonth        <int> 1, 2, 3, 4, 5, 6, 7, 8, 9, 10, 11, 12, 13, 14, 15...\n",
      "$ DayOfWeek         <int> 6, 7, 1, 2, 3, 4, 5, 6, 7, 1, 2, 3, 4, 5, 6, 7, 1...\n",
      "$ DepTime           <int> 1400, 1401, 1352, 1403, 1405, 1359, 1359, 1355, 1...\n",
      "$ ArrTime           <int> 1500, 1501, 1502, 1513, 1507, 1503, 1509, 1454, 1...\n",
      "$ UniqueCarrier     <chr> \"AA\", \"AA\", \"AA\", \"AA\", \"AA\", \"AA\", \"AA\", \"AA\", \"...\n",
      "$ FlightNum         <int> 428, 428, 428, 428, 428, 428, 428, 428, 428, 428,...\n",
      "$ TailNum           <chr> \"N576AA\", \"N557AA\", \"N541AA\", \"N403AA\", \"N492AA\",...\n",
      "$ ActualElapsedTime <int> 60, 60, 70, 70, 62, 64, 70, 59, 71, 70, 70, 56, 6...\n",
      "$ AirTime           <int> 40, 45, 48, 39, 44, 45, 43, 40, 41, 45, 42, 41, 4...\n",
      "$ ArrDelay          <int> -10, -9, -8, 3, -3, -7, -1, -16, 44, 43, 29, 5, -...\n",
      "$ DepDelay          <int> 0, 1, -8, 3, 5, -1, -1, -5, 43, 43, 29, 19, -2, -...\n",
      "$ Origin            <chr> \"IAH\", \"IAH\", \"IAH\", \"IAH\", \"IAH\", \"IAH\", \"IAH\", ...\n",
      "$ Dest              <chr> \"DFW\", \"DFW\", \"DFW\", \"DFW\", \"DFW\", \"DFW\", \"DFW\", ...\n",
      "$ Distance          <int> 224, 224, 224, 224, 224, 224, 224, 224, 224, 224,...\n",
      "$ TaxiIn            <int> 7, 6, 5, 9, 9, 6, 12, 7, 8, 6, 8, 4, 6, 5, 6, 12,...\n",
      "$ TaxiOut           <int> 13, 9, 17, 22, 9, 13, 15, 12, 22, 19, 20, 11, 13,...\n",
      "$ Cancelled         <int> 0, 0, 0, 0, 0, 0, 0, 0, 0, 0, 0, 0, 0, 0, 0, 0, 0...\n",
      "$ CancellationCode  <chr> \"\", \"\", \"\", \"\", \"\", \"\", \"\", \"\", \"\", \"\", \"\", \"\", \"...\n",
      "$ Diverted          <int> 0, 0, 0, 0, 0, 0, 0, 0, 0, 0, 0, 0, 0, 0, 0, 0, 0...\n",
      "$ Carrier           <chr> \"American\", \"American\", \"American\", \"American\", \"...\n",
      "$ Code              <chr> NA, NA, NA, NA, NA, NA, NA, NA, NA, NA, NA, NA, N...\n"
     ]
    }
   ],
   "source": [
    "# The lookup table\n",
    "lut2 <- c(\"A\" = \"carrier\", \"B\" = \"weather\", \"C\" = \"FFA\", \"D\" = \"security\")\n",
    "\n",
    "# Add the Code column\n",
    "hflights$Code <- lut2[hflights$CancellationCode]\n",
    "\n",
    "# Glimpse at hflights\n",
    "glimpse(hflights)"
   ]
  },
  {
   "cell_type": "code",
   "execution_count": 23,
   "metadata": {},
   "outputs": [
    {
     "data": {
      "text/html": [
       "<ol class=list-inline>\n",
       "\t<li>''</li>\n",
       "\t<li>'A'</li>\n",
       "\t<li>'B'</li>\n",
       "\t<li>'C'</li>\n",
       "\t<li>'D'</li>\n",
       "</ol>\n"
      ],
      "text/latex": [
       "\\begin{enumerate*}\n",
       "\\item ''\n",
       "\\item 'A'\n",
       "\\item 'B'\n",
       "\\item 'C'\n",
       "\\item 'D'\n",
       "\\end{enumerate*}\n"
      ],
      "text/markdown": [
       "1. ''\n",
       "2. 'A'\n",
       "3. 'B'\n",
       "4. 'C'\n",
       "5. 'D'\n",
       "\n",
       "\n"
      ],
      "text/plain": [
       "[1] \"\"  \"A\" \"B\" \"C\" \"D\""
      ]
     },
     "metadata": {},
     "output_type": "display_data"
    },
    {
     "data": {
      "text/html": [
       "<ol class=list-inline>\n",
       "\t<li>NA</li>\n",
       "\t<li>'carrier'</li>\n",
       "\t<li>'weather'</li>\n",
       "\t<li>'FFA'</li>\n",
       "\t<li>'security'</li>\n",
       "</ol>\n"
      ],
      "text/latex": [
       "\\begin{enumerate*}\n",
       "\\item NA\n",
       "\\item 'carrier'\n",
       "\\item 'weather'\n",
       "\\item 'FFA'\n",
       "\\item 'security'\n",
       "\\end{enumerate*}\n"
      ],
      "text/markdown": [
       "1. NA\n",
       "2. 'carrier'\n",
       "3. 'weather'\n",
       "4. 'FFA'\n",
       "5. 'security'\n",
       "\n",
       "\n"
      ],
      "text/plain": [
       "[1] NA         \"carrier\"  \"weather\"  \"FFA\"      \"security\""
      ]
     },
     "metadata": {},
     "output_type": "display_data"
    }
   ],
   "source": [
    "unique(hflights$CancellationCode)\n",
    "unique(hflights$Code)"
   ]
  },
  {
   "cell_type": "code",
   "execution_count": 24,
   "metadata": {},
   "outputs": [
    {
     "data": {
      "text/html": [
       "<ol class=list-inline>\n",
       "\t<li>'not cancelled'</li>\n",
       "\t<li>'carrier'</li>\n",
       "\t<li>'weather'</li>\n",
       "\t<li>'FFA'</li>\n",
       "\t<li>'security'</li>\n",
       "</ol>\n"
      ],
      "text/latex": [
       "\\begin{enumerate*}\n",
       "\\item 'not cancelled'\n",
       "\\item 'carrier'\n",
       "\\item 'weather'\n",
       "\\item 'FFA'\n",
       "\\item 'security'\n",
       "\\end{enumerate*}\n"
      ],
      "text/markdown": [
       "1. 'not cancelled'\n",
       "2. 'carrier'\n",
       "3. 'weather'\n",
       "4. 'FFA'\n",
       "5. 'security'\n",
       "\n",
       "\n"
      ],
      "text/plain": [
       "[1] \"not cancelled\" \"carrier\"       \"weather\"       \"FFA\"          \n",
       "[5] \"security\"     "
      ]
     },
     "metadata": {},
     "output_type": "display_data"
    }
   ],
   "source": [
    "# replace NA in \"Code\" column with \"not cancelled\"\n",
    "hflights$Code[is.na(hflights$Code)] = \"not cancelled\"\n",
    "unique(hflights$Code)"
   ]
  },
  {
   "cell_type": "code",
   "execution_count": 25,
   "metadata": {},
   "outputs": [
    {
     "name": "stdout",
     "output_type": "stream",
     "text": [
      "Observations: 227,496\n",
      "Variables: 23\n",
      "$ Year              <int> 2011, 2011, 2011, 2011, 2011, 2011, 2011, 2011, 2...\n",
      "$ Month             <int> 1, 1, 1, 1, 1, 1, 1, 1, 1, 1, 1, 1, 1, 1, 1, 1, 1...\n",
      "$ DayofMonth        <int> 1, 2, 3, 4, 5, 6, 7, 8, 9, 10, 11, 12, 13, 14, 15...\n",
      "$ DayOfWeek         <int> 6, 7, 1, 2, 3, 4, 5, 6, 7, 1, 2, 3, 4, 5, 6, 7, 1...\n",
      "$ DepTime           <int> 1400, 1401, 1352, 1403, 1405, 1359, 1359, 1355, 1...\n",
      "$ ArrTime           <int> 1500, 1501, 1502, 1513, 1507, 1503, 1509, 1454, 1...\n",
      "$ UniqueCarrier     <chr> \"AA\", \"AA\", \"AA\", \"AA\", \"AA\", \"AA\", \"AA\", \"AA\", \"...\n",
      "$ FlightNum         <int> 428, 428, 428, 428, 428, 428, 428, 428, 428, 428,...\n",
      "$ TailNum           <chr> \"N576AA\", \"N557AA\", \"N541AA\", \"N403AA\", \"N492AA\",...\n",
      "$ ActualElapsedTime <int> 60, 60, 70, 70, 62, 64, 70, 59, 71, 70, 70, 56, 6...\n",
      "$ AirTime           <int> 40, 45, 48, 39, 44, 45, 43, 40, 41, 45, 42, 41, 4...\n",
      "$ ArrDelay          <int> -10, -9, -8, 3, -3, -7, -1, -16, 44, 43, 29, 5, -...\n",
      "$ DepDelay          <int> 0, 1, -8, 3, 5, -1, -1, -5, 43, 43, 29, 19, -2, -...\n",
      "$ Origin            <chr> \"IAH\", \"IAH\", \"IAH\", \"IAH\", \"IAH\", \"IAH\", \"IAH\", ...\n",
      "$ Dest              <chr> \"DFW\", \"DFW\", \"DFW\", \"DFW\", \"DFW\", \"DFW\", \"DFW\", ...\n",
      "$ Distance          <int> 224, 224, 224, 224, 224, 224, 224, 224, 224, 224,...\n",
      "$ TaxiIn            <int> 7, 6, 5, 9, 9, 6, 12, 7, 8, 6, 8, 4, 6, 5, 6, 12,...\n",
      "$ TaxiOut           <int> 13, 9, 17, 22, 9, 13, 15, 12, 22, 19, 20, 11, 13,...\n",
      "$ Cancelled         <int> 0, 0, 0, 0, 0, 0, 0, 0, 0, 0, 0, 0, 0, 0, 0, 0, 0...\n",
      "$ CancellationCode  <chr> \"\", \"\", \"\", \"\", \"\", \"\", \"\", \"\", \"\", \"\", \"\", \"\", \"...\n",
      "$ Diverted          <int> 0, 0, 0, 0, 0, 0, 0, 0, 0, 0, 0, 0, 0, 0, 0, 0, 0...\n",
      "$ Carrier           <chr> \"American\", \"American\", \"American\", \"American\", \"...\n",
      "$ Code              <chr> \"not cancelled\", \"not cancelled\", \"not cancelled\"...\n"
     ]
    }
   ],
   "source": [
    "glimpse(hflights)"
   ]
  },
  {
   "cell_type": "code",
   "execution_count": 15,
   "metadata": {},
   "outputs": [
    {
     "data": {
      "text/html": [
       "<table>\n",
       "<thead><tr><th scope=col>x</th><th scope=col>y</th></tr></thead>\n",
       "<tbody>\n",
       "\t<tr><td>a </td><td>NA</td></tr>\n",
       "\t<tr><td>a </td><td>a </td></tr>\n",
       "\t<tr><td>b </td><td>b </td></tr>\n",
       "\t<tr><td>c </td><td>c </td></tr>\n",
       "\t<tr><td>d </td><td>d </td></tr>\n",
       "\t<tr><td>e </td><td>e </td></tr>\n",
       "</tbody>\n",
       "</table>\n"
      ],
      "text/latex": [
       "\\begin{tabular}{r|ll}\n",
       " x & y\\\\\n",
       "\\hline\n",
       "\t a  & NA\\\\\n",
       "\t a  & a \\\\\n",
       "\t b  & b \\\\\n",
       "\t c  & c \\\\\n",
       "\t d  & d \\\\\n",
       "\t e  & e \\\\\n",
       "\\end{tabular}\n"
      ],
      "text/markdown": [
       "\n",
       "x | y | \n",
       "|---|---|---|---|---|---|\n",
       "| a  | NA | \n",
       "| a  | a  | \n",
       "| b  | b  | \n",
       "| c  | c  | \n",
       "| d  | d  | \n",
       "| e  | e  | \n",
       "\n",
       "\n"
      ],
      "text/plain": [
       "  x y \n",
       "1 a NA\n",
       "2 a a \n",
       "3 b b \n",
       "4 c c \n",
       "5 d d \n",
       "6 e e "
      ]
     },
     "metadata": {},
     "output_type": "display_data"
    }
   ],
   "source": [
    "x = c(\"a\", letters, NA)\n",
    "y = c(NA, letters, NA)\n",
    "z = data.frame(x,y)\n",
    "head(z)"
   ]
  },
  {
   "cell_type": "code",
   "execution_count": 16,
   "metadata": {},
   "outputs": [
    {
     "data": {
      "text/html": [
       "<table>\n",
       "<thead><tr><th scope=col>x</th><th scope=col>y</th></tr></thead>\n",
       "<tbody>\n",
       "\t<tr><td>a</td><td>a</td></tr>\n",
       "\t<tr><td>a</td><td>a</td></tr>\n",
       "\t<tr><td>b</td><td>b</td></tr>\n",
       "\t<tr><td>c</td><td>c</td></tr>\n",
       "\t<tr><td>d</td><td>d</td></tr>\n",
       "\t<tr><td>e</td><td>e</td></tr>\n",
       "</tbody>\n",
       "</table>\n"
      ],
      "text/latex": [
       "\\begin{tabular}{r|ll}\n",
       " x & y\\\\\n",
       "\\hline\n",
       "\t a & a\\\\\n",
       "\t a & a\\\\\n",
       "\t b & b\\\\\n",
       "\t c & c\\\\\n",
       "\t d & d\\\\\n",
       "\t e & e\\\\\n",
       "\\end{tabular}\n"
      ],
      "text/markdown": [
       "\n",
       "x | y | \n",
       "|---|---|---|---|---|---|\n",
       "| a | a | \n",
       "| a | a | \n",
       "| b | b | \n",
       "| c | c | \n",
       "| d | d | \n",
       "| e | e | \n",
       "\n",
       "\n"
      ],
      "text/plain": [
       "  x y\n",
       "1 a a\n",
       "2 a a\n",
       "3 b b\n",
       "4 c c\n",
       "5 d d\n",
       "6 e e"
      ]
     },
     "metadata": {},
     "output_type": "display_data"
    }
   ],
   "source": [
    "z$y[is.na(z$y)] = \"a\"\n",
    "head(z)"
   ]
  },
  {
   "cell_type": "markdown",
   "metadata": {},
   "source": [
    "## Ch2: Select, mutate, filter, arrange, summarize\n",
    "*  select & mutate - manipulate the variables\n",
    "*  filter & arrange - manipulate the obs.\n",
    "*  summarize manipulates groups of obs.\n",
    "\n",
    "### The five verbs and their meaning\n",
    "dplyr package contains five key data manipulation functions, also called verbs:\n",
    "\n",
    "1. select(), which returns a subset of the columns,\n",
    "2. filter(), that is able to return a subset of the rows,\n",
    "3. arrange(), that reorders the rows according to single or multiple variables,\n",
    "4. mutate(), used to add columns from existing data,\n",
    "5. summarise(), which reduces each group to a single row by calculating aggregate measures.\n",
    "\n",
    "What order of operations should we use to find the average value of the ArrDelay (arrival delay) variable for all American Airline flights in the hflights tbl?"
   ]
  },
  {
   "cell_type": "code",
   "execution_count": 27,
   "metadata": {},
   "outputs": [
    {
     "data": {
      "text/html": [
       "<table>\n",
       "<thead><tr><th scope=col>Year</th><th scope=col>Month</th><th scope=col>DayofMonth</th><th scope=col>DayOfWeek</th><th scope=col>DepTime</th><th scope=col>ArrTime</th><th scope=col>UniqueCarrier</th><th scope=col>FlightNum</th><th scope=col>TailNum</th><th scope=col>ActualElapsedTime</th><th scope=col>...</th><th scope=col>Origin</th><th scope=col>Dest</th><th scope=col>Distance</th><th scope=col>TaxiIn</th><th scope=col>TaxiOut</th><th scope=col>Cancelled</th><th scope=col>CancellationCode</th><th scope=col>Diverted</th><th scope=col>Carrier</th><th scope=col>Code</th></tr></thead>\n",
       "<tbody>\n",
       "\t<tr><td>2011         </td><td>1            </td><td>1            </td><td>6            </td><td>1400         </td><td>1500         </td><td>AA           </td><td>428          </td><td>N576AA       </td><td>60           </td><td>...          </td><td>IAH          </td><td>DFW          </td><td>224          </td><td>7            </td><td>13           </td><td>0            </td><td>             </td><td>0            </td><td>American     </td><td>not cancelled</td></tr>\n",
       "\t<tr><td>2011         </td><td>1            </td><td>2            </td><td>7            </td><td>1401         </td><td>1501         </td><td>AA           </td><td>428          </td><td>N557AA       </td><td>60           </td><td>...          </td><td>IAH          </td><td>DFW          </td><td>224          </td><td>6            </td><td> 9           </td><td>0            </td><td>             </td><td>0            </td><td>American     </td><td>not cancelled</td></tr>\n",
       "\t<tr><td>2011         </td><td>1            </td><td>3            </td><td>1            </td><td>1352         </td><td>1502         </td><td>AA           </td><td>428          </td><td>N541AA       </td><td>70           </td><td>...          </td><td>IAH          </td><td>DFW          </td><td>224          </td><td>5            </td><td>17           </td><td>0            </td><td>             </td><td>0            </td><td>American     </td><td>not cancelled</td></tr>\n",
       "\t<tr><td>2011         </td><td>1            </td><td>4            </td><td>2            </td><td>1403         </td><td>1513         </td><td>AA           </td><td>428          </td><td>N403AA       </td><td>70           </td><td>...          </td><td>IAH          </td><td>DFW          </td><td>224          </td><td>9            </td><td>22           </td><td>0            </td><td>             </td><td>0            </td><td>American     </td><td>not cancelled</td></tr>\n",
       "\t<tr><td>2011         </td><td>1            </td><td>5            </td><td>3            </td><td>1405         </td><td>1507         </td><td>AA           </td><td>428          </td><td>N492AA       </td><td>62           </td><td>...          </td><td>IAH          </td><td>DFW          </td><td>224          </td><td>9            </td><td> 9           </td><td>0            </td><td>             </td><td>0            </td><td>American     </td><td>not cancelled</td></tr>\n",
       "\t<tr><td>2011         </td><td>1            </td><td>6            </td><td>4            </td><td>1359         </td><td>1503         </td><td>AA           </td><td>428          </td><td>N262AA       </td><td>64           </td><td>...          </td><td>IAH          </td><td>DFW          </td><td>224          </td><td>6            </td><td>13           </td><td>0            </td><td>             </td><td>0            </td><td>American     </td><td>not cancelled</td></tr>\n",
       "</tbody>\n",
       "</table>\n"
      ],
      "text/latex": [
       "\\begin{tabular}{r|lllllllllllllllllllllll}\n",
       " Year & Month & DayofMonth & DayOfWeek & DepTime & ArrTime & UniqueCarrier & FlightNum & TailNum & ActualElapsedTime & ... & Origin & Dest & Distance & TaxiIn & TaxiOut & Cancelled & CancellationCode & Diverted & Carrier & Code\\\\\n",
       "\\hline\n",
       "\t 2011          & 1             & 1             & 6             & 1400          & 1500          & AA            & 428           & N576AA        & 60            & ...           & IAH           & DFW           & 224           & 7             & 13            & 0             &               & 0             & American      & not cancelled\\\\\n",
       "\t 2011          & 1             & 2             & 7             & 1401          & 1501          & AA            & 428           & N557AA        & 60            & ...           & IAH           & DFW           & 224           & 6             &  9            & 0             &               & 0             & American      & not cancelled\\\\\n",
       "\t 2011          & 1             & 3             & 1             & 1352          & 1502          & AA            & 428           & N541AA        & 70            & ...           & IAH           & DFW           & 224           & 5             & 17            & 0             &               & 0             & American      & not cancelled\\\\\n",
       "\t 2011          & 1             & 4             & 2             & 1403          & 1513          & AA            & 428           & N403AA        & 70            & ...           & IAH           & DFW           & 224           & 9             & 22            & 0             &               & 0             & American      & not cancelled\\\\\n",
       "\t 2011          & 1             & 5             & 3             & 1405          & 1507          & AA            & 428           & N492AA        & 62            & ...           & IAH           & DFW           & 224           & 9             &  9            & 0             &               & 0             & American      & not cancelled\\\\\n",
       "\t 2011          & 1             & 6             & 4             & 1359          & 1503          & AA            & 428           & N262AA        & 64            & ...           & IAH           & DFW           & 224           & 6             & 13            & 0             &               & 0             & American      & not cancelled\\\\\n",
       "\\end{tabular}\n"
      ],
      "text/markdown": [
       "\n",
       "Year | Month | DayofMonth | DayOfWeek | DepTime | ArrTime | UniqueCarrier | FlightNum | TailNum | ActualElapsedTime | ... | Origin | Dest | Distance | TaxiIn | TaxiOut | Cancelled | CancellationCode | Diverted | Carrier | Code | \n",
       "|---|---|---|---|---|---|\n",
       "| 2011          | 1             | 1             | 6             | 1400          | 1500          | AA            | 428           | N576AA        | 60            | ...           | IAH           | DFW           | 224           | 7             | 13            | 0             |               | 0             | American      | not cancelled | \n",
       "| 2011          | 1             | 2             | 7             | 1401          | 1501          | AA            | 428           | N557AA        | 60            | ...           | IAH           | DFW           | 224           | 6             |  9            | 0             |               | 0             | American      | not cancelled | \n",
       "| 2011          | 1             | 3             | 1             | 1352          | 1502          | AA            | 428           | N541AA        | 70            | ...           | IAH           | DFW           | 224           | 5             | 17            | 0             |               | 0             | American      | not cancelled | \n",
       "| 2011          | 1             | 4             | 2             | 1403          | 1513          | AA            | 428           | N403AA        | 70            | ...           | IAH           | DFW           | 224           | 9             | 22            | 0             |               | 0             | American      | not cancelled | \n",
       "| 2011          | 1             | 5             | 3             | 1405          | 1507          | AA            | 428           | N492AA        | 62            | ...           | IAH           | DFW           | 224           | 9             |  9            | 0             |               | 0             | American      | not cancelled | \n",
       "| 2011          | 1             | 6             | 4             | 1359          | 1503          | AA            | 428           | N262AA        | 64            | ...           | IAH           | DFW           | 224           | 6             | 13            | 0             |               | 0             | American      | not cancelled | \n",
       "\n",
       "\n"
      ],
      "text/plain": [
       "  Year Month DayofMonth DayOfWeek DepTime ArrTime UniqueCarrier FlightNum\n",
       "1 2011 1     1          6         1400    1500    AA            428      \n",
       "2 2011 1     2          7         1401    1501    AA            428      \n",
       "3 2011 1     3          1         1352    1502    AA            428      \n",
       "4 2011 1     4          2         1403    1513    AA            428      \n",
       "5 2011 1     5          3         1405    1507    AA            428      \n",
       "6 2011 1     6          4         1359    1503    AA            428      \n",
       "  TailNum ActualElapsedTime ... Origin Dest Distance TaxiIn TaxiOut Cancelled\n",
       "1 N576AA  60                ... IAH    DFW  224      7      13      0        \n",
       "2 N557AA  60                ... IAH    DFW  224      6       9      0        \n",
       "3 N541AA  70                ... IAH    DFW  224      5      17      0        \n",
       "4 N403AA  70                ... IAH    DFW  224      9      22      0        \n",
       "5 N492AA  62                ... IAH    DFW  224      9       9      0        \n",
       "6 N262AA  64                ... IAH    DFW  224      6      13      0        \n",
       "  CancellationCode Diverted Carrier  Code         \n",
       "1                  0        American not cancelled\n",
       "2                  0        American not cancelled\n",
       "3                  0        American not cancelled\n",
       "4                  0        American not cancelled\n",
       "5                  0        American not cancelled\n",
       "6                  0        American not cancelled"
      ]
     },
     "metadata": {},
     "output_type": "display_data"
    }
   ],
   "source": [
    "head(hflights)"
   ]
  },
  {
   "cell_type": "code",
   "execution_count": 30,
   "metadata": {},
   "outputs": [
    {
     "data": {
      "text/html": [
       "<table>\n",
       "<thead><tr><th scope=col>AvgArrDelay</th></tr></thead>\n",
       "<tbody>\n",
       "\t<tr><td>0.8917558</td></tr>\n",
       "</tbody>\n",
       "</table>\n"
      ],
      "text/latex": [
       "\\begin{tabular}{r|l}\n",
       " AvgArrDelay\\\\\n",
       "\\hline\n",
       "\t 0.8917558\\\\\n",
       "\\end{tabular}\n"
      ],
      "text/markdown": [
       "\n",
       "AvgArrDelay | \n",
       "|---|\n",
       "| 0.8917558 | \n",
       "\n",
       "\n"
      ],
      "text/plain": [
       "  AvgArrDelay\n",
       "1 0.8917558  "
      ]
     },
     "metadata": {},
     "output_type": "display_data"
    }
   ],
   "source": [
    "# find the average value of ArrDelay for all American Airline flights?\n",
    "hflights %>% filter(Carrier == \"American\") %>% summarize(AvgArrDelay = mean(ArrDelay, na.rm = TRUE))"
   ]
  },
  {
   "cell_type": "markdown",
   "metadata": {},
   "source": [
    "### Choosing is not losing! The select verb\n",
    "To answer the simple **question whether flight delays tend to shrink or grow during a flight**, we can safely discard a lot of the variables of each flight. To select only the ones that matter, we can use select().\n",
    "\n",
    "As an example, take the following call, that selects the variables var1 and var2 from the data frame df: **select(df, var1, var2)**\n",
    "\n",
    "You can also use **:** to select a range of variables and **-** to exclude some variables, similar to indexing a data.frame with square brackets. \n",
    "*  You can use both variable's names as well as integer indexes. \n",
    "*  This call selects the four first variables except for the second one of a data frame df: **select(df, 1:4, -2)**"
   ]
  },
  {
   "cell_type": "code",
   "execution_count": null,
   "metadata": {},
   "outputs": [],
   "source": [
    "# Print out a tbl with the four columns of hflights related to delay\n",
    "delay = select(hflights, ActualElapsedTime, AirTime, ArrDelay, DepDelay)\n",
    "\n",
    "# Print out the columns Origin up to Cancelled of hflights\n",
    "selection1 = select(hflights, Origin:Cancelled)\n",
    "\n",
    "# Answer to last question: be concise!\n",
    "selection2 = select(hflights, Year:DayOfWeek, ArrDelay:Diverted)"
   ]
  },
  {
   "cell_type": "markdown",
   "metadata": {},
   "source": [
    "### Helper functions for variable selection\n",
    "dplyr comes with a set of helper functions that can help you select groups of variables inside a select() call:\n",
    "*  starts_with(\"X\"): every name that starts with \"X\",\n",
    "*  ends_with(\"X\"): every name that ends with \"X\",\n",
    "*  contains(\"X\"): every name that contains \"X\",\n",
    "*  matches(\"X\"): every name that matches \"X\", where \"X\" can be a regular expression,\n",
    "*  num_range(\"x\", 1:5): the variables named x01, x02, x03, x04 and x05,\n",
    "*  one_of(x): every name that appears in x, which should be a character vector.\n",
    "\n",
    "Pay attention here: **When you refer to columns directly inside select(), you don't use quotes. If you use the helper functions, you do use quotes**."
   ]
  },
  {
   "cell_type": "code",
   "execution_count": null,
   "metadata": {},
   "outputs": [],
   "source": [
    "# Print out a tbl containing just ArrDelay and DepDelay\n",
    "selection3 = select(hflights, contains(\"Delay\")) # alt. ends_with(\"Delay\")\n",
    "\n",
    "# Print out a tbl ending with Num or starting with Cancell, using both helper functions and variable names\n",
    "selection4 = select(hflights, UniqueCarrier, ends_with(\"Num\"), starts_with(\"Cancell\") )\n",
    "\n",
    "# Print out a tbl ending with Time or Delay, using only helper functions.\n",
    "selection5 = select(hflights, ends_with(\"Time\"), ends_with(\"Delay\"))"
   ]
  },
  {
   "cell_type": "markdown",
   "metadata": {},
   "source": [
    "helper functions can limit the amount of coding drastically.\n",
    "\n",
    "### Comparison to base R\n",
    "To see the added value of the dplyr package, it is useful to compare its syntax with base R. Up to now, you have only considered functionality that is also available without the use of dplyr. The elegance and ease-of-use of dplyr is a great plus though."
   ]
  },
  {
   "cell_type": "code",
   "execution_count": null,
   "metadata": {},
   "outputs": [],
   "source": [
    "# Finish select call so that ex1d matches ex1r\n",
    "ex1r <- hflights[c(\"TaxiIn\", \"TaxiOut\", \"Distance\")]\n",
    "ex1d <- select(hflights, starts_with(\"Taxi\"), Distance)\n",
    "\n",
    "# Finish select call so that ex2d matches ex2r\n",
    "ex2r <- hflights[c(\"Year\", \"Month\", \"DayOfWeek\", \"DepTime\", \"ArrTime\")]\n",
    "ex2d <- select(hflights, Year, Month, DayOfWeek, DepTime, ArrTime)\n",
    "\n",
    "# Finish select call so that ex3d matches ex3r\n",
    "ex3r <- hflights[c(\"TailNum\", \"TaxiIn\", \"TaxiOut\")]\n",
    "ex3d <- select(hflights, TailNum,  starts_with(\"Taxi\"))"
   ]
  },
  {
   "cell_type": "markdown",
   "metadata": {},
   "source": [
    "### Mutating is creating\n",
    "mutate() creates new columns which are added to a copy of the dataset. Take this example that adds a new column, z, which is the element-wise sum of the columns x and y, to the data frame df: **mutate(df, z = x + y)**"
   ]
  },
  {
   "cell_type": "code",
   "execution_count": null,
   "metadata": {},
   "outputs": [],
   "source": [
    "# Add the new variable ActualGroundTime to a copy of hflights and save the result as g1.\n",
    "g1 = mutate(hflights, ActualGroundTime = ActualElapsedTime - AirTime)\n",
    "\n",
    "# Add the new variable GroundTime to g1. Save the result as g2. Check that ActualGroundTime and GroundTime are equal\n",
    "g2 = mutate(g1, GroundTime = TaxiIn + TaxiOut)\n",
    "\n",
    "# Add the new variable AverageSpeed to g2. Save the result as g3.\n",
    "g3 = mutate(g2, AverageSpeed = Distance / AirTime * 60)"
   ]
  },
  {
   "cell_type": "markdown",
   "metadata": {},
   "source": [
    "### Add multiple variables using mutate\n",
    "you can use mutate() to add multiple variables at once. To create more than one variable, place a comma between each variable that you define inside mutate().\n",
    "*  mutate() even allows you to use a new variable while creating a next variable in the same call. In this example, the new variable x is directly reused to create the new variable y: **mutate(my_df, x = a + b, y = x + c)**"
   ]
  },
  {
   "cell_type": "code",
   "execution_count": null,
   "metadata": {},
   "outputs": [],
   "source": [
    "# Add a second variable loss_ratio to the dataset: m1\n",
    "m1 <- mutate(hflights, loss = ArrDelay - DepDelay, \n",
    "                      loss_ratio = loss / DepDelay)\n",
    "\n",
    "# Add the three variables as described in the third instruction: m2\n",
    "m2 <- mutate(hflights, TotalTaxi = TaxiIn + TaxiOut,\n",
    "                      ActualGroundTime = ActualElapsedTime - AirTime,\n",
    "                      Diff = TotalTaxi - ActualGroundTime)"
   ]
  },
  {
   "cell_type": "markdown",
   "metadata": {},
   "source": [
    "### Recap on mutate and select\n",
    "Which statement concerning the following four expressions is correct?\n",
    "\n",
    "(A) hflights <- select(hflights, -(Year:Month), -(DepTime:Diverted))\n",
    "\n",
    "(B) select(hflights, starts_with(\"D\"))\n",
    "\n",
    "(C) select(hflights, -(Year:Month), -(DepTime:Diverted))\n",
    "\n",
    "(D) hflights <- select(hflights, starts_with(\"Day\"))\n",
    "\n",
    "*  (A) and (C) lead to the same hflights variable and output; (B) and (D) do not.\n",
    "*  (A) and (C) lead to the same hflights variable and output, as do (B) and (D).\n",
    "*  (A) and (D) lead to the same hflights variable and output; (B) and (C) do not.\n",
    "*  (A) and (D) lead to the same hflights variable and output, as do (B) and (C)."
   ]
  },
  {
   "cell_type": "code",
   "execution_count": 32,
   "metadata": {},
   "outputs": [
    {
     "data": {
      "text/html": [
       "<table>\n",
       "<thead><tr><th scope=col>DayofMonth</th><th scope=col>DayOfWeek</th><th scope=col>Carrier</th><th scope=col>Code</th></tr></thead>\n",
       "<tbody>\n",
       "\t<tr><td>1            </td><td>6            </td><td>American     </td><td>not cancelled</td></tr>\n",
       "\t<tr><td>2            </td><td>7            </td><td>American     </td><td>not cancelled</td></tr>\n",
       "</tbody>\n",
       "</table>\n"
      ],
      "text/latex": [
       "\\begin{tabular}{r|llll}\n",
       " DayofMonth & DayOfWeek & Carrier & Code\\\\\n",
       "\\hline\n",
       "\t 1             & 6             & American      & not cancelled\\\\\n",
       "\t 2             & 7             & American      & not cancelled\\\\\n",
       "\\end{tabular}\n"
      ],
      "text/markdown": [
       "\n",
       "DayofMonth | DayOfWeek | Carrier | Code | \n",
       "|---|---|\n",
       "| 1             | 6             | American      | not cancelled | \n",
       "| 2             | 7             | American      | not cancelled | \n",
       "\n",
       "\n"
      ],
      "text/plain": [
       "  DayofMonth DayOfWeek Carrier  Code         \n",
       "1 1          6         American not cancelled\n",
       "2 2          7         American not cancelled"
      ]
     },
     "metadata": {},
     "output_type": "display_data"
    }
   ],
   "source": [
    "A = select(hflights, -(Year:Month), -(DepTime:Diverted)) \n",
    "# same as C and same as D, because Datacamp didn't have Carrier and Code variables\n",
    "head(A, 2)"
   ]
  },
  {
   "cell_type": "code",
   "execution_count": 33,
   "metadata": {},
   "outputs": [
    {
     "data": {
      "text/html": [
       "<table>\n",
       "<thead><tr><th scope=col>DayofMonth</th><th scope=col>DayOfWeek</th><th scope=col>DepTime</th><th scope=col>DepDelay</th><th scope=col>Dest</th><th scope=col>Distance</th><th scope=col>Diverted</th></tr></thead>\n",
       "<tbody>\n",
       "\t<tr><td>1   </td><td>6   </td><td>1400</td><td>0   </td><td>DFW </td><td>224 </td><td>0   </td></tr>\n",
       "\t<tr><td>2   </td><td>7   </td><td>1401</td><td>1   </td><td>DFW </td><td>224 </td><td>0   </td></tr>\n",
       "</tbody>\n",
       "</table>\n"
      ],
      "text/latex": [
       "\\begin{tabular}{r|lllllll}\n",
       " DayofMonth & DayOfWeek & DepTime & DepDelay & Dest & Distance & Diverted\\\\\n",
       "\\hline\n",
       "\t 1    & 6    & 1400 & 0    & DFW  & 224  & 0   \\\\\n",
       "\t 2    & 7    & 1401 & 1    & DFW  & 224  & 0   \\\\\n",
       "\\end{tabular}\n"
      ],
      "text/markdown": [
       "\n",
       "DayofMonth | DayOfWeek | DepTime | DepDelay | Dest | Distance | Diverted | \n",
       "|---|---|\n",
       "| 1    | 6    | 1400 | 0    | DFW  | 224  | 0    | \n",
       "| 2    | 7    | 1401 | 1    | DFW  | 224  | 0    | \n",
       "\n",
       "\n"
      ],
      "text/plain": [
       "  DayofMonth DayOfWeek DepTime DepDelay Dest Distance Diverted\n",
       "1 1          6         1400    0        DFW  224      0       \n",
       "2 2          7         1401    1        DFW  224      0       "
      ]
     },
     "metadata": {},
     "output_type": "display_data"
    }
   ],
   "source": [
    "B = select(hflights, starts_with(\"D\"))\n",
    "head(B, 2)"
   ]
  },
  {
   "cell_type": "code",
   "execution_count": 34,
   "metadata": {},
   "outputs": [
    {
     "data": {
      "text/html": [
       "<table>\n",
       "<thead><tr><th scope=col>DayofMonth</th><th scope=col>DayOfWeek</th></tr></thead>\n",
       "<tbody>\n",
       "\t<tr><td>1</td><td>6</td></tr>\n",
       "\t<tr><td>2</td><td>7</td></tr>\n",
       "</tbody>\n",
       "</table>\n"
      ],
      "text/latex": [
       "\\begin{tabular}{r|ll}\n",
       " DayofMonth & DayOfWeek\\\\\n",
       "\\hline\n",
       "\t 1 & 6\\\\\n",
       "\t 2 & 7\\\\\n",
       "\\end{tabular}\n"
      ],
      "text/markdown": [
       "\n",
       "DayofMonth | DayOfWeek | \n",
       "|---|---|\n",
       "| 1 | 6 | \n",
       "| 2 | 7 | \n",
       "\n",
       "\n"
      ],
      "text/plain": [
       "  DayofMonth DayOfWeek\n",
       "1 1          6        \n",
       "2 2          7        "
      ]
     },
     "metadata": {},
     "output_type": "display_data"
    }
   ],
   "source": [
    "D = select(hflights, starts_with(\"Day\"))\n",
    "head(D, 2)"
   ]
  },
  {
   "cell_type": "markdown",
   "metadata": {},
   "source": [
    "*  Answer: nr. 3 (A) and (D) lead to the same hflights variable and output; (B) and (C) do not.\n",
    "*  nr 1 would be correct, if output would be assigned to a variable. "
   ]
  },
  {
   "cell_type": "markdown",
   "metadata": {},
   "source": [
    "## Ch3: Filter & arrange\n",
    "How many flights have been cancelled in Huston in 2011?\n",
    "\n",
    "### Logical operators\n",
    "R comes with a set of logical operators that you can use inside filter():\n",
    "*  x < y, TRUE if x is less than y\n",
    "*  x <= y, TRUE if x is less than or equal to y\n",
    "*  x == y, TRUE if x equals y\n",
    "*  x != y, TRUE if x does not equal y\n",
    "*  x >= y, TRUE if x is greater than or equal to y\n",
    "*  x > y, TRUE if x is greater than y\n",
    "*  x %in% c(a, b, c), TRUE if x is in the vector c(a, b, c)\n",
    "*  is.na, !is.na\n",
    "\n",
    "The following example filters df such that only the observations for which a is positive, are kept: **filter(df, a > 0)**"
   ]
  },
  {
   "cell_type": "code",
   "execution_count": 36,
   "metadata": {},
   "outputs": [
    {
     "data": {
      "text/html": [
       "<table>\n",
       "<thead><tr><th scope=col>Year</th><th scope=col>Month</th><th scope=col>DayofMonth</th><th scope=col>DayOfWeek</th><th scope=col>DepTime</th><th scope=col>ArrTime</th><th scope=col>UniqueCarrier</th><th scope=col>FlightNum</th><th scope=col>TailNum</th><th scope=col>ActualElapsedTime</th><th scope=col>...</th><th scope=col>Origin</th><th scope=col>Dest</th><th scope=col>Distance</th><th scope=col>TaxiIn</th><th scope=col>TaxiOut</th><th scope=col>Cancelled</th><th scope=col>CancellationCode</th><th scope=col>Diverted</th><th scope=col>Carrier</th><th scope=col>Code</th></tr></thead>\n",
       "<tbody>\n",
       "\t<tr><td>2011         </td><td>1            </td><td>31           </td><td>1            </td><td>924          </td><td>1413         </td><td>CO           </td><td>1            </td><td>N69063       </td><td>529          </td><td>...          </td><td>IAH          </td><td>HNL          </td><td>3904         </td><td> 6           </td><td>31           </td><td>0            </td><td>             </td><td>0            </td><td>Continental  </td><td>not cancelled</td></tr>\n",
       "\t<tr><td>2011         </td><td>1            </td><td>30           </td><td>7            </td><td>925          </td><td>1410         </td><td>CO           </td><td>1            </td><td>N76064       </td><td>525          </td><td>...          </td><td>IAH          </td><td>HNL          </td><td>3904         </td><td>13           </td><td>19           </td><td>0            </td><td>             </td><td>0            </td><td>Continental  </td><td>not cancelled</td></tr>\n",
       "</tbody>\n",
       "</table>\n"
      ],
      "text/latex": [
       "\\begin{tabular}{r|lllllllllllllllllllllll}\n",
       " Year & Month & DayofMonth & DayOfWeek & DepTime & ArrTime & UniqueCarrier & FlightNum & TailNum & ActualElapsedTime & ... & Origin & Dest & Distance & TaxiIn & TaxiOut & Cancelled & CancellationCode & Diverted & Carrier & Code\\\\\n",
       "\\hline\n",
       "\t 2011          & 1             & 31            & 1             & 924           & 1413          & CO            & 1             & N69063        & 529           & ...           & IAH           & HNL           & 3904          &  6            & 31            & 0             &               & 0             & Continental   & not cancelled\\\\\n",
       "\t 2011          & 1             & 30            & 7             & 925           & 1410          & CO            & 1             & N76064        & 525           & ...           & IAH           & HNL           & 3904          & 13            & 19            & 0             &               & 0             & Continental   & not cancelled\\\\\n",
       "\\end{tabular}\n"
      ],
      "text/markdown": [
       "\n",
       "Year | Month | DayofMonth | DayOfWeek | DepTime | ArrTime | UniqueCarrier | FlightNum | TailNum | ActualElapsedTime | ... | Origin | Dest | Distance | TaxiIn | TaxiOut | Cancelled | CancellationCode | Diverted | Carrier | Code | \n",
       "|---|---|\n",
       "| 2011          | 1             | 31            | 1             | 924           | 1413          | CO            | 1             | N69063        | 529           | ...           | IAH           | HNL           | 3904          |  6            | 31            | 0             |               | 0             | Continental   | not cancelled | \n",
       "| 2011          | 1             | 30            | 7             | 925           | 1410          | CO            | 1             | N76064        | 525           | ...           | IAH           | HNL           | 3904          | 13            | 19            | 0             |               | 0             | Continental   | not cancelled | \n",
       "\n",
       "\n"
      ],
      "text/plain": [
       "  Year Month DayofMonth DayOfWeek DepTime ArrTime UniqueCarrier FlightNum\n",
       "1 2011 1     31         1         924     1413    CO            1        \n",
       "2 2011 1     30         7         925     1410    CO            1        \n",
       "  TailNum ActualElapsedTime ... Origin Dest Distance TaxiIn TaxiOut Cancelled\n",
       "1 N69063  529               ... IAH    HNL  3904      6     31      0        \n",
       "2 N76064  525               ... IAH    HNL  3904     13     19      0        \n",
       "  CancellationCode Diverted Carrier     Code         \n",
       "1                  0        Continental not cancelled\n",
       "2                  0        Continental not cancelled"
      ]
     },
     "metadata": {},
     "output_type": "display_data"
    }
   ],
   "source": [
    "# All flights that traveled 3000 miles or more\n",
    "filter(hflights, Distance >= 3000) %>% head(2)"
   ]
  },
  {
   "cell_type": "code",
   "execution_count": 38,
   "metadata": {},
   "outputs": [
    {
     "data": {
      "text/html": [
       "<table>\n",
       "<thead><tr><th scope=col>Year</th><th scope=col>Month</th><th scope=col>DayofMonth</th><th scope=col>DayOfWeek</th><th scope=col>DepTime</th><th scope=col>ArrTime</th><th scope=col>UniqueCarrier</th><th scope=col>FlightNum</th><th scope=col>TailNum</th><th scope=col>ActualElapsedTime</th><th scope=col>...</th><th scope=col>Origin</th><th scope=col>Dest</th><th scope=col>Distance</th><th scope=col>TaxiIn</th><th scope=col>TaxiOut</th><th scope=col>Cancelled</th><th scope=col>CancellationCode</th><th scope=col>Diverted</th><th scope=col>Carrier</th><th scope=col>Code</th></tr></thead>\n",
       "<tbody>\n",
       "\t<tr><td>2011         </td><td>1            </td><td>1            </td><td>6            </td><td> 654         </td><td>1124         </td><td>B6           </td><td>620          </td><td>N324JB       </td><td>210          </td><td>...          </td><td>HOU          </td><td>JFK          </td><td>1428         </td><td> 6           </td><td>23           </td><td>0            </td><td>             </td><td>0            </td><td>JetBlue      </td><td>not cancelled</td></tr>\n",
       "\t<tr><td>2011         </td><td>1            </td><td>1            </td><td>6            </td><td>1639         </td><td>2110         </td><td>B6           </td><td>622          </td><td>N324JB       </td><td>211          </td><td>...          </td><td>HOU          </td><td>JFK          </td><td>1428         </td><td>12           </td><td>11           </td><td>0            </td><td>             </td><td>0            </td><td>JetBlue      </td><td>not cancelled</td></tr>\n",
       "</tbody>\n",
       "</table>\n"
      ],
      "text/latex": [
       "\\begin{tabular}{r|lllllllllllllllllllllll}\n",
       " Year & Month & DayofMonth & DayOfWeek & DepTime & ArrTime & UniqueCarrier & FlightNum & TailNum & ActualElapsedTime & ... & Origin & Dest & Distance & TaxiIn & TaxiOut & Cancelled & CancellationCode & Diverted & Carrier & Code\\\\\n",
       "\\hline\n",
       "\t 2011          & 1             & 1             & 6             &  654          & 1124          & B6            & 620           & N324JB        & 210           & ...           & HOU           & JFK           & 1428          &  6            & 23            & 0             &               & 0             & JetBlue       & not cancelled\\\\\n",
       "\t 2011          & 1             & 1             & 6             & 1639          & 2110          & B6            & 622           & N324JB        & 211           & ...           & HOU           & JFK           & 1428          & 12            & 11            & 0             &               & 0             & JetBlue       & not cancelled\\\\\n",
       "\\end{tabular}\n"
      ],
      "text/markdown": [
       "\n",
       "Year | Month | DayofMonth | DayOfWeek | DepTime | ArrTime | UniqueCarrier | FlightNum | TailNum | ActualElapsedTime | ... | Origin | Dest | Distance | TaxiIn | TaxiOut | Cancelled | CancellationCode | Diverted | Carrier | Code | \n",
       "|---|---|\n",
       "| 2011          | 1             | 1             | 6             |  654          | 1124          | B6            | 620           | N324JB        | 210           | ...           | HOU           | JFK           | 1428          |  6            | 23            | 0             |               | 0             | JetBlue       | not cancelled | \n",
       "| 2011          | 1             | 1             | 6             | 1639          | 2110          | B6            | 622           | N324JB        | 211           | ...           | HOU           | JFK           | 1428          | 12            | 11            | 0             |               | 0             | JetBlue       | not cancelled | \n",
       "\n",
       "\n"
      ],
      "text/plain": [
       "  Year Month DayofMonth DayOfWeek DepTime ArrTime UniqueCarrier FlightNum\n",
       "1 2011 1     1          6          654    1124    B6            620      \n",
       "2 2011 1     1          6         1639    2110    B6            622      \n",
       "  TailNum ActualElapsedTime ... Origin Dest Distance TaxiIn TaxiOut Cancelled\n",
       "1 N324JB  210               ... HOU    JFK  1428      6     23      0        \n",
       "2 N324JB  211               ... HOU    JFK  1428     12     11      0        \n",
       "  CancellationCode Diverted Carrier Code         \n",
       "1                  0        JetBlue not cancelled\n",
       "2                  0        JetBlue not cancelled"
      ]
     },
     "metadata": {},
     "output_type": "display_data"
    }
   ],
   "source": [
    "# All flights flown by one of JetBlue, Southwest, or Delta\n",
    "filter(hflights, Carrier %in% c(\"JetBlue\", \"Southwest\", \"Delta\")) %>% head(2)"
   ]
  },
  {
   "cell_type": "markdown",
   "metadata": {},
   "source": [
    "### Combining tests using boolean operators\n",
    "R also comes with a set of boolean operators that you can use to combine multiple logical tests into a single test. These include & (and), | (or), and ! (not). \n",
    "*  Instead of using the & operator, you can also pass several logical tests to filter(), separated by commas. \n",
    "*  The following two calls are completely equivalent: **filter(df, a > 0 & b > 0)** and **filter(df, a > 0, b > 0)**\n",
    "\n",
    "**is.na()** will also come in handy:\n",
    "*  This example keeps the observations in df for which the variable x is not NA: **filter(df, !is.na(x))**"
   ]
  },
  {
   "cell_type": "code",
   "execution_count": 40,
   "metadata": {},
   "outputs": [
    {
     "data": {
      "text/html": [
       "<table>\n",
       "<thead><tr><th scope=col>Year</th><th scope=col>Month</th><th scope=col>DayofMonth</th><th scope=col>DayOfWeek</th><th scope=col>DepTime</th><th scope=col>ArrTime</th><th scope=col>UniqueCarrier</th><th scope=col>FlightNum</th><th scope=col>TailNum</th><th scope=col>ActualElapsedTime</th><th scope=col>...</th><th scope=col>Origin</th><th scope=col>Dest</th><th scope=col>Distance</th><th scope=col>TaxiIn</th><th scope=col>TaxiOut</th><th scope=col>Cancelled</th><th scope=col>CancellationCode</th><th scope=col>Diverted</th><th scope=col>Carrier</th><th scope=col>Code</th></tr></thead>\n",
       "<tbody>\n",
       "\t<tr><td>2011         </td><td>1            </td><td> 4           </td><td>2            </td><td>2100         </td><td>2207         </td><td>AA           </td><td>533          </td><td>N4XGAA       </td><td>67           </td><td>...          </td><td>IAH          </td><td>DFW          </td><td>224          </td><td>3            </td><td>22           </td><td>0            </td><td>             </td><td>0            </td><td>American     </td><td>not cancelled</td></tr>\n",
       "\t<tr><td>2011         </td><td>1            </td><td>14           </td><td>5            </td><td>2119         </td><td>2229         </td><td>AA           </td><td>533          </td><td>N549AA       </td><td>70           </td><td>...          </td><td>IAH          </td><td>DFW          </td><td>224          </td><td>5            </td><td>20           </td><td>0            </td><td>             </td><td>0            </td><td>American     </td><td>not cancelled</td></tr>\n",
       "</tbody>\n",
       "</table>\n"
      ],
      "text/latex": [
       "\\begin{tabular}{r|lllllllllllllllllllllll}\n",
       " Year & Month & DayofMonth & DayOfWeek & DepTime & ArrTime & UniqueCarrier & FlightNum & TailNum & ActualElapsedTime & ... & Origin & Dest & Distance & TaxiIn & TaxiOut & Cancelled & CancellationCode & Diverted & Carrier & Code\\\\\n",
       "\\hline\n",
       "\t 2011          & 1             &  4            & 2             & 2100          & 2207          & AA            & 533           & N4XGAA        & 67            & ...           & IAH           & DFW           & 224           & 3             & 22            & 0             &               & 0             & American      & not cancelled\\\\\n",
       "\t 2011          & 1             & 14            & 5             & 2119          & 2229          & AA            & 533           & N549AA        & 70            & ...           & IAH           & DFW           & 224           & 5             & 20            & 0             &               & 0             & American      & not cancelled\\\\\n",
       "\\end{tabular}\n"
      ],
      "text/markdown": [
       "\n",
       "Year | Month | DayofMonth | DayOfWeek | DepTime | ArrTime | UniqueCarrier | FlightNum | TailNum | ActualElapsedTime | ... | Origin | Dest | Distance | TaxiIn | TaxiOut | Cancelled | CancellationCode | Diverted | Carrier | Code | \n",
       "|---|---|\n",
       "| 2011          | 1             |  4            | 2             | 2100          | 2207          | AA            | 533           | N4XGAA        | 67            | ...           | IAH           | DFW           | 224           | 3             | 22            | 0             |               | 0             | American      | not cancelled | \n",
       "| 2011          | 1             | 14            | 5             | 2119          | 2229          | AA            | 533           | N549AA        | 70            | ...           | IAH           | DFW           | 224           | 5             | 20            | 0             |               | 0             | American      | not cancelled | \n",
       "\n",
       "\n"
      ],
      "text/plain": [
       "  Year Month DayofMonth DayOfWeek DepTime ArrTime UniqueCarrier FlightNum\n",
       "1 2011 1      4         2         2100    2207    AA            533      \n",
       "2 2011 1     14         5         2119    2229    AA            533      \n",
       "  TailNum ActualElapsedTime ... Origin Dest Distance TaxiIn TaxiOut Cancelled\n",
       "1 N4XGAA  67                ... IAH    DFW  224      3      22      0        \n",
       "2 N549AA  70                ... IAH    DFW  224      5      20      0        \n",
       "  CancellationCode Diverted Carrier  Code         \n",
       "1                  0        American not cancelled\n",
       "2                  0        American not cancelled"
      ]
     },
     "metadata": {},
     "output_type": "display_data"
    }
   ],
   "source": [
    "# All flights that departed before 5am or arrived after 10pm\n",
    "# select DepTime before 5:00 am (500) or ArrTime after 10:00 pm (2200).\n",
    "filter(hflights, DepTime < 500 | ArrTime > 2200 ) %>% head(2)"
   ]
  },
  {
   "cell_type": "code",
   "execution_count": 41,
   "metadata": {},
   "outputs": [
    {
     "data": {
      "text/html": [
       "<table>\n",
       "<thead><tr><th scope=col>Year</th><th scope=col>Month</th><th scope=col>DayofMonth</th><th scope=col>DayOfWeek</th><th scope=col>DepTime</th><th scope=col>ArrTime</th><th scope=col>UniqueCarrier</th><th scope=col>FlightNum</th><th scope=col>TailNum</th><th scope=col>ActualElapsedTime</th><th scope=col>...</th><th scope=col>Origin</th><th scope=col>Dest</th><th scope=col>Distance</th><th scope=col>TaxiIn</th><th scope=col>TaxiOut</th><th scope=col>Cancelled</th><th scope=col>CancellationCode</th><th scope=col>Diverted</th><th scope=col>Carrier</th><th scope=col>Code</th></tr></thead>\n",
       "<tbody>\n",
       "\t<tr><td>2011         </td><td>1            </td><td>2            </td><td>7            </td><td>1401         </td><td>1501         </td><td>AA           </td><td>428          </td><td>N557AA       </td><td>60           </td><td>...          </td><td>IAH          </td><td>DFW          </td><td>224          </td><td>6            </td><td>9            </td><td>0            </td><td>             </td><td>0            </td><td>American     </td><td>not cancelled</td></tr>\n",
       "\t<tr><td>2011         </td><td>1            </td><td>5            </td><td>3            </td><td>1405         </td><td>1507         </td><td>AA           </td><td>428          </td><td>N492AA       </td><td>62           </td><td>...          </td><td>IAH          </td><td>DFW          </td><td>224          </td><td>9            </td><td>9            </td><td>0            </td><td>             </td><td>0            </td><td>American     </td><td>not cancelled</td></tr>\n",
       "</tbody>\n",
       "</table>\n"
      ],
      "text/latex": [
       "\\begin{tabular}{r|lllllllllllllllllllllll}\n",
       " Year & Month & DayofMonth & DayOfWeek & DepTime & ArrTime & UniqueCarrier & FlightNum & TailNum & ActualElapsedTime & ... & Origin & Dest & Distance & TaxiIn & TaxiOut & Cancelled & CancellationCode & Diverted & Carrier & Code\\\\\n",
       "\\hline\n",
       "\t 2011          & 1             & 2             & 7             & 1401          & 1501          & AA            & 428           & N557AA        & 60            & ...           & IAH           & DFW           & 224           & 6             & 9             & 0             &               & 0             & American      & not cancelled\\\\\n",
       "\t 2011          & 1             & 5             & 3             & 1405          & 1507          & AA            & 428           & N492AA        & 62            & ...           & IAH           & DFW           & 224           & 9             & 9             & 0             &               & 0             & American      & not cancelled\\\\\n",
       "\\end{tabular}\n"
      ],
      "text/markdown": [
       "\n",
       "Year | Month | DayofMonth | DayOfWeek | DepTime | ArrTime | UniqueCarrier | FlightNum | TailNum | ActualElapsedTime | ... | Origin | Dest | Distance | TaxiIn | TaxiOut | Cancelled | CancellationCode | Diverted | Carrier | Code | \n",
       "|---|---|\n",
       "| 2011          | 1             | 2             | 7             | 1401          | 1501          | AA            | 428           | N557AA        | 60            | ...           | IAH           | DFW           | 224           | 6             | 9             | 0             |               | 0             | American      | not cancelled | \n",
       "| 2011          | 1             | 5             | 3             | 1405          | 1507          | AA            | 428           | N492AA        | 62            | ...           | IAH           | DFW           | 224           | 9             | 9             | 0             |               | 0             | American      | not cancelled | \n",
       "\n",
       "\n"
      ],
      "text/plain": [
       "  Year Month DayofMonth DayOfWeek DepTime ArrTime UniqueCarrier FlightNum\n",
       "1 2011 1     2          7         1401    1501    AA            428      \n",
       "2 2011 1     5          3         1405    1507    AA            428      \n",
       "  TailNum ActualElapsedTime ... Origin Dest Distance TaxiIn TaxiOut Cancelled\n",
       "1 N557AA  60                ... IAH    DFW  224      6      9       0        \n",
       "2 N492AA  62                ... IAH    DFW  224      9      9       0        \n",
       "  CancellationCode Diverted Carrier  Code         \n",
       "1                  0        American not cancelled\n",
       "2                  0        American not cancelled"
      ]
     },
     "metadata": {},
     "output_type": "display_data"
    }
   ],
   "source": [
    "# All flights that departed late but arrived ahead of schedule\n",
    "filter(hflights, DepDelay > 0 & ArrDelay < 0) %>% head(2)"
   ]
  },
  {
   "cell_type": "code",
   "execution_count": 44,
   "metadata": {},
   "outputs": [
    {
     "data": {
      "text/html": [
       "<table>\n",
       "<thead><tr><th scope=col>Year</th><th scope=col>Month</th><th scope=col>DayofMonth</th><th scope=col>DayOfWeek</th><th scope=col>DepTime</th><th scope=col>ArrTime</th><th scope=col>UniqueCarrier</th><th scope=col>FlightNum</th><th scope=col>TailNum</th><th scope=col>ActualElapsedTime</th><th scope=col>...</th><th scope=col>Origin</th><th scope=col>Dest</th><th scope=col>Distance</th><th scope=col>TaxiIn</th><th scope=col>TaxiOut</th><th scope=col>Cancelled</th><th scope=col>CancellationCode</th><th scope=col>Diverted</th><th scope=col>Carrier</th><th scope=col>Code</th></tr></thead>\n",
       "<tbody>\n",
       "\t<tr><td>2011       </td><td>1          </td><td>26         </td><td>3          </td><td>1926       </td><td>NA         </td><td>CO         </td><td>310        </td><td>N77865     </td><td>NA         </td><td>...        </td><td>IAH        </td><td>EWR        </td><td>1400       </td><td>NA         </td><td>NA         </td><td>1          </td><td>B          </td><td>0          </td><td>Continental</td><td>weather    </td></tr>\n",
       "\t<tr><td>2011       </td><td>1          </td><td>11         </td><td>2          </td><td>1100       </td><td>NA         </td><td>US         </td><td>944        </td><td>N452UW     </td><td>NA         </td><td>...        </td><td>IAH        </td><td>CLT        </td><td> 913       </td><td>NA         </td><td>NA         </td><td>1          </td><td>B          </td><td>0          </td><td>US_Airways </td><td>weather    </td></tr>\n",
       "</tbody>\n",
       "</table>\n"
      ],
      "text/latex": [
       "\\begin{tabular}{r|lllllllllllllllllllllll}\n",
       " Year & Month & DayofMonth & DayOfWeek & DepTime & ArrTime & UniqueCarrier & FlightNum & TailNum & ActualElapsedTime & ... & Origin & Dest & Distance & TaxiIn & TaxiOut & Cancelled & CancellationCode & Diverted & Carrier & Code\\\\\n",
       "\\hline\n",
       "\t 2011        & 1           & 26          & 3           & 1926        & NA          & CO          & 310         & N77865      & NA          & ...         & IAH         & EWR         & 1400        & NA          & NA          & 1           & B           & 0           & Continental & weather    \\\\\n",
       "\t 2011          & 1             & 11            & 2             & 1100          & NA            & US            & 944           & N452UW        & NA            & ...           & IAH           & CLT           &  913          & NA            & NA            & 1             & B             & 0             & US\\_Airways  & weather      \\\\\n",
       "\\end{tabular}\n"
      ],
      "text/markdown": [
       "\n",
       "Year | Month | DayofMonth | DayOfWeek | DepTime | ArrTime | UniqueCarrier | FlightNum | TailNum | ActualElapsedTime | ... | Origin | Dest | Distance | TaxiIn | TaxiOut | Cancelled | CancellationCode | Diverted | Carrier | Code | \n",
       "|---|---|\n",
       "| 2011        | 1           | 26          | 3           | 1926        | NA          | CO          | 310         | N77865      | NA          | ...         | IAH         | EWR         | 1400        | NA          | NA          | 1           | B           | 0           | Continental | weather     | \n",
       "| 2011        | 1           | 11          | 2           | 1100        | NA          | US          | 944         | N452UW      | NA          | ...         | IAH         | CLT         |  913        | NA          | NA          | 1           | B           | 0           | US_Airways  | weather     | \n",
       "\n",
       "\n"
      ],
      "text/plain": [
       "  Year Month DayofMonth DayOfWeek DepTime ArrTime UniqueCarrier FlightNum\n",
       "1 2011 1     26         3         1926    NA      CO            310      \n",
       "2 2011 1     11         2         1100    NA      US            944      \n",
       "  TailNum ActualElapsedTime ... Origin Dest Distance TaxiIn TaxiOut Cancelled\n",
       "1 N77865  NA                ... IAH    EWR  1400     NA     NA      1        \n",
       "2 N452UW  NA                ... IAH    CLT   913     NA     NA      1        \n",
       "  CancellationCode Diverted Carrier     Code   \n",
       "1 B                0        Continental weather\n",
       "2 B                0        US_Airways  weather"
      ]
     },
     "metadata": {},
     "output_type": "display_data"
    }
   ],
   "source": [
    "# All flights that were cancelled after being delayed\n",
    "filter(hflights, Cancelled == 1 & DepDelay > 0) %>% head(2)"
   ]
  },
  {
   "cell_type": "markdown",
   "metadata": {},
   "source": [
    "### Blend together what you've learned!\n",
    "summarizing exercise: You will generate a new dataset from the hflights dataset that contains some useful information on flights that had JFK airport as their destination. You will need select(), mutate() and filter()."
   ]
  },
  {
   "cell_type": "code",
   "execution_count": 45,
   "metadata": {},
   "outputs": [
    {
     "data": {
      "text/html": [
       "<table>\n",
       "<thead><tr><th scope=col>Date</th><th scope=col>DepTime</th><th scope=col>ArrTime</th><th scope=col>TailNum</th></tr></thead>\n",
       "<tbody>\n",
       "\t<tr><td>2011-1-1</td><td> 654    </td><td>1124    </td><td>N324JB  </td></tr>\n",
       "\t<tr><td>2011-1-1</td><td>1639    </td><td>2110    </td><td>N324JB  </td></tr>\n",
       "\t<tr><td>2011-1-2</td><td> 703    </td><td>1113    </td><td>N324JB  </td></tr>\n",
       "\t<tr><td>2011-1-2</td><td>1604    </td><td>2040    </td><td>N324JB  </td></tr>\n",
       "</tbody>\n",
       "</table>\n"
      ],
      "text/latex": [
       "\\begin{tabular}{r|llll}\n",
       " Date & DepTime & ArrTime & TailNum\\\\\n",
       "\\hline\n",
       "\t 2011-1-1 &  654     & 1124     & N324JB  \\\\\n",
       "\t 2011-1-1 & 1639     & 2110     & N324JB  \\\\\n",
       "\t 2011-1-2 &  703     & 1113     & N324JB  \\\\\n",
       "\t 2011-1-2 & 1604     & 2040     & N324JB  \\\\\n",
       "\\end{tabular}\n"
      ],
      "text/markdown": [
       "\n",
       "Date | DepTime | ArrTime | TailNum | \n",
       "|---|---|---|---|\n",
       "| 2011-1-1 |  654     | 1124     | N324JB   | \n",
       "| 2011-1-1 | 1639     | 2110     | N324JB   | \n",
       "| 2011-1-2 |  703     | 1113     | N324JB   | \n",
       "| 2011-1-2 | 1604     | 2040     | N324JB   | \n",
       "\n",
       "\n"
      ],
      "text/plain": [
       "  Date     DepTime ArrTime TailNum\n",
       "1 2011-1-1  654    1124    N324JB \n",
       "2 2011-1-1 1639    2110    N324JB \n",
       "3 2011-1-2  703    1113    N324JB \n",
       "4 2011-1-2 1604    2040    N324JB "
      ]
     },
     "metadata": {},
     "output_type": "display_data"
    }
   ],
   "source": [
    "# Select the flights that had JFK as their destination: c1\n",
    "c1 = filter(hflights, Dest == \"JFK\")\n",
    "\n",
    "# Combine the Year, Month and DayofMonth variables to create a Date column: c2\n",
    "c2 = mutate(c1, Date = paste(Year, Month, DayofMonth, sep = \"-\") )\n",
    "\n",
    "# Print out a selection of columns of c2\n",
    "select(c2, Date, DepTime, ArrTime, TailNum) %>% head(4)"
   ]
  },
  {
   "cell_type": "markdown",
   "metadata": {},
   "source": [
    "### Recap on select, mutate and filter\n",
    "How many weekend flights flew a distance of more than 1000 miles but had a total taxiing time below 15 minutes?"
   ]
  },
  {
   "cell_type": "code",
   "execution_count": 47,
   "metadata": {},
   "outputs": [
    {
     "data": {
      "text/html": [
       "<table>\n",
       "<thead><tr><th scope=col>Year</th><th scope=col>Month</th><th scope=col>DayofMonth</th><th scope=col>DayOfWeek</th><th scope=col>DepTime</th><th scope=col>ArrTime</th><th scope=col>UniqueCarrier</th><th scope=col>FlightNum</th><th scope=col>TailNum</th><th scope=col>ActualElapsedTime</th><th scope=col>...</th><th scope=col>Origin</th><th scope=col>Dest</th><th scope=col>Distance</th><th scope=col>TaxiIn</th><th scope=col>TaxiOut</th><th scope=col>Cancelled</th><th scope=col>CancellationCode</th><th scope=col>Diverted</th><th scope=col>Carrier</th><th scope=col>Code</th></tr></thead>\n",
       "<tbody>\n",
       "\t<tr><td>2011         </td><td>1            </td><td>23           </td><td>7            </td><td>1535         </td><td>1933         </td><td>B6           </td><td> 624         </td><td>N599JB       </td><td>178          </td><td>...          </td><td>HOU          </td><td>JFK          </td><td>1428         </td><td>6            </td><td> 8           </td><td>0            </td><td>             </td><td>0            </td><td>JetBlue      </td><td>not cancelled</td></tr>\n",
       "\t<tr><td>2011         </td><td>1            </td><td>30           </td><td>7            </td><td> 851         </td><td>1230         </td><td>CO           </td><td>1058         </td><td>N39726       </td><td>159          </td><td>...          </td><td>IAH          </td><td>DCA          </td><td>1208         </td><td>3            </td><td>11           </td><td>0            </td><td>             </td><td>0            </td><td>Continental  </td><td>not cancelled</td></tr>\n",
       "\t<tr><td>2011         </td><td>1            </td><td>30           </td><td>7            </td><td>2234         </td><td>   2         </td><td>CO           </td><td>1717         </td><td>N38417       </td><td>208          </td><td>...          </td><td>IAH          </td><td>SAN          </td><td>1303         </td><td>3            </td><td>10           </td><td>0            </td><td>             </td><td>0            </td><td>Continental  </td><td>not cancelled</td></tr>\n",
       "\t<tr><td>2011         </td><td>1            </td><td>29           </td><td>6            </td><td>1220         </td><td>1353         </td><td>CO           </td><td>1620         </td><td>N87512       </td><td>153          </td><td>...          </td><td>IAH          </td><td>PHX          </td><td>1009         </td><td>5            </td><td> 9           </td><td>0            </td><td>             </td><td>0            </td><td>Continental  </td><td>not cancelled</td></tr>\n",
       "\t<tr><td>2011         </td><td>1            </td><td>23           </td><td>7            </td><td> 847         </td><td>1213         </td><td>CO           </td><td>1058         </td><td>N16709       </td><td>146          </td><td>...          </td><td>IAH          </td><td>DCA          </td><td>1208         </td><td>4            </td><td> 8           </td><td>0            </td><td>             </td><td>0            </td><td>Continental  </td><td>not cancelled</td></tr>\n",
       "\t<tr><td>2011         </td><td>1            </td><td>23           </td><td>7            </td><td>1224         </td><td>1345         </td><td>CO           </td><td>1629         </td><td>N39728       </td><td>201          </td><td>...          </td><td>IAH          </td><td>SNA          </td><td>1347         </td><td>4            </td><td> 9           </td><td>0            </td><td>             </td><td>0            </td><td>Continental  </td><td>not cancelled</td></tr>\n",
       "</tbody>\n",
       "</table>\n"
      ],
      "text/latex": [
       "\\begin{tabular}{r|lllllllllllllllllllllll}\n",
       " Year & Month & DayofMonth & DayOfWeek & DepTime & ArrTime & UniqueCarrier & FlightNum & TailNum & ActualElapsedTime & ... & Origin & Dest & Distance & TaxiIn & TaxiOut & Cancelled & CancellationCode & Diverted & Carrier & Code\\\\\n",
       "\\hline\n",
       "\t 2011          & 1             & 23            & 7             & 1535          & 1933          & B6            &  624          & N599JB        & 178           & ...           & HOU           & JFK           & 1428          & 6             &  8            & 0             &               & 0             & JetBlue       & not cancelled\\\\\n",
       "\t 2011          & 1             & 30            & 7             &  851          & 1230          & CO            & 1058          & N39726        & 159           & ...           & IAH           & DCA           & 1208          & 3             & 11            & 0             &               & 0             & Continental   & not cancelled\\\\\n",
       "\t 2011          & 1             & 30            & 7             & 2234          &    2          & CO            & 1717          & N38417        & 208           & ...           & IAH           & SAN           & 1303          & 3             & 10            & 0             &               & 0             & Continental   & not cancelled\\\\\n",
       "\t 2011          & 1             & 29            & 6             & 1220          & 1353          & CO            & 1620          & N87512        & 153           & ...           & IAH           & PHX           & 1009          & 5             &  9            & 0             &               & 0             & Continental   & not cancelled\\\\\n",
       "\t 2011          & 1             & 23            & 7             &  847          & 1213          & CO            & 1058          & N16709        & 146           & ...           & IAH           & DCA           & 1208          & 4             &  8            & 0             &               & 0             & Continental   & not cancelled\\\\\n",
       "\t 2011          & 1             & 23            & 7             & 1224          & 1345          & CO            & 1629          & N39728        & 201           & ...           & IAH           & SNA           & 1347          & 4             &  9            & 0             &               & 0             & Continental   & not cancelled\\\\\n",
       "\\end{tabular}\n"
      ],
      "text/markdown": [
       "\n",
       "Year | Month | DayofMonth | DayOfWeek | DepTime | ArrTime | UniqueCarrier | FlightNum | TailNum | ActualElapsedTime | ... | Origin | Dest | Distance | TaxiIn | TaxiOut | Cancelled | CancellationCode | Diverted | Carrier | Code | \n",
       "|---|---|---|---|---|---|\n",
       "| 2011          | 1             | 23            | 7             | 1535          | 1933          | B6            |  624          | N599JB        | 178           | ...           | HOU           | JFK           | 1428          | 6             |  8            | 0             |               | 0             | JetBlue       | not cancelled | \n",
       "| 2011          | 1             | 30            | 7             |  851          | 1230          | CO            | 1058          | N39726        | 159           | ...           | IAH           | DCA           | 1208          | 3             | 11            | 0             |               | 0             | Continental   | not cancelled | \n",
       "| 2011          | 1             | 30            | 7             | 2234          |    2          | CO            | 1717          | N38417        | 208           | ...           | IAH           | SAN           | 1303          | 3             | 10            | 0             |               | 0             | Continental   | not cancelled | \n",
       "| 2011          | 1             | 29            | 6             | 1220          | 1353          | CO            | 1620          | N87512        | 153           | ...           | IAH           | PHX           | 1009          | 5             |  9            | 0             |               | 0             | Continental   | not cancelled | \n",
       "| 2011          | 1             | 23            | 7             |  847          | 1213          | CO            | 1058          | N16709        | 146           | ...           | IAH           | DCA           | 1208          | 4             |  8            | 0             |               | 0             | Continental   | not cancelled | \n",
       "| 2011          | 1             | 23            | 7             | 1224          | 1345          | CO            | 1629          | N39728        | 201           | ...           | IAH           | SNA           | 1347          | 4             |  9            | 0             |               | 0             | Continental   | not cancelled | \n",
       "\n",
       "\n"
      ],
      "text/plain": [
       "  Year Month DayofMonth DayOfWeek DepTime ArrTime UniqueCarrier FlightNum\n",
       "1 2011 1     23         7         1535    1933    B6             624     \n",
       "2 2011 1     30         7          851    1230    CO            1058     \n",
       "3 2011 1     30         7         2234       2    CO            1717     \n",
       "4 2011 1     29         6         1220    1353    CO            1620     \n",
       "5 2011 1     23         7          847    1213    CO            1058     \n",
       "6 2011 1     23         7         1224    1345    CO            1629     \n",
       "  TailNum ActualElapsedTime ... Origin Dest Distance TaxiIn TaxiOut Cancelled\n",
       "1 N599JB  178               ... HOU    JFK  1428     6       8      0        \n",
       "2 N39726  159               ... IAH    DCA  1208     3      11      0        \n",
       "3 N38417  208               ... IAH    SAN  1303     3      10      0        \n",
       "4 N87512  153               ... IAH    PHX  1009     5       9      0        \n",
       "5 N16709  146               ... IAH    DCA  1208     4       8      0        \n",
       "6 N39728  201               ... IAH    SNA  1347     4       9      0        \n",
       "  CancellationCode Diverted Carrier     Code         \n",
       "1                  0        JetBlue     not cancelled\n",
       "2                  0        Continental not cancelled\n",
       "3                  0        Continental not cancelled\n",
       "4                  0        Continental not cancelled\n",
       "5                  0        Continental not cancelled\n",
       "6                  0        Continental not cancelled"
      ]
     },
     "metadata": {},
     "output_type": "display_data"
    }
   ],
   "source": [
    "result = hflights %>% filter(DayOfWeek %in% c(6,7), Distance > 1000, TaxiIn + TaxiOut < 15) #  A tibble: 155 × 23\n",
    "head(result)"
   ]
  },
  {
   "cell_type": "markdown",
   "metadata": {},
   "source": [
    "### Arranging your data\n",
    "arrange() can be used to rearrange rows according to any type of data. \n",
    "*  If you pass a **character variable** R will rearrange the rows in **alphabetical order**. \n",
    "*  If you pass a **factor variable**, R will rearrange the rows according to the **order of the levels** in your factor."
   ]
  },
  {
   "cell_type": "code",
   "execution_count": 49,
   "metadata": {},
   "outputs": [
    {
     "data": {
      "text/html": [
       "<table>\n",
       "<thead><tr><th scope=col>Year</th><th scope=col>Month</th><th scope=col>DayofMonth</th><th scope=col>DayOfWeek</th><th scope=col>DepTime</th><th scope=col>ArrTime</th><th scope=col>UniqueCarrier</th><th scope=col>FlightNum</th><th scope=col>TailNum</th><th scope=col>ActualElapsedTime</th><th scope=col>...</th><th scope=col>Origin</th><th scope=col>Dest</th><th scope=col>Distance</th><th scope=col>TaxiIn</th><th scope=col>TaxiOut</th><th scope=col>Cancelled</th><th scope=col>CancellationCode</th><th scope=col>Diverted</th><th scope=col>Carrier</th><th scope=col>Code</th></tr></thead>\n",
       "<tbody>\n",
       "\t<tr><td>2011      </td><td>7         </td><td>23        </td><td>6         </td><td>605       </td><td>NA        </td><td>F9        </td><td> 225      </td><td>N912FR    </td><td>NA        </td><td>...       </td><td>HOU       </td><td>DEN       </td><td>883       </td><td>NA        </td><td>10        </td><td>1         </td><td>A         </td><td>0         </td><td>Frontier  </td><td>carrier   </td></tr>\n",
       "\t<tr><td>2011      </td><td>1         </td><td>17        </td><td>1         </td><td>916       </td><td>NA        </td><td>XE        </td><td>3068      </td><td>N13936    </td><td>NA        </td><td>...       </td><td>IAH       </td><td>HRL       </td><td>295       </td><td>NA        </td><td>NA        </td><td>1         </td><td>B         </td><td>0         </td><td>ExpressJet</td><td>weather   </td></tr>\n",
       "</tbody>\n",
       "</table>\n"
      ],
      "text/latex": [
       "\\begin{tabular}{r|lllllllllllllllllllllll}\n",
       " Year & Month & DayofMonth & DayOfWeek & DepTime & ArrTime & UniqueCarrier & FlightNum & TailNum & ActualElapsedTime & ... & Origin & Dest & Distance & TaxiIn & TaxiOut & Cancelled & CancellationCode & Diverted & Carrier & Code\\\\\n",
       "\\hline\n",
       "\t 2011       & 7          & 23         & 6          & 605        & NA         & F9         &  225       & N912FR     & NA         & ...        & HOU        & DEN        & 883        & NA         & 10         & 1          & A          & 0          & Frontier   & carrier   \\\\\n",
       "\t 2011       & 1          & 17         & 1          & 916        & NA         & XE         & 3068       & N13936     & NA         & ...        & IAH        & HRL        & 295        & NA         & NA         & 1          & B          & 0          & ExpressJet & weather   \\\\\n",
       "\\end{tabular}\n"
      ],
      "text/markdown": [
       "\n",
       "Year | Month | DayofMonth | DayOfWeek | DepTime | ArrTime | UniqueCarrier | FlightNum | TailNum | ActualElapsedTime | ... | Origin | Dest | Distance | TaxiIn | TaxiOut | Cancelled | CancellationCode | Diverted | Carrier | Code | \n",
       "|---|---|\n",
       "| 2011       | 7          | 23         | 6          | 605        | NA         | F9         |  225       | N912FR     | NA         | ...        | HOU        | DEN        | 883        | NA         | 10         | 1          | A          | 0          | Frontier   | carrier    | \n",
       "| 2011       | 1          | 17         | 1          | 916        | NA         | XE         | 3068       | N13936     | NA         | ...        | IAH        | HRL        | 295        | NA         | NA         | 1          | B          | 0          | ExpressJet | weather    | \n",
       "\n",
       "\n"
      ],
      "text/plain": [
       "  Year Month DayofMonth DayOfWeek DepTime ArrTime UniqueCarrier FlightNum\n",
       "1 2011 7     23         6         605     NA      F9             225     \n",
       "2 2011 1     17         1         916     NA      XE            3068     \n",
       "  TailNum ActualElapsedTime ... Origin Dest Distance TaxiIn TaxiOut Cancelled\n",
       "1 N912FR  NA                ... HOU    DEN  883      NA     10      1        \n",
       "2 N13936  NA                ... IAH    HRL  295      NA     NA      1        \n",
       "  CancellationCode Diverted Carrier    Code   \n",
       "1 A                0        Frontier   carrier\n",
       "2 B                0        ExpressJet weather"
      ]
     },
     "metadata": {},
     "output_type": "display_data"
    }
   ],
   "source": [
    "# Definition of dtc\n",
    "dtc <- filter(hflights, Cancelled == 1, !is.na(DepDelay))\n",
    "\n",
    "# Arrange dtc by departure delays\n",
    "arrange(dtc, DepDelay) %>% head(2)"
   ]
  },
  {
   "cell_type": "code",
   "execution_count": null,
   "metadata": {},
   "outputs": [],
   "source": [
    "# Arrange dtc so that cancellation reasons are grouped\n",
    "arrange(dtc, CancellationCode) %>% head(2)\n",
    "\n",
    "# Arrange dtc according to carrier and departure delays\n",
    "arrange(dtc, UniqueCarrier, DepDelay) %>% head(2)"
   ]
  },
  {
   "cell_type": "code",
   "execution_count": null,
   "metadata": {},
   "outputs": [],
   "source": [
    "# Arrange according to carrier and decreasing departure delays\n",
    "arrange(hflights, UniqueCarrier, desc(DepDelay) )\n",
    "\n",
    "# Arrange flights by total delay (normal order).\n",
    "arrange(hflights, DepDelay + ArrDelay )"
   ]
  },
  {
   "cell_type": "markdown",
   "metadata": {},
   "source": [
    "### Recap on select, mutate, filter and arrange\n",
    "What steps do you take to print only the TailNum of hflights, only for flights that departed too late, sorted by total taxiing time?"
   ]
  },
  {
   "cell_type": "code",
   "execution_count": 51,
   "metadata": {},
   "outputs": [
    {
     "data": {
      "text/html": [
       "<table>\n",
       "<thead><tr><th scope=col>TailNum</th></tr></thead>\n",
       "<tbody>\n",
       "\t<tr><td>N783SW</td></tr>\n",
       "\t<tr><td>N263WN</td></tr>\n",
       "\t<tr><td>N310SW</td></tr>\n",
       "</tbody>\n",
       "</table>\n"
      ],
      "text/latex": [
       "\\begin{tabular}{r|l}\n",
       " TailNum\\\\\n",
       "\\hline\n",
       "\t N783SW\\\\\n",
       "\t N263WN\\\\\n",
       "\t N310SW\\\\\n",
       "\\end{tabular}\n"
      ],
      "text/markdown": [
       "\n",
       "TailNum | \n",
       "|---|---|---|\n",
       "| N783SW | \n",
       "| N263WN | \n",
       "| N310SW | \n",
       "\n",
       "\n"
      ],
      "text/plain": [
       "  TailNum\n",
       "1 N783SW \n",
       "2 N263WN \n",
       "3 N310SW "
      ]
     },
     "metadata": {},
     "output_type": "display_data"
    }
   ],
   "source": [
    "hflights %>% filter(DepDelay > 0) %>% arrange(TaxiIn + TaxiOut) %>% select(TailNum) %>% head(3)"
   ]
  },
  {
   "cell_type": "markdown",
   "metadata": {},
   "source": [
    "## Ch4: Summarise & pipes\n",
    "### The syntax of summarise\n",
    "summarise() follows the same syntax as mutate(), but the resulting dataset consists of a single row instead of an entire new column in the case of mutate().\n",
    "\n",
    "In contrast to the four other data manipulation functions, summarise() does not return an altered copy of the dataset it is summarizing; instead, it builds a new dataset that contains only the summarising statistics."
   ]
  },
  {
   "cell_type": "code",
   "execution_count": 52,
   "metadata": {},
   "outputs": [
    {
     "data": {
      "text/html": [
       "<table>\n",
       "<thead><tr><th scope=col>min_dist</th><th scope=col>max_dist</th></tr></thead>\n",
       "<tbody>\n",
       "\t<tr><td>79  </td><td>3904</td></tr>\n",
       "</tbody>\n",
       "</table>\n"
      ],
      "text/latex": [
       "\\begin{tabular}{r|ll}\n",
       " min\\_dist & max\\_dist\\\\\n",
       "\\hline\n",
       "\t 79   & 3904\\\\\n",
       "\\end{tabular}\n"
      ],
      "text/markdown": [
       "\n",
       "min_dist | max_dist | \n",
       "|---|\n",
       "| 79   | 3904 | \n",
       "\n",
       "\n"
      ],
      "text/plain": [
       "  min_dist max_dist\n",
       "1 79       3904    "
      ]
     },
     "metadata": {},
     "output_type": "display_data"
    }
   ],
   "source": [
    "# Print out a summary with variables min_dist and max_dist\n",
    "summarise(hflights, min_dist = min(Distance), max_dist = max(Distance)) "
   ]
  },
  {
   "cell_type": "code",
   "execution_count": 53,
   "metadata": {},
   "outputs": [
    {
     "data": {
      "text/html": [
       "<table>\n",
       "<thead><tr><th scope=col>max_div</th></tr></thead>\n",
       "<tbody>\n",
       "\t<tr><td>3904</td></tr>\n",
       "</tbody>\n",
       "</table>\n"
      ],
      "text/latex": [
       "\\begin{tabular}{r|l}\n",
       " max\\_div\\\\\n",
       "\\hline\n",
       "\t 3904\\\\\n",
       "\\end{tabular}\n"
      ],
      "text/markdown": [
       "\n",
       "max_div | \n",
       "|---|\n",
       "| 3904 | \n",
       "\n",
       "\n"
      ],
      "text/plain": [
       "  max_div\n",
       "1 3904   "
      ]
     },
     "metadata": {},
     "output_type": "display_data"
    }
   ],
   "source": [
    "# Print out a summary with variable max_div\n",
    "filter(hflights, Diverted == 1) %>% summarise(max_div = max(Distance))"
   ]
  },
  {
   "cell_type": "markdown",
   "metadata": {},
   "source": [
    "### Aggregate functions\n",
    "R contains many aggregating functions:\n",
    "*  min(x) - minimum value of vector x.\n",
    "*  max(x) - maximum value of vector x.\n",
    "*  mean(x) - mean value of vector x.\n",
    "*  median(x) - median value of vector x.\n",
    "*  quantile(x, p) - pth quantile of vector x.\n",
    "*  sd(x) - standard deviation of vector x.\n",
    "*  var(x) - variance of vector x.\n",
    "*  IQR(x) - Inter Quartile Range (IQR) of vector x.\n",
    "*  diff(range(x)) - total range of vector x."
   ]
  },
  {
   "cell_type": "code",
   "execution_count": 54,
   "metadata": {},
   "outputs": [
    {
     "data": {
      "text/html": [
       "<table>\n",
       "<thead><tr><th scope=col>earliest</th><th scope=col>average</th><th scope=col>latest</th><th scope=col>sd</th></tr></thead>\n",
       "<tbody>\n",
       "\t<tr><td>-70     </td><td>7.094334</td><td>978     </td><td>30.70852</td></tr>\n",
       "</tbody>\n",
       "</table>\n"
      ],
      "text/latex": [
       "\\begin{tabular}{r|llll}\n",
       " earliest & average & latest & sd\\\\\n",
       "\\hline\n",
       "\t -70      & 7.094334 & 978      & 30.70852\\\\\n",
       "\\end{tabular}\n"
      ],
      "text/markdown": [
       "\n",
       "earliest | average | latest | sd | \n",
       "|---|\n",
       "| -70      | 7.094334 | 978      | 30.70852 | \n",
       "\n",
       "\n"
      ],
      "text/plain": [
       "  earliest average  latest sd      \n",
       "1 -70      7.094334 978    30.70852"
      ]
     },
     "metadata": {},
     "output_type": "display_data"
    }
   ],
   "source": [
    "# Remove rows that have NA ArrDelay: temp1\n",
    "temp1 = filter(hflights, !is.na(ArrDelay))\n",
    "\n",
    "# Generate summary about ArrDelay column of temp1\n",
    "summarise(temp1, earliest = min(ArrDelay), average = mean(ArrDelay), \n",
    "            latest = max(ArrDelay), sd = sd(ArrDelay))"
   ]
  },
  {
   "cell_type": "code",
   "execution_count": 55,
   "metadata": {},
   "outputs": [
    {
     "data": {
      "text/html": [
       "<table>\n",
       "<thead><tr><th scope=col>max_taxi_diff</th></tr></thead>\n",
       "<tbody>\n",
       "\t<tr><td>160</td></tr>\n",
       "</tbody>\n",
       "</table>\n"
      ],
      "text/latex": [
       "\\begin{tabular}{r|l}\n",
       " max\\_taxi\\_diff\\\\\n",
       "\\hline\n",
       "\t 160\\\\\n",
       "\\end{tabular}\n"
      ],
      "text/markdown": [
       "\n",
       "max_taxi_diff | \n",
       "|---|\n",
       "| 160 | \n",
       "\n",
       "\n"
      ],
      "text/plain": [
       "  max_taxi_diff\n",
       "1 160          "
      ]
     },
     "metadata": {},
     "output_type": "display_data"
    }
   ],
   "source": [
    "# Keep rows that have no NA TaxiIn and no NA TaxiOut: temp2\n",
    "temp2 = filter(hflights, !is.na(TaxiIn), !is.na(TaxiOut))\n",
    "\n",
    "# Print the maximum taxiing difference of temp2 with summarise()\n",
    "summarise(temp2, max_taxi_diff = max(abs(TaxiOut-TaxiIn)))"
   ]
  },
  {
   "cell_type": "markdown",
   "metadata": {},
   "source": [
    "### dplyr aggregate functions\n",
    "dplyr provides aggregate functions of its own, in addition to the ones that are already defined in R. These include:\n",
    "*  first(x) - The first element of vector x.\n",
    "*  last(x) - The last element of vector x.\n",
    "*  nth(x, n) - The nth element of vector x.\n",
    "*  n() - The number of rows in the data.frame or group of observations that summarise() describes.\n",
    "*  n_distinct(x) - The number of unique values in vector x.\n",
    "\n",
    "Next to these dplyr-specific functions, you can also turn a logical test into an aggregating function with sum() or mean(). \n",
    "*  A logical test returns a vector of TRUE's and FALSE's. \n",
    "*  When you apply sum() or mean() to such a vector, R coerces each TRUE to a 1 and each FALSE to a 0. \n",
    "*  sum() then represents the total number of observations that passed the test; mean() represents the proportion."
   ]
  },
  {
   "cell_type": "code",
   "execution_count": 56,
   "metadata": {},
   "outputs": [
    {
     "data": {
      "text/html": [
       "<table>\n",
       "<thead><tr><th scope=col>n_obs</th><th scope=col>n_carrier</th><th scope=col>n_dest</th></tr></thead>\n",
       "<tbody>\n",
       "\t<tr><td>227496</td><td>15    </td><td>116   </td></tr>\n",
       "</tbody>\n",
       "</table>\n"
      ],
      "text/latex": [
       "\\begin{tabular}{r|lll}\n",
       " n\\_obs & n\\_carrier & n\\_dest\\\\\n",
       "\\hline\n",
       "\t 227496 & 15     & 116   \\\\\n",
       "\\end{tabular}\n"
      ],
      "text/markdown": [
       "\n",
       "n_obs | n_carrier | n_dest | \n",
       "|---|\n",
       "| 227496 | 15     | 116    | \n",
       "\n",
       "\n"
      ],
      "text/plain": [
       "  n_obs  n_carrier n_dest\n",
       "1 227496 15        116   "
      ]
     },
     "metadata": {},
     "output_type": "display_data"
    }
   ],
   "source": [
    "# Generate summarizing statistics for hflights\n",
    "summarise(hflights,\n",
    "          n_obs = n(),\n",
    "          n_carrier = n_distinct(UniqueCarrier),\n",
    "          n_dest = n_distinct(Dest))"
   ]
  },
  {
   "cell_type": "code",
   "execution_count": 58,
   "metadata": {},
   "outputs": [
    {
     "data": {
      "text/html": [
       "<table>\n",
       "<thead><tr><th scope=col>n_flights</th><th scope=col>n_canc</th><th scope=col>avg_delay</th></tr></thead>\n",
       "<tbody>\n",
       "\t<tr><td>3244     </td><td>60       </td><td>0.8917558</td></tr>\n",
       "</tbody>\n",
       "</table>\n"
      ],
      "text/latex": [
       "\\begin{tabular}{r|lll}\n",
       " n\\_flights & n\\_canc & avg\\_delay\\\\\n",
       "\\hline\n",
       "\t 3244      & 60        & 0.8917558\\\\\n",
       "\\end{tabular}\n"
      ],
      "text/markdown": [
       "\n",
       "n_flights | n_canc | avg_delay | \n",
       "|---|\n",
       "| 3244      | 60        | 0.8917558 | \n",
       "\n",
       "\n"
      ],
      "text/plain": [
       "  n_flights n_canc avg_delay\n",
       "1 3244      60     0.8917558"
      ]
     },
     "metadata": {},
     "output_type": "display_data"
    }
   ],
   "source": [
    "# All American Airline flights\n",
    "aa <- filter(hflights, Carrier == \"American\")\n",
    "\n",
    "# Generate summarizing statistics for aa \n",
    "summarise(aa, n_flights = n(), n_canc = sum(Cancelled == 1), \n",
    "                    avg_delay = mean(ArrDelay, na.rm = TRUE)  )"
   ]
  },
  {
   "cell_type": "markdown",
   "metadata": {},
   "source": [
    "How many American Airlines flights were cancelled? => 60\n",
    "How many unique carriers are listed in 'hflights'? => 15\n",
    "*  You might have noticed that saving intermediate results to temporary variables or nesting function calls is cumbersome and error-prone. Pipe operator solves these problems, while maintaining readability.\n",
    "\n",
    "### Overview of pipe syntax\n",
    "the following two commands that are completely equivalent:\n",
    "*  mean(c(1, 2, 3, NA), na.rm = TRUE)\n",
    "*  c(1, 2, 3, NA) %>% mean(na.rm = TRUE)\n",
    "\n",
    "The %>% operator allows you to extract the first argument of a function from the arguments list and put it in front of it, thus solving the **Dagwood sandwich problem**"
   ]
  },
  {
   "cell_type": "code",
   "execution_count": 59,
   "metadata": {},
   "outputs": [
    {
     "data": {
      "text/html": [
       "<table>\n",
       "<thead><tr><th scope=col>avg</th></tr></thead>\n",
       "<tbody>\n",
       "\t<tr><td>8.992064</td></tr>\n",
       "</tbody>\n",
       "</table>\n"
      ],
      "text/latex": [
       "\\begin{tabular}{r|l}\n",
       " avg\\\\\n",
       "\\hline\n",
       "\t 8.992064\\\\\n",
       "\\end{tabular}\n"
      ],
      "text/markdown": [
       "\n",
       "avg | \n",
       "|---|\n",
       "| 8.992064 | \n",
       "\n",
       "\n"
      ],
      "text/plain": [
       "  avg     \n",
       "1 8.992064"
      ]
     },
     "metadata": {},
     "output_type": "display_data"
    }
   ],
   "source": [
    "# Write the 'piped' version of the English sentences.\n",
    "hflights %>% mutate(diff = TaxiOut - TaxiIn) %>% filter(!is.na(diff)) %>% summarise(avg = mean(diff))"
   ]
  },
  {
   "cell_type": "markdown",
   "metadata": {},
   "source": [
    "### Drive or fly? Part 1 of 2\n",
    "You can answer sophisticated questions by combining the verbs of dplyr. Over the next few exercises you will **examine whether it sometimes makes sense to drive instead of fly**. \n",
    "*  You will begin by making a data set that contains relevant variables. \n",
    "*  Then, you will find flights whose equivalent average velocity (i.e. speed) is lower than the velocity when traveling by car."
   ]
  },
  {
   "cell_type": "code",
   "execution_count": 60,
   "metadata": {},
   "outputs": [
    {
     "data": {
      "text/html": [
       "<table>\n",
       "<thead><tr><th scope=col>n_less</th><th scope=col>n_dest</th><th scope=col>min_dist</th><th scope=col>max_dist</th></tr></thead>\n",
       "<tbody>\n",
       "\t<tr><td>6726</td><td>13  </td><td>79  </td><td>305 </td></tr>\n",
       "</tbody>\n",
       "</table>\n"
      ],
      "text/latex": [
       "\\begin{tabular}{r|llll}\n",
       " n\\_less & n\\_dest & min\\_dist & max\\_dist\\\\\n",
       "\\hline\n",
       "\t 6726 & 13   & 79   & 305 \\\\\n",
       "\\end{tabular}\n"
      ],
      "text/markdown": [
       "\n",
       "n_less | n_dest | min_dist | max_dist | \n",
       "|---|\n",
       "| 6726 | 13   | 79   | 305  | \n",
       "\n",
       "\n"
      ],
      "text/plain": [
       "  n_less n_dest min_dist max_dist\n",
       "1 6726   13     79       305     "
      ]
     },
     "metadata": {},
     "output_type": "display_data"
    }
   ],
   "source": [
    "# Chain together mutate(), filter() and summarise()\n",
    "hflights %>% mutate(RealTime = ActualElapsedTime + 100,\n",
    "                  mph = Distance / RealTime * 60) %>%\n",
    "                  filter(!is.na(mph), mph < 70 ) %>%\n",
    "                  summarise(n_less = n(),\n",
    "                  n_dest = n_distinct(Dest),\n",
    "                  min_dist = min(Distance),\n",
    "                  max_dist = max(Distance))"
   ]
  },
  {
   "cell_type": "markdown",
   "metadata": {},
   "source": [
    "how many destinations were flown to at a speed lower than 70 mph? => 6726\n",
    "\n",
    "### Drive or fly? Part 2 of 2\n",
    "The previous exercise suggested that **some flights might be less efficient than driving in terms of speed**. Given flight burdens we might demand that a flight provide a large speed advantage over driving.\n",
    "\n",
    "*  Let's define **preferable flights as flights that are at least 50% faster than driving**, i.e. that travel 105 mph or greater in real time. \n",
    "*  Also, assume that **cancelled or diverted flights are less preferable than driving**.\n",
    "\n",
    "The mutate() call from the previous exercise is already coded up; can you add more pipes and verbs to the command?"
   ]
  },
  {
   "cell_type": "code",
   "execution_count": 61,
   "metadata": {},
   "outputs": [
    {
     "data": {
      "text/html": [
       "<table>\n",
       "<thead><tr><th scope=col>n_non</th><th scope=col>n_dest</th><th scope=col>min_dist</th><th scope=col>max_dist</th></tr></thead>\n",
       "<tbody>\n",
       "\t<tr><td>42400</td><td>113  </td><td>79   </td><td>3904 </td></tr>\n",
       "</tbody>\n",
       "</table>\n"
      ],
      "text/latex": [
       "\\begin{tabular}{r|llll}\n",
       " n\\_non & n\\_dest & min\\_dist & max\\_dist\\\\\n",
       "\\hline\n",
       "\t 42400 & 113   & 79    & 3904 \\\\\n",
       "\\end{tabular}\n"
      ],
      "text/markdown": [
       "\n",
       "n_non | n_dest | min_dist | max_dist | \n",
       "|---|\n",
       "| 42400 | 113   | 79    | 3904  | \n",
       "\n",
       "\n"
      ],
      "text/plain": [
       "  n_non n_dest min_dist max_dist\n",
       "1 42400 113    79       3904    "
      ]
     },
     "metadata": {},
     "output_type": "display_data"
    }
   ],
   "source": [
    "# Finish the command with a filter() and summarise() call\n",
    "hflights %>%\n",
    "  mutate(RealTime = ActualElapsedTime + 100, mph = Distance / RealTime * 60) %>%\n",
    "      filter(mph < 105 | Cancelled == 1 | Diverted == 1 ) %>%\n",
    "      summarise(n_non = n(), n_dest = n_distinct(Dest), \n",
    "      min_dist = min(Distance), max_dist = max(Distance))"
   ]
  },
  {
   "cell_type": "markdown",
   "metadata": {},
   "source": [
    "results show that almost 19% of flights appear less desirable than simply driving a car to the destination, which is rather surprising!\n",
    "\n",
    "### Advanced piping exercise\n",
    "How many flights were overnight flights?"
   ]
  },
  {
   "cell_type": "code",
   "execution_count": 62,
   "metadata": {},
   "outputs": [
    {
     "data": {
      "text/html": [
       "<table>\n",
       "<thead><tr><th scope=col>num</th></tr></thead>\n",
       "<tbody>\n",
       "\t<tr><td>2718</td></tr>\n",
       "</tbody>\n",
       "</table>\n"
      ],
      "text/latex": [
       "\\begin{tabular}{r|l}\n",
       " num\\\\\n",
       "\\hline\n",
       "\t 2718\\\\\n",
       "\\end{tabular}\n"
      ],
      "text/markdown": [
       "\n",
       "num | \n",
       "|---|\n",
       "| 2718 | \n",
       "\n",
       "\n"
      ],
      "text/plain": [
       "  num \n",
       "1 2718"
      ]
     },
     "metadata": {},
     "output_type": "display_data"
    }
   ],
   "source": [
    "# Count the number of overnight flights\n",
    "hflights %>% filter(!is.na(DepTime), !is.na(ArrTime), DepTime > ArrTime) %>% summarize(num = n())"
   ]
  },
  {
   "cell_type": "markdown",
   "metadata": {},
   "source": [
    "## Ch5: Group_by & Databases"
   ]
  },
  {
   "cell_type": "markdown",
   "metadata": {},
   "source": [
    "### Unite and conquer using group_by\n",
    "group_by() lets you define groups within your data set. Its influence becomes clear when calling summarise() on a grouped dataset: summarising statistics are calculated for the different groups separately.\n",
    "\n",
    "Create an ordered per-carrier summary of hflights: \n",
    "*  p_canc, the percentage of cancelled flights\n",
    "*  avg_delay, the average arrival delay of flights whose delay does not equal NA."
   ]
  },
  {
   "cell_type": "code",
   "execution_count": 63,
   "metadata": {},
   "outputs": [
    {
     "data": {
      "text/html": [
       "<table>\n",
       "<thead><tr><th scope=col>Carrier</th><th scope=col>p_canc</th><th scope=col>avg_delay</th></tr></thead>\n",
       "<tbody>\n",
       "\t<tr><td>US_Airways        </td><td>1.1268986         </td><td>-0.6307692        </td></tr>\n",
       "\t<tr><td>American          </td><td>1.8495684         </td><td> 0.8917558        </td></tr>\n",
       "\t<tr><td>AirTran           </td><td>0.9817672         </td><td> 1.8536239        </td></tr>\n",
       "\t<tr><td>Alaska            </td><td>0.0000000         </td><td> 3.1923077        </td></tr>\n",
       "\t<tr><td>Mesa              </td><td>1.2658228         </td><td> 4.0128205        </td></tr>\n",
       "\t<tr><td>Delta             </td><td>1.5903067         </td><td> 6.0841374        </td></tr>\n",
       "\t<tr><td>Continental       </td><td>0.6782614         </td><td> 6.0986983        </td></tr>\n",
       "\t<tr><td>American_Eagle    </td><td>2.9044750         </td><td> 7.1529751        </td></tr>\n",
       "\t<tr><td>Atlantic_Southeast</td><td>3.4482759         </td><td> 7.2569543        </td></tr>\n",
       "\t<tr><td>Southwest         </td><td>1.5504047         </td><td> 7.5871430        </td></tr>\n",
       "\t<tr><td>Frontier          </td><td>0.7159905         </td><td> 7.6682692        </td></tr>\n",
       "\t<tr><td>ExpressJet        </td><td>1.5495599         </td><td> 8.1865242        </td></tr>\n",
       "\t<tr><td>SkyWest           </td><td>1.3946828         </td><td> 8.6934922        </td></tr>\n",
       "\t<tr><td>JetBlue           </td><td>2.5899281         </td><td> 9.8588410        </td></tr>\n",
       "\t<tr><td>United            </td><td>1.6409266         </td><td>10.4628628        </td></tr>\n",
       "</tbody>\n",
       "</table>\n"
      ],
      "text/latex": [
       "\\begin{tabular}{r|lll}\n",
       " Carrier & p\\_canc & avg\\_delay\\\\\n",
       "\\hline\n",
       "\t US\\_Airways         & 1.1268986            & -0.6307692          \\\\\n",
       "\t American           & 1.8495684          &  0.8917558        \\\\\n",
       "\t AirTran            & 0.9817672          &  1.8536239        \\\\\n",
       "\t Alaska             & 0.0000000          &  3.1923077        \\\\\n",
       "\t Mesa               & 1.2658228          &  4.0128205        \\\\\n",
       "\t Delta              & 1.5903067          &  6.0841374        \\\\\n",
       "\t Continental        & 0.6782614          &  6.0986983        \\\\\n",
       "\t American\\_Eagle     & 2.9044750            &  7.1529751          \\\\\n",
       "\t Atlantic\\_Southeast & 3.4482759            &  7.2569543          \\\\\n",
       "\t Southwest          & 1.5504047          &  7.5871430        \\\\\n",
       "\t Frontier           & 0.7159905          &  7.6682692        \\\\\n",
       "\t ExpressJet         & 1.5495599          &  8.1865242        \\\\\n",
       "\t SkyWest            & 1.3946828          &  8.6934922        \\\\\n",
       "\t JetBlue            & 2.5899281          &  9.8588410        \\\\\n",
       "\t United             & 1.6409266          & 10.4628628        \\\\\n",
       "\\end{tabular}\n"
      ],
      "text/markdown": [
       "\n",
       "Carrier | p_canc | avg_delay | \n",
       "|---|---|---|---|---|---|---|---|---|---|---|---|---|---|---|\n",
       "| US_Airways         | 1.1268986          | -0.6307692         | \n",
       "| American           | 1.8495684          |  0.8917558         | \n",
       "| AirTran            | 0.9817672          |  1.8536239         | \n",
       "| Alaska             | 0.0000000          |  3.1923077         | \n",
       "| Mesa               | 1.2658228          |  4.0128205         | \n",
       "| Delta              | 1.5903067          |  6.0841374         | \n",
       "| Continental        | 0.6782614          |  6.0986983         | \n",
       "| American_Eagle     | 2.9044750          |  7.1529751         | \n",
       "| Atlantic_Southeast | 3.4482759          |  7.2569543         | \n",
       "| Southwest          | 1.5504047          |  7.5871430         | \n",
       "| Frontier           | 0.7159905          |  7.6682692         | \n",
       "| ExpressJet         | 1.5495599          |  8.1865242         | \n",
       "| SkyWest            | 1.3946828          |  8.6934922         | \n",
       "| JetBlue            | 2.5899281          |  9.8588410         | \n",
       "| United             | 1.6409266          | 10.4628628         | \n",
       "\n",
       "\n"
      ],
      "text/plain": [
       "   Carrier            p_canc    avg_delay \n",
       "1  US_Airways         1.1268986 -0.6307692\n",
       "2  American           1.8495684  0.8917558\n",
       "3  AirTran            0.9817672  1.8536239\n",
       "4  Alaska             0.0000000  3.1923077\n",
       "5  Mesa               1.2658228  4.0128205\n",
       "6  Delta              1.5903067  6.0841374\n",
       "7  Continental        0.6782614  6.0986983\n",
       "8  American_Eagle     2.9044750  7.1529751\n",
       "9  Atlantic_Southeast 3.4482759  7.2569543\n",
       "10 Southwest          1.5504047  7.5871430\n",
       "11 Frontier           0.7159905  7.6682692\n",
       "12 ExpressJet         1.5495599  8.1865242\n",
       "13 SkyWest            1.3946828  8.6934922\n",
       "14 JetBlue            2.5899281  9.8588410\n",
       "15 United             1.6409266 10.4628628"
      ]
     },
     "metadata": {},
     "output_type": "display_data"
    }
   ],
   "source": [
    "# Make an ordered per-carrier summary of hflights\n",
    "hflights %>%\n",
    "  group_by(Carrier) %>%\n",
    "  summarise(p_canc = mean(Cancelled == 1)*100 , # percentage of cancelled flights\n",
    "            avg_delay = mean(ArrDelay, na.rm = TRUE)) %>% # AVG arrival delay of flights which delay != NA.\n",
    "  arrange(avg_delay, p_canc)"
   ]
  },
  {
   "cell_type": "markdown",
   "metadata": {},
   "source": [
    "SkyWest had the longest average arrival delay. \n",
    "\n",
    "### Combine group_by with mutate\n",
    "When you mutate grouped data, mutate() will calculate the new variables independently for each group. \n",
    "*  This is particularly useful when mutate() uses the **rank()** function, that calculates **within-group rankings**. \n",
    "*  rank() takes a group of values and calculates the rank of each value within the group, e.g. **rank(c(21, 22, 24, 23))** has output 1 2 4 3\n",
    "*  As with arrange(), rank() ranks values from the smallest to the largest."
   ]
  },
  {
   "cell_type": "code",
   "execution_count": 65,
   "metadata": {},
   "outputs": [
    {
     "data": {
      "text/html": [
       "<table>\n",
       "<thead><tr><th scope=col>Carrier</th><th scope=col>avg</th><th scope=col>rank</th></tr></thead>\n",
       "<tbody>\n",
       "\t<tr><td>Mesa              </td><td>18.67568          </td><td> 1                </td></tr>\n",
       "\t<tr><td>Frontier          </td><td>18.68683          </td><td> 2                </td></tr>\n",
       "\t<tr><td>US_Airways        </td><td>20.70235          </td><td> 3                </td></tr>\n",
       "\t<tr><td>Continental       </td><td>22.13374          </td><td> 4                </td></tr>\n",
       "\t<tr><td>Alaska            </td><td>22.91195          </td><td> 5                </td></tr>\n",
       "\t<tr><td>SkyWest           </td><td>24.14663          </td><td> 6                </td></tr>\n",
       "\t<tr><td>ExpressJet        </td><td>24.19337          </td><td> 7                </td></tr>\n",
       "\t<tr><td>Southwest         </td><td>25.27750          </td><td> 8                </td></tr>\n",
       "\t<tr><td>AirTran           </td><td>27.85693          </td><td> 9                </td></tr>\n",
       "\t<tr><td>American          </td><td>28.49740          </td><td>10                </td></tr>\n",
       "\t<tr><td>Delta             </td><td>32.12463          </td><td>11                </td></tr>\n",
       "\t<tr><td>United            </td><td>32.48067          </td><td>12                </td></tr>\n",
       "\t<tr><td>American_Eagle    </td><td>38.75135          </td><td>13                </td></tr>\n",
       "\t<tr><td>Atlantic_Southeast</td><td>40.24231          </td><td>14                </td></tr>\n",
       "\t<tr><td>JetBlue           </td><td>45.47744          </td><td>15                </td></tr>\n",
       "</tbody>\n",
       "</table>\n"
      ],
      "text/latex": [
       "\\begin{tabular}{r|lll}\n",
       " Carrier & avg & rank\\\\\n",
       "\\hline\n",
       "\t Mesa               & 18.67568           &  1                \\\\\n",
       "\t Frontier           & 18.68683           &  2                \\\\\n",
       "\t US\\_Airways         & 20.70235             &  3                  \\\\\n",
       "\t Continental        & 22.13374           &  4                \\\\\n",
       "\t Alaska             & 22.91195           &  5                \\\\\n",
       "\t SkyWest            & 24.14663           &  6                \\\\\n",
       "\t ExpressJet         & 24.19337           &  7                \\\\\n",
       "\t Southwest          & 25.27750           &  8                \\\\\n",
       "\t AirTran            & 27.85693           &  9                \\\\\n",
       "\t American           & 28.49740           & 10                \\\\\n",
       "\t Delta              & 32.12463           & 11                \\\\\n",
       "\t United             & 32.48067           & 12                \\\\\n",
       "\t American\\_Eagle     & 38.75135             & 13                  \\\\\n",
       "\t Atlantic\\_Southeast & 40.24231             & 14                  \\\\\n",
       "\t JetBlue            & 45.47744           & 15                \\\\\n",
       "\\end{tabular}\n"
      ],
      "text/markdown": [
       "\n",
       "Carrier | avg | rank | \n",
       "|---|---|---|---|---|---|---|---|---|---|---|---|---|---|---|\n",
       "| Mesa               | 18.67568           |  1                 | \n",
       "| Frontier           | 18.68683           |  2                 | \n",
       "| US_Airways         | 20.70235           |  3                 | \n",
       "| Continental        | 22.13374           |  4                 | \n",
       "| Alaska             | 22.91195           |  5                 | \n",
       "| SkyWest            | 24.14663           |  6                 | \n",
       "| ExpressJet         | 24.19337           |  7                 | \n",
       "| Southwest          | 25.27750           |  8                 | \n",
       "| AirTran            | 27.85693           |  9                 | \n",
       "| American           | 28.49740           | 10                 | \n",
       "| Delta              | 32.12463           | 11                 | \n",
       "| United             | 32.48067           | 12                 | \n",
       "| American_Eagle     | 38.75135           | 13                 | \n",
       "| Atlantic_Southeast | 40.24231           | 14                 | \n",
       "| JetBlue            | 45.47744           | 15                 | \n",
       "\n",
       "\n"
      ],
      "text/plain": [
       "   Carrier            avg      rank\n",
       "1  Mesa               18.67568  1  \n",
       "2  Frontier           18.68683  2  \n",
       "3  US_Airways         20.70235  3  \n",
       "4  Continental        22.13374  4  \n",
       "5  Alaska             22.91195  5  \n",
       "6  SkyWest            24.14663  6  \n",
       "7  ExpressJet         24.19337  7  \n",
       "8  Southwest          25.27750  8  \n",
       "9  AirTran            27.85693  9  \n",
       "10 American           28.49740 10  \n",
       "11 Delta              32.12463 11  \n",
       "12 United             32.48067 12  \n",
       "13 American_Eagle     38.75135 13  \n",
       "14 Atlantic_Southeast 40.24231 14  \n",
       "15 JetBlue            45.47744 15  "
      ]
     },
     "metadata": {},
     "output_type": "display_data"
    }
   ],
   "source": [
    "# Ordered overview of average arrival delays per carrier\n",
    "hflights %>% filter(!is.na(ArrDelay), ArrDelay > 0) %>% group_by(Carrier) %>%\n",
    "        summarize(avg = mean(ArrDelay)) %>% mutate(rank = rank(avg)) %>% arrange(rank)"
   ]
  },
  {
   "cell_type": "markdown",
   "metadata": {},
   "source": [
    "### Advanced group_by exercises\n",
    "finish all dplyr calls! For simplicity, you can include cancelled flights in your answers, so you shouldn't filter based on the Cancelled column."
   ]
  },
  {
   "cell_type": "code",
   "execution_count": 66,
   "metadata": {},
   "outputs": [
    {
     "data": {
      "text/html": [
       "<table>\n",
       "<thead><tr><th scope=col>nplanes</th></tr></thead>\n",
       "<tbody>\n",
       "\t<tr><td>1526</td></tr>\n",
       "</tbody>\n",
       "</table>\n"
      ],
      "text/latex": [
       "\\begin{tabular}{r|l}\n",
       " nplanes\\\\\n",
       "\\hline\n",
       "\t 1526\\\\\n",
       "\\end{tabular}\n"
      ],
      "text/markdown": [
       "\n",
       "nplanes | \n",
       "|---|\n",
       "| 1526 | \n",
       "\n",
       "\n"
      ],
      "text/plain": [
       "  nplanes\n",
       "1 1526   "
      ]
     },
     "metadata": {},
     "output_type": "display_data"
    }
   ],
   "source": [
    "# How many airplanes only flew to one destination?\n",
    "hflights %>%\n",
    "  group_by(TailNum) %>%\n",
    "  summarise(ndest = n_distinct(Dest)) %>%\n",
    "  filter(ndest == 1) %>%\n",
    "  summarise(nplanes = n())"
   ]
  },
  {
   "cell_type": "code",
   "execution_count": 68,
   "metadata": {},
   "outputs": [
    {
     "data": {
      "text/html": [
       "<table>\n",
       "<thead><tr><th scope=col>Carrier</th><th scope=col>Dest</th><th scope=col>n</th><th scope=col>rank</th></tr></thead>\n",
       "<tbody>\n",
       "\t<tr><td>AirTran           </td><td>ATL               </td><td>2029              </td><td>1                 </td></tr>\n",
       "\t<tr><td>Alaska            </td><td>SEA               </td><td> 365              </td><td>1                 </td></tr>\n",
       "\t<tr><td>American          </td><td>DFW               </td><td>2105              </td><td>1                 </td></tr>\n",
       "\t<tr><td>American_Eagle    </td><td>DFW               </td><td>2424              </td><td>1                 </td></tr>\n",
       "\t<tr><td>Atlantic_Southeast</td><td>DTW               </td><td> 851              </td><td>1                 </td></tr>\n",
       "\t<tr><td>Continental       </td><td>EWR               </td><td>3924              </td><td>1                 </td></tr>\n",
       "\t<tr><td>Delta             </td><td>ATL               </td><td>2396              </td><td>1                 </td></tr>\n",
       "\t<tr><td>ExpressJet        </td><td>CRP               </td><td>3175              </td><td>1                 </td></tr>\n",
       "\t<tr><td>Frontier          </td><td>DEN               </td><td> 837              </td><td>1                 </td></tr>\n",
       "\t<tr><td>JetBlue           </td><td>JFK               </td><td> 695              </td><td>1                 </td></tr>\n",
       "\t<tr><td>Mesa              </td><td>CLT               </td><td>  71              </td><td>1                 </td></tr>\n",
       "\t<tr><td>SkyWest           </td><td>COS               </td><td>1335              </td><td>1                 </td></tr>\n",
       "\t<tr><td>Southwest         </td><td>DAL               </td><td>8243              </td><td>1                 </td></tr>\n",
       "\t<tr><td>United            </td><td>SFO               </td><td> 643              </td><td>1                 </td></tr>\n",
       "\t<tr><td>US_Airways        </td><td>CLT               </td><td>2212              </td><td>1                 </td></tr>\n",
       "</tbody>\n",
       "</table>\n"
      ],
      "text/latex": [
       "\\begin{tabular}{r|llll}\n",
       " Carrier & Dest & n & rank\\\\\n",
       "\\hline\n",
       "\t AirTran            & ATL                & 2029               & 1                 \\\\\n",
       "\t Alaska             & SEA                &  365               & 1                 \\\\\n",
       "\t American           & DFW                & 2105               & 1                 \\\\\n",
       "\t American\\_Eagle     & DFW                  & 2424                 & 1                   \\\\\n",
       "\t Atlantic\\_Southeast & DTW                  &  851                 & 1                   \\\\\n",
       "\t Continental        & EWR                & 3924               & 1                 \\\\\n",
       "\t Delta              & ATL                & 2396               & 1                 \\\\\n",
       "\t ExpressJet         & CRP                & 3175               & 1                 \\\\\n",
       "\t Frontier           & DEN                &  837               & 1                 \\\\\n",
       "\t JetBlue            & JFK                &  695               & 1                 \\\\\n",
       "\t Mesa               & CLT                &   71               & 1                 \\\\\n",
       "\t SkyWest            & COS                & 1335               & 1                 \\\\\n",
       "\t Southwest          & DAL                & 8243               & 1                 \\\\\n",
       "\t United             & SFO                &  643               & 1                 \\\\\n",
       "\t US\\_Airways         & CLT                  & 2212                 & 1                   \\\\\n",
       "\\end{tabular}\n"
      ],
      "text/markdown": [
       "\n",
       "Carrier | Dest | n | rank | \n",
       "|---|---|---|---|---|---|---|---|---|---|---|---|---|---|---|\n",
       "| AirTran            | ATL                | 2029               | 1                  | \n",
       "| Alaska             | SEA                |  365               | 1                  | \n",
       "| American           | DFW                | 2105               | 1                  | \n",
       "| American_Eagle     | DFW                | 2424               | 1                  | \n",
       "| Atlantic_Southeast | DTW                |  851               | 1                  | \n",
       "| Continental        | EWR                | 3924               | 1                  | \n",
       "| Delta              | ATL                | 2396               | 1                  | \n",
       "| ExpressJet         | CRP                | 3175               | 1                  | \n",
       "| Frontier           | DEN                |  837               | 1                  | \n",
       "| JetBlue            | JFK                |  695               | 1                  | \n",
       "| Mesa               | CLT                |   71               | 1                  | \n",
       "| SkyWest            | COS                | 1335               | 1                  | \n",
       "| Southwest          | DAL                | 8243               | 1                  | \n",
       "| United             | SFO                |  643               | 1                  | \n",
       "| US_Airways         | CLT                | 2212               | 1                  | \n",
       "\n",
       "\n"
      ],
      "text/plain": [
       "   Carrier            Dest n    rank\n",
       "1  AirTran            ATL  2029 1   \n",
       "2  Alaska             SEA   365 1   \n",
       "3  American           DFW  2105 1   \n",
       "4  American_Eagle     DFW  2424 1   \n",
       "5  Atlantic_Southeast DTW   851 1   \n",
       "6  Continental        EWR  3924 1   \n",
       "7  Delta              ATL  2396 1   \n",
       "8  ExpressJet         CRP  3175 1   \n",
       "9  Frontier           DEN   837 1   \n",
       "10 JetBlue            JFK   695 1   \n",
       "11 Mesa               CLT    71 1   \n",
       "12 SkyWest            COS  1335 1   \n",
       "13 Southwest          DAL  8243 1   \n",
       "14 United             SFO   643 1   \n",
       "15 US_Airways         CLT  2212 1   "
      ]
     },
     "metadata": {},
     "output_type": "display_data"
    }
   ],
   "source": [
    "# Find the most visited destination for each carrier\n",
    "hflights %>%\n",
    "  group_by(Carrier, Dest) %>%\n",
    "  summarise(n = n()) %>%\n",
    "  mutate(rank = rank(desc(n))) %>%\n",
    "  filter(rank == 1)"
   ]
  },
  {
   "cell_type": "markdown",
   "metadata": {},
   "source": [
    "### dplyr deals with different types\n",
    "hflights2 is a copy of hflights that is saved as a data table. hflights2 contains all of the same information as hflights, but the information is stored in a **different data structure**. You can see this structure by typing hflights2 at the command line.\n",
    "\n",
    "Even though hflights2 is a different data structure, you can use the same dplyr functions to manipulate hflights2 as you used to manipulate hflights."
   ]
  },
  {
   "cell_type": "code",
   "execution_count": 71,
   "metadata": {},
   "outputs": [
    {
     "data": {
      "text/html": [
       "<table>\n",
       "<thead><tr><th scope=col>Year</th><th scope=col>Month</th><th scope=col>DayofMonth</th><th scope=col>DayOfWeek</th><th scope=col>DepTime</th><th scope=col>ArrTime</th><th scope=col>UniqueCarrier</th><th scope=col>FlightNum</th><th scope=col>TailNum</th><th scope=col>ActualElapsedTime</th><th scope=col>...</th><th scope=col>Origin</th><th scope=col>Dest</th><th scope=col>Distance</th><th scope=col>TaxiIn</th><th scope=col>TaxiOut</th><th scope=col>Cancelled</th><th scope=col>CancellationCode</th><th scope=col>Diverted</th><th scope=col>Carrier</th><th scope=col>Code</th></tr></thead>\n",
       "<tbody>\n",
       "\t<tr><td>2011         </td><td>1            </td><td>1            </td><td>6            </td><td>1400         </td><td>1500         </td><td>AA           </td><td>428          </td><td>N576AA       </td><td>60           </td><td>...          </td><td>IAH          </td><td>DFW          </td><td>224          </td><td>7            </td><td>13           </td><td>0            </td><td>             </td><td>0            </td><td>American     </td><td>not cancelled</td></tr>\n",
       "\t<tr><td>2011         </td><td>1            </td><td>2            </td><td>7            </td><td>1401         </td><td>1501         </td><td>AA           </td><td>428          </td><td>N557AA       </td><td>60           </td><td>...          </td><td>IAH          </td><td>DFW          </td><td>224          </td><td>6            </td><td> 9           </td><td>0            </td><td>             </td><td>0            </td><td>American     </td><td>not cancelled</td></tr>\n",
       "</tbody>\n",
       "</table>\n"
      ],
      "text/latex": [
       "\\begin{tabular}{r|lllllllllllllllllllllll}\n",
       " Year & Month & DayofMonth & DayOfWeek & DepTime & ArrTime & UniqueCarrier & FlightNum & TailNum & ActualElapsedTime & ... & Origin & Dest & Distance & TaxiIn & TaxiOut & Cancelled & CancellationCode & Diverted & Carrier & Code\\\\\n",
       "\\hline\n",
       "\t 2011          & 1             & 1             & 6             & 1400          & 1500          & AA            & 428           & N576AA        & 60            & ...           & IAH           & DFW           & 224           & 7             & 13            & 0             &               & 0             & American      & not cancelled\\\\\n",
       "\t 2011          & 1             & 2             & 7             & 1401          & 1501          & AA            & 428           & N557AA        & 60            & ...           & IAH           & DFW           & 224           & 6             &  9            & 0             &               & 0             & American      & not cancelled\\\\\n",
       "\\end{tabular}\n"
      ],
      "text/markdown": [
       "\n",
       "Year | Month | DayofMonth | DayOfWeek | DepTime | ArrTime | UniqueCarrier | FlightNum | TailNum | ActualElapsedTime | ... | Origin | Dest | Distance | TaxiIn | TaxiOut | Cancelled | CancellationCode | Diverted | Carrier | Code | \n",
       "|---|---|\n",
       "| 2011          | 1             | 1             | 6             | 1400          | 1500          | AA            | 428           | N576AA        | 60            | ...           | IAH           | DFW           | 224           | 7             | 13            | 0             |               | 0             | American      | not cancelled | \n",
       "| 2011          | 1             | 2             | 7             | 1401          | 1501          | AA            | 428           | N557AA        | 60            | ...           | IAH           | DFW           | 224           | 6             |  9            | 0             |               | 0             | American      | not cancelled | \n",
       "\n",
       "\n"
      ],
      "text/plain": [
       "  Year Month DayofMonth DayOfWeek DepTime ArrTime UniqueCarrier FlightNum\n",
       "1 2011 1     1          6         1400    1500    AA            428      \n",
       "2 2011 1     2          7         1401    1501    AA            428      \n",
       "  TailNum ActualElapsedTime ... Origin Dest Distance TaxiIn TaxiOut Cancelled\n",
       "1 N576AA  60                ... IAH    DFW  224      7      13      0        \n",
       "2 N557AA  60                ... IAH    DFW  224      6       9      0        \n",
       "  CancellationCode Diverted Carrier  Code         \n",
       "1                  0        American not cancelled\n",
       "2                  0        American not cancelled"
      ]
     },
     "metadata": {},
     "output_type": "display_data"
    },
    {
     "data": {
      "text/html": [
       "<ol class=list-inline>\n",
       "\t<li>'data.table'</li>\n",
       "\t<li>'data.frame'</li>\n",
       "</ol>\n"
      ],
      "text/latex": [
       "\\begin{enumerate*}\n",
       "\\item 'data.table'\n",
       "\\item 'data.frame'\n",
       "\\end{enumerate*}\n"
      ],
      "text/markdown": [
       "1. 'data.table'\n",
       "2. 'data.frame'\n",
       "\n",
       "\n"
      ],
      "text/plain": [
       "[1] \"data.table\" \"data.frame\""
      ]
     },
     "metadata": {},
     "output_type": "display_data"
    }
   ],
   "source": [
    "library(data.table)\n",
    "hflights2 <- as.data.table(hflights)\n",
    "head(hflights2, 2)\n",
    "class(hflights2)"
   ]
  },
  {
   "cell_type": "code",
   "execution_count": 72,
   "metadata": {},
   "outputs": [
    {
     "data": {
      "text/html": [
       "<table>\n",
       "<thead><tr><th scope=col>n_carrier</th></tr></thead>\n",
       "<tbody>\n",
       "\t<tr><td>15</td></tr>\n",
       "</tbody>\n",
       "</table>\n"
      ],
      "text/latex": [
       "\\begin{tabular}{r|l}\n",
       " n\\_carrier\\\\\n",
       "\\hline\n",
       "\t 15\\\\\n",
       "\\end{tabular}\n"
      ],
      "text/markdown": [
       "\n",
       "n_carrier | \n",
       "|---|\n",
       "| 15 | \n",
       "\n",
       "\n"
      ],
      "text/plain": [
       "  n_carrier\n",
       "1 15       "
      ]
     },
     "metadata": {},
     "output_type": "display_data"
    }
   ],
   "source": [
    "# Use summarise to calculate n_carrier\n",
    "hflights2 %>% summarise(n_carrier = n_distinct(UniqueCarrier))  "
   ]
  },
  {
   "cell_type": "markdown",
   "metadata": {},
   "source": [
    "### dplyr and mySQL databases\n",
    "DataCamp hosts a mySQL database with data about flights that departed from New York City in 2013. The data is similar to the data in hflights, but it does not contain information about cancellations or diversions. \n",
    "*  With the **tbl() function**, we already created a reference to a table in this information.\n",
    "\n",
    "Although **nycflights is a reference to data that lives outside of R**, you can use the dplyr commands on them as usual. \n",
    "*  Behind the scenes, **dplyr will convert the commands to SQL** , i.e. the database's native language, and return the results. \n",
    "*  This **allows you to pull data that is too large to fit in R**: only the fraction of the data that you need will actually be downloaded into R, which will usually fit into R without memory issues."
   ]
  },
  {
   "cell_type": "code",
   "execution_count": null,
   "metadata": {},
   "outputs": [],
   "source": [
    "# DO NOT RUN!!!!!!!!!\n",
    "# Set up a connection to the mysql database\n",
    "my_db <- dplyr::src_mysql(dbname = \"dplyr\", \n",
    "                   host = \"courses.csrrinzqubik.us-east-1.rds.amazonaws.com\", \n",
    "                   port = 3306, \n",
    "                   user = \"student\",\n",
    "                   password = \"datacamp\")\n",
    "\n",
    "# Reference a table within that source: nycflights\n",
    "nycflights <- dplyr::tbl(my_db, \"dplyr\")\n",
    "save(nycflights, file = \"data/nycflights.rda\")\n",
    "\n",
    "# glimpse at nycflights\n",
    "glimpse(nycflights)"
   ]
  },
  {
   "cell_type": "code",
   "execution_count": null,
   "metadata": {},
   "outputs": [],
   "source": [
    "# Ordered, grouped summary of nycflights\n",
    "nycflights %>% group_by(carrier) %>% \n",
    "      summarize(n_flights = n(), avg_delay = mean(arr_delay)) %>%\n",
    "      arrange(avg_delay)"
   ]
  }
 ],
 "metadata": {
  "kernelspec": {
   "display_name": "R",
   "language": "R",
   "name": "ir"
  },
  "language_info": {
   "codemirror_mode": "r",
   "file_extension": ".r",
   "mimetype": "text/x-r-source",
   "name": "R",
   "pygments_lexer": "r",
   "version": "3.4.3"
  },
  "toc": {
   "nav_menu": {},
   "number_sections": true,
   "sideBar": true,
   "skip_h1_title": true,
   "title_cell": "Table of Contents",
   "title_sidebar": "Table of Contents",
   "toc_cell": true,
   "toc_position": {},
   "toc_section_display": true,
   "toc_window_display": true
  },
  "varInspector": {
   "cols": {
    "lenName": 16,
    "lenType": 16,
    "lenVar": 40
   },
   "kernels_config": {
    "python": {
     "delete_cmd_postfix": "",
     "delete_cmd_prefix": "del ",
     "library": "var_list.py",
     "varRefreshCmd": "print(var_dic_list())"
    },
    "r": {
     "delete_cmd_postfix": ") ",
     "delete_cmd_prefix": "rm(",
     "library": "var_list.r",
     "varRefreshCmd": "cat(var_dic_list()) "
    }
   },
   "types_to_exclude": [
    "module",
    "function",
    "builtin_function_or_method",
    "instance",
    "_Feature"
   ],
   "window_display": false
  }
 },
 "nbformat": 4,
 "nbformat_minor": 2
}
