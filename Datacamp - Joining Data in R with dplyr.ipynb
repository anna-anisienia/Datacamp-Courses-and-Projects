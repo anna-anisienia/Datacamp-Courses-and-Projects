{
 "cells": [
  {
   "cell_type": "markdown",
   "metadata": {
    "toc": true
   },
   "source": [
    "<h1>Table of Contents<span class=\"tocSkip\"></span></h1>\n",
    "<div class=\"toc\"><ul class=\"toc-item\"><li><span><a href=\"#Ch1:-Mutating-joins\" data-toc-modified-id=\"Ch1:-Mutating-joins-1\"><span class=\"toc-item-num\">1&nbsp;&nbsp;</span>Ch1: Mutating joins</a></span><ul class=\"toc-item\"><li><span><a href=\"#The-advantages-of-dplyr\" data-toc-modified-id=\"The-advantages-of-dplyr-1.1\"><span class=\"toc-item-num\">1.1&nbsp;&nbsp;</span>The advantages of dplyr</a></span></li><li><span><a href=\"#A-basic-join\" data-toc-modified-id=\"A-basic-join-1.2\"><span class=\"toc-item-num\">1.2&nbsp;&nbsp;</span>A basic join</a></span></li><li><span><a href=\"#Inner-joins-and-full-joins\" data-toc-modified-id=\"Inner-joins-and-full-joins-1.3\"><span class=\"toc-item-num\">1.3&nbsp;&nbsp;</span>Inner joins and full joins</a></span></li><li><span><a href=\"#Pipes\" data-toc-modified-id=\"Pipes-1.4\"><span class=\"toc-item-num\">1.4&nbsp;&nbsp;</span>Pipes</a></span></li></ul></li><li><span><a href=\"#Ch2:-Filtering-joins-and-set-operations\" data-toc-modified-id=\"Ch2:-Filtering-joins-and-set-operations-2\"><span class=\"toc-item-num\">2&nbsp;&nbsp;</span>Ch2: Filtering joins and set operations</a></span><ul class=\"toc-item\"><li><span><a href=\"#Semi-join\" data-toc-modified-id=\"Semi-join-2.1\"><span class=\"toc-item-num\">2.1&nbsp;&nbsp;</span>Semi-join</a></span></li><li><span><a href=\"#Anti-join\" data-toc-modified-id=\"Anti-join-2.2\"><span class=\"toc-item-num\">2.2&nbsp;&nbsp;</span>Anti-join</a></span></li><li><span><a href=\"#Semi-join-vs.-Anti-join\" data-toc-modified-id=\"Semi-join-vs.-Anti-join-2.3\"><span class=\"toc-item-num\">2.3&nbsp;&nbsp;</span>Semi-join vs. Anti-join</a></span></li><li><span><a href=\"#Set-operations\" data-toc-modified-id=\"Set-operations-2.4\"><span class=\"toc-item-num\">2.4&nbsp;&nbsp;</span>Set operations</a></span></li><li><span><a href=\"#How-many-songs-are-there?\" data-toc-modified-id=\"How-many-songs-are-there?-2.5\"><span class=\"toc-item-num\">2.5&nbsp;&nbsp;</span>How many songs are there?</a></span></li><li><span><a href=\"#Comparing-datasets\" data-toc-modified-id=\"Comparing-datasets-2.6\"><span class=\"toc-item-num\">2.6&nbsp;&nbsp;</span>Comparing datasets</a></span></li></ul></li><li><span><a href=\"#Ch3:-Assembling-data\" data-toc-modified-id=\"Ch3:-Assembling-data-3\"><span class=\"toc-item-num\">3&nbsp;&nbsp;</span>Ch3: Assembling data</a></span><ul class=\"toc-item\"><li><span><a href=\"#Build-a-better-data-frame\" data-toc-modified-id=\"Build-a-better-data-frame-3.1\"><span class=\"toc-item-num\">3.1&nbsp;&nbsp;</span>Build a better data frame</a></span></li></ul></li><li><span><a href=\"#Ch4:-Advanced-joining\" data-toc-modified-id=\"Ch4:-Advanced-joining-4\"><span class=\"toc-item-num\">4&nbsp;&nbsp;</span>Ch4: Advanced joining</a></span></li><li><span><a href=\"#Ch5:-Case-study\" data-toc-modified-id=\"Ch5:-Case-study-5\"><span class=\"toc-item-num\">5&nbsp;&nbsp;</span>Ch5: Case study</a></span></li></ul></div>"
   ]
  },
  {
   "cell_type": "code",
   "execution_count": 13,
   "metadata": {},
   "outputs": [
    {
     "name": "stderr",
     "output_type": "stream",
     "text": [
      "\n",
      "Attaching package: 'dplyr'\n",
      "\n",
      "The following objects are masked from 'package:stats':\n",
      "\n",
      "    filter, lag\n",
      "\n",
      "The following objects are masked from 'package:base':\n",
      "\n",
      "    intersect, setdiff, setequal, union\n",
      "\n"
     ]
    }
   ],
   "source": [
    "library(dplyr)"
   ]
  },
  {
   "cell_type": "markdown",
   "metadata": {},
   "source": [
    "## Ch1: Mutating joins\n",
    "*  like mutate(), the mutating joins return a copy of the primary dataset that has 1 or more columns added to it from the secondary dataset. \n",
    "*  **left_join, right_join, inner_join, full_join**\n",
    "\n",
    "### The advantages of dplyr\n",
    "dplyr provides several advantages when it comes to joining data. Reasons to use dplyr to join data:\n",
    "*  dplyr join syntax is intuitive to use.\n",
    "*  dplyr joins preserve the row order of your data.\n",
    "*  dplyr joins will work with dplyr to connect to SQL databases, as well as Spark cluster to handle Big Data.\n",
    "\n",
    "### A basic join\n",
    "*  left_join() is the basic join function in dplyr. You can use it whenever you want to augment a data frame with information from another data frame.\n",
    "*  Ex. **left_join(x, y)** joins y to x. The second dataset you specify is joined to the first dataset. \n",
    "*  The easiest mistake when joining datasets is to use an incorrect **combination of keys**.\n",
    "\n",
    "**Keys:**\n",
    "*  primary key needs to be unique in a table\n",
    "*  foreign key in the second table can be duplicated\n",
    "*  PK may be comprised of multiple columns"
   ]
  },
  {
   "cell_type": "code",
   "execution_count": 17,
   "metadata": {},
   "outputs": [
    {
     "data": {
      "text/html": [
       "<table>\n",
       "<thead><tr><th scope=col>name</th><th scope=col>instrument</th></tr></thead>\n",
       "<tbody>\n",
       "\t<tr><td>Jimmy Buffett  </td><td>Guitar         </td></tr>\n",
       "\t<tr><td>George Harrison</td><td>Guitar         </td></tr>\n",
       "\t<tr><td>Mick Jagger    </td><td>Vocals         </td></tr>\n",
       "\t<tr><td>Tom Jones      </td><td>Vocals         </td></tr>\n",
       "\t<tr><td>Davy Jones     </td><td>Vocals         </td></tr>\n",
       "\t<tr><td>John Lennon    </td><td>Guitar         </td></tr>\n",
       "\t<tr><td>Paul McCartney </td><td>  Bass         </td></tr>\n",
       "\t<tr><td>Jimmy Page     </td><td>Guitar         </td></tr>\n",
       "\t<tr><td>Joe Perry      </td><td>Guitar         </td></tr>\n",
       "\t<tr><td>Elvis Presley  </td><td>Vocals         </td></tr>\n",
       "</tbody>\n",
       "</table>\n"
      ],
      "text/latex": [
       "\\begin{tabular}{r|ll}\n",
       " name & instrument\\\\\n",
       "\\hline\n",
       "\t Jimmy Buffett   & Guitar         \\\\\n",
       "\t George Harrison & Guitar         \\\\\n",
       "\t Mick Jagger     & Vocals         \\\\\n",
       "\t Tom Jones       & Vocals         \\\\\n",
       "\t Davy Jones      & Vocals         \\\\\n",
       "\t John Lennon     & Guitar         \\\\\n",
       "\t Paul McCartney  &   Bass         \\\\\n",
       "\t Jimmy Page      & Guitar         \\\\\n",
       "\t Joe Perry       & Guitar         \\\\\n",
       "\t Elvis Presley   & Vocals         \\\\\n",
       "\\end{tabular}\n"
      ],
      "text/markdown": [
       "\n",
       "name | instrument | \n",
       "|---|---|---|---|---|---|---|---|---|---|\n",
       "| Jimmy Buffett   | Guitar          | \n",
       "| George Harrison | Guitar          | \n",
       "| Mick Jagger     | Vocals          | \n",
       "| Tom Jones       | Vocals          | \n",
       "| Davy Jones      | Vocals          | \n",
       "| John Lennon     | Guitar          | \n",
       "| Paul McCartney  |   Bass          | \n",
       "| Jimmy Page      | Guitar          | \n",
       "| Joe Perry       | Guitar          | \n",
       "| Elvis Presley   | Vocals          | \n",
       "\n",
       "\n"
      ],
      "text/plain": [
       "   name            instrument\n",
       "1  Jimmy Buffett   Guitar    \n",
       "2  George Harrison Guitar    \n",
       "3  Mick Jagger     Vocals    \n",
       "4  Tom Jones       Vocals    \n",
       "5  Davy Jones      Vocals    \n",
       "6  John Lennon     Guitar    \n",
       "7  Paul McCartney    Bass    \n",
       "8  Jimmy Page      Guitar    \n",
       "9  Joe Perry       Guitar    \n",
       "10 Elvis Presley   Vocals    "
      ]
     },
     "metadata": {},
     "output_type": "display_data"
    }
   ],
   "source": [
    "artists0 = read.csv(\"C:/Users/annaa/data/artists.csv\", sep = \",\", stringsAsFactors = FALSE)\n",
    "artists0"
   ]
  },
  {
   "cell_type": "code",
   "execution_count": 19,
   "metadata": {},
   "outputs": [
    {
     "data": {
      "text/html": [
       "<table>\n",
       "<thead><tr><th scope=col>name</th><th scope=col>band</th></tr></thead>\n",
       "<tbody>\n",
       "\t<tr><td>John Bonham    </td><td>Led Zeppelin   </td></tr>\n",
       "\t<tr><td>John Paul Jones</td><td>Led Zeppelin   </td></tr>\n",
       "\t<tr><td>Jimmy Page     </td><td>Led Zeppelin   </td></tr>\n",
       "\t<tr><td>Robert Plant   </td><td>Led Zeppelin   </td></tr>\n",
       "\t<tr><td>George Harrison</td><td>The Beatles    </td></tr>\n",
       "\t<tr><td>John Lennon    </td><td>The Beatles    </td></tr>\n",
       "</tbody>\n",
       "</table>\n"
      ],
      "text/latex": [
       "\\begin{tabular}{r|ll}\n",
       " name & band\\\\\n",
       "\\hline\n",
       "\t John Bonham     & Led Zeppelin   \\\\\n",
       "\t John Paul Jones & Led Zeppelin   \\\\\n",
       "\t Jimmy Page      & Led Zeppelin   \\\\\n",
       "\t Robert Plant    & Led Zeppelin   \\\\\n",
       "\t George Harrison & The Beatles    \\\\\n",
       "\t John Lennon     & The Beatles    \\\\\n",
       "\\end{tabular}\n"
      ],
      "text/markdown": [
       "\n",
       "name | band | \n",
       "|---|---|---|---|---|---|\n",
       "| John Bonham     | Led Zeppelin    | \n",
       "| John Paul Jones | Led Zeppelin    | \n",
       "| Jimmy Page      | Led Zeppelin    | \n",
       "| Robert Plant    | Led Zeppelin    | \n",
       "| George Harrison | The Beatles     | \n",
       "| John Lennon     | The Beatles     | \n",
       "\n",
       "\n"
      ],
      "text/plain": [
       "  name            band        \n",
       "1 John Bonham     Led Zeppelin\n",
       "2 John Paul Jones Led Zeppelin\n",
       "3 Jimmy Page      Led Zeppelin\n",
       "4 Robert Plant    Led Zeppelin\n",
       "5 George Harrison The Beatles \n",
       "6 John Lennon     The Beatles "
      ]
     },
     "metadata": {},
     "output_type": "display_data"
    }
   ],
   "source": [
    "bands0 = read.csv(\"C:/Users/annaa/data/bands.csv\", sep = \",\", stringsAsFactors = FALSE)\n",
    "bands0"
   ]
  },
  {
   "cell_type": "code",
   "execution_count": 28,
   "metadata": {},
   "outputs": [
    {
     "data": {
      "text/html": [
       "<table>\n",
       "<thead><tr><th scope=col>name</th><th scope=col>instrument</th><th scope=col>band</th></tr></thead>\n",
       "<tbody>\n",
       "\t<tr><td>George Harrison</td><td>Guitar         </td><td>The Beatles    </td></tr>\n",
       "\t<tr><td>John Lennon    </td><td>Guitar         </td><td>The Beatles    </td></tr>\n",
       "\t<tr><td>Jimmy Page     </td><td>Guitar         </td><td>Led Zeppelin   </td></tr>\n",
       "</tbody>\n",
       "</table>\n"
      ],
      "text/latex": [
       "\\begin{tabular}{r|lll}\n",
       " name & instrument & band\\\\\n",
       "\\hline\n",
       "\t George Harrison & Guitar          & The Beatles    \\\\\n",
       "\t John Lennon     & Guitar          & The Beatles    \\\\\n",
       "\t Jimmy Page      & Guitar          & Led Zeppelin   \\\\\n",
       "\\end{tabular}\n"
      ],
      "text/markdown": [
       "\n",
       "name | instrument | band | \n",
       "|---|---|---|\n",
       "| George Harrison | Guitar          | The Beatles     | \n",
       "| John Lennon     | Guitar          | The Beatles     | \n",
       "| Jimmy Page      | Guitar          | Led Zeppelin    | \n",
       "\n",
       "\n"
      ],
      "text/plain": [
       "  name            instrument band        \n",
       "1 George Harrison Guitar     The Beatles \n",
       "2 John Lennon     Guitar     The Beatles \n",
       "3 Jimmy Page      Guitar     Led Zeppelin"
      ]
     },
     "metadata": {},
     "output_type": "display_data"
    }
   ],
   "source": [
    "inner_join(artists0, bands0, by = \"name\")"
   ]
  },
  {
   "cell_type": "code",
   "execution_count": 26,
   "metadata": {},
   "outputs": [
    {
     "data": {
      "text/html": [
       "<table>\n",
       "<thead><tr><th scope=col>name</th><th scope=col>instrument</th><th scope=col>band</th></tr></thead>\n",
       "<tbody>\n",
       "\t<tr><td>Jimmy Buffett  </td><td>Guitar         </td><td>NA             </td></tr>\n",
       "\t<tr><td>George Harrison</td><td>Guitar         </td><td>The Beatles    </td></tr>\n",
       "\t<tr><td>Mick Jagger    </td><td>Vocals         </td><td>NA             </td></tr>\n",
       "\t<tr><td>Tom Jones      </td><td>Vocals         </td><td>NA             </td></tr>\n",
       "\t<tr><td>Davy Jones     </td><td>Vocals         </td><td>NA             </td></tr>\n",
       "\t<tr><td>John Lennon    </td><td>Guitar         </td><td>The Beatles    </td></tr>\n",
       "\t<tr><td>Paul McCartney </td><td>  Bass         </td><td>NA             </td></tr>\n",
       "\t<tr><td>Jimmy Page     </td><td>Guitar         </td><td>Led Zeppelin   </td></tr>\n",
       "\t<tr><td>Joe Perry      </td><td>Guitar         </td><td>NA             </td></tr>\n",
       "\t<tr><td>Elvis Presley  </td><td>Vocals         </td><td>NA             </td></tr>\n",
       "</tbody>\n",
       "</table>\n"
      ],
      "text/latex": [
       "\\begin{tabular}{r|lll}\n",
       " name & instrument & band\\\\\n",
       "\\hline\n",
       "\t Jimmy Buffett   & Guitar          & NA             \\\\\n",
       "\t George Harrison & Guitar          & The Beatles    \\\\\n",
       "\t Mick Jagger     & Vocals          & NA             \\\\\n",
       "\t Tom Jones       & Vocals          & NA             \\\\\n",
       "\t Davy Jones      & Vocals          & NA             \\\\\n",
       "\t John Lennon     & Guitar          & The Beatles    \\\\\n",
       "\t Paul McCartney  &   Bass          & NA             \\\\\n",
       "\t Jimmy Page      & Guitar          & Led Zeppelin   \\\\\n",
       "\t Joe Perry       & Guitar          & NA             \\\\\n",
       "\t Elvis Presley   & Vocals          & NA             \\\\\n",
       "\\end{tabular}\n"
      ],
      "text/markdown": [
       "\n",
       "name | instrument | band | \n",
       "|---|---|---|---|---|---|---|---|---|---|\n",
       "| Jimmy Buffett   | Guitar          | NA              | \n",
       "| George Harrison | Guitar          | The Beatles     | \n",
       "| Mick Jagger     | Vocals          | NA              | \n",
       "| Tom Jones       | Vocals          | NA              | \n",
       "| Davy Jones      | Vocals          | NA              | \n",
       "| John Lennon     | Guitar          | The Beatles     | \n",
       "| Paul McCartney  |   Bass          | NA              | \n",
       "| Jimmy Page      | Guitar          | Led Zeppelin    | \n",
       "| Joe Perry       | Guitar          | NA              | \n",
       "| Elvis Presley   | Vocals          | NA              | \n",
       "\n",
       "\n"
      ],
      "text/plain": [
       "   name            instrument band        \n",
       "1  Jimmy Buffett   Guitar     NA          \n",
       "2  George Harrison Guitar     The Beatles \n",
       "3  Mick Jagger     Vocals     NA          \n",
       "4  Tom Jones       Vocals     NA          \n",
       "5  Davy Jones      Vocals     NA          \n",
       "6  John Lennon     Guitar     The Beatles \n",
       "7  Paul McCartney    Bass     NA          \n",
       "8  Jimmy Page      Guitar     Led Zeppelin\n",
       "9  Joe Perry       Guitar     NA          \n",
       "10 Elvis Presley   Vocals     NA          "
      ]
     },
     "metadata": {},
     "output_type": "display_data"
    }
   ],
   "source": [
    "left_join(artists0, bands0, by = \"name\")"
   ]
  },
  {
   "cell_type": "code",
   "execution_count": 27,
   "metadata": {},
   "outputs": [
    {
     "data": {
      "text/html": [
       "<table>\n",
       "<thead><tr><th scope=col>name</th><th scope=col>instrument</th><th scope=col>band</th></tr></thead>\n",
       "<tbody>\n",
       "\t<tr><td>John Bonham    </td><td>NA             </td><td>Led Zeppelin   </td></tr>\n",
       "\t<tr><td>John Paul Jones</td><td>NA             </td><td>Led Zeppelin   </td></tr>\n",
       "\t<tr><td>Jimmy Page     </td><td>Guitar         </td><td>Led Zeppelin   </td></tr>\n",
       "\t<tr><td>Robert Plant   </td><td>NA             </td><td>Led Zeppelin   </td></tr>\n",
       "\t<tr><td>George Harrison</td><td>Guitar         </td><td>The Beatles    </td></tr>\n",
       "\t<tr><td>John Lennon    </td><td>Guitar         </td><td>The Beatles    </td></tr>\n",
       "</tbody>\n",
       "</table>\n"
      ],
      "text/latex": [
       "\\begin{tabular}{r|lll}\n",
       " name & instrument & band\\\\\n",
       "\\hline\n",
       "\t John Bonham     & NA              & Led Zeppelin   \\\\\n",
       "\t John Paul Jones & NA              & Led Zeppelin   \\\\\n",
       "\t Jimmy Page      & Guitar          & Led Zeppelin   \\\\\n",
       "\t Robert Plant    & NA              & Led Zeppelin   \\\\\n",
       "\t George Harrison & Guitar          & The Beatles    \\\\\n",
       "\t John Lennon     & Guitar          & The Beatles    \\\\\n",
       "\\end{tabular}\n"
      ],
      "text/markdown": [
       "\n",
       "name | instrument | band | \n",
       "|---|---|---|---|---|---|\n",
       "| John Bonham     | NA              | Led Zeppelin    | \n",
       "| John Paul Jones | NA              | Led Zeppelin    | \n",
       "| Jimmy Page      | Guitar          | Led Zeppelin    | \n",
       "| Robert Plant    | NA              | Led Zeppelin    | \n",
       "| George Harrison | Guitar          | The Beatles     | \n",
       "| John Lennon     | Guitar          | The Beatles     | \n",
       "\n",
       "\n"
      ],
      "text/plain": [
       "  name            instrument band        \n",
       "1 John Bonham     NA         Led Zeppelin\n",
       "2 John Paul Jones NA         Led Zeppelin\n",
       "3 Jimmy Page      Guitar     Led Zeppelin\n",
       "4 Robert Plant    NA         Led Zeppelin\n",
       "5 George Harrison Guitar     The Beatles \n",
       "6 John Lennon     Guitar     The Beatles "
      ]
     },
     "metadata": {},
     "output_type": "display_data"
    }
   ],
   "source": [
    "right_join(artists0, bands0, by = \"name\")"
   ]
  },
  {
   "cell_type": "code",
   "execution_count": 29,
   "metadata": {},
   "outputs": [
    {
     "data": {
      "text/html": [
       "<table>\n",
       "<thead><tr><th scope=col>name</th><th scope=col>instrument</th><th scope=col>band</th></tr></thead>\n",
       "<tbody>\n",
       "\t<tr><td>Jimmy Buffett  </td><td>Guitar         </td><td>NA             </td></tr>\n",
       "\t<tr><td>George Harrison</td><td>Guitar         </td><td>The Beatles    </td></tr>\n",
       "\t<tr><td>Mick Jagger    </td><td>Vocals         </td><td>NA             </td></tr>\n",
       "\t<tr><td>Tom Jones      </td><td>Vocals         </td><td>NA             </td></tr>\n",
       "\t<tr><td>Davy Jones     </td><td>Vocals         </td><td>NA             </td></tr>\n",
       "\t<tr><td>John Lennon    </td><td>Guitar         </td><td>The Beatles    </td></tr>\n",
       "\t<tr><td>Paul McCartney </td><td>  Bass         </td><td>NA             </td></tr>\n",
       "\t<tr><td>Jimmy Page     </td><td>Guitar         </td><td>Led Zeppelin   </td></tr>\n",
       "\t<tr><td>Joe Perry      </td><td>Guitar         </td><td>NA             </td></tr>\n",
       "\t<tr><td>Elvis Presley  </td><td>Vocals         </td><td>NA             </td></tr>\n",
       "\t<tr><td>John Bonham    </td><td>NA             </td><td>Led Zeppelin   </td></tr>\n",
       "\t<tr><td>John Paul Jones</td><td>NA             </td><td>Led Zeppelin   </td></tr>\n",
       "\t<tr><td>Robert Plant   </td><td>NA             </td><td>Led Zeppelin   </td></tr>\n",
       "</tbody>\n",
       "</table>\n"
      ],
      "text/latex": [
       "\\begin{tabular}{r|lll}\n",
       " name & instrument & band\\\\\n",
       "\\hline\n",
       "\t Jimmy Buffett   & Guitar          & NA             \\\\\n",
       "\t George Harrison & Guitar          & The Beatles    \\\\\n",
       "\t Mick Jagger     & Vocals          & NA             \\\\\n",
       "\t Tom Jones       & Vocals          & NA             \\\\\n",
       "\t Davy Jones      & Vocals          & NA             \\\\\n",
       "\t John Lennon     & Guitar          & The Beatles    \\\\\n",
       "\t Paul McCartney  &   Bass          & NA             \\\\\n",
       "\t Jimmy Page      & Guitar          & Led Zeppelin   \\\\\n",
       "\t Joe Perry       & Guitar          & NA             \\\\\n",
       "\t Elvis Presley   & Vocals          & NA             \\\\\n",
       "\t John Bonham     & NA              & Led Zeppelin   \\\\\n",
       "\t John Paul Jones & NA              & Led Zeppelin   \\\\\n",
       "\t Robert Plant    & NA              & Led Zeppelin   \\\\\n",
       "\\end{tabular}\n"
      ],
      "text/markdown": [
       "\n",
       "name | instrument | band | \n",
       "|---|---|---|---|---|---|---|---|---|---|---|---|---|\n",
       "| Jimmy Buffett   | Guitar          | NA              | \n",
       "| George Harrison | Guitar          | The Beatles     | \n",
       "| Mick Jagger     | Vocals          | NA              | \n",
       "| Tom Jones       | Vocals          | NA              | \n",
       "| Davy Jones      | Vocals          | NA              | \n",
       "| John Lennon     | Guitar          | The Beatles     | \n",
       "| Paul McCartney  |   Bass          | NA              | \n",
       "| Jimmy Page      | Guitar          | Led Zeppelin    | \n",
       "| Joe Perry       | Guitar          | NA              | \n",
       "| Elvis Presley   | Vocals          | NA              | \n",
       "| John Bonham     | NA              | Led Zeppelin    | \n",
       "| John Paul Jones | NA              | Led Zeppelin    | \n",
       "| Robert Plant    | NA              | Led Zeppelin    | \n",
       "\n",
       "\n"
      ],
      "text/plain": [
       "   name            instrument band        \n",
       "1  Jimmy Buffett   Guitar     NA          \n",
       "2  George Harrison Guitar     The Beatles \n",
       "3  Mick Jagger     Vocals     NA          \n",
       "4  Tom Jones       Vocals     NA          \n",
       "5  Davy Jones      Vocals     NA          \n",
       "6  John Lennon     Guitar     The Beatles \n",
       "7  Paul McCartney    Bass     NA          \n",
       "8  Jimmy Page      Guitar     Led Zeppelin\n",
       "9  Joe Perry       Guitar     NA          \n",
       "10 Elvis Presley   Vocals     NA          \n",
       "11 John Bonham     NA         Led Zeppelin\n",
       "12 John Paul Jones NA         Led Zeppelin\n",
       "13 Robert Plant    NA         Led Zeppelin"
      ]
     },
     "metadata": {},
     "output_type": "display_data"
    }
   ],
   "source": [
    "full_join(artists0, bands0, by = \"name\")"
   ]
  },
  {
   "cell_type": "code",
   "execution_count": 21,
   "metadata": {},
   "outputs": [
    {
     "data": {
      "text/html": [
       "<table>\n",
       "<thead><tr><th scope=col>first</th><th scope=col>last</th><th scope=col>band</th></tr></thead>\n",
       "<tbody>\n",
       "\t<tr><td>John        </td><td> Bonham     </td><td>Led Zeppelin</td></tr>\n",
       "\t<tr><td>John Paul   </td><td> Jones      </td><td>Led Zeppelin</td></tr>\n",
       "\t<tr><td>Jimmy       </td><td> Page       </td><td>Led Zeppelin</td></tr>\n",
       "\t<tr><td>Robert      </td><td> Plant      </td><td>Led Zeppelin</td></tr>\n",
       "\t<tr><td>George      </td><td> Harrison   </td><td>The Beatles </td></tr>\n",
       "\t<tr><td>John        </td><td> Lennon     </td><td>The Beatles </td></tr>\n",
       "</tbody>\n",
       "</table>\n"
      ],
      "text/latex": [
       "\\begin{tabular}{r|lll}\n",
       " first & last & band\\\\\n",
       "\\hline\n",
       "\t John         &  Bonham      & Led Zeppelin\\\\\n",
       "\t John Paul    &  Jones       & Led Zeppelin\\\\\n",
       "\t Jimmy        &  Page        & Led Zeppelin\\\\\n",
       "\t Robert       &  Plant       & Led Zeppelin\\\\\n",
       "\t George       &  Harrison    & The Beatles \\\\\n",
       "\t John         &  Lennon      & The Beatles \\\\\n",
       "\\end{tabular}\n"
      ],
      "text/markdown": [
       "\n",
       "first | last | band | \n",
       "|---|---|---|---|---|---|\n",
       "| John         |  Bonham      | Led Zeppelin | \n",
       "| John Paul    |  Jones       | Led Zeppelin | \n",
       "| Jimmy        |  Page        | Led Zeppelin | \n",
       "| Robert       |  Plant       | Led Zeppelin | \n",
       "| George       |  Harrison    | The Beatles  | \n",
       "| John         |  Lennon      | The Beatles  | \n",
       "\n",
       "\n"
      ],
      "text/plain": [
       "  first     last      band        \n",
       "1 John       Bonham   Led Zeppelin\n",
       "2 John Paul  Jones    Led Zeppelin\n",
       "3 Jimmy      Page     Led Zeppelin\n",
       "4 Robert     Plant    Led Zeppelin\n",
       "5 George     Harrison The Beatles \n",
       "6 John       Lennon   The Beatles "
      ]
     },
     "metadata": {},
     "output_type": "display_data"
    }
   ],
   "source": [
    "bands = read.csv(\"C:/Users/annaa/data/bands2.csv\", sep = \",\", stringsAsFactors = FALSE)\n",
    "bands"
   ]
  },
  {
   "cell_type": "code",
   "execution_count": 22,
   "metadata": {},
   "outputs": [
    {
     "data": {
      "text/html": [
       "<table>\n",
       "<thead><tr><th scope=col>first</th><th scope=col>last</th><th scope=col>instrument</th></tr></thead>\n",
       "<tbody>\n",
       "\t<tr><td>Jimmy      </td><td>  Buffett  </td><td>     Guitar</td></tr>\n",
       "\t<tr><td>George     </td><td> Harrison  </td><td>     Guitar</td></tr>\n",
       "\t<tr><td>Mick       </td><td>   Jagger  </td><td>     Vocals</td></tr>\n",
       "\t<tr><td>Tom        </td><td>    Jones  </td><td>     Vocals</td></tr>\n",
       "\t<tr><td>Davy       </td><td>    Jones  </td><td>    Vocals </td></tr>\n",
       "\t<tr><td>John       </td><td>   Lennon  </td><td>     Guitar</td></tr>\n",
       "</tbody>\n",
       "</table>\n"
      ],
      "text/latex": [
       "\\begin{tabular}{r|lll}\n",
       " first & last & instrument\\\\\n",
       "\\hline\n",
       "\t Jimmy       &   Buffett   &      Guitar\\\\\n",
       "\t George      &  Harrison   &      Guitar\\\\\n",
       "\t Mick        &    Jagger   &      Vocals\\\\\n",
       "\t Tom         &     Jones   &      Vocals\\\\\n",
       "\t Davy        &     Jones   &     Vocals \\\\\n",
       "\t John        &    Lennon   &      Guitar\\\\\n",
       "\\end{tabular}\n"
      ],
      "text/markdown": [
       "\n",
       "first | last | instrument | \n",
       "|---|---|---|---|---|---|\n",
       "| Jimmy       |   Buffett   |      Guitar | \n",
       "| George      |  Harrison   |      Guitar | \n",
       "| Mick        |    Jagger   |      Vocals | \n",
       "| Tom         |     Jones   |      Vocals | \n",
       "| Davy        |     Jones   |     Vocals  | \n",
       "| John        |    Lennon   |      Guitar | \n",
       "\n",
       "\n"
      ],
      "text/plain": [
       "  first  last      instrument \n",
       "1 Jimmy    Buffett      Guitar\n",
       "2 George  Harrison      Guitar\n",
       "3 Mick      Jagger      Vocals\n",
       "4 Tom        Jones      Vocals\n",
       "5 Davy       Jones     Vocals \n",
       "6 John      Lennon      Guitar"
      ]
     },
     "metadata": {},
     "output_type": "display_data"
    }
   ],
   "source": [
    "artists = read.csv(\"C:/Users/annaa/data/artists_new.csv\", sep = \",\", stringsAsFactors = FALSE)\n",
    "artists"
   ]
  },
  {
   "cell_type": "code",
   "execution_count": 23,
   "metadata": {},
   "outputs": [
    {
     "data": {
      "text/html": [
       "<table>\n",
       "<thead><tr><th scope=col>first</th><th scope=col>last</th><th scope=col>band</th><th scope=col>instrument</th></tr></thead>\n",
       "<tbody>\n",
       "\t<tr><td>John        </td><td> Bonham     </td><td>Led Zeppelin</td><td>NA          </td></tr>\n",
       "\t<tr><td>John Paul   </td><td> Jones      </td><td>Led Zeppelin</td><td>NA          </td></tr>\n",
       "\t<tr><td>Jimmy       </td><td> Page       </td><td>Led Zeppelin</td><td>NA          </td></tr>\n",
       "\t<tr><td>Robert      </td><td> Plant      </td><td>Led Zeppelin</td><td>NA          </td></tr>\n",
       "\t<tr><td>George      </td><td> Harrison   </td><td>The Beatles </td><td>     Guitar </td></tr>\n",
       "\t<tr><td>John        </td><td> Lennon     </td><td>The Beatles </td><td>NA          </td></tr>\n",
       "</tbody>\n",
       "</table>\n"
      ],
      "text/latex": [
       "\\begin{tabular}{r|llll}\n",
       " first & last & band & instrument\\\\\n",
       "\\hline\n",
       "\t John         &  Bonham      & Led Zeppelin & NA          \\\\\n",
       "\t John Paul    &  Jones       & Led Zeppelin & NA          \\\\\n",
       "\t Jimmy        &  Page        & Led Zeppelin & NA          \\\\\n",
       "\t Robert       &  Plant       & Led Zeppelin & NA          \\\\\n",
       "\t George       &  Harrison    & The Beatles  &      Guitar \\\\\n",
       "\t John         &  Lennon      & The Beatles  & NA          \\\\\n",
       "\\end{tabular}\n"
      ],
      "text/markdown": [
       "\n",
       "first | last | band | instrument | \n",
       "|---|---|---|---|---|---|\n",
       "| John         |  Bonham      | Led Zeppelin | NA           | \n",
       "| John Paul    |  Jones       | Led Zeppelin | NA           | \n",
       "| Jimmy        |  Page        | Led Zeppelin | NA           | \n",
       "| Robert       |  Plant       | Led Zeppelin | NA           | \n",
       "| George       |  Harrison    | The Beatles  |      Guitar  | \n",
       "| John         |  Lennon      | The Beatles  | NA           | \n",
       "\n",
       "\n"
      ],
      "text/plain": [
       "  first     last      band         instrument \n",
       "1 John       Bonham   Led Zeppelin NA         \n",
       "2 John Paul  Jones    Led Zeppelin NA         \n",
       "3 Jimmy      Page     Led Zeppelin NA         \n",
       "4 Robert     Plant    Led Zeppelin NA         \n",
       "5 George     Harrison The Beatles       Guitar\n",
       "6 John       Lennon   The Beatles  NA         "
      ]
     },
     "metadata": {},
     "output_type": "display_data"
    }
   ],
   "source": [
    "# Complete the code to join artists to bands\n",
    "bands2 <- left_join(bands, artists, by = c(\"first\", \"last\"))\n",
    "\n",
    "# Examine the results - only one match to the right table artists, hence only 1 instrument\n",
    "bands2"
   ]
  },
  {
   "cell_type": "code",
   "execution_count": 24,
   "metadata": {},
   "outputs": [
    {
     "data": {
      "text/plain": [
       "TRUE"
      ]
     },
     "metadata": {},
     "output_type": "display_data"
    }
   ],
   "source": [
    "# Finish the code below to recreate bands3 with a right join\n",
    "bands2 <- left_join(bands, artists, by = c(\"first\", \"last\"))\n",
    "bands3 <- right_join(artists, bands, by = c(\"first\", \"last\"))\n",
    "\n",
    "# Check that bands3 is equal to bands2\n",
    "setequal(bands2, bands3)"
   ]
  },
  {
   "cell_type": "markdown",
   "metadata": {},
   "source": [
    "### Inner joins and full joins\n",
    "*  inner joins = the most strict type of join: they only retain observations that appear in both datasets. \n",
    "*  In contrast, full joins are the most permissive type of join: they return all of the data that appears in both datasets (often resulting in many NAs)."
   ]
  },
  {
   "cell_type": "code",
   "execution_count": 32,
   "metadata": {},
   "outputs": [
    {
     "data": {
      "text/html": [
       "<table>\n",
       "<thead><tr><th scope=col>album</th><th scope=col>band</th><th scope=col>year</th></tr></thead>\n",
       "<tbody>\n",
       "\t<tr><td>A Hard Day's Night       </td><td>The Beatles              </td><td>1964                     </td></tr>\n",
       "\t<tr><td>Magical Mystery Tour     </td><td>The Beatles              </td><td>1967                     </td></tr>\n",
       "\t<tr><td>Beggar's Banquet         </td><td>The Rolling Stones       </td><td>1968                     </td></tr>\n",
       "\t<tr><td>Abbey Road               </td><td>The Beatles              </td><td>1969                     </td></tr>\n",
       "\t<tr><td>Led Zeppelin IV          </td><td>Led Zeppelin             </td><td>1971                     </td></tr>\n",
       "\t<tr><td>The Dark Side of the Moon</td><td> Pink Floyd              </td><td>1973                     </td></tr>\n",
       "</tbody>\n",
       "</table>\n"
      ],
      "text/latex": [
       "\\begin{tabular}{r|lll}\n",
       " album & band & year\\\\\n",
       "\\hline\n",
       "\t A Hard Day's Night        & The Beatles               & 1964                     \\\\\n",
       "\t Magical Mystery Tour      & The Beatles               & 1967                     \\\\\n",
       "\t Beggar's Banquet          & The Rolling Stones        & 1968                     \\\\\n",
       "\t Abbey Road                & The Beatles               & 1969                     \\\\\n",
       "\t Led Zeppelin IV           & Led Zeppelin              & 1971                     \\\\\n",
       "\t The Dark Side of the Moon &  Pink Floyd               & 1973                     \\\\\n",
       "\\end{tabular}\n"
      ],
      "text/markdown": [
       "\n",
       "album | band | year | \n",
       "|---|---|---|---|---|---|\n",
       "| A Hard Day's Night        | The Beatles               | 1964                      | \n",
       "| Magical Mystery Tour      | The Beatles               | 1967                      | \n",
       "| Beggar's Banquet          | The Rolling Stones        | 1968                      | \n",
       "| Abbey Road                | The Beatles               | 1969                      | \n",
       "| Led Zeppelin IV           | Led Zeppelin              | 1971                      | \n",
       "| The Dark Side of the Moon |  Pink Floyd               | 1973                      | \n",
       "\n",
       "\n"
      ],
      "text/plain": [
       "  album                     band               year\n",
       "1 A Hard Day's Night        The Beatles        1964\n",
       "2 Magical Mystery Tour      The Beatles        1967\n",
       "3 Beggar's Banquet          The Rolling Stones 1968\n",
       "4 Abbey Road                The Beatles        1969\n",
       "5 Led Zeppelin IV           Led Zeppelin       1971\n",
       "6 The Dark Side of the Moon  Pink Floyd        1973"
      ]
     },
     "metadata": {},
     "output_type": "display_data"
    }
   ],
   "source": [
    "albums = read.csv(\"C:/Users/annaa/data/albums.csv\", sep = \",\", stringsAsFactors = FALSE)\n",
    "albums"
   ]
  },
  {
   "cell_type": "code",
   "execution_count": 40,
   "metadata": {},
   "outputs": [
    {
     "name": "stderr",
     "output_type": "stream",
     "text": [
      "Warning message in read.table(file = file, header = header, sep = sep, quote = quote, :\n",
      "\"unvollstädige letzte Zeile von readTableHeader in 'C:/Users/annaa/data/songs.csv' gefunden\""
     ]
    },
    {
     "data": {
      "text/html": [
       "<table>\n",
       "<thead><tr><th scope=col>song</th><th scope=col>album</th><th scope=col>name</th></tr></thead>\n",
       "<tbody>\n",
       "\t<tr><td>Come Together       </td><td>Abbey Road          </td><td>John Lennon         </td></tr>\n",
       "\t<tr><td>Dream On            </td><td>Aerosmith           </td><td>Steven Tyler        </td></tr>\n",
       "\t<tr><td>Hello, Goodbye      </td><td>Magical Mystery Tour</td><td>Paul McCartney      </td></tr>\n",
       "\t<tr><td>It's Not Unusual    </td><td>Along Came Jones    </td><td>Tom Jones           </td></tr>\n",
       "</tbody>\n",
       "</table>\n"
      ],
      "text/latex": [
       "\\begin{tabular}{r|lll}\n",
       " song & album & name\\\\\n",
       "\\hline\n",
       "\t Come Together        & Abbey Road           & John Lennon         \\\\\n",
       "\t Dream On             & Aerosmith            & Steven Tyler        \\\\\n",
       "\t Hello, Goodbye       & Magical Mystery Tour & Paul McCartney      \\\\\n",
       "\t It's Not Unusual     & Along Came Jones     & Tom Jones           \\\\\n",
       "\\end{tabular}\n"
      ],
      "text/markdown": [
       "\n",
       "song | album | name | \n",
       "|---|---|---|---|\n",
       "| Come Together        | Abbey Road           | John Lennon          | \n",
       "| Dream On             | Aerosmith            | Steven Tyler         | \n",
       "| Hello, Goodbye       | Magical Mystery Tour | Paul McCartney       | \n",
       "| It's Not Unusual     | Along Came Jones     | Tom Jones            | \n",
       "\n",
       "\n"
      ],
      "text/plain": [
       "  song             album                name          \n",
       "1 Come Together    Abbey Road           John Lennon   \n",
       "2 Dream On         Aerosmith            Steven Tyler  \n",
       "3 Hello, Goodbye   Magical Mystery Tour Paul McCartney\n",
       "4 It's Not Unusual Along Came Jones     Tom Jones     "
      ]
     },
     "metadata": {},
     "output_type": "display_data"
    }
   ],
   "source": [
    "songs = read.csv(\"C:/Users/annaa/data/songs.csv\", sep = \";\", stringsAsFactors = FALSE)\n",
    "songs"
   ]
  },
  {
   "cell_type": "code",
   "execution_count": 41,
   "metadata": {},
   "outputs": [
    {
     "data": {
      "text/html": [
       "<table>\n",
       "<thead><tr><th scope=col>song</th><th scope=col>album</th><th scope=col>name</th><th scope=col>band</th><th scope=col>year</th></tr></thead>\n",
       "<tbody>\n",
       "\t<tr><td>Come Together       </td><td>Abbey Road          </td><td>John Lennon         </td><td>The Beatles         </td><td>1969                </td></tr>\n",
       "\t<tr><td>Hello, Goodbye      </td><td>Magical Mystery Tour</td><td>Paul McCartney      </td><td>The Beatles         </td><td>1967                </td></tr>\n",
       "</tbody>\n",
       "</table>\n"
      ],
      "text/latex": [
       "\\begin{tabular}{r|lllll}\n",
       " song & album & name & band & year\\\\\n",
       "\\hline\n",
       "\t Come Together        & Abbey Road           & John Lennon          & The Beatles          & 1969                \\\\\n",
       "\t Hello, Goodbye       & Magical Mystery Tour & Paul McCartney       & The Beatles          & 1967                \\\\\n",
       "\\end{tabular}\n"
      ],
      "text/markdown": [
       "\n",
       "song | album | name | band | year | \n",
       "|---|---|\n",
       "| Come Together        | Abbey Road           | John Lennon          | The Beatles          | 1969                 | \n",
       "| Hello, Goodbye       | Magical Mystery Tour | Paul McCartney       | The Beatles          | 1967                 | \n",
       "\n",
       "\n"
      ],
      "text/plain": [
       "  song           album                name           band        year\n",
       "1 Come Together  Abbey Road           John Lennon    The Beatles 1969\n",
       "2 Hello, Goodbye Magical Mystery Tour Paul McCartney The Beatles 1967"
      ]
     },
     "metadata": {},
     "output_type": "display_data"
    }
   ],
   "source": [
    "# Join albums to songs using inner_join()\n",
    "inner_join(songs, albums, by = \"album\")"
   ]
  },
  {
   "cell_type": "markdown",
   "metadata": {},
   "source": [
    "### Pipes\n",
    "You can combine dplyr functions together with the pipe operator, %>%, to build up an analysis step-by-step."
   ]
  },
  {
   "cell_type": "code",
   "execution_count": 37,
   "metadata": {},
   "outputs": [
    {
     "data": {
      "text/html": [
       "<table>\n",
       "<thead><tr><th scope=col>name</th><th scope=col>band</th></tr></thead>\n",
       "<tbody>\n",
       "\t<tr><td>Jimmy Page     </td><td>Led Zeppelin   </td></tr>\n",
       "\t<tr><td>George Harrison</td><td>The Beatles    </td></tr>\n",
       "\t<tr><td>John Lennon    </td><td>The Beatles    </td></tr>\n",
       "</tbody>\n",
       "</table>\n"
      ],
      "text/latex": [
       "\\begin{tabular}{r|ll}\n",
       " name & band\\\\\n",
       "\\hline\n",
       "\t Jimmy Page      & Led Zeppelin   \\\\\n",
       "\t George Harrison & The Beatles    \\\\\n",
       "\t John Lennon     & The Beatles    \\\\\n",
       "\\end{tabular}\n"
      ],
      "text/markdown": [
       "\n",
       "name | band | \n",
       "|---|---|---|\n",
       "| Jimmy Page      | Led Zeppelin    | \n",
       "| George Harrison | The Beatles     | \n",
       "| John Lennon     | The Beatles     | \n",
       "\n",
       "\n"
      ],
      "text/plain": [
       "  name            band        \n",
       "1 Jimmy Page      Led Zeppelin\n",
       "2 George Harrison The Beatles \n",
       "3 John Lennon     The Beatles "
      ]
     },
     "metadata": {},
     "output_type": "display_data"
    }
   ],
   "source": [
    "# Find guitarists in bands dataset (don't change)\n",
    "temp <- left_join(bands, artists, by = c(\"first\", \"last\"))\n",
    "temp <- filter(temp, instrument == \"Guitar\")\n",
    "x <- select(temp, first, last, band)\n",
    "\n",
    "# Reproduce code above using pipes\n",
    "bands0 %>% left_join(artists0, by = \"name\") %>% filter(instrument == \"Guitar\") %>% select(name, band)"
   ]
  },
  {
   "cell_type": "code",
   "execution_count": 43,
   "metadata": {},
   "outputs": [
    {
     "data": {
      "text/html": [
       "<table>\n",
       "<thead><tr><th scope=col>name</th><th scope=col>instrument</th><th scope=col>band</th><th scope=col>song</th><th scope=col>album</th></tr></thead>\n",
       "<tbody>\n",
       "\t<tr><td>Tom Jones           </td><td>Vocals              </td><td>NA                  </td><td>It's Not Unusual    </td><td>Along Came Jones    </td></tr>\n",
       "\t<tr><td>John Lennon         </td><td>Guitar              </td><td>The Beatles         </td><td>Come Together       </td><td>Abbey Road          </td></tr>\n",
       "\t<tr><td>Paul McCartney      </td><td>  Bass              </td><td>NA                  </td><td>Hello, Goodbye      </td><td>Magical Mystery Tour</td></tr>\n",
       "</tbody>\n",
       "</table>\n"
      ],
      "text/latex": [
       "\\begin{tabular}{r|lllll}\n",
       " name & instrument & band & song & album\\\\\n",
       "\\hline\n",
       "\t Tom Jones            & Vocals               & NA                   & It's Not Unusual     & Along Came Jones    \\\\\n",
       "\t John Lennon          & Guitar               & The Beatles          & Come Together        & Abbey Road          \\\\\n",
       "\t Paul McCartney       &   Bass               & NA                   & Hello, Goodbye       & Magical Mystery Tour\\\\\n",
       "\\end{tabular}\n"
      ],
      "text/markdown": [
       "\n",
       "name | instrument | band | song | album | \n",
       "|---|---|---|\n",
       "| Tom Jones            | Vocals               | NA                   | It's Not Unusual     | Along Came Jones     | \n",
       "| John Lennon          | Guitar               | The Beatles          | Come Together        | Abbey Road           | \n",
       "| Paul McCartney       |   Bass               | NA                   | Hello, Goodbye       | Magical Mystery Tour | \n",
       "\n",
       "\n"
      ],
      "text/plain": [
       "  name           instrument band        song             album               \n",
       "1 Tom Jones      Vocals     NA          It's Not Unusual Along Came Jones    \n",
       "2 John Lennon    Guitar     The Beatles Come Together    Abbey Road          \n",
       "3 Paul McCartney   Bass     NA          Hello, Goodbye   Magical Mystery Tour"
      ]
     },
     "metadata": {},
     "output_type": "display_data"
    }
   ],
   "source": [
    "artists0 %>% full_join(bands0, by = \"name\") %>% inner_join(songs, by = \"name\")"
   ]
  },
  {
   "cell_type": "code",
   "execution_count": 49,
   "metadata": {},
   "outputs": [
    {
     "data": {
      "text/html": [
       "<table>\n",
       "<thead><tr><th scope=col>name</th><th scope=col>instrument</th><th scope=col>band</th><th scope=col>song</th><th scope=col>album</th><th scope=col>year</th></tr></thead>\n",
       "<tbody>\n",
       "\t<tr><td>Jimmy Buffett            </td><td>Guitar                   </td><td>NA                       </td><td>NA                       </td><td>NA                       </td><td>  NA                     </td></tr>\n",
       "\t<tr><td>George Harrison          </td><td>Guitar                   </td><td>The Beatles              </td><td>NA                       </td><td>NA                       </td><td>  NA                     </td></tr>\n",
       "\t<tr><td>Mick Jagger              </td><td>Vocals                   </td><td>NA                       </td><td>NA                       </td><td>NA                       </td><td>  NA                     </td></tr>\n",
       "\t<tr><td>Tom Jones                </td><td>Vocals                   </td><td>NA                       </td><td>It's Not Unusual         </td><td>Along Came Jones         </td><td>  NA                     </td></tr>\n",
       "\t<tr><td>Davy Jones               </td><td>Vocals                   </td><td>NA                       </td><td>NA                       </td><td>NA                       </td><td>  NA                     </td></tr>\n",
       "\t<tr><td>John Lennon              </td><td>Guitar                   </td><td>The Beatles              </td><td>Come Together            </td><td>Abbey Road               </td><td>1969                     </td></tr>\n",
       "\t<tr><td>Paul McCartney           </td><td>  Bass                   </td><td>NA                       </td><td>Hello, Goodbye           </td><td>Magical Mystery Tour     </td><td>  NA                     </td></tr>\n",
       "\t<tr><td>Jimmy Page               </td><td>Guitar                   </td><td>Led Zeppelin             </td><td>NA                       </td><td>NA                       </td><td>  NA                     </td></tr>\n",
       "\t<tr><td>Joe Perry                </td><td>Guitar                   </td><td>NA                       </td><td>NA                       </td><td>NA                       </td><td>  NA                     </td></tr>\n",
       "\t<tr><td>Elvis Presley            </td><td>Vocals                   </td><td>NA                       </td><td>NA                       </td><td>NA                       </td><td>  NA                     </td></tr>\n",
       "\t<tr><td>John Bonham              </td><td>NA                       </td><td>Led Zeppelin             </td><td>NA                       </td><td>NA                       </td><td>  NA                     </td></tr>\n",
       "\t<tr><td>John Paul Jones          </td><td>NA                       </td><td>Led Zeppelin             </td><td>NA                       </td><td>NA                       </td><td>  NA                     </td></tr>\n",
       "\t<tr><td>Robert Plant             </td><td>NA                       </td><td>Led Zeppelin             </td><td>NA                       </td><td>NA                       </td><td>  NA                     </td></tr>\n",
       "\t<tr><td>Steven Tyler             </td><td>NA                       </td><td>NA                       </td><td>Dream On                 </td><td>Aerosmith                </td><td>  NA                     </td></tr>\n",
       "\t<tr><td>NA                       </td><td>NA                       </td><td>The Beatles              </td><td>NA                       </td><td>A Hard Day's Night       </td><td>1964                     </td></tr>\n",
       "\t<tr><td>NA                       </td><td>NA                       </td><td>The Beatles              </td><td>NA                       </td><td>Magical Mystery Tour     </td><td>1967                     </td></tr>\n",
       "\t<tr><td>NA                       </td><td>NA                       </td><td>The Rolling Stones       </td><td>NA                       </td><td>Beggar's Banquet         </td><td>1968                     </td></tr>\n",
       "\t<tr><td>NA                       </td><td>NA                       </td><td>Led Zeppelin             </td><td>NA                       </td><td>Led Zeppelin IV          </td><td>1971                     </td></tr>\n",
       "\t<tr><td>NA                       </td><td>NA                       </td><td> Pink Floyd              </td><td>NA                       </td><td>The Dark Side of the Moon</td><td>1973                     </td></tr>\n",
       "</tbody>\n",
       "</table>\n"
      ],
      "text/latex": [
       "\\begin{tabular}{r|llllll}\n",
       " name & instrument & band & song & album & year\\\\\n",
       "\\hline\n",
       "\t Jimmy Buffett             & Guitar                    & NA                        & NA                        & NA                        &   NA                     \\\\\n",
       "\t George Harrison           & Guitar                    & The Beatles               & NA                        & NA                        &   NA                     \\\\\n",
       "\t Mick Jagger               & Vocals                    & NA                        & NA                        & NA                        &   NA                     \\\\\n",
       "\t Tom Jones                 & Vocals                    & NA                        & It's Not Unusual          & Along Came Jones          &   NA                     \\\\\n",
       "\t Davy Jones                & Vocals                    & NA                        & NA                        & NA                        &   NA                     \\\\\n",
       "\t John Lennon               & Guitar                    & The Beatles               & Come Together             & Abbey Road                & 1969                     \\\\\n",
       "\t Paul McCartney            &   Bass                    & NA                        & Hello, Goodbye            & Magical Mystery Tour      &   NA                     \\\\\n",
       "\t Jimmy Page                & Guitar                    & Led Zeppelin              & NA                        & NA                        &   NA                     \\\\\n",
       "\t Joe Perry                 & Guitar                    & NA                        & NA                        & NA                        &   NA                     \\\\\n",
       "\t Elvis Presley             & Vocals                    & NA                        & NA                        & NA                        &   NA                     \\\\\n",
       "\t John Bonham               & NA                        & Led Zeppelin              & NA                        & NA                        &   NA                     \\\\\n",
       "\t John Paul Jones           & NA                        & Led Zeppelin              & NA                        & NA                        &   NA                     \\\\\n",
       "\t Robert Plant              & NA                        & Led Zeppelin              & NA                        & NA                        &   NA                     \\\\\n",
       "\t Steven Tyler              & NA                        & NA                        & Dream On                  & Aerosmith                 &   NA                     \\\\\n",
       "\t NA                        & NA                        & The Beatles               & NA                        & A Hard Day's Night        & 1964                     \\\\\n",
       "\t NA                        & NA                        & The Beatles               & NA                        & Magical Mystery Tour      & 1967                     \\\\\n",
       "\t NA                        & NA                        & The Rolling Stones        & NA                        & Beggar's Banquet          & 1968                     \\\\\n",
       "\t NA                        & NA                        & Led Zeppelin              & NA                        & Led Zeppelin IV           & 1971                     \\\\\n",
       "\t NA                        & NA                        &  Pink Floyd               & NA                        & The Dark Side of the Moon & 1973                     \\\\\n",
       "\\end{tabular}\n"
      ],
      "text/markdown": [
       "\n",
       "name | instrument | band | song | album | year | \n",
       "|---|---|---|---|---|---|---|---|---|---|---|---|---|---|---|---|---|---|---|\n",
       "| Jimmy Buffett             | Guitar                    | NA                        | NA                        | NA                        |   NA                      | \n",
       "| George Harrison           | Guitar                    | The Beatles               | NA                        | NA                        |   NA                      | \n",
       "| Mick Jagger               | Vocals                    | NA                        | NA                        | NA                        |   NA                      | \n",
       "| Tom Jones                 | Vocals                    | NA                        | It's Not Unusual          | Along Came Jones          |   NA                      | \n",
       "| Davy Jones                | Vocals                    | NA                        | NA                        | NA                        |   NA                      | \n",
       "| John Lennon               | Guitar                    | The Beatles               | Come Together             | Abbey Road                | 1969                      | \n",
       "| Paul McCartney            |   Bass                    | NA                        | Hello, Goodbye            | Magical Mystery Tour      |   NA                      | \n",
       "| Jimmy Page                | Guitar                    | Led Zeppelin              | NA                        | NA                        |   NA                      | \n",
       "| Joe Perry                 | Guitar                    | NA                        | NA                        | NA                        |   NA                      | \n",
       "| Elvis Presley             | Vocals                    | NA                        | NA                        | NA                        |   NA                      | \n",
       "| John Bonham               | NA                        | Led Zeppelin              | NA                        | NA                        |   NA                      | \n",
       "| John Paul Jones           | NA                        | Led Zeppelin              | NA                        | NA                        |   NA                      | \n",
       "| Robert Plant              | NA                        | Led Zeppelin              | NA                        | NA                        |   NA                      | \n",
       "| Steven Tyler              | NA                        | NA                        | Dream On                  | Aerosmith                 |   NA                      | \n",
       "| NA                        | NA                        | The Beatles               | NA                        | A Hard Day's Night        | 1964                      | \n",
       "| NA                        | NA                        | The Beatles               | NA                        | Magical Mystery Tour      | 1967                      | \n",
       "| NA                        | NA                        | The Rolling Stones        | NA                        | Beggar's Banquet          | 1968                      | \n",
       "| NA                        | NA                        | Led Zeppelin              | NA                        | Led Zeppelin IV           | 1971                      | \n",
       "| NA                        | NA                        |  Pink Floyd               | NA                        | The Dark Side of the Moon | 1973                      | \n",
       "\n",
       "\n"
      ],
      "text/plain": [
       "   name            instrument band               song            \n",
       "1  Jimmy Buffett   Guitar     NA                 NA              \n",
       "2  George Harrison Guitar     The Beatles        NA              \n",
       "3  Mick Jagger     Vocals     NA                 NA              \n",
       "4  Tom Jones       Vocals     NA                 It's Not Unusual\n",
       "5  Davy Jones      Vocals     NA                 NA              \n",
       "6  John Lennon     Guitar     The Beatles        Come Together   \n",
       "7  Paul McCartney    Bass     NA                 Hello, Goodbye  \n",
       "8  Jimmy Page      Guitar     Led Zeppelin       NA              \n",
       "9  Joe Perry       Guitar     NA                 NA              \n",
       "10 Elvis Presley   Vocals     NA                 NA              \n",
       "11 John Bonham     NA         Led Zeppelin       NA              \n",
       "12 John Paul Jones NA         Led Zeppelin       NA              \n",
       "13 Robert Plant    NA         Led Zeppelin       NA              \n",
       "14 Steven Tyler    NA         NA                 Dream On        \n",
       "15 NA              NA         The Beatles        NA              \n",
       "16 NA              NA         The Beatles        NA              \n",
       "17 NA              NA         The Rolling Stones NA              \n",
       "18 NA              NA         Led Zeppelin       NA              \n",
       "19 NA              NA          Pink Floyd        NA              \n",
       "   album                     year\n",
       "1  NA                          NA\n",
       "2  NA                          NA\n",
       "3  NA                          NA\n",
       "4  Along Came Jones            NA\n",
       "5  NA                          NA\n",
       "6  Abbey Road                1969\n",
       "7  Magical Mystery Tour        NA\n",
       "8  NA                          NA\n",
       "9  NA                          NA\n",
       "10 NA                          NA\n",
       "11 NA                          NA\n",
       "12 NA                          NA\n",
       "13 NA                          NA\n",
       "14 Aerosmith                   NA\n",
       "15 A Hard Day's Night        1964\n",
       "16 Magical Mystery Tour      1967\n",
       "17 Beggar's Banquet          1968\n",
       "18 Led Zeppelin IV           1971\n",
       "19 The Dark Side of the Moon 1973"
      ]
     },
     "metadata": {},
     "output_type": "display_data"
    }
   ],
   "source": [
    "# Create one table that combines all information\n",
    "artists0 %>%\n",
    "  full_join(bands0, by = \"name\") %>%\n",
    "  full_join(songs, by = \"name\") %>%\n",
    "  full_join(albums, by = c(\"album\", \"band\"))"
   ]
  },
  {
   "cell_type": "markdown",
   "metadata": {},
   "source": [
    "## Ch2: Filtering joins and set operations\n",
    "**Filtering Joins:** semi_join, anti_join\n",
    "**Set Operations:** union, intersect, setdiff\n",
    "**Comparisions:** setequal\n",
    "\n",
    "*  semi_join(x, y) keeps all observations in x that have a match in y.\n",
    "*  anti_join(x, y) drops all observations in x that have a match in y.\n",
    "\n",
    "### Semi-join\n",
    "semi join is like a right join, but it doesn't add any new rows and columns from the matched dataset (from table on the right)! \n",
    "*  to achieve the same result, one would need to apply right join, filter out NAs and select only columns that appear in the left table:"
   ]
  },
  {
   "cell_type": "code",
   "execution_count": null,
   "metadata": {},
   "outputs": [],
   "source": [
    "# View the output of semi_join()\n",
    "artists %>% \n",
    "  semi_join(songs, by = c(\"first\", \"last\"))\n",
    "\n",
    "# Create the same result\n",
    "artists %>% \n",
    "  right_join(songs, by = c(\"first\", \"last\")) %>% \n",
    "  filter(!is.na(instrument) ) %>% \n",
    "  select(first, last, instrument)"
   ]
  },
  {
   "cell_type": "code",
   "execution_count": null,
   "metadata": {},
   "outputs": [],
   "source": [
    "albums %>% \n",
    "  # Collect the albums made by a band\n",
    "  semi_join(bands, by = \"band\") %>% \n",
    "  # Count the albums made by a band\n",
    "  nrow()"
   ]
  },
  {
   "cell_type": "markdown",
   "metadata": {},
   "source": [
    "### Anti-join\n",
    "*  you can use an anti-join to see which rows will not be matched to a second dataset by a join.\n",
    "*  anti_join() also shows what went wrong in a join. Ex. to zero-in on rows that have capitalization or spelling errors in the keys. These things will make your primary and secondary keys appear different to R, even though you know they refer to the same thing.\n",
    "    *  You can think of anti-join as a debugging tactic for joins."
   ]
  },
  {
   "cell_type": "code",
   "execution_count": null,
   "metadata": {},
   "outputs": [],
   "source": [
    "# Return rows of artists that don't have bands info\n",
    "artists %>% anti_join(bands, by = c(\"first\", \"last\"))"
   ]
  },
  {
   "cell_type": "code",
   "execution_count": null,
   "metadata": {},
   "outputs": [],
   "source": [
    "# Check whether album names in labels are mis-entered\n",
    "labels %>% anti_join(albums, by = \"album\")"
   ]
  },
  {
   "cell_type": "markdown",
   "metadata": {},
   "source": [
    "### Semi-join vs. Anti-join\n",
    "Which filtering join would you use to determine how many rows in songs match a label in labels?"
   ]
  },
  {
   "cell_type": "code",
   "execution_count": null,
   "metadata": {},
   "outputs": [],
   "source": [
    "songs %>% semi_join(labels, by = \"album\") %>% nrow()"
   ]
  },
  {
   "cell_type": "markdown",
   "metadata": {},
   "source": [
    "### Set operations\n",
    "They are **used least frequently**, but they are occasionally useful when you want to break a single complex filter into simpler pieces. All these operations work with a complete row, comparing the values of every variable. These **expect x and y inputs to have the same variables**, and treat the observations like sets:\n",
    "*  **union(x,y)** will return every row that appears in one or more of the datasets: x OR y\n",
    "    *  If a row appears multiple times union will only return it once i.e. duplicates are removed\n",
    "*  **interesect(x,y)** will return only the rows that appear in both datasets: x AND y \n",
    "    *  duplicates are removed!\n",
    "*  **setdiff(x,y)** will return the rows that appear in the first dataset but not the second: x-y"
   ]
  },
  {
   "cell_type": "code",
   "execution_count": 51,
   "metadata": {},
   "outputs": [
    {
     "data": {
      "text/html": [
       "<table>\n",
       "<thead><tr><th scope=col>x</th><th scope=col>y</th></tr></thead>\n",
       "<tbody>\n",
       "\t<tr><td>1</td><td>1</td></tr>\n",
       "\t<tr><td>2</td><td>1</td></tr>\n",
       "</tbody>\n",
       "</table>\n"
      ],
      "text/latex": [
       "\\begin{tabular}{r|ll}\n",
       " x & y\\\\\n",
       "\\hline\n",
       "\t 1 & 1\\\\\n",
       "\t 2 & 1\\\\\n",
       "\\end{tabular}\n"
      ],
      "text/markdown": [
       "\n",
       "x | y | \n",
       "|---|---|\n",
       "| 1 | 1 | \n",
       "| 2 | 1 | \n",
       "\n",
       "\n"
      ],
      "text/plain": [
       "  x y\n",
       "1 1 1\n",
       "2 2 1"
      ]
     },
     "metadata": {},
     "output_type": "display_data"
    },
    {
     "data": {
      "text/html": [
       "<table>\n",
       "<thead><tr><th scope=col>x</th><th scope=col>y</th></tr></thead>\n",
       "<tbody>\n",
       "\t<tr><td>1</td><td>1</td></tr>\n",
       "\t<tr><td>1</td><td>2</td></tr>\n",
       "</tbody>\n",
       "</table>\n"
      ],
      "text/latex": [
       "\\begin{tabular}{r|ll}\n",
       " x & y\\\\\n",
       "\\hline\n",
       "\t 1 & 1\\\\\n",
       "\t 1 & 2\\\\\n",
       "\\end{tabular}\n"
      ],
      "text/markdown": [
       "\n",
       "x | y | \n",
       "|---|---|\n",
       "| 1 | 1 | \n",
       "| 1 | 2 | \n",
       "\n",
       "\n"
      ],
      "text/plain": [
       "  x y\n",
       "1 1 1\n",
       "2 1 2"
      ]
     },
     "metadata": {},
     "output_type": "display_data"
    }
   ],
   "source": [
    "(df1 <- tribble(~x, ~y, 1, 1, 2, 1))\n",
    "(df2 <- tribble(~x, ~y, 1, 1, 1, 2))"
   ]
  },
  {
   "cell_type": "code",
   "execution_count": 52,
   "metadata": {},
   "outputs": [
    {
     "data": {
      "text/html": [
       "<table>\n",
       "<thead><tr><th scope=col>x</th><th scope=col>y</th></tr></thead>\n",
       "<tbody>\n",
       "\t<tr><td>1</td><td>1</td></tr>\n",
       "</tbody>\n",
       "</table>\n"
      ],
      "text/latex": [
       "\\begin{tabular}{r|ll}\n",
       " x & y\\\\\n",
       "\\hline\n",
       "\t 1 & 1\\\\\n",
       "\\end{tabular}\n"
      ],
      "text/markdown": [
       "\n",
       "x | y | \n",
       "|---|\n",
       "| 1 | 1 | \n",
       "\n",
       "\n"
      ],
      "text/plain": [
       "  x y\n",
       "1 1 1"
      ]
     },
     "metadata": {},
     "output_type": "display_data"
    },
    {
     "data": {
      "text/html": [
       "<table>\n",
       "<thead><tr><th scope=col>x</th><th scope=col>y</th></tr></thead>\n",
       "<tbody>\n",
       "\t<tr><td>1</td><td>2</td></tr>\n",
       "\t<tr><td>2</td><td>1</td></tr>\n",
       "\t<tr><td>1</td><td>1</td></tr>\n",
       "</tbody>\n",
       "</table>\n"
      ],
      "text/latex": [
       "\\begin{tabular}{r|ll}\n",
       " x & y\\\\\n",
       "\\hline\n",
       "\t 1 & 2\\\\\n",
       "\t 2 & 1\\\\\n",
       "\t 1 & 1\\\\\n",
       "\\end{tabular}\n"
      ],
      "text/markdown": [
       "\n",
       "x | y | \n",
       "|---|---|---|\n",
       "| 1 | 2 | \n",
       "| 2 | 1 | \n",
       "| 1 | 1 | \n",
       "\n",
       "\n"
      ],
      "text/plain": [
       "  x y\n",
       "1 1 2\n",
       "2 2 1\n",
       "3 1 1"
      ]
     },
     "metadata": {},
     "output_type": "display_data"
    },
    {
     "data": {
      "text/html": [
       "<table>\n",
       "<thead><tr><th scope=col>x</th><th scope=col>y</th></tr></thead>\n",
       "<tbody>\n",
       "\t<tr><td>2</td><td>1</td></tr>\n",
       "</tbody>\n",
       "</table>\n"
      ],
      "text/latex": [
       "\\begin{tabular}{r|ll}\n",
       " x & y\\\\\n",
       "\\hline\n",
       "\t 2 & 1\\\\\n",
       "\\end{tabular}\n"
      ],
      "text/markdown": [
       "\n",
       "x | y | \n",
       "|---|\n",
       "| 2 | 1 | \n",
       "\n",
       "\n"
      ],
      "text/plain": [
       "  x y\n",
       "1 2 1"
      ]
     },
     "metadata": {},
     "output_type": "display_data"
    },
    {
     "data": {
      "text/html": [
       "<table>\n",
       "<thead><tr><th scope=col>x</th><th scope=col>y</th></tr></thead>\n",
       "<tbody>\n",
       "\t<tr><td>1</td><td>2</td></tr>\n",
       "</tbody>\n",
       "</table>\n"
      ],
      "text/latex": [
       "\\begin{tabular}{r|ll}\n",
       " x & y\\\\\n",
       "\\hline\n",
       "\t 1 & 2\\\\\n",
       "\\end{tabular}\n"
      ],
      "text/markdown": [
       "\n",
       "x | y | \n",
       "|---|\n",
       "| 1 | 2 | \n",
       "\n",
       "\n"
      ],
      "text/plain": [
       "  x y\n",
       "1 1 2"
      ]
     },
     "metadata": {},
     "output_type": "display_data"
    }
   ],
   "source": [
    "intersect(df1, df2)\n",
    "union(df1, df2)\n",
    "setdiff(df1, df2)\n",
    "setdiff(df2, df1)"
   ]
  },
  {
   "cell_type": "markdown",
   "metadata": {},
   "source": [
    "### How many songs are there?\n",
    "*  aerosmith and greatest_hits represents albums from the band Aerosmith. Each row in either of the datasets is a song on that album. \n",
    "*  How many unique songs do these two albums contain in total?"
   ]
  },
  {
   "cell_type": "code",
   "execution_count": 53,
   "metadata": {},
   "outputs": [
    {
     "data": {
      "text/html": [
       "<table>\n",
       "<thead><tr><th scope=col>song</th><th scope=col>length</th></tr></thead>\n",
       "<tbody>\n",
       "\t<tr><td>Make It          </td><td>3:41             </td></tr>\n",
       "\t<tr><td>Somebody         </td><td>3:45             </td></tr>\n",
       "\t<tr><td>Dream On         </td><td>4:28             </td></tr>\n",
       "\t<tr><td>One Way Street   </td><td>7:00             </td></tr>\n",
       "\t<tr><td>Mama Kin         </td><td>4:25             </td></tr>\n",
       "\t<tr><td>Write me a Letter</td><td>4:11             </td></tr>\n",
       "\t<tr><td>Moving Out       </td><td>5:03             </td></tr>\n",
       "\t<tr><td>Walking the Dog  </td><td>3:12             </td></tr>\n",
       "</tbody>\n",
       "</table>\n"
      ],
      "text/latex": [
       "\\begin{tabular}{r|ll}\n",
       " song & length\\\\\n",
       "\\hline\n",
       "\t Make It           & 3:41             \\\\\n",
       "\t Somebody          & 3:45             \\\\\n",
       "\t Dream On          & 4:28             \\\\\n",
       "\t One Way Street    & 7:00             \\\\\n",
       "\t Mama Kin          & 4:25             \\\\\n",
       "\t Write me a Letter & 4:11             \\\\\n",
       "\t Moving Out        & 5:03             \\\\\n",
       "\t Walking the Dog   & 3:12             \\\\\n",
       "\\end{tabular}\n"
      ],
      "text/markdown": [
       "\n",
       "song | length | \n",
       "|---|---|---|---|---|---|---|---|\n",
       "| Make It           | 3:41              | \n",
       "| Somebody          | 3:45              | \n",
       "| Dream On          | 4:28              | \n",
       "| One Way Street    | 7:00              | \n",
       "| Mama Kin          | 4:25              | \n",
       "| Write me a Letter | 4:11              | \n",
       "| Moving Out        | 5:03              | \n",
       "| Walking the Dog   | 3:12              | \n",
       "\n",
       "\n"
      ],
      "text/plain": [
       "  song              length\n",
       "1 Make It           3:41  \n",
       "2 Somebody          3:45  \n",
       "3 Dream On          4:28  \n",
       "4 One Way Street    7:00  \n",
       "5 Mama Kin          4:25  \n",
       "6 Write me a Letter 4:11  \n",
       "7 Moving Out        5:03  \n",
       "8 Walking the Dog   3:12  "
      ]
     },
     "metadata": {},
     "output_type": "display_data"
    },
    {
     "data": {
      "text/html": [
       "<table>\n",
       "<thead><tr><th scope=col>song</th><th scope=col>length</th></tr></thead>\n",
       "<tbody>\n",
       "\t<tr><td>Dream On                      </td><td>4:28                          </td></tr>\n",
       "\t<tr><td>Mama Kin                      </td><td>4:27                          </td></tr>\n",
       "\t<tr><td>Same Old Song and Dance       </td><td>3:04                          </td></tr>\n",
       "\t<tr><td>Seasons of Winter             </td><td>4:57                          </td></tr>\n",
       "\t<tr><td>Sweet Emotion                 </td><td>3:15                          </td></tr>\n",
       "\t<tr><td>Walk this Way                 </td><td>3:33                          </td></tr>\n",
       "\t<tr><td>Big Ten Inch Record           </td><td>2:15                          </td></tr>\n",
       "\t<tr><td>Last Child                    </td><td>3:28                          </td></tr>\n",
       "\t<tr><td>Back in the Saddle            </td><td>4:41                          </td></tr>\n",
       "\t<tr><td>Draw the Line                 </td><td>3:24                          </td></tr>\n",
       "\t<tr><td>Kings and Queens              </td><td>3:48                          </td></tr>\n",
       "\t<tr><td>Come Together                 </td><td>3:47                          </td></tr>\n",
       "\t<tr><td>Remember (Walking in the Sand)</td><td>4:05                          </td></tr>\n",
       "\t<tr><td>Lightning Strikes             </td><td>4:28                          </td></tr>\n",
       "\t<tr><td>Chip Away the Stone           </td><td>4:01                          </td></tr>\n",
       "\t<tr><td>Sweet Emotion (remix)         </td><td>4:36                          </td></tr>\n",
       "\t<tr><td>One Way Street (live)         </td><td>6:40                          </td></tr>\n",
       "</tbody>\n",
       "</table>\n"
      ],
      "text/latex": [
       "\\begin{tabular}{r|ll}\n",
       " song & length\\\\\n",
       "\\hline\n",
       "\t Dream On                       & 4:28                          \\\\\n",
       "\t Mama Kin                       & 4:27                          \\\\\n",
       "\t Same Old Song and Dance        & 3:04                          \\\\\n",
       "\t Seasons of Winter              & 4:57                          \\\\\n",
       "\t Sweet Emotion                  & 3:15                          \\\\\n",
       "\t Walk this Way                  & 3:33                          \\\\\n",
       "\t Big Ten Inch Record            & 2:15                          \\\\\n",
       "\t Last Child                     & 3:28                          \\\\\n",
       "\t Back in the Saddle             & 4:41                          \\\\\n",
       "\t Draw the Line                  & 3:24                          \\\\\n",
       "\t Kings and Queens               & 3:48                          \\\\\n",
       "\t Come Together                  & 3:47                          \\\\\n",
       "\t Remember (Walking in the Sand) & 4:05                          \\\\\n",
       "\t Lightning Strikes              & 4:28                          \\\\\n",
       "\t Chip Away the Stone            & 4:01                          \\\\\n",
       "\t Sweet Emotion (remix)          & 4:36                          \\\\\n",
       "\t One Way Street (live)          & 6:40                          \\\\\n",
       "\\end{tabular}\n"
      ],
      "text/markdown": [
       "\n",
       "song | length | \n",
       "|---|---|---|---|---|---|---|---|---|---|---|---|---|---|---|---|---|\n",
       "| Dream On                       | 4:28                           | \n",
       "| Mama Kin                       | 4:27                           | \n",
       "| Same Old Song and Dance        | 3:04                           | \n",
       "| Seasons of Winter              | 4:57                           | \n",
       "| Sweet Emotion                  | 3:15                           | \n",
       "| Walk this Way                  | 3:33                           | \n",
       "| Big Ten Inch Record            | 2:15                           | \n",
       "| Last Child                     | 3:28                           | \n",
       "| Back in the Saddle             | 4:41                           | \n",
       "| Draw the Line                  | 3:24                           | \n",
       "| Kings and Queens               | 3:48                           | \n",
       "| Come Together                  | 3:47                           | \n",
       "| Remember (Walking in the Sand) | 4:05                           | \n",
       "| Lightning Strikes              | 4:28                           | \n",
       "| Chip Away the Stone            | 4:01                           | \n",
       "| Sweet Emotion (remix)          | 4:36                           | \n",
       "| One Way Street (live)          | 6:40                           | \n",
       "\n",
       "\n"
      ],
      "text/plain": [
       "   song                           length\n",
       "1  Dream On                       4:28  \n",
       "2  Mama Kin                       4:27  \n",
       "3  Same Old Song and Dance        3:04  \n",
       "4  Seasons of Winter              4:57  \n",
       "5  Sweet Emotion                  3:15  \n",
       "6  Walk this Way                  3:33  \n",
       "7  Big Ten Inch Record            2:15  \n",
       "8  Last Child                     3:28  \n",
       "9  Back in the Saddle             4:41  \n",
       "10 Draw the Line                  3:24  \n",
       "11 Kings and Queens               3:48  \n",
       "12 Come Together                  3:47  \n",
       "13 Remember (Walking in the Sand) 4:05  \n",
       "14 Lightning Strikes              4:28  \n",
       "15 Chip Away the Stone            4:01  \n",
       "16 Sweet Emotion (remix)          4:36  \n",
       "17 One Way Street (live)          6:40  "
      ]
     },
     "metadata": {},
     "output_type": "display_data"
    }
   ],
   "source": [
    "aerosmith = read.csv(\"C:/Users/annaa/data/aerosmith.csv\", sep = \",\", stringsAsFactors = FALSE)\n",
    "greatest_hits = read.csv(\"C:/Users/annaa/data/greatest_hits.csv\", sep = \",\", stringsAsFactors = FALSE)\n",
    "aerosmith\n",
    "greatest_hits"
   ]
  },
  {
   "cell_type": "code",
   "execution_count": 54,
   "metadata": {},
   "outputs": [
    {
     "data": {
      "text/html": [
       "24"
      ],
      "text/latex": [
       "24"
      ],
      "text/markdown": [
       "24"
      ],
      "text/plain": [
       "[1] 24"
      ]
     },
     "metadata": {},
     "output_type": "display_data"
    }
   ],
   "source": [
    "# How many unique songs do these two albums contain in total?\n",
    "aerosmith %>% union(greatest_hits) %>% nrow()"
   ]
  },
  {
   "cell_type": "code",
   "execution_count": 55,
   "metadata": {},
   "outputs": [
    {
     "data": {
      "text/html": [
       "<table>\n",
       "<thead><tr><th scope=col>song</th><th scope=col>length</th></tr></thead>\n",
       "<tbody>\n",
       "\t<tr><td>Dream On</td><td>4:28    </td></tr>\n",
       "</tbody>\n",
       "</table>\n"
      ],
      "text/latex": [
       "\\begin{tabular}{r|ll}\n",
       " song & length\\\\\n",
       "\\hline\n",
       "\t Dream On & 4:28    \\\\\n",
       "\\end{tabular}\n"
      ],
      "text/markdown": [
       "\n",
       "song | length | \n",
       "|---|\n",
       "| Dream On | 4:28     | \n",
       "\n",
       "\n"
      ],
      "text/plain": [
       "  song     length\n",
       "1 Dream On 4:28  "
      ]
     },
     "metadata": {},
     "output_type": "display_data"
    }
   ],
   "source": [
    "# Which songs from Aerosmith made it onto Greatest Hits?\n",
    "aerosmith %>% intersect(greatest_hits)"
   ]
  },
  {
   "cell_type": "code",
   "execution_count": 56,
   "metadata": {},
   "outputs": [
    {
     "data": {
      "text/html": [
       "<table>\n",
       "<thead><tr><th scope=col>song</th><th scope=col>length</th></tr></thead>\n",
       "<tbody>\n",
       "\t<tr><td>Make It          </td><td>3:41             </td></tr>\n",
       "\t<tr><td>Somebody         </td><td>3:45             </td></tr>\n",
       "\t<tr><td>One Way Street   </td><td>7:00             </td></tr>\n",
       "\t<tr><td>Mama Kin         </td><td>4:25             </td></tr>\n",
       "\t<tr><td>Write me a Letter</td><td>4:11             </td></tr>\n",
       "\t<tr><td>Moving Out       </td><td>5:03             </td></tr>\n",
       "\t<tr><td>Walking the Dog  </td><td>3:12             </td></tr>\n",
       "</tbody>\n",
       "</table>\n"
      ],
      "text/latex": [
       "\\begin{tabular}{r|ll}\n",
       " song & length\\\\\n",
       "\\hline\n",
       "\t Make It           & 3:41             \\\\\n",
       "\t Somebody          & 3:45             \\\\\n",
       "\t One Way Street    & 7:00             \\\\\n",
       "\t Mama Kin          & 4:25             \\\\\n",
       "\t Write me a Letter & 4:11             \\\\\n",
       "\t Moving Out        & 5:03             \\\\\n",
       "\t Walking the Dog   & 3:12             \\\\\n",
       "\\end{tabular}\n"
      ],
      "text/markdown": [
       "\n",
       "song | length | \n",
       "|---|---|---|---|---|---|---|\n",
       "| Make It           | 3:41              | \n",
       "| Somebody          | 3:45              | \n",
       "| One Way Street    | 7:00              | \n",
       "| Mama Kin          | 4:25              | \n",
       "| Write me a Letter | 4:11              | \n",
       "| Moving Out        | 5:03              | \n",
       "| Walking the Dog   | 3:12              | \n",
       "\n",
       "\n"
      ],
      "text/plain": [
       "  song              length\n",
       "1 Make It           3:41  \n",
       "2 Somebody          3:45  \n",
       "3 One Way Street    7:00  \n",
       "4 Mama Kin          4:25  \n",
       "5 Write me a Letter 4:11  \n",
       "6 Moving Out        5:03  \n",
       "7 Walking the Dog   3:12  "
      ]
     },
     "metadata": {},
     "output_type": "display_data"
    }
   ],
   "source": [
    "# Which songs from Aerosmith didn't make it onto Greatest Hits?\n",
    "aerosmith %>% setdiff(greatest_hits)"
   ]
  },
  {
   "cell_type": "markdown",
   "metadata": {},
   "source": [
    "### Comparing datasets\n",
    "*  dplyr’s **setequal()** will do this easily, regardless of the order in which rows appear\n",
    "*  base R’s **identical()** will only return true if the datasets have the exact same rows in the exact same order\n",
    "\n",
    "intersect() is analagous to semi_join() when two datasets contain the same variables and each variable is used in the key. Under these conditions, setdiff() is also analagous to one of the filtering joins."
   ]
  },
  {
   "cell_type": "code",
   "execution_count": null,
   "metadata": {},
   "outputs": [],
   "source": [
    "# Return songs in definitive that are not in complete\n",
    "definitive %>% anti_join(complete)\n",
    "\n",
    "# Return songs in complete that are not in definitive\n",
    "complete %>% anti_join(definitive)\n",
    "\n",
    "# Check if same order: definitive and union of complete and soundtrack\n",
    "union(complete, soundtrack) %>% identical(definitive) # FALSE\n",
    "\n",
    "# Check if any order: definitive and union of complete and soundtrack\n",
    "union(complete, soundtrack) %>% setequal(definitive) # TRUE"
   ]
  },
  {
   "cell_type": "markdown",
   "metadata": {},
   "source": [
    "## Ch3: Assembling data\n",
    "**base R binds:** rbind(), cbind()\n",
    "**dplyr binds:** bind_rows(), bind_cols()\n",
    "\n",
    "**Advantages of dplyr versions:**\n",
    "*  faster\n",
    "*  they always return a tibble (advanced data frame with class tbl_df)\n",
    "*  can handle lists of dataframes as input\n",
    "*  .id argument in bind_rows allows you to pass in a name for each source dataframe so that we know where each row came from\n",
    "    *  will be added as a column to the result dataset\n",
    "    *  this is handy when one of the variables for the data set is stored in the table name.\n",
    "    *  ex. hourly weather data for different days\n",
    "*  rbind will return an error if the column names do not match exactly. != **bind_rows** will create a column for each unique column and distribute NAs appropriately\n",
    "\n",
    "**Danger:** The biggest risk when using bind_cols is that the observations may not align across the rows of your data frame\n",
    "\n",
    "### Build a better data frame\n",
    "*  R Base way to create a dataframe **data.frame() and as.data.frame()**\n",
    "*  dplyr way to create a dataframe: **data_frame() and as_data_frame()**\n",
    "*  **Advantages of using dplyr version:**\n",
    "    *  will never change the data type of a vector. (e.g. strings to factors)\n",
    "    *  will never add row names\n",
    "    *  will not change unusual column names\n",
    "    *  only recycles length 1 inputs\n",
    "    *  evaluate lazily and in order. (So you can reference a column in the next column definition)\n",
    "    *  outputs a tibble (class tbl_df)\n",
    "*  as_data_frame does all these same things - it's just used on a list of columns"
   ]
  },
  {
   "cell_type": "code",
   "execution_count": null,
   "metadata": {},
   "outputs": [],
   "source": [
    "# Bind side_one and side_two into a single dataset\n",
    "side_one %>% bind_rows(side_two)"
   ]
  },
  {
   "cell_type": "markdown",
   "metadata": {},
   "source": [
    "## Ch4: Advanced joining"
   ]
  },
  {
   "cell_type": "markdown",
   "metadata": {},
   "source": [
    "## Ch5: Case study\n",
    "http://www.rpubs.com/williamsurles/293454 "
   ]
  }
 ],
 "metadata": {
  "kernelspec": {
   "display_name": "R",
   "language": "R",
   "name": "ir"
  },
  "language_info": {
   "codemirror_mode": "r",
   "file_extension": ".r",
   "mimetype": "text/x-r-source",
   "name": "R",
   "pygments_lexer": "r",
   "version": "3.4.3"
  },
  "toc": {
   "nav_menu": {},
   "number_sections": true,
   "sideBar": true,
   "skip_h1_title": true,
   "title_cell": "Table of Contents",
   "title_sidebar": "Table of Contents",
   "toc_cell": true,
   "toc_position": {},
   "toc_section_display": true,
   "toc_window_display": true
  },
  "varInspector": {
   "cols": {
    "lenName": 16,
    "lenType": 16,
    "lenVar": 40
   },
   "kernels_config": {
    "python": {
     "delete_cmd_postfix": "",
     "delete_cmd_prefix": "del ",
     "library": "var_list.py",
     "varRefreshCmd": "print(var_dic_list())"
    },
    "r": {
     "delete_cmd_postfix": ") ",
     "delete_cmd_prefix": "rm(",
     "library": "var_list.r",
     "varRefreshCmd": "cat(var_dic_list()) "
    }
   },
   "types_to_exclude": [
    "module",
    "function",
    "builtin_function_or_method",
    "instance",
    "_Feature"
   ],
   "window_display": false
  }
 },
 "nbformat": 4,
 "nbformat_minor": 2
}
