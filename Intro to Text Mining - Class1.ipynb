{
 "cells": [
  {
   "cell_type": "markdown",
   "metadata": {
    "toc": true
   },
   "source": [
    "<h1>Table of Contents<span class=\"tocSkip\"></span></h1>\n",
    "<div class=\"toc\"><ul class=\"toc-item\"><li><span><a href=\"#Definitions\" data-toc-modified-id=\"Definitions-1\"><span class=\"toc-item-num\">1&nbsp;&nbsp;</span>Definitions</a></span></li><li><span><a href=\"#Base-R---no-extra-packages\" data-toc-modified-id=\"Base-R---no-extra-packages-2\"><span class=\"toc-item-num\">2&nbsp;&nbsp;</span>Base R - no extra packages</a></span><ul class=\"toc-item\"><li><span><a href=\"#Simple-preprocessing\" data-toc-modified-id=\"Simple-preprocessing-2.1\"><span class=\"toc-item-num\">2.1&nbsp;&nbsp;</span>Simple preprocessing</a></span></li><li><span><a href=\"#Basic-comparisons---Top-20-words\" data-toc-modified-id=\"Basic-comparisons---Top-20-words-2.2\"><span class=\"toc-item-num\">2.2&nbsp;&nbsp;</span>Basic comparisons - Top 20 words</a></span></li></ul></li><li><span><a href=\"#How-to-go-beyond-the-basics?\" data-toc-modified-id=\"How-to-go-beyond-the-basics?-3\"><span class=\"toc-item-num\">3&nbsp;&nbsp;</span>How to go beyond the basics?</a></span><ul class=\"toc-item\"><li><span><a href=\"#Document-term-matrix\" data-toc-modified-id=\"Document-term-matrix-3.1\"><span class=\"toc-item-num\">3.1&nbsp;&nbsp;</span>Document term matrix</a></span></li><li><span><a href=\"#Computing-word-count-differences\" data-toc-modified-id=\"Computing-word-count-differences-3.2\"><span class=\"toc-item-num\">3.2&nbsp;&nbsp;</span>Computing word count differences</a></span></li><li><span><a href=\"#Computing-correlations\" data-toc-modified-id=\"Computing-correlations-3.3\"><span class=\"toc-item-num\">3.3&nbsp;&nbsp;</span>Computing correlations</a></span></li><li><span><a href=\"#Bag-of-foolishness\" data-toc-modified-id=\"Bag-of-foolishness-3.4\"><span class=\"toc-item-num\">3.4&nbsp;&nbsp;</span>Bag of foolishness</a></span></li><li><span><a href=\"#Wordclouds\" data-toc-modified-id=\"Wordclouds-3.5\"><span class=\"toc-item-num\">3.5&nbsp;&nbsp;</span>Wordclouds</a></span></li></ul></li><li><span><a href=\"#Tidy-Text-Format:-package-tidytext\" data-toc-modified-id=\"Tidy-Text-Format:-package-tidytext-4\"><span class=\"toc-item-num\">4&nbsp;&nbsp;</span>Tidy Text Format: package tidytext</a></span><ul class=\"toc-item\"><li><span><a href=\"#Contrasting-Tidy-Text-with-Other-Data-Structures\" data-toc-modified-id=\"Contrasting-Tidy-Text-with-Other-Data-Structures-4.1\"><span class=\"toc-item-num\">4.1&nbsp;&nbsp;</span>Contrasting Tidy Text with Other Data Structures</a></span></li><li><span><a href=\"#The-gutenbergr-package\" data-toc-modified-id=\"The-gutenbergr-package-4.2\"><span class=\"toc-item-num\">4.2&nbsp;&nbsp;</span>The gutenbergr package</a></span></li><li><span><a href=\"#H.G.-Wells\" data-toc-modified-id=\"H.G.-Wells-4.3\"><span class=\"toc-item-num\">4.3&nbsp;&nbsp;</span>H.G. Wells</a></span></li><li><span><a href=\"#Charlotte-Brontë\" data-toc-modified-id=\"Charlotte-Brontë-4.4\"><span class=\"toc-item-num\">4.4&nbsp;&nbsp;</span>Charlotte Brontë</a></span></li><li><span><a href=\"#Tidy-DocumentTermMatrix\" data-toc-modified-id=\"Tidy-DocumentTermMatrix-4.5\"><span class=\"toc-item-num\">4.5&nbsp;&nbsp;</span>Tidy DocumentTermMatrix</a></span><ul class=\"toc-item\"><li><span><a href=\"#Calculate-frequency-for-each-word---by-hand\" data-toc-modified-id=\"Calculate-frequency-for-each-word---by-hand-4.5.1\"><span class=\"toc-item-num\">4.5.1&nbsp;&nbsp;</span>Calculate frequency for each word - by hand</a></span></li><li><span><a href=\"#Interpretation\" data-toc-modified-id=\"Interpretation-4.5.2\"><span class=\"toc-item-num\">4.5.2&nbsp;&nbsp;</span>Interpretation</a></span></li><li><span><a href=\"#Calculate-word-frequency-by-using-library(tm)\" data-toc-modified-id=\"Calculate-word-frequency-by-using-library(tm)-4.5.3\"><span class=\"toc-item-num\">4.5.3&nbsp;&nbsp;</span>Calculate word frequency by using library(tm)</a></span></li></ul></li><li><span><a href=\"#Exercises\" data-toc-modified-id=\"Exercises-4.6\"><span class=\"toc-item-num\">4.6&nbsp;&nbsp;</span>Exercises</a></span><ul class=\"toc-item\"><li><span><a href=\"#Next-Time:\" data-toc-modified-id=\"Next-Time:-4.6.1\"><span class=\"toc-item-num\">4.6.1&nbsp;&nbsp;</span>Next Time:</a></span></li></ul></li><li><span><a href=\"#IDF-=-Inverse-Document-Frequency-weighting\" data-toc-modified-id=\"IDF-=-Inverse-Document-Frequency-weighting-4.7\"><span class=\"toc-item-num\">4.7&nbsp;&nbsp;</span>IDF = Inverse-Document-Frequency weighting</a></span></li><li><span><a href=\"#Stemming\" data-toc-modified-id=\"Stemming-4.8\"><span class=\"toc-item-num\">4.8&nbsp;&nbsp;</span>Stemming</a></span></li><li><span><a href=\"#Part-of-speech-tagging\" data-toc-modified-id=\"Part-of-speech-tagging-4.9\"><span class=\"toc-item-num\">4.9&nbsp;&nbsp;</span>Part of speech tagging</a></span></li></ul></li></ul></div>"
   ]
  },
  {
   "cell_type": "code",
   "execution_count": 1,
   "metadata": {},
   "outputs": [
    {
     "name": "stderr",
     "output_type": "stream",
     "text": [
      "\n",
      "Attaching package: 'dplyr'\n",
      "\n",
      "The following objects are masked from 'package:stats':\n",
      "\n",
      "    filter, lag\n",
      "\n",
      "The following objects are masked from 'package:base':\n",
      "\n",
      "    intersect, setdiff, setequal, union\n",
      "\n",
      "Loading required package: NLP\n",
      "\n",
      "Attaching package: 'NLP'\n",
      "\n",
      "The following object is masked from 'package:ggplot2':\n",
      "\n",
      "    annotate\n",
      "\n",
      "Loading required package: qdapDictionaries\n",
      "Loading required package: qdapRegex\n",
      "\n",
      "Attaching package: 'qdapRegex'\n",
      "\n",
      "The following object is masked from 'package:ggplot2':\n",
      "\n",
      "    %+%\n",
      "\n",
      "The following object is masked from 'package:dplyr':\n",
      "\n",
      "    explain\n",
      "\n",
      "The following object is masked from 'package:jsonlite':\n",
      "\n",
      "    validate\n",
      "\n",
      "Loading required package: qdapTools\n",
      "\n",
      "Attaching package: 'qdapTools'\n",
      "\n",
      "The following object is masked from 'package:dplyr':\n",
      "\n",
      "    id\n",
      "\n",
      "Loading required package: RColorBrewer\n",
      "\n",
      "Attaching package: 'qdap'\n",
      "\n",
      "The following objects are masked from 'package:tm':\n",
      "\n",
      "    as.DocumentTermMatrix, as.TermDocumentMatrix\n",
      "\n",
      "The following object is masked from 'package:NLP':\n",
      "\n",
      "    ngrams\n",
      "\n",
      "The following object is masked from 'package:tidyr':\n",
      "\n",
      "    %>%\n",
      "\n",
      "The following object is masked from 'package:dplyr':\n",
      "\n",
      "    %>%\n",
      "\n",
      "The following object is masked from 'package:base':\n",
      "\n",
      "    Filter\n",
      "\n",
      "\n",
      "Attaching package: 'stringr'\n",
      "\n",
      "The following object is masked from 'package:qdap':\n",
      "\n",
      "    %>%\n",
      "\n"
     ]
    },
    {
     "name": "stdout",
     "output_type": "stream",
     "text": [
      "[1] \"packages loaded\"\n"
     ]
    }
   ],
   "source": [
    "# Necessary packages\n",
    "options(warn=-1)\n",
    "library(dplyr)\n",
    "library(tidyr)\n",
    "library(tidytext)\n",
    "library(ggplot2)\n",
    "library(tm)\n",
    "library(qdap)\n",
    "library(wordcloud)\n",
    "library(stringr)\n",
    "library(scales)\n",
    "library(pacman)\n",
    "library(tidytext)\n",
    "# library(gutenbergr)\n",
    "print(\"packages loaded\")"
   ]
  },
  {
   "cell_type": "markdown",
   "metadata": {},
   "source": [
    "## Definitions\n",
    "*  **token** = meaningful unit of text, such as a word, that we are interested in\n",
    "*  **tokenization** = process of splitting the text into tokens.\n",
    "*  **document** = collection of sentences/strings.\n",
    "*  **corpus** = collection of documents annotated with additional metadata and details.\n",
    "*  **Document-term matrix** = sparse matrix describing a collection (i.e. corpus) of documents with one row for each document and one column for each term/word. The value in the matrix is typically word count or tf-idf\n",
    "*  **Bag-of-Words model** = central idea: a document is nothing more than a bag of words, i.e., semantic/order are irrelevant, only the word counts (i.e. nr of occurrences)\n",
    "*  **n-grams** =\n",
    "*  **tf-idf** ="
   ]
  },
  {
   "cell_type": "markdown",
   "metadata": {},
   "source": [
    "## Base R - no extra packages\n",
    "We compare Clinton and Trump acceptance speeches, and calculate word counts for each. (Note: we convert all words to lower case)\n"
   ]
  },
  {
   "cell_type": "code",
   "execution_count": 2,
   "metadata": {},
   "outputs": [
    {
     "data": {
      "text/html": [
       "<ol class=list-inline>\n",
       "\t<li>'Friends, delegates and fellow Americans: I humbly and gratefully accept your nomination for the presidency of the United States.'</li>\n",
       "\t<li>'Story Continued Below'</li>\n",
       "\t<li>'Together, we will lead our party back to the White House, and we will lead our country back to safety, prosperity, and peace. We will be a country of generosity and warmth. But we will also be a country of law and order.'</li>\n",
       "\t<li>'Our Convention occurs at a moment of crisis for our nation. The attacks on our police, and the terrorism in our cities, threaten our very way of life. Any politician who does not grasp this danger is not fit to lead our country.'</li>\n",
       "\t<li>'Americans watching this address tonight have seen the recent images of violence in our streets and the chaos in our communities. Many have witnessed this violence personally, some have even been its victims.'</li>\n",
       "\t<li>'I have a message for all of you: the crime and violence that today afflicts our nation will soon come to an end. Beginning on January 20th 2017, safety will be restored.'</li>\n",
       "</ol>\n"
      ],
      "text/latex": [
       "\\begin{enumerate*}\n",
       "\\item 'Friends, delegates and fellow Americans: I humbly and gratefully accept your nomination for the presidency of the United States.'\n",
       "\\item 'Story Continued Below'\n",
       "\\item 'Together, we will lead our party back to the White House, and we will lead our country back to safety, prosperity, and peace. We will be a country of generosity and warmth. But we will also be a country of law and order.'\n",
       "\\item 'Our Convention occurs at a moment of crisis for our nation. The attacks on our police, and the terrorism in our cities, threaten our very way of life. Any politician who does not grasp this danger is not fit to lead our country.'\n",
       "\\item 'Americans watching this address tonight have seen the recent images of violence in our streets and the chaos in our communities. Many have witnessed this violence personally, some have even been its victims.'\n",
       "\\item 'I have a message for all of you: the crime and violence that today afflicts our nation will soon come to an end. Beginning on January 20th 2017, safety will be restored.'\n",
       "\\end{enumerate*}\n"
      ],
      "text/markdown": [
       "1. 'Friends, delegates and fellow Americans: I humbly and gratefully accept your nomination for the presidency of the United States.'\n",
       "2. 'Story Continued Below'\n",
       "3. 'Together, we will lead our party back to the White House, and we will lead our country back to safety, prosperity, and peace. We will be a country of generosity and warmth. But we will also be a country of law and order.'\n",
       "4. 'Our Convention occurs at a moment of crisis for our nation. The attacks on our police, and the terrorism in our cities, threaten our very way of life. Any politician who does not grasp this danger is not fit to lead our country.'\n",
       "5. 'Americans watching this address tonight have seen the recent images of violence in our streets and the chaos in our communities. Many have witnessed this violence personally, some have even been its victims.'\n",
       "6. 'I have a message for all of you: the crime and violence that today afflicts our nation will soon come to an end. Beginning on January 20th 2017, safety will be restored.'\n",
       "\n",
       "\n"
      ],
      "text/plain": [
       "[1] \"Friends, delegates and fellow Americans: I humbly and gratefully accept your nomination for the presidency of the United States.\"                                                                                                    \n",
       "[2] \"Story Continued Below\"                                                                                                                                                                                                               \n",
       "[3] \"Together, we will lead our party back to the White House, and we will lead our country back to safety, prosperity, and peace. We will be a country of generosity and warmth. But we will also be a country of law and order.\"        \n",
       "[4] \"Our Convention occurs at a moment of crisis for our nation. The attacks on our police, and the terrorism in our cities, threaten our very way of life. Any politician who does not grasp this danger is not fit to lead our country.\"\n",
       "[5] \"Americans watching this address tonight have seen the recent images of violence in our streets and the chaos in our communities. Many have witnessed this violence personally, some have even been its victims.\"                     \n",
       "[6] \"I have a message for all of you: the crime and violence that today afflicts our nation will soon come to an end. Beginning on January 20th 2017, safety will be restored.\"                                                           "
      ]
     },
     "metadata": {},
     "output_type": "display_data"
    }
   ],
   "source": [
    "trump.lines = readLines(\"http://www.stat.cmu.edu/~ryantibs/statcomp/data/trump.txt\")\n",
    "clinton.lines = readLines(\"http://www.stat.cmu.edu/~ryantibs/statcomp/data/clinton.txt\", encoding = 'utf-8')\n",
    "trump.lines = subset(trump.lines, nchar(trump.lines) > 0)\n",
    "head(trump.lines, 6)"
   ]
  },
  {
   "cell_type": "code",
   "execution_count": 3,
   "metadata": {},
   "outputs": [
    {
     "data": {
      "text/html": [
       "<ol class=list-inline>\n",
       "\t<li>'Thank you! Thank you all very much! Thank you for that amazing welcome. '</li>\n",
       "\t<li>'Thank you all for the great convention that weâ€™ve had.'</li>\n",
       "\t<li>'And Chelsea, thank you. I\\'m so proud to be your mother and so proud of the woman you\\'ve become. Thank you for bringing Marc into our family, and Charlotte and Aidan into the world. '</li>\n",
       "\t<li>'And Bill, that conversation we started in the law library 45 years ago, it is still going strong. You know that conversation has lasted through good times that filled us with joy, and hard times that tested us. '</li>\n",
       "\t<li>'And I\\'ve even gotten a few words in along the way.'</li>\n",
       "\t<li><span style=white-space:pre-wrap>'On Tuesday night, I was so happy to see that my Explainer-in-Chief is still on the job. I\\'m also grateful to the rest of my family and the friends of a lifetime. For all of you whose hard work brought us here tonight. And to those of you who joined our campaign this week, thank you.  what a remarkable week it\\'s been.  '</span></li>\n",
       "</ol>\n"
      ],
      "text/latex": [
       "\\begin{enumerate*}\n",
       "\\item 'Thank you! Thank you all very much! Thank you for that amazing welcome. '\n",
       "\\item 'Thank you all for the great convention that weâ€™ve had.'\n",
       "\\item 'And Chelsea, thank you. I\\textbackslash{}'m so proud to be your mother and so proud of the woman you\\textbackslash{}'ve become. Thank you for bringing Marc into our family, and Charlotte and Aidan into the world. '\n",
       "\\item 'And Bill, that conversation we started in the law library 45 years ago, it is still going strong. You know that conversation has lasted through good times that filled us with joy, and hard times that tested us. '\n",
       "\\item 'And I\\textbackslash{}'ve even gotten a few words in along the way.'\n",
       "\\item 'On Tuesday night, I was so happy to see that my Explainer-in-Chief is still on the job. I\\textbackslash{}'m also grateful to the rest of my family and the friends of a lifetime. For all of you whose hard work brought us here tonight. And to those of you who joined our campaign this week, thank you.  what a remarkable week it\\textbackslash{}'s been.  '\n",
       "\\end{enumerate*}\n"
      ],
      "text/markdown": [
       "1. 'Thank you! Thank you all very much! Thank you for that amazing welcome. '\n",
       "2. 'Thank you all for the great convention that weâ€™ve had.'\n",
       "3. 'And Chelsea, thank you. I\\'m so proud to be your mother and so proud of the woman you\\'ve become. Thank you for bringing Marc into our family, and Charlotte and Aidan into the world. '\n",
       "4. 'And Bill, that conversation we started in the law library 45 years ago, it is still going strong. You know that conversation has lasted through good times that filled us with joy, and hard times that tested us. '\n",
       "5. 'And I\\'ve even gotten a few words in along the way.'\n",
       "6. <span style=white-space:pre-wrap>'On Tuesday night, I was so happy to see that my Explainer-in-Chief is still on the job. I\\'m also grateful to the rest of my family and the friends of a lifetime. For all of you whose hard work brought us here tonight. And to those of you who joined our campaign this week, thank you.  what a remarkable week it\\'s been.  '</span>\n",
       "\n",
       "\n"
      ],
      "text/plain": [
       "[1] \"Thank you! Thank you all very much! Thank you for that amazing welcome. \"                                                                                                                                                                                                                                                        \n",
       "[2] \"Thank you all for the great convention that weâve had.\"                                                                                                                                                                                                                                                                        \n",
       "[3] \"And Chelsea, thank you. I'm so proud to be your mother and so proud of the woman you've become. Thank you for bringing Marc into our family, and Charlotte and Aidan into the world. \"                                                                                                                                           \n",
       "[4] \"And Bill, that conversation we started in the law library 45 years ago, it is still going strong. You know that conversation has lasted through good times that filled us with joy, and hard times that tested us. \"                                                                                                             \n",
       "[5] \"And I've even gotten a few words in along the way.\"                                                                                                                                                                                                                                                                              \n",
       "[6] \"On Tuesday night, I was so happy to see that my Explainer-in-Chief is still on the job. I'm also grateful to the rest of my family and the friends of a lifetime. For all of you whose hard work brought us here tonight. And to those of you who joined our campaign this week, thank you.  what a remarkable week it's been.  \""
      ]
     },
     "metadata": {},
     "output_type": "display_data"
    }
   ],
   "source": [
    "# toss out empty lines\n",
    "clinton.lines=subset(clinton.lines, nchar(clinton.lines) > 0)\n",
    "head(clinton.lines, 6)"
   ]
  },
  {
   "cell_type": "code",
   "execution_count": 6,
   "metadata": {},
   "outputs": [
    {
     "data": {
      "text/html": [
       "<ol class=list-inline>\n",
       "\t<li>'we have'</li>\n",
       "\t<li>'children'</li>\n",
       "</ol>\n"
      ],
      "text/latex": [
       "\\begin{enumerate*}\n",
       "\\item 'we have'\n",
       "\\item 'children'\n",
       "\\end{enumerate*}\n"
      ],
      "text/markdown": [
       "1. 'we have'\n",
       "2. 'children'\n",
       "\n",
       "\n"
      ],
      "text/plain": [
       "[1] \"we have\"  \"children\""
      ]
     },
     "metadata": {},
     "output_type": "display_data"
    },
    {
     "data": {
      "text/html": [
       "'we have children'"
      ],
      "text/latex": [
       "'we have children'"
      ],
      "text/markdown": [
       "'we have children'"
      ],
      "text/plain": [
       "[1] \"we have children\""
      ]
     },
     "metadata": {},
     "output_type": "display_data"
    }
   ],
   "source": [
    "paste(c(\"we have\", \"children\")) # returns a vector\n",
    "paste(c(\"we have\", \"children\"), collapse = \" \")"
   ]
  },
  {
   "cell_type": "code",
   "execution_count": 13,
   "metadata": {},
   "outputs": [
    {
     "data": {
      "text/html": [
       "<ol class=list-inline>\n",
       "\t<li>'Friends delegates and fellow Americans I humbly and gratefully accept your nomination for the presidency of the United States'</li>\n",
       "\t<li>'Story Continued Below'</li>\n",
       "</ol>\n"
      ],
      "text/latex": [
       "\\begin{enumerate*}\n",
       "\\item 'Friends delegates and fellow Americans I humbly and gratefully accept your nomination for the presidency of the United States'\n",
       "\\item 'Story Continued Below'\n",
       "\\end{enumerate*}\n"
      ],
      "text/markdown": [
       "1. 'Friends delegates and fellow Americans I humbly and gratefully accept your nomination for the presidency of the United States'\n",
       "2. 'Story Continued Below'\n",
       "\n",
       "\n"
      ],
      "text/plain": [
       "[1] \"Friends delegates and fellow Americans I humbly and gratefully accept your nomination for the presidency of the United States\"\n",
       "[2] \"Story Continued Below\"                                                                                                        "
      ]
     },
     "metadata": {},
     "output_type": "display_data"
    }
   ],
   "source": [
    "trump.lines = removePunctuation(trump.lines)\n",
    "trump.lines = stripWhitespace(trump.lines)\n",
    "head(trump.lines, 2)"
   ]
  },
  {
   "cell_type": "code",
   "execution_count": 14,
   "metadata": {},
   "outputs": [
    {
     "data": {
      "text/html": [
       "<ol class=list-inline>\n",
       "\t<li>'Friends'</li>\n",
       "\t<li>'delegates'</li>\n",
       "\t<li>'and'</li>\n",
       "\t<li>'fellow'</li>\n",
       "\t<li>'Americans'</li>\n",
       "\t<li>'I'</li>\n",
       "\t<li>'humbly'</li>\n",
       "\t<li>'and'</li>\n",
       "\t<li>'gratefully'</li>\n",
       "\t<li>'accept'</li>\n",
       "</ol>\n"
      ],
      "text/latex": [
       "\\begin{enumerate*}\n",
       "\\item 'Friends'\n",
       "\\item 'delegates'\n",
       "\\item 'and'\n",
       "\\item 'fellow'\n",
       "\\item 'Americans'\n",
       "\\item 'I'\n",
       "\\item 'humbly'\n",
       "\\item 'and'\n",
       "\\item 'gratefully'\n",
       "\\item 'accept'\n",
       "\\end{enumerate*}\n"
      ],
      "text/markdown": [
       "1. 'Friends'\n",
       "2. 'delegates'\n",
       "3. 'and'\n",
       "4. 'fellow'\n",
       "5. 'Americans'\n",
       "6. 'I'\n",
       "7. 'humbly'\n",
       "8. 'and'\n",
       "9. 'gratefully'\n",
       "10. 'accept'\n",
       "\n",
       "\n"
      ],
      "text/plain": [
       " [1] \"Friends\"    \"delegates\"  \"and\"        \"fellow\"     \"Americans\" \n",
       " [6] \"I\"          \"humbly\"     \"and\"        \"gratefully\" \"accept\"    "
      ]
     },
     "metadata": {},
     "output_type": "display_data"
    },
    {
     "data": {
      "text/plain": [
       "\n",
       " the  and   to   of  our will   in    i   we have \n",
       " 204  150  130  128   94   87   79   66   60   58 "
      ]
     },
     "metadata": {},
     "output_type": "display_data"
    }
   ],
   "source": [
    "### Bag of words\n",
    "trump.words = strsplit(paste(trump.lines, collapse=\" \"), split=\" \")[[1]] # returns a list and p[[1]]\n",
    "trump.wordtab = sort(table(tolower(trump.words)), decreasing = T)\n",
    "head(trump.words, 10)\n",
    "head(trump.wordtab, 10)"
   ]
  },
  {
   "cell_type": "code",
   "execution_count": 15,
   "metadata": {},
   "outputs": [
    {
     "data": {
      "text/html": [
       "<ol class=list-inline>\n",
       "\t<li>'Thank'</li>\n",
       "\t<li>'you!'</li>\n",
       "\t<li>'Thank'</li>\n",
       "\t<li>'you'</li>\n",
       "\t<li>'all'</li>\n",
       "\t<li>'very'</li>\n",
       "\t<li>'much!'</li>\n",
       "\t<li>'Thank'</li>\n",
       "\t<li>'you'</li>\n",
       "\t<li>'for'</li>\n",
       "</ol>\n"
      ],
      "text/latex": [
       "\\begin{enumerate*}\n",
       "\\item 'Thank'\n",
       "\\item 'you!'\n",
       "\\item 'Thank'\n",
       "\\item 'you'\n",
       "\\item 'all'\n",
       "\\item 'very'\n",
       "\\item 'much!'\n",
       "\\item 'Thank'\n",
       "\\item 'you'\n",
       "\\item 'for'\n",
       "\\end{enumerate*}\n"
      ],
      "text/markdown": [
       "1. 'Thank'\n",
       "2. 'you!'\n",
       "3. 'Thank'\n",
       "4. 'you'\n",
       "5. 'all'\n",
       "6. 'very'\n",
       "7. 'much!'\n",
       "8. 'Thank'\n",
       "9. 'you'\n",
       "10. 'for'\n",
       "\n",
       "\n"
      ],
      "text/plain": [
       " [1] \"Thank\" \"you!\"  \"Thank\" \"you\"   \"all\"   \"very\"  \"much!\" \"Thank\" \"you\"  \n",
       "[10] \"for\"  "
      ]
     },
     "metadata": {},
     "output_type": "display_data"
    },
    {
     "data": {
      "text/plain": [
       "\n",
       "and the  to       a  of  we our  in you \n",
       "216 207 172 160 105  97  97  75  74  73 "
      ]
     },
     "metadata": {},
     "output_type": "display_data"
    }
   ],
   "source": [
    "clinton.words = strsplit(paste(clinton.lines, collapse=\" \"), split=\" \")[[1]] # returns a list\n",
    "clinton.wordtab = sort(table(tolower(clinton.words)), decreasing = T)\n",
    "head(clinton.words, 10)\n",
    "head(clinton.wordtab, 10)"
   ]
  },
  {
   "cell_type": "code",
   "execution_count": 78,
   "metadata": {},
   "outputs": [
    {
     "data": {
      "text/html": [
       "1508"
      ],
      "text/latex": [
       "1508"
      ],
      "text/markdown": [
       "1508"
      ],
      "text/plain": [
       "[1] 1508"
      ]
     },
     "metadata": {},
     "output_type": "display_data"
    },
    {
     "data": {
      "text/html": [
       "1718"
      ],
      "text/latex": [
       "1718"
      ],
      "text/markdown": [
       "1718"
      ],
      "text/plain": [
       "[1] 1718"
      ]
     },
     "metadata": {},
     "output_type": "display_data"
    }
   ],
   "source": [
    "length(trump.wordtab)\n",
    "length(clinton.wordtab)"
   ]
  },
  {
   "cell_type": "code",
   "execution_count": 16,
   "metadata": {},
   "outputs": [
    {
     "data": {
      "text/html": [
       "'The kat is gray'"
      ],
      "text/latex": [
       "'The kat is gray'"
      ],
      "text/markdown": [
       "'The kat is gray'"
      ],
      "text/plain": [
       "[1] \"The kat is gray\""
      ]
     },
     "metadata": {},
     "output_type": "display_data"
    }
   ],
   "source": [
    "gsub(\"c\", \"k\", \"The cat is gray\")"
   ]
  },
  {
   "cell_type": "markdown",
   "metadata": {},
   "source": [
    "### Simple preprocessing\n",
    "Turns out that the most common word in Clinton speech is an empty string, “”; let’s get rid of such entries:"
   ]
  },
  {
   "cell_type": "code",
   "execution_count": 17,
   "metadata": {},
   "outputs": [
    {
     "data": {
      "text/html": [],
      "text/latex": [],
      "text/markdown": [],
      "text/plain": [
       "named integer(0)"
      ]
     },
     "metadata": {},
     "output_type": "display_data"
    },
    {
     "data": {
      "text/html": [],
      "text/latex": [],
      "text/markdown": [],
      "text/plain": [
       "named integer(0)"
      ]
     },
     "metadata": {},
     "output_type": "display_data"
    }
   ],
   "source": [
    "trump.wordtab[names(trump.wordtab) == \"\"] # We have 0 such empty strings with Trump\n",
    "trump.wordtab[which(names(trump.wordtab) == \"\")]"
   ]
  },
  {
   "cell_type": "code",
   "execution_count": 18,
   "metadata": {},
   "outputs": [
    {
     "data": {
      "text/html": [
       "<strong>:</strong> 160"
      ],
      "text/latex": [
       "\\textbf{:} 160"
      ],
      "text/markdown": [
       "**:** 160"
      ],
      "text/plain": [
       "    \n",
       "160 "
      ]
     },
     "metadata": {},
     "output_type": "display_data"
    }
   ],
   "source": [
    "clinton.wordtab[names(clinton.wordtab) == \"\"] # We have 0 such empty strings with clinton\n",
    "#clinton.wordtab[which(names(clinton.wordtab) == \"\")]"
   ]
  },
  {
   "cell_type": "code",
   "execution_count": 19,
   "metadata": {},
   "outputs": [],
   "source": [
    "trump.wordtab = trump.wordtab[names(trump.wordtab) != \"\"]\n",
    "clinton.wordtab = clinton.wordtab[names(clinton.wordtab) != \"\"]"
   ]
  },
  {
   "cell_type": "markdown",
   "metadata": {},
   "source": [
    "### Basic comparisons - Top 20 words"
   ]
  },
  {
   "cell_type": "code",
   "execution_count": 20,
   "metadata": {},
   "outputs": [
    {
     "data": {
      "text/html": [
       "<table>\n",
       "<thead><tr><th></th><th scope=col>the</th><th scope=col>and</th><th scope=col>to</th><th scope=col>of</th><th scope=col>our</th><th scope=col>will</th><th scope=col>in</th><th scope=col>i</th><th scope=col>we</th><th scope=col>have</th><th scope=col>a</th><th scope=col>that</th><th scope=col>for</th><th scope=col>is</th><th scope=col>are</th><th scope=col>my</th><th scope=col>â€“</th><th scope=col>this</th><th scope=col>on</th><th scope=col>their</th></tr></thead>\n",
       "<tbody>\n",
       "\t<tr><th scope=row>trump</th><td>204</td><td>150</td><td>130</td><td>128</td><td>94 </td><td>87 </td><td>79 </td><td>66 </td><td>60 </td><td>58 </td><td>54 </td><td>52 </td><td>46 </td><td>42 </td><td>39 </td><td>35 </td><td>34 </td><td>33 </td><td>30 </td><td>28 </td></tr>\n",
       "\t<tr><th scope=row>clinton</th><td>216</td><td>207</td><td>172</td><td>105</td><td>97 </td><td>97 </td><td>75 </td><td>74 </td><td>73 </td><td>59 </td><td>58 </td><td>56 </td><td>40 </td><td>39 </td><td>37 </td><td>37 </td><td>36 </td><td>35 </td><td>35 </td><td>34 </td></tr>\n",
       "</tbody>\n",
       "</table>\n"
      ],
      "text/latex": [
       "\\begin{tabular}{r|llllllllllllllllllll}\n",
       "  & the & and & to & of & our & will & in & i & we & have & a & that & for & is & are & my & â€“ & this & on & their\\\\\n",
       "\\hline\n",
       "\ttrump & 204 & 150 & 130 & 128 & 94  & 87  & 79  & 66  & 60  & 58  & 54  & 52  & 46  & 42  & 39  & 35  & 34  & 33  & 30  & 28 \\\\\n",
       "\tclinton & 216 & 207 & 172 & 105 & 97  & 97  & 75  & 74  & 73  & 59  & 58  & 56  & 40  & 39  & 37  & 37  & 36  & 35  & 35  & 34 \\\\\n",
       "\\end{tabular}\n"
      ],
      "text/markdown": [
       "\n",
       "| <!--/--> | the | and | to | of | our | will | in | i | we | have | a | that | for | is | are | my | â€“ | this | on | their | \n",
       "|---|---|\n",
       "| trump | 204 | 150 | 130 | 128 | 94  | 87  | 79  | 66  | 60  | 58  | 54  | 52  | 46  | 42  | 39  | 35  | 34  | 33  | 30  | 28  | \n",
       "| clinton | 216 | 207 | 172 | 105 | 97  | 97  | 75  | 74  | 73  | 59  | 58  | 56  | 40  | 39  | 37  | 37  | 36  | 35  | 35  | 34  | \n",
       "\n",
       "\n"
      ],
      "text/plain": [
       "        the and to  of  our will in i  we have a  that for is are my â this\n",
       "trump   204 150 130 128 94  87   79 66 60 58   54 52   46  42 39  35 34  33  \n",
       "clinton 216 207 172 105 97  97   75 74 73 59   58 56   40  39 37  37 36  35  \n",
       "        on their\n",
       "trump   30 28   \n",
       "clinton 35 34   "
      ]
     },
     "metadata": {},
     "output_type": "display_data"
    }
   ],
   "source": [
    "TopWords = rbind(trump = head(trump.wordtab, 20), clinton = head(clinton.wordtab, 20)) # DTM\n",
    "TopWords"
   ]
  },
  {
   "cell_type": "markdown",
   "metadata": {},
   "source": [
    "*  Let's eliminate meaningless words, i.e. stopwords such as the, and, of, etc...\n",
    "*  Until then, let’s make some basic comparisons. (Note: we know these are imperfect, because our words may contain punctuation marks, etc. Ignore for now, we’ll soon see a nice way to clean this up)"
   ]
  },
  {
   "cell_type": "code",
   "execution_count": 84,
   "metadata": {},
   "outputs": [
    {
     "data": {
      "text/html": [
       "<dl class=dl-horizontal>\n",
       "\t<dt>Trump</dt>\n",
       "\t\t<dd>4436</dd>\n",
       "\t<dt>Clinton</dt>\n",
       "\t\t<dd>5407</dd>\n",
       "</dl>\n"
      ],
      "text/latex": [
       "\\begin{description*}\n",
       "\\item[Trump] 4436\n",
       "\\item[Clinton] 5407\n",
       "\\end{description*}\n"
      ],
      "text/markdown": [
       "Trump\n",
       ":   4436Clinton\n",
       ":   5407\n",
       "\n"
      ],
      "text/plain": [
       "  Trump Clinton \n",
       "   4436    5407 "
      ]
     },
     "metadata": {},
     "output_type": "display_data"
    }
   ],
   "source": [
    "# Who had the longer speech (spoke more words)?\n",
    "c(Trump = sum(trump.wordtab), Clinton = sum(clinton.wordtab)) # Clinton"
   ]
  },
  {
   "cell_type": "code",
   "execution_count": 85,
   "metadata": {},
   "outputs": [
    {
     "data": {
      "text/html": [
       "<dl class=dl-horizontal>\n",
       "\t<dt>Trump</dt>\n",
       "\t\t<dd>1508</dd>\n",
       "\t<dt>Clinton</dt>\n",
       "\t\t<dd>1717</dd>\n",
       "</dl>\n"
      ],
      "text/latex": [
       "\\begin{description*}\n",
       "\\item[Trump] 1508\n",
       "\\item[Clinton] 1717\n",
       "\\end{description*}\n"
      ],
      "text/markdown": [
       "Trump\n",
       ":   1508Clinton\n",
       ":   1717\n",
       "\n"
      ],
      "text/plain": [
       "  Trump Clinton \n",
       "   1508    1717 "
      ]
     },
     "metadata": {},
     "output_type": "display_data"
    }
   ],
   "source": [
    "# Who used more unique words?\n",
    "c(Trump = length(trump.wordtab), Clinton = length(clinton.wordtab)) # Clinton"
   ]
  },
  {
   "cell_type": "code",
   "execution_count": 86,
   "metadata": {},
   "outputs": [
    {
     "data": {
      "text/html": [
       "<dl class=dl-horizontal>\n",
       "\t<dt>Trump</dt>\n",
       "\t\t<dd>33.9945897204689</dd>\n",
       "\t<dt>Clinton</dt>\n",
       "\t\t<dd>31.7551322359904</dd>\n",
       "</dl>\n"
      ],
      "text/latex": [
       "\\begin{description*}\n",
       "\\item[Trump] 33.9945897204689\n",
       "\\item[Clinton] 31.7551322359904\n",
       "\\end{description*}\n"
      ],
      "text/markdown": [
       "Trump\n",
       ":   33.9945897204689Clinton\n",
       ":   31.7551322359904\n",
       "\n"
      ],
      "text/plain": [
       "   Trump  Clinton \n",
       "33.99459 31.75513 "
      ]
     },
     "metadata": {},
     "output_type": "display_data"
    }
   ],
   "source": [
    "# Who repeated themselves less (higher percentage of unique words)?\n",
    "c(Trump = length(trump.wordtab)/sum(trump.wordtab)*100, \n",
    "  Clinton = length(clinton.wordtab)/sum(clinton.wordtab)*100) # Clinton repeated herself less"
   ]
  },
  {
   "cell_type": "code",
   "execution_count": 87,
   "metadata": {},
   "outputs": [
    {
     "data": {
      "text/html": [
       "<dl class=dl-horizontal>\n",
       "\t<dt>Trump.great</dt>\n",
       "\t\t<dd>8</dd>\n",
       "\t<dt>Clinton.great</dt>\n",
       "\t\t<dd>5</dd>\n",
       "</dl>\n"
      ],
      "text/latex": [
       "\\begin{description*}\n",
       "\\item[Trump.great] 8\n",
       "\\item[Clinton.great] 5\n",
       "\\end{description*}\n"
      ],
      "text/markdown": [
       "Trump.great\n",
       ":   8Clinton.great\n",
       ":   5\n",
       "\n"
      ],
      "text/plain": [
       "  Trump.great Clinton.great \n",
       "            8             5 "
      ]
     },
     "metadata": {},
     "output_type": "display_data"
    }
   ],
   "source": [
    "# Who used \"great\" more?\n",
    "c(Trump = trump.wordtab[\"great\"], Clinton = clinton.wordtab[\"great\"]) # Trump"
   ]
  },
  {
   "cell_type": "markdown",
   "metadata": {},
   "source": [
    "## How to go beyond the basics?\n",
    "Suppose we want to make more advanced comparisons. E.g., given a new (third) document, is it more\n",
    "like the first or the second?\n",
    "We must think of a way of representing our two documents. We want our representation to:\n",
    "1. Be easy to generate from the raw documents, and be easy to work with\n",
    "2. Highlight important aspects of the documents, and suppress unimportant aspects\n",
    "Think we need some fancy representation? Think again! We pretty much already have what we need\n",
    "\n",
    "### Document term matrix\n",
    "same what we’re already doing! Key difference is that we must calculate word counts for words that appear across all documents"
   ]
  },
  {
   "cell_type": "code",
   "execution_count": 23,
   "metadata": {},
   "outputs": [
    {
     "data": {
      "text/plain": [
       "\n",
       " again. america   great    make \n",
       "      1       1       1       1 "
      ]
     },
     "metadata": {},
     "output_type": "display_data"
    }
   ],
   "source": [
    "# Let's set up our third document, the query document\n",
    "query.text = \"Make America great again.\"\n",
    "query.words = strsplit(query.text, split=\" \")[[1]]\n",
    "query.wordtab = table(tolower(query.words))\n",
    "query.wordtab"
   ]
  },
  {
   "cell_type": "code",
   "execution_count": 24,
   "metadata": {},
   "outputs": [
    {
     "data": {
      "text/html": [
       "2503"
      ],
      "text/latex": [
       "2503"
      ],
      "text/markdown": [
       "2503"
      ],
      "text/plain": [
       "[1] 2503"
      ]
     },
     "metadata": {},
     "output_type": "display_data"
    }
   ],
   "source": [
    "# Let's get all the words, then just consider the unique ones, sorted alphabetically\n",
    "all.words = c(names(trump.wordtab), names(clinton.wordtab), names(query.wordtab))\n",
    "all.words.unique = sort(unique(all.words))\n",
    "(nW = length(all.words.unique))"
   ]
  },
  {
   "cell_type": "markdown",
   "metadata": {},
   "source": [
    "*  DTM (nr of documents x nr of unique words) = 3 x 2686\n",
    "*  each row = 1 document, each column is nr of occurrences of each word (i.e. word count)"
   ]
  },
  {
   "cell_type": "code",
   "execution_count": 25,
   "metadata": {},
   "outputs": [
    {
     "data": {
      "text/html": [
       "<table>\n",
       "<thead><tr><th></th><th scope=col>-</th><th scope=col>\"a</th><th scope=col>\"do</th><th scope=col>\"go</th><th scope=col>\"i</th><th scope=col>\"it</th><th scope=col>\"let</th><th scope=col>\"midnight</th><th scope=col>\"morning</th><th scope=col>\"no\"</th></tr></thead>\n",
       "<tbody>\n",
       "\t<tr><th scope=row>Trump</th><td>0</td><td>0</td><td>0</td><td>0</td><td>0</td><td>0</td><td>0</td><td>0</td><td>0</td><td>0</td></tr>\n",
       "\t<tr><th scope=row>Clinton</th><td>1</td><td>1</td><td>1</td><td>1</td><td>3</td><td>1</td><td>1</td><td>1</td><td>1</td><td>1</td></tr>\n",
       "\t<tr><th scope=row>Query</th><td>0</td><td>0</td><td>0</td><td>0</td><td>0</td><td>0</td><td>0</td><td>0</td><td>0</td><td>0</td></tr>\n",
       "</tbody>\n",
       "</table>\n"
      ],
      "text/latex": [
       "\\begin{tabular}{r|llllllllll}\n",
       "  & - & \"a & \"do & \"go & \"i & \"it & \"let & \"midnight & \"morning & \"no\"\\\\\n",
       "\\hline\n",
       "\tTrump & 0 & 0 & 0 & 0 & 0 & 0 & 0 & 0 & 0 & 0\\\\\n",
       "\tClinton & 1 & 1 & 1 & 1 & 3 & 1 & 1 & 1 & 1 & 1\\\\\n",
       "\tQuery & 0 & 0 & 0 & 0 & 0 & 0 & 0 & 0 & 0 & 0\\\\\n",
       "\\end{tabular}\n"
      ],
      "text/markdown": [
       "\n",
       "| <!--/--> | - | \"a | \"do | \"go | \"i | \"it | \"let | \"midnight | \"morning | \"no\" | \n",
       "|---|---|---|\n",
       "| Trump | 0 | 0 | 0 | 0 | 0 | 0 | 0 | 0 | 0 | 0 | \n",
       "| Clinton | 1 | 1 | 1 | 1 | 3 | 1 | 1 | 1 | 1 | 1 | \n",
       "| Query | 0 | 0 | 0 | 0 | 0 | 0 | 0 | 0 | 0 | 0 | \n",
       "\n",
       "\n"
      ],
      "text/plain": [
       "        - \"a \"do \"go \"i \"it \"let \"midnight \"morning \"no\"\n",
       "Trump   0 0  0   0   0  0   0    0         0        0   \n",
       "Clinton 1 1  1   1   3  1   1    1         1        1   \n",
       "Query   0 0  0   0   0  0   0    0         0        0   "
      ]
     },
     "metadata": {},
     "output_type": "display_data"
    }
   ],
   "source": [
    "dt.mat = matrix(0, 3, length(all.words.unique))\n",
    "rownames(dt.mat) = c(\"Trump\", \"Clinton\", \"Query\")\n",
    "colnames(dt.mat) = all.words.unique\n",
    "dt.mat[1, names(trump.wordtab)] = trump.wordtab\n",
    "dt.mat[2, names(clinton.wordtab)] = clinton.wordtab\n",
    "dt.mat[3, names(query.wordtab)] = query.wordtab\n",
    "dt.mat[, 1:10]"
   ]
  },
  {
   "cell_type": "markdown",
   "metadata": {},
   "source": [
    "### Computing word count differences\n",
    "Which words had the biggest (absolute) differences in counts between our two documents?"
   ]
  },
  {
   "cell_type": "code",
   "execution_count": 26,
   "metadata": {},
   "outputs": [
    {
     "data": {
      "text/html": [
       "<dl class=dl-horizontal>\n",
       "\t<dt>handle</dt>\n",
       "\t\t<dd>-1</dd>\n",
       "\t<dt>strategic</dt>\n",
       "\t\t<dd>-1</dd>\n",
       "\t<dt>silk</dt>\n",
       "\t\t<dd>-1</dd>\n",
       "\t<dt>doctor</dt>\n",
       "\t\t<dd>1</dd>\n",
       "\t<dt>kissing</dt>\n",
       "\t\t<dd>-1</dd>\n",
       "</dl>\n"
      ],
      "text/latex": [
       "\\begin{description*}\n",
       "\\item[handle] -1\n",
       "\\item[strategic] -1\n",
       "\\item[silk] -1\n",
       "\\item[doctor] 1\n",
       "\\item[kissing] -1\n",
       "\\end{description*}\n"
      ],
      "text/markdown": [
       "handle\n",
       ":   -1strategic\n",
       ":   -1silk\n",
       ":   -1doctor\n",
       ":   1kissing\n",
       ":   -1\n",
       "\n"
      ],
      "text/plain": [
       "   handle strategic      silk    doctor   kissing \n",
       "       -1        -1        -1         1        -1 "
      ]
     },
     "metadata": {},
     "output_type": "display_data"
    }
   ],
   "source": [
    "dt.diff = dt.mat[1,] ‐ dt.mat[2,] # diff bw. Trump and Clinton\n",
    "dt.diff[sample(length(dt.diff), 5)]"
   ]
  },
  {
   "cell_type": "code",
   "execution_count": 27,
   "metadata": {},
   "outputs": [
    {
     "data": {
      "text/html": [
       "<dl class=dl-horizontal>\n",
       "\t<dt>and</dt>\n",
       "\t\t<dd>66</dd>\n",
       "\t<dt>you</dt>\n",
       "\t\t<dd>52</dd>\n",
       "\t<dt>a</dt>\n",
       "\t\t<dd>51</dd>\n",
       "\t<dt>will</dt>\n",
       "\t\t<dd>50</dd>\n",
       "\t<dt>to</dt>\n",
       "\t\t<dd>42</dd>\n",
       "\t<dt>we</dt>\n",
       "\t\t<dd>37</dd>\n",
       "\t<dt>of</dt>\n",
       "\t\t<dd>31</dd>\n",
       "\t<dt>have</dt>\n",
       "\t\t<dd>30</dd>\n",
       "\t<dt>he</dt>\n",
       "\t\t<dd>30</dd>\n",
       "\t<dt>just</dt>\n",
       "\t\t<dd>21</dd>\n",
       "\t<dt>our</dt>\n",
       "\t\t<dd>19</dd>\n",
       "\t<dt>not</dt>\n",
       "\t\t<dd>18</dd>\n",
       "\t<dt>people</dt>\n",
       "\t\t<dd>18</dd>\n",
       "\t<dt>believe</dt>\n",
       "\t\t<dd>17</dd>\n",
       "\t<dt>as</dt>\n",
       "\t\t<dd>16</dd>\n",
       "\t<dt>it</dt>\n",
       "\t\t<dd>16</dd>\n",
       "\t<dt>what</dt>\n",
       "\t\t<dd>16</dd>\n",
       "\t<dt>been</dt>\n",
       "\t\t<dd>15</dd>\n",
       "\t<dt>should</dt>\n",
       "\t\t<dd>15</dd>\n",
       "\t<dt>am</dt>\n",
       "\t\t<dd>14</dd>\n",
       "</dl>\n"
      ],
      "text/latex": [
       "\\begin{description*}\n",
       "\\item[and] 66\n",
       "\\item[you] 52\n",
       "\\item[a] 51\n",
       "\\item[will] 50\n",
       "\\item[to] 42\n",
       "\\item[we] 37\n",
       "\\item[of] 31\n",
       "\\item[have] 30\n",
       "\\item[he] 30\n",
       "\\item[just] 21\n",
       "\\item[our] 19\n",
       "\\item[not] 18\n",
       "\\item[people] 18\n",
       "\\item[believe] 17\n",
       "\\item[as] 16\n",
       "\\item[it] 16\n",
       "\\item[what] 16\n",
       "\\item[been] 15\n",
       "\\item[should] 15\n",
       "\\item[am] 14\n",
       "\\end{description*}\n"
      ],
      "text/markdown": [
       "and\n",
       ":   66you\n",
       ":   52a\n",
       ":   51will\n",
       ":   50to\n",
       ":   42we\n",
       ":   37of\n",
       ":   31have\n",
       ":   30he\n",
       ":   30just\n",
       ":   21our\n",
       ":   19not\n",
       ":   18people\n",
       ":   18believe\n",
       ":   17as\n",
       ":   16it\n",
       ":   16what\n",
       ":   16been\n",
       ":   15should\n",
       ":   15am\n",
       ":   14\n",
       "\n"
      ],
      "text/plain": [
       "    and     you       a    will      to      we      of    have      he    just \n",
       "     66      52      51      50      42      37      31      30      30      21 \n",
       "    our     not  people believe      as      it    what    been  should      am \n",
       "     19      18      18      17      16      16      16      15      15      14 "
      ]
     },
     "metadata": {},
     "output_type": "display_data"
    }
   ],
   "source": [
    "dt.diff.abs.sorted = sort(abs(dt.diff), decreasing=TRUE)\n",
    "dt.diff.abs.sorted[1:20] # Top 20 biggest absolute differences, i.e. words that either Trump OR Clinton said more frequently\n",
    "# but we can't see who said them more frequently"
   ]
  },
  {
   "cell_type": "code",
   "execution_count": 93,
   "metadata": {},
   "outputs": [
    {
     "data": {
      "text/html": [
       "<dl class=dl-horizontal>\n",
       "\t<dt>and</dt>\n",
       "\t\t<dd>-66</dd>\n",
       "\t<dt>you</dt>\n",
       "\t\t<dd>-58</dd>\n",
       "\t<dt>a</dt>\n",
       "\t\t<dd>-51</dd>\n",
       "\t<dt>will</dt>\n",
       "\t\t<dd>49</dd>\n",
       "\t<dt>to</dt>\n",
       "\t\t<dd>-42</dd>\n",
       "\t<dt>we</dt>\n",
       "\t\t<dd>-37</dd>\n",
       "\t<dt>of</dt>\n",
       "\t\t<dd>31</dd>\n",
       "\t<dt>he</dt>\n",
       "\t\t<dd>-30</dd>\n",
       "\t<dt>have</dt>\n",
       "\t\t<dd>29</dd>\n",
       "\t<dt>people</dt>\n",
       "\t\t<dd>-23</dd>\n",
       "\t<dt>it</dt>\n",
       "\t\t<dd>-21</dd>\n",
       "\t<dt>just</dt>\n",
       "\t\t<dd>-21</dd>\n",
       "\t<dt>our</dt>\n",
       "\t\t<dd>19</dd>\n",
       "\t<dt>not</dt>\n",
       "\t\t<dd>-18</dd>\n",
       "\t<dt>believe</dt>\n",
       "\t\t<dd>-17</dd>\n",
       "\t<dt>as</dt>\n",
       "\t\t<dd>-16</dd>\n",
       "\t<dt>what</dt>\n",
       "\t\t<dd>-16</dd>\n",
       "\t<dt>been</dt>\n",
       "\t\t<dd>15</dd>\n",
       "\t<dt>should</dt>\n",
       "\t\t<dd>-15</dd>\n",
       "\t<dt>am</dt>\n",
       "\t\t<dd>14</dd>\n",
       "</dl>\n"
      ],
      "text/latex": [
       "\\begin{description*}\n",
       "\\item[and] -66\n",
       "\\item[you] -58\n",
       "\\item[a] -51\n",
       "\\item[will] 49\n",
       "\\item[to] -42\n",
       "\\item[we] -37\n",
       "\\item[of] 31\n",
       "\\item[he] -30\n",
       "\\item[have] 29\n",
       "\\item[people] -23\n",
       "\\item[it] -21\n",
       "\\item[just] -21\n",
       "\\item[our] 19\n",
       "\\item[not] -18\n",
       "\\item[believe] -17\n",
       "\\item[as] -16\n",
       "\\item[what] -16\n",
       "\\item[been] 15\n",
       "\\item[should] -15\n",
       "\\item[am] 14\n",
       "\\end{description*}\n"
      ],
      "text/markdown": [
       "and\n",
       ":   -66you\n",
       ":   -58a\n",
       ":   -51will\n",
       ":   49to\n",
       ":   -42we\n",
       ":   -37of\n",
       ":   31he\n",
       ":   -30have\n",
       ":   29people\n",
       ":   -23it\n",
       ":   -21just\n",
       ":   -21our\n",
       ":   19not\n",
       ":   -18believe\n",
       ":   -17as\n",
       ":   -16what\n",
       ":   -16been\n",
       ":   15should\n",
       ":   -15am\n",
       ":   14\n",
       "\n"
      ],
      "text/plain": [
       "    and     you       a    will      to      we      of      he    have  people \n",
       "    -66     -58     -51      49     -42     -37      31     -30      29     -23 \n",
       "     it    just     our     not believe      as    what    been  should      am \n",
       "    -21     -21      19     -18     -17     -16     -16      15     -15      14 "
      ]
     },
     "metadata": {},
     "output_type": "display_data"
    }
   ],
   "source": [
    "# Now we don’t know the direction though, e.g., who said “believe” more? Reminder: order() \n",
    "# --> if it is negative, Clinton said it more\n",
    "inds.sorted = order(abs(dt.diff), decreasing=TRUE)\n",
    "dt.diff[inds.sorted[1:20]] # Top 20 biggest differences, with signs"
   ]
  },
  {
   "cell_type": "markdown",
   "metadata": {},
   "source": [
    "### Computing correlations\n",
    "Which of our two documents is “closest” to the query? Depends on how we define “closest”; but one\n",
    "reasonable way is to use correlation, easily computed with the cor() function"
   ]
  },
  {
   "cell_type": "code",
   "execution_count": 94,
   "metadata": {},
   "outputs": [
    {
     "data": {
      "text/html": [
       "0.0523193562050618"
      ],
      "text/latex": [
       "0.0523193562050618"
      ],
      "text/markdown": [
       "0.0523193562050618"
      ],
      "text/plain": [
       "[1] 0.05231936"
      ]
     },
     "metadata": {},
     "output_type": "display_data"
    }
   ],
   "source": [
    "cor(dt.mat[1,], dt.mat[3,]) # Trump"
   ]
  },
  {
   "cell_type": "code",
   "execution_count": 95,
   "metadata": {},
   "outputs": [
    {
     "data": {
      "text/html": [
       "0.0375009610753914"
      ],
      "text/latex": [
       "0.0375009610753914"
      ],
      "text/markdown": [
       "0.0375009610753914"
      ],
      "text/plain": [
       "[1] 0.03750096"
      ]
     },
     "metadata": {},
     "output_type": "display_data"
    }
   ],
   "source": [
    "cor(dt.mat[2,], dt.mat[3,]) # Clinton"
   ]
  },
  {
   "cell_type": "markdown",
   "metadata": {},
   "source": [
    "So Trump is more correlated to the text: \"Make America great again.\""
   ]
  },
  {
   "cell_type": "markdown",
   "metadata": {},
   "source": [
    "### Bag of foolishness\n",
    "*  “A fool with a tool is still a fool” - “A fool without a tool is still a fool”\n",
    "*  “I am against higher taxes and for deregulation.” - “ I am for higher taxes and against deregulation.”\n",
    "* “Is broccoli bad for health?” “Broccoli is bad for health.”\n",
    "*  “How to teach an old dog new tricks.” - “How an old dog teaches new tricks.”\n",
    "\n",
    "**That is why we need bigrams and n-grams, because all linguistic relationships are gone!!!**"
   ]
  },
  {
   "cell_type": "code",
   "execution_count": 28,
   "metadata": {},
   "outputs": [
    {
     "data": {
      "text/html": [
       "<ol class=list-inline>\n",
       "\t<li>'Thank you! Thank you all very much! Thank you for that amazing welcome. '</li>\n",
       "\t<li>'Thank you all for the great convention that weâ€™ve had.'</li>\n",
       "\t<li>'And Chelsea, thank you. I\\'m so proud to be your mother and so proud of the woman you\\'ve become. Thank you for bringing Marc into our family, and Charlotte and Aidan into the world. '</li>\n",
       "\t<li>'And Bill, that conversation we started in the law library 45 years ago, it is still going strong. You know that conversation has lasted through good times that filled us with joy, and hard times that tested us. '</li>\n",
       "\t<li>'And I\\'ve even gotten a few words in along the way.'</li>\n",
       "\t<li><span style=white-space:pre-wrap>'On Tuesday night, I was so happy to see that my Explainer-in-Chief is still on the job. I\\'m also grateful to the rest of my family and the friends of a lifetime. For all of you whose hard work brought us here tonight. And to those of you who joined our campaign this week, thank you.  what a remarkable week it\\'s been.  '</span></li>\n",
       "</ol>\n"
      ],
      "text/latex": [
       "\\begin{enumerate*}\n",
       "\\item 'Thank you! Thank you all very much! Thank you for that amazing welcome. '\n",
       "\\item 'Thank you all for the great convention that weâ€™ve had.'\n",
       "\\item 'And Chelsea, thank you. I\\textbackslash{}'m so proud to be your mother and so proud of the woman you\\textbackslash{}'ve become. Thank you for bringing Marc into our family, and Charlotte and Aidan into the world. '\n",
       "\\item 'And Bill, that conversation we started in the law library 45 years ago, it is still going strong. You know that conversation has lasted through good times that filled us with joy, and hard times that tested us. '\n",
       "\\item 'And I\\textbackslash{}'ve even gotten a few words in along the way.'\n",
       "\\item 'On Tuesday night, I was so happy to see that my Explainer-in-Chief is still on the job. I\\textbackslash{}'m also grateful to the rest of my family and the friends of a lifetime. For all of you whose hard work brought us here tonight. And to those of you who joined our campaign this week, thank you.  what a remarkable week it\\textbackslash{}'s been.  '\n",
       "\\end{enumerate*}\n"
      ],
      "text/markdown": [
       "1. 'Thank you! Thank you all very much! Thank you for that amazing welcome. '\n",
       "2. 'Thank you all for the great convention that weâ€™ve had.'\n",
       "3. 'And Chelsea, thank you. I\\'m so proud to be your mother and so proud of the woman you\\'ve become. Thank you for bringing Marc into our family, and Charlotte and Aidan into the world. '\n",
       "4. 'And Bill, that conversation we started in the law library 45 years ago, it is still going strong. You know that conversation has lasted through good times that filled us with joy, and hard times that tested us. '\n",
       "5. 'And I\\'ve even gotten a few words in along the way.'\n",
       "6. <span style=white-space:pre-wrap>'On Tuesday night, I was so happy to see that my Explainer-in-Chief is still on the job. I\\'m also grateful to the rest of my family and the friends of a lifetime. For all of you whose hard work brought us here tonight. And to those of you who joined our campaign this week, thank you.  what a remarkable week it\\'s been.  '</span>\n",
       "\n",
       "\n"
      ],
      "text/plain": [
       "[1] \"Thank you! Thank you all very much! Thank you for that amazing welcome. \"                                                                                                                                                                                                                                                        \n",
       "[2] \"Thank you all for the great convention that weâve had.\"                                                                                                                                                                                                                                                                        \n",
       "[3] \"And Chelsea, thank you. I'm so proud to be your mother and so proud of the woman you've become. Thank you for bringing Marc into our family, and Charlotte and Aidan into the world. \"                                                                                                                                           \n",
       "[4] \"And Bill, that conversation we started in the law library 45 years ago, it is still going strong. You know that conversation has lasted through good times that filled us with joy, and hard times that tested us. \"                                                                                                             \n",
       "[5] \"And I've even gotten a few words in along the way.\"                                                                                                                                                                                                                                                                              \n",
       "[6] \"On Tuesday night, I was so happy to see that my Explainer-in-Chief is still on the job. I'm also grateful to the rest of my family and the friends of a lifetime. For all of you whose hard work brought us here tonight. And to those of you who joined our campaign this week, thank you.  what a remarkable week it's been.  \""
      ]
     },
     "metadata": {},
     "output_type": "display_data"
    }
   ],
   "source": [
    "library(tm)\n",
    "library(qdap)\n",
    "head(clinton.lines)"
   ]
  },
  {
   "cell_type": "code",
   "execution_count": 29,
   "metadata": {},
   "outputs": [
    {
     "data": {
      "text/html": [
       "<ol class=list-inline>\n",
       "\t<li><span style=white-space:pre-wrap>'thank  thank    much thank    amazing welcome'</span></li>\n",
       "\t<li><span style=white-space:pre-wrap>'thank     great convention  weâ€™ve '</span></li>\n",
       "\t<li><span style=white-space:pre-wrap>' chelsea thank     proud    mother   proud   woman   become thank   bringing marc   family  charlotte  aidan   world'</span></li>\n",
       "\t<li><span style=white-space:pre-wrap>' bill  conversation  started   law library  years ago   still going strong  know  conversation  lasted  good times  filled us  joy  hard times  tested us'</span></li>\n",
       "\t<li><span style=white-space:pre-wrap>'   even gotten   words  along  way'</span></li>\n",
       "\t<li><span style=white-space:pre-wrap>' tuesday night    happy  see   explainerinchief  still   job   also grateful   rest   family   friends   lifetime     whose hard work brought us  tonight       joined  campaign  week thank    remarkable week   '</span></li>\n",
       "</ol>\n"
      ],
      "text/latex": [
       "\\begin{enumerate*}\n",
       "\\item 'thank  thank    much thank    amazing welcome'\n",
       "\\item 'thank     great convention  weâ€™ve '\n",
       "\\item ' chelsea thank     proud    mother   proud   woman   become thank   bringing marc   family  charlotte  aidan   world'\n",
       "\\item ' bill  conversation  started   law library  years ago   still going strong  know  conversation  lasted  good times  filled us  joy  hard times  tested us'\n",
       "\\item '   even gotten   words  along  way'\n",
       "\\item ' tuesday night    happy  see   explainerinchief  still   job   also grateful   rest   family   friends   lifetime     whose hard work brought us  tonight       joined  campaign  week thank    remarkable week   '\n",
       "\\end{enumerate*}\n"
      ],
      "text/markdown": [
       "1. <span style=white-space:pre-wrap>'thank  thank    much thank    amazing welcome'</span>\n",
       "2. <span style=white-space:pre-wrap>'thank     great convention  weâ€™ve '</span>\n",
       "3. <span style=white-space:pre-wrap>' chelsea thank     proud    mother   proud   woman   become thank   bringing marc   family  charlotte  aidan   world'</span>\n",
       "4. <span style=white-space:pre-wrap>' bill  conversation  started   law library  years ago   still going strong  know  conversation  lasted  good times  filled us  joy  hard times  tested us'</span>\n",
       "5. <span style=white-space:pre-wrap>'   even gotten   words  along  way'</span>\n",
       "6. <span style=white-space:pre-wrap>' tuesday night    happy  see   explainerinchief  still   job   also grateful   rest   family   friends   lifetime     whose hard work brought us  tonight       joined  campaign  week thank    remarkable week   '</span>\n",
       "\n",
       "\n"
      ],
      "text/plain": [
       "[1] \"thank  thank    much thank    amazing welcome\"                                                                                                                                                                     \n",
       "[2] \"thank     great convention  weâve \"                                                                                                                                                                              \n",
       "[3] \" chelsea thank     proud    mother   proud   woman   become thank   bringing marc   family  charlotte  aidan   world\"                                                                                              \n",
       "[4] \" bill  conversation  started   law library  years ago   still going strong  know  conversation  lasted  good times  filled us  joy  hard times  tested us\"                                                         \n",
       "[5] \"   even gotten   words  along  way\"                                                                                                                                                                                \n",
       "[6] \" tuesday night    happy  see   explainerinchief  still   job   also grateful   rest   family   friends   lifetime     whose hard work brought us  tonight       joined  campaign  week thank    remarkable week   \""
      ]
     },
     "metadata": {},
     "output_type": "display_data"
    }
   ],
   "source": [
    "#library(magrittr)\n",
    "clinton.lines.clean = clinton.lines %>% stripWhitespace() %>% replace_symbol() %>%\n",
    "        replace_contraction() %>% removePunctuation() %>% removeNumbers() %>% tolower() %>% \n",
    "        removeWords(stopwords(\"english\"))\n",
    "head(clinton.lines.clean)"
   ]
  },
  {
   "cell_type": "code",
   "execution_count": 30,
   "metadata": {},
   "outputs": [
    {
     "data": {
      "image/png": "[encoded data removed]",
      "text/plain": [
       "plot without title"
      ]
     },
     "metadata": {},
     "output_type": "display_data"
    }
   ],
   "source": [
    "frequent_terms = freq_terms(clinton.lines.clean, top = 20, at.least = 4) # at least 4 character words\n",
    "options(repr.plot.width = 4, repr.plot.height = 4)\n",
    "plot(frequent_terms)"
   ]
  },
  {
   "cell_type": "code",
   "execution_count": 31,
   "metadata": {},
   "outputs": [
    {
     "data": {
      "text/html": [
       "<ol class=list-inline>\n",
       "\t<li>'Friends delegates and fellow Americans I humbly and gratefully accept your nomination for the presidency of the United States'</li>\n",
       "\t<li>'Story Continued Below'</li>\n",
       "\t<li>'Together we will lead our party back to the White House and we will lead our country back to safety prosperity and peace We will be a country of generosity and warmth But we will also be a country of law and order'</li>\n",
       "\t<li>'Our Convention occurs at a moment of crisis for our nation The attacks on our police and the terrorism in our cities threaten our very way of life Any politician who does not grasp this danger is not fit to lead our country'</li>\n",
       "\t<li>'Americans watching this address tonight have seen the recent images of violence in our streets and the chaos in our communities Many have witnessed this violence personally some have even been its victims'</li>\n",
       "\t<li>'I have a message for all of you the crime and violence that today afflicts our nation will soon come to an end Beginning on January 20th 2017 safety will be restored'</li>\n",
       "</ol>\n"
      ],
      "text/latex": [
       "\\begin{enumerate*}\n",
       "\\item 'Friends delegates and fellow Americans I humbly and gratefully accept your nomination for the presidency of the United States'\n",
       "\\item 'Story Continued Below'\n",
       "\\item 'Together we will lead our party back to the White House and we will lead our country back to safety prosperity and peace We will be a country of generosity and warmth But we will also be a country of law and order'\n",
       "\\item 'Our Convention occurs at a moment of crisis for our nation The attacks on our police and the terrorism in our cities threaten our very way of life Any politician who does not grasp this danger is not fit to lead our country'\n",
       "\\item 'Americans watching this address tonight have seen the recent images of violence in our streets and the chaos in our communities Many have witnessed this violence personally some have even been its victims'\n",
       "\\item 'I have a message for all of you the crime and violence that today afflicts our nation will soon come to an end Beginning on January 20th 2017 safety will be restored'\n",
       "\\end{enumerate*}\n"
      ],
      "text/markdown": [
       "1. 'Friends delegates and fellow Americans I humbly and gratefully accept your nomination for the presidency of the United States'\n",
       "2. 'Story Continued Below'\n",
       "3. 'Together we will lead our party back to the White House and we will lead our country back to safety prosperity and peace We will be a country of generosity and warmth But we will also be a country of law and order'\n",
       "4. 'Our Convention occurs at a moment of crisis for our nation The attacks on our police and the terrorism in our cities threaten our very way of life Any politician who does not grasp this danger is not fit to lead our country'\n",
       "5. 'Americans watching this address tonight have seen the recent images of violence in our streets and the chaos in our communities Many have witnessed this violence personally some have even been its victims'\n",
       "6. 'I have a message for all of you the crime and violence that today afflicts our nation will soon come to an end Beginning on January 20th 2017 safety will be restored'\n",
       "\n",
       "\n"
      ],
      "text/plain": [
       "[1] \"Friends delegates and fellow Americans I humbly and gratefully accept your nomination for the presidency of the United States\"                                                                                                  \n",
       "[2] \"Story Continued Below\"                                                                                                                                                                                                          \n",
       "[3] \"Together we will lead our party back to the White House and we will lead our country back to safety prosperity and peace We will be a country of generosity and warmth But we will also be a country of law and order\"          \n",
       "[4] \"Our Convention occurs at a moment of crisis for our nation The attacks on our police and the terrorism in our cities threaten our very way of life Any politician who does not grasp this danger is not fit to lead our country\"\n",
       "[5] \"Americans watching this address tonight have seen the recent images of violence in our streets and the chaos in our communities Many have witnessed this violence personally some have even been its victims\"                   \n",
       "[6] \"I have a message for all of you the crime and violence that today afflicts our nation will soon come to an end Beginning on January 20th 2017 safety will be restored\"                                                          "
      ]
     },
     "metadata": {},
     "output_type": "display_data"
    },
    {
     "data": {
      "text/html": [
       "<ol class=list-inline>\n",
       "\t<li><span style=white-space:pre-wrap>'friends delegates  fellow americans  humbly  gratefully accept  nomination   presidency   united states'</span></li>\n",
       "\t<li>'story continued '</li>\n",
       "\t<li><span style=white-space:pre-wrap>'together  will lead  party back   white house   will lead  country back  safety prosperity  peace  will   country  generosity  warmth   will also   country  law  order'</span></li>\n",
       "\t<li><span style=white-space:pre-wrap>' convention occurs   moment  crisis   nation  attacks   police   terrorism   cities threaten   way  life  politician    grasp  danger   fit  lead  country'</span></li>\n",
       "\t<li><span style=white-space:pre-wrap>'americans watching  address tonight  seen  recent images  violence   streets   chaos   communities many  witnessed  violence personally   even   victims'</span></li>\n",
       "\t<li><span style=white-space:pre-wrap>'   message      crime  violence  today afflicts  nation will soon come   end beginning  january th  safety will  restored'</span></li>\n",
       "</ol>\n"
      ],
      "text/latex": [
       "\\begin{enumerate*}\n",
       "\\item 'friends delegates  fellow americans  humbly  gratefully accept  nomination   presidency   united states'\n",
       "\\item 'story continued '\n",
       "\\item 'together  will lead  party back   white house   will lead  country back  safety prosperity  peace  will   country  generosity  warmth   will also   country  law  order'\n",
       "\\item ' convention occurs   moment  crisis   nation  attacks   police   terrorism   cities threaten   way  life  politician    grasp  danger   fit  lead  country'\n",
       "\\item 'americans watching  address tonight  seen  recent images  violence   streets   chaos   communities many  witnessed  violence personally   even   victims'\n",
       "\\item '   message      crime  violence  today afflicts  nation will soon come   end beginning  january th  safety will  restored'\n",
       "\\end{enumerate*}\n"
      ],
      "text/markdown": [
       "1. <span style=white-space:pre-wrap>'friends delegates  fellow americans  humbly  gratefully accept  nomination   presidency   united states'</span>\n",
       "2. 'story continued '\n",
       "3. <span style=white-space:pre-wrap>'together  will lead  party back   white house   will lead  country back  safety prosperity  peace  will   country  generosity  warmth   will also   country  law  order'</span>\n",
       "4. <span style=white-space:pre-wrap>' convention occurs   moment  crisis   nation  attacks   police   terrorism   cities threaten   way  life  politician    grasp  danger   fit  lead  country'</span>\n",
       "5. <span style=white-space:pre-wrap>'americans watching  address tonight  seen  recent images  violence   streets   chaos   communities many  witnessed  violence personally   even   victims'</span>\n",
       "6. <span style=white-space:pre-wrap>'   message      crime  violence  today afflicts  nation will soon come   end beginning  january th  safety will  restored'</span>\n",
       "\n",
       "\n"
      ],
      "text/plain": [
       "[1] \"friends delegates  fellow americans  humbly  gratefully accept  nomination   presidency   united states\"                                                                \n",
       "[2] \"story continued \"                                                                                                                                                       \n",
       "[3] \"together  will lead  party back   white house   will lead  country back  safety prosperity  peace  will   country  generosity  warmth   will also   country  law  order\"\n",
       "[4] \" convention occurs   moment  crisis   nation  attacks   police   terrorism   cities threaten   way  life  politician    grasp  danger   fit  lead  country\"             \n",
       "[5] \"americans watching  address tonight  seen  recent images  violence   streets   chaos   communities many  witnessed  violence personally   even   victims\"               \n",
       "[6] \"   message      crime  violence  today afflicts  nation will soon come   end beginning  january th  safety will  restored\"                                              "
      ]
     },
     "metadata": {},
     "output_type": "display_data"
    }
   ],
   "source": [
    "trump.lines.clean = trump.lines %>% stripWhitespace() %>% replace_symbol() %>%\n",
    "        replace_contraction() %>% removePunctuation() %>% removeNumbers() %>% tolower() %>% \n",
    "        removeWords(stopwords(\"english\"))\n",
    "head(trump.lines)\n",
    "head(trump.lines.clean)"
   ]
  },
  {
   "cell_type": "code",
   "execution_count": 32,
   "metadata": {},
   "outputs": [
    {
     "data": {
      "image/png": "[encoded data removed]",
      "text/plain": [
       "plot without title"
      ]
     },
     "metadata": {},
     "output_type": "display_data"
    }
   ],
   "source": [
    "frequent_terms = freq_terms(trump.lines.clean, top = 20, at.least = 4) # at least 4 character words\n",
    "plot(frequent_terms)"
   ]
  },
  {
   "cell_type": "code",
   "execution_count": 33,
   "metadata": {},
   "outputs": [
    {
     "name": "stdout",
     "output_type": "stream",
     "text": [
      "<<PlainTextDocument>>\n",
      "Metadata:  16\n",
      "Content:  chars: 2634\n",
      "\n",
      "OPEC may be forced to meet before a\n",
      "scheduled June session to readdress its production cutting\n",
      "agreement if the organization wants to halt the current slide\n",
      "in oil prices, oil industry analysts said.\n",
      "    \"The movement to higher oil prices was never to be as easy\n",
      "as OPEC thought. They may need an emergency meeting to sort out\n",
      "the problems,\" said Daniel Yergin, director of Cambridge Energy\n",
      "Research Associates, CERA.\n",
      "    Analysts and oil industry sources said the problem OPEC\n",
      "faces is excess oil supply in world oil markets.\n",
      "    \"OPEC's problem is not a price problem but a production\n",
      "issue and must be addressed in that way,\" said Paul Mlotok, oil\n",
      "analyst with Salomon Brothers Inc.\n",
      "    He said the market's earlier optimism about OPEC and its\n",
      "ability to keep production under control have given way to a\n",
      "pessimistic outlook that the organization must address soon if\n",
      "it wishes to regain the initiative in oil prices.\n",
      "    But some other analysts were uncertain that even an\n",
      "emergency meeting would address the problem of OPEC production\n",
      "above the 15.8 mln bpd quota set last December.\n",
      "    \"OPEC has to learn that in a buyers market you cannot have\n",
      "deemed quotas, fixed prices and set differentials,\" said the\n",
      "regional manager for one of the major oil companies who spoke\n",
      "on condition that he not be named. \"The market is now trying to\n",
      "teach them that lesson again,\" he added.\n",
      "    David T. Mizrahi, editor of Mideast reports, expects OPEC\n",
      "to meet before June, although not immediately. However, he is\n",
      "not optimistic that OPEC can address its principal problems.\n",
      "    \"They will not meet now as they try to take advantage of the\n",
      "winter demand to sell their oil, but in late March and April\n",
      "when demand slackens,\" Mizrahi said.\n",
      "    But Mizrahi said that OPEC is unlikely to do anything more\n",
      "than reiterate its agreement to keep output at 15.8 mln bpd.\"\n",
      "    Analysts said that the next two months will be critical for\n",
      "OPEC's ability to hold together prices and output.\n",
      "    \"OPEC must hold to its pact for the next six to eight weeks\n",
      "since buyers will come back into the market then,\" said Dillard\n",
      "Spriggs of Petroleum Analysis Ltd in New York.\n",
      "    But Bijan Moussavar-Rahmani of Harvard University's Energy\n",
      "and Environment Policy Center said that the demand for OPEC oil\n",
      "has been rising through the first quarter and this may have\n",
      "prompted excesses in its production.\n",
      "    \"Demand for their (OPEC) oil is clearly above 15.8 mln bpd\n",
      "and is probably closer to 17 mln bpd or higher now so what we\n",
      "are seeing characterized as cheating is OPEC meeting this\n",
      "demand through current production,\" he told Reuters in a\n",
      "telephone interview.\n",
      " Reuter\n"
     ]
    }
   ],
   "source": [
    "#Everything is a corpus\n",
    "reut21578 <‐ system.file(\"texts\", \"crude\", package = \"tm\") # we are trying just for crude oil articles\n",
    "reuters <‐ VCorpus(DirSource(reut21578), readerControl = list(reader = readReut21578XMLasPlain))\n",
    "inspect(reuters[[2]])"
   ]
  },
  {
   "cell_type": "code",
   "execution_count": 50,
   "metadata": {},
   "outputs": [
    {
     "name": "stdout",
     "output_type": "stream",
     "text": [
      "<<DocumentTermMatrix (documents: 6, terms: 4)>>\n",
      "Non-/sparse entries: 3/21\n",
      "Sparsity           : 88%\n",
      "Maximal term length: 9\n",
      "Weighting          : term frequency (tf)\n",
      "Sample             :\n",
      "     Terms\n",
      "Docs  reduced reduction reference referring\n",
      "  211       0         0         0         0\n",
      "  236       0         0         1         2\n",
      "  237       2         0         0         0\n",
      "  242       0         0         0         0\n",
      "  246       0         0         0         0\n",
      "  248       0         0         0         0\n"
     ]
    }
   ],
   "source": [
    "#manipulate:\n",
    "reuters <‐ tm_map(reuters, stripWhitespace)\n",
    "reuters <‐ tm_map(reuters, content_transformer(tolower))\n",
    "reuters <‐ tm_map(reuters, removeWords, stopwords(\"english\"))\n",
    "dtm <‐ DocumentTermMatrix(reuters, control = list(removePunctuation = TRUE, stopwords = T))\n",
    "inspect(dtm[5:10, 740:743])"
   ]
  },
  {
   "cell_type": "code",
   "execution_count": 51,
   "metadata": {},
   "outputs": [
    {
     "name": "stdout",
     "output_type": "stream",
     "text": [
      "<<DocumentTermMatrix (documents: 20, terms: 999)>>\n",
      "Non-/sparse entries: 1737/18243\n",
      "Sparsity           : 91%\n",
      "Maximal term length: 16\n",
      "Weighting          : term frequency (tf)\n",
      "Sample             :\n",
      "     Terms\n",
      "Docs  bpd crude dlrs last market mln oil opec prices said\n",
      "  144   4     0    0    1      3   4  12   13      5   11\n",
      "  236   7     2    2    4      0   4   7    6      5   10\n",
      "  237   0     0    1    3      0   1   3    1      1    1\n",
      "  242   0     0    0    0      2   0   3    2      2    3\n",
      "  246   0     0    0    2      0   0   5    1      1    5\n",
      "  248   2     0    4    1      8   3   9    6      9    7\n",
      "  273   8     5    2    7      1   9   5    5      5    8\n",
      "  489   0     0    1    0      0   3   4    0      2    2\n",
      "  502   0     0    1    0      0   3   5    0      2    2\n",
      "  704   0     0    0    0      2   0   3    0      3    4\n"
     ]
    }
   ],
   "source": [
    "inspect(dtm)"
   ]
  },
  {
   "cell_type": "code",
   "execution_count": 36,
   "metadata": {},
   "outputs": [
    {
     "data": {
      "text/html": [
       "<ol class=list-inline>\n",
       "\t<li>'DocumentTermMatrix'</li>\n",
       "\t<li>'simple_triplet_matrix'</li>\n",
       "</ol>\n"
      ],
      "text/latex": [
       "\\begin{enumerate*}\n",
       "\\item 'DocumentTermMatrix'\n",
       "\\item 'simple\\_triplet\\_matrix'\n",
       "\\end{enumerate*}\n"
      ],
      "text/markdown": [
       "1. 'DocumentTermMatrix'\n",
       "2. 'simple_triplet_matrix'\n",
       "\n",
       "\n"
      ],
      "text/plain": [
       "[1] \"DocumentTermMatrix\"    \"simple_triplet_matrix\""
      ]
     },
     "metadata": {},
     "output_type": "display_data"
    }
   ],
   "source": [
    "class(dtm)"
   ]
  },
  {
   "cell_type": "code",
   "execution_count": 52,
   "metadata": {},
   "outputs": [
    {
     "data": {
      "text/html": [
       "<ol class=list-inline>\n",
       "\t<li>20</li>\n",
       "\t<li>318</li>\n",
       "</ol>\n"
      ],
      "text/latex": [
       "\\begin{enumerate*}\n",
       "\\item 20\n",
       "\\item 318\n",
       "\\end{enumerate*}\n"
      ],
      "text/markdown": [
       "1. 20\n",
       "2. 318\n",
       "\n",
       "\n"
      ],
      "text/plain": [
       "[1]  20 318"
      ]
     },
     "metadata": {},
     "output_type": "display_data"
    }
   ],
   "source": [
    "dim(as.matrix(removeSparseTerms(dtm, 0.7)))"
   ]
  },
  {
   "cell_type": "code",
   "execution_count": 57,
   "metadata": {},
   "outputs": [
    {
     "data": {
      "text/html": [
       "<table>\n",
       "<thead><tr><th></th><th scope=col>also</th><th scope=col>barrel</th><th scope=col>barrels</th><th scope=col>crude</th><th scope=col>dlrs</th><th scope=col>industry</th><th scope=col>last</th><th scope=col>market</th><th scope=col>mln</th><th scope=col>new</th><th scope=col>...</th><th scope=col>opec</th><th scope=col>pct</th><th scope=col>petroleum</th><th scope=col>price</th><th scope=col>prices</th><th scope=col>reuter</th><th scope=col>said</th><th scope=col>today</th><th scope=col>will</th><th scope=col>world</th></tr></thead>\n",
       "<tbody>\n",
       "\t<tr><th scope=row>127</th><td>0  </td><td>2  </td><td>0  </td><td>2  </td><td>2  </td><td>0  </td><td>1  </td><td>1  </td><td>0  </td><td>0  </td><td>...</td><td> 0 </td><td>0  </td><td>0  </td><td>2  </td><td>3  </td><td>1  </td><td> 3 </td><td>2  </td><td>0  </td><td>0  </td></tr>\n",
       "\t<tr><th scope=row>144</th><td>0  </td><td>0  </td><td>0  </td><td>0  </td><td>0  </td><td>2  </td><td>1  </td><td>3  </td><td>4  </td><td>1  </td><td>...</td><td>13 </td><td>0  </td><td>1  </td><td>1  </td><td>5  </td><td>1  </td><td>11 </td><td>0  </td><td>3  </td><td>1  </td></tr>\n",
       "\t<tr><th scope=row>191</th><td>0  </td><td>1  </td><td>0  </td><td>2  </td><td>1  </td><td>0  </td><td>1  </td><td>0  </td><td>0  </td><td>0  </td><td>...</td><td> 0 </td><td>0  </td><td>0  </td><td>2  </td><td>0  </td><td>1  </td><td> 1 </td><td>1  </td><td>1  </td><td>0  </td></tr>\n",
       "\t<tr><th scope=row>194</th><td>0  </td><td>1  </td><td>0  </td><td>3  </td><td>2  </td><td>0  </td><td>1  </td><td>0  </td><td>0  </td><td>0  </td><td>...</td><td> 0 </td><td>0  </td><td>1  </td><td>2  </td><td>0  </td><td>1  </td><td> 1 </td><td>1  </td><td>1  </td><td>0  </td></tr>\n",
       "\t<tr><th scope=row>211</th><td>0  </td><td>0  </td><td>0  </td><td>0  </td><td>2  </td><td>0  </td><td>0  </td><td>0  </td><td>2  </td><td>0  </td><td>...</td><td> 0 </td><td>2  </td><td>1  </td><td>0  </td><td>0  </td><td>1  </td><td> 3 </td><td>0  </td><td>0  </td><td>0  </td></tr>\n",
       "\t<tr><th scope=row>236</th><td>1  </td><td>3  </td><td>1  </td><td>2  </td><td>2  </td><td>1  </td><td>4  </td><td>0  </td><td>4  </td><td>1  </td><td>...</td><td> 6 </td><td>0  </td><td>0  </td><td>2  </td><td>5  </td><td>1  </td><td>10 </td><td>1  </td><td>2  </td><td>1  </td></tr>\n",
       "</tbody>\n",
       "</table>\n"
      ],
      "text/latex": [
       "\\begin{tabular}{r|llllllllllllllllllllll}\n",
       "  & also & barrel & barrels & crude & dlrs & industry & last & market & mln & new & ... & opec & pct & petroleum & price & prices & reuter & said & today & will & world\\\\\n",
       "\\hline\n",
       "\t127 & 0   & 2   & 0   & 2   & 2   & 0   & 1   & 1   & 0   & 0   & ... &  0  & 0   & 0   & 2   & 3   & 1   &  3  & 2   & 0   & 0  \\\\\n",
       "\t144 & 0   & 0   & 0   & 0   & 0   & 2   & 1   & 3   & 4   & 1   & ... & 13  & 0   & 1   & 1   & 5   & 1   & 11  & 0   & 3   & 1  \\\\\n",
       "\t191 & 0   & 1   & 0   & 2   & 1   & 0   & 1   & 0   & 0   & 0   & ... &  0  & 0   & 0   & 2   & 0   & 1   &  1  & 1   & 1   & 0  \\\\\n",
       "\t194 & 0   & 1   & 0   & 3   & 2   & 0   & 1   & 0   & 0   & 0   & ... &  0  & 0   & 1   & 2   & 0   & 1   &  1  & 1   & 1   & 0  \\\\\n",
       "\t211 & 0   & 0   & 0   & 0   & 2   & 0   & 0   & 0   & 2   & 0   & ... &  0  & 2   & 1   & 0   & 0   & 1   &  3  & 0   & 0   & 0  \\\\\n",
       "\t236 & 1   & 3   & 1   & 2   & 2   & 1   & 4   & 0   & 4   & 1   & ... &  6  & 0   & 0   & 2   & 5   & 1   & 10  & 1   & 2   & 1  \\\\\n",
       "\\end{tabular}\n"
      ],
      "text/markdown": [
       "\n",
       "| <!--/--> | also | barrel | barrels | crude | dlrs | industry | last | market | mln | new | ... | opec | pct | petroleum | price | prices | reuter | said | today | will | world | \n",
       "|---|---|---|---|---|---|\n",
       "| 127 | 0   | 2   | 0   | 2   | 2   | 0   | 1   | 1   | 0   | 0   | ... |  0  | 0   | 0   | 2   | 3   | 1   |  3  | 2   | 0   | 0   | \n",
       "| 144 | 0   | 0   | 0   | 0   | 0   | 2   | 1   | 3   | 4   | 1   | ... | 13  | 0   | 1   | 1   | 5   | 1   | 11  | 0   | 3   | 1   | \n",
       "| 191 | 0   | 1   | 0   | 2   | 1   | 0   | 1   | 0   | 0   | 0   | ... |  0  | 0   | 0   | 2   | 0   | 1   |  1  | 1   | 1   | 0   | \n",
       "| 194 | 0   | 1   | 0   | 3   | 2   | 0   | 1   | 0   | 0   | 0   | ... |  0  | 0   | 1   | 2   | 0   | 1   |  1  | 1   | 1   | 0   | \n",
       "| 211 | 0   | 0   | 0   | 0   | 2   | 0   | 0   | 0   | 2   | 0   | ... |  0  | 2   | 1   | 0   | 0   | 1   |  3  | 0   | 0   | 0   | \n",
       "| 236 | 1   | 3   | 1   | 2   | 2   | 1   | 4   | 0   | 4   | 1   | ... |  6  | 0   | 0   | 2   | 5   | 1   | 10  | 1   | 2   | 1   | \n",
       "\n",
       "\n"
      ],
      "text/plain": [
       "    also barrel barrels crude dlrs industry last market mln new ... opec pct\n",
       "127 0    2      0       2     2    0        1    1      0   0   ...  0   0  \n",
       "144 0    0      0       0     0    2        1    3      4   1   ... 13   0  \n",
       "191 0    1      0       2     1    0        1    0      0   0   ...  0   0  \n",
       "194 0    1      0       3     2    0        1    0      0   0   ...  0   0  \n",
       "211 0    0      0       0     2    0        0    0      2   0   ...  0   2  \n",
       "236 1    3      1       2     2    1        4    0      4   1   ...  6   0  \n",
       "    petroleum price prices reuter said today will world\n",
       "127 0         2     3      1       3   2     0    0    \n",
       "144 1         1     5      1      11   0     3    1    \n",
       "191 0         2     0      1       1   1     1    0    \n",
       "194 1         2     0      1       1   1     1    0    \n",
       "211 1         0     0      1       3   0     0    0    \n",
       "236 0         2     5      1      10   1     2    1    "
      ]
     },
     "metadata": {},
     "output_type": "display_data"
    },
    {
     "data": {
      "text/html": [
       "<ol class=list-inline>\n",
       "\t<li>20</li>\n",
       "\t<li>22</li>\n",
       "</ol>\n"
      ],
      "text/latex": [
       "\\begin{enumerate*}\n",
       "\\item 20\n",
       "\\item 22\n",
       "\\end{enumerate*}\n"
      ],
      "text/markdown": [
       "1. 20\n",
       "2. 22\n",
       "\n",
       "\n"
      ],
      "text/plain": [
       "[1] 20 22"
      ]
     },
     "metadata": {},
     "output_type": "display_data"
    }
   ],
   "source": [
    "dtm_matrix = as.matrix(removeSparseTerms(dtm, 0.7)) # dtm_matrix = tf term frequency\n",
    "head(dtm_matrix)\n",
    "dim(dtm_matrix)"
   ]
  },
  {
   "cell_type": "code",
   "execution_count": 59,
   "metadata": {},
   "outputs": [
    {
     "data": {
      "text/html": [
       "9"
      ],
      "text/latex": [
       "9"
      ],
      "text/markdown": [
       "9"
      ],
      "text/plain": [
       "[1] 9"
      ]
     },
     "metadata": {},
     "output_type": "display_data"
    },
    {
     "data": {
      "text/html": [
       "10"
      ],
      "text/latex": [
       "10"
      ],
      "text/markdown": [
       "10"
      ],
      "text/plain": [
       "[1] 10"
      ]
     },
     "metadata": {},
     "output_type": "display_data"
    }
   ],
   "source": [
    "sum(dtm_matrix[,1] > 0)\n",
    "sum(dtm_matrix[,2] > 0)"
   ]
  },
  {
   "cell_type": "code",
   "execution_count": 62,
   "metadata": {},
   "outputs": [
    {
     "data": {
      "text/html": [
       "0.5"
      ],
      "text/latex": [
       "0.5"
      ],
      "text/markdown": [
       "0.5"
      ],
      "text/plain": [
       "[1] 0.5"
      ]
     },
     "metadata": {},
     "output_type": "display_data"
    }
   ],
   "source": [
    "sum(dtm_matrix[,2] > 0)/nrow(dtm_matrix) # df for the word barrel"
   ]
  },
  {
   "cell_type": "code",
   "execution_count": 63,
   "metadata": {},
   "outputs": [
    {
     "data": {
      "text/html": [
       "2"
      ],
      "text/latex": [
       "2"
      ],
      "text/markdown": [
       "2"
      ],
      "text/plain": [
       "[1] 2"
      ]
     },
     "metadata": {},
     "output_type": "display_data"
    }
   ],
   "source": [
    "nrow(dtm_matrix)/sum(dtm_matrix[,2] > 0) # flipping it around"
   ]
  },
  {
   "cell_type": "code",
   "execution_count": 66,
   "metadata": {},
   "outputs": [],
   "source": [
    "# method 1 for loop\n",
    "idf = rep(0, ncol(dtm_matrix))\n",
    "for (i in 1:ncol(dtm_matrix)) {\n",
    "    idf[i] = nrow(dtm_matrix)/sum(dtm_matrix[,i] > 0)\n",
    "}\n"
   ]
  },
  {
   "cell_type": "code",
   "execution_count": 74,
   "metadata": {},
   "outputs": [
    {
     "data": {
      "text/html": [
       "<dl class=dl-horizontal>\n",
       "\t<dt>also</dt>\n",
       "\t\t<dd>0.798507696217772</dd>\n",
       "\t<dt>barrel</dt>\n",
       "\t\t<dd>0.693147180559945</dd>\n",
       "\t<dt>barrels</dt>\n",
       "\t\t<dd>0.916290731874155</dd>\n",
       "\t<dt>crude</dt>\n",
       "\t\t<dd>0.798507696217772</dd>\n",
       "\t<dt>dlrs</dt>\n",
       "\t\t<dd>0.59783700075562</dd>\n",
       "\t<dt>industry</dt>\n",
       "\t\t<dd>0.916290731874155</dd>\n",
       "\t<dt>last</dt>\n",
       "\t\t<dd>0.510825623765991</dd>\n",
       "\t<dt>market</dt>\n",
       "\t\t<dd>0.916290731874155</dd>\n",
       "\t<dt>mln</dt>\n",
       "\t\t<dd>0.798507696217772</dd>\n",
       "\t<dt>new</dt>\n",
       "\t\t<dd>0.798507696217772</dd>\n",
       "\t<dt>oil</dt>\n",
       "\t\t<dd>0</dd>\n",
       "\t<dt>one</dt>\n",
       "\t\t<dd>0.510825623765991</dd>\n",
       "\t<dt>opec</dt>\n",
       "\t\t<dd>0.693147180559945</dd>\n",
       "\t<dt>pct</dt>\n",
       "\t\t<dd>0.798507696217772</dd>\n",
       "\t<dt>petroleum</dt>\n",
       "\t\t<dd>0.798507696217772</dd>\n",
       "\t<dt>price</dt>\n",
       "\t\t<dd>0.798507696217772</dd>\n",
       "\t<dt>prices</dt>\n",
       "\t\t<dd>0.287682072451781</dd>\n",
       "\t<dt>reuter</dt>\n",
       "\t\t<dd>0</dd>\n",
       "\t<dt>said</dt>\n",
       "\t\t<dd>0</dd>\n",
       "\t<dt>today</dt>\n",
       "\t\t<dd>1.04982212449868</dd>\n",
       "\t<dt>will</dt>\n",
       "\t\t<dd>0.693147180559945</dd>\n",
       "\t<dt>world</dt>\n",
       "\t\t<dd>0.916290731874155</dd>\n",
       "</dl>\n"
      ],
      "text/latex": [
       "\\begin{description*}\n",
       "\\item[also] 0.798507696217772\n",
       "\\item[barrel] 0.693147180559945\n",
       "\\item[barrels] 0.916290731874155\n",
       "\\item[crude] 0.798507696217772\n",
       "\\item[dlrs] 0.59783700075562\n",
       "\\item[industry] 0.916290731874155\n",
       "\\item[last] 0.510825623765991\n",
       "\\item[market] 0.916290731874155\n",
       "\\item[mln] 0.798507696217772\n",
       "\\item[new] 0.798507696217772\n",
       "\\item[oil] 0\n",
       "\\item[one] 0.510825623765991\n",
       "\\item[opec] 0.693147180559945\n",
       "\\item[pct] 0.798507696217772\n",
       "\\item[petroleum] 0.798507696217772\n",
       "\\item[price] 0.798507696217772\n",
       "\\item[prices] 0.287682072451781\n",
       "\\item[reuter] 0\n",
       "\\item[said] 0\n",
       "\\item[today] 1.04982212449868\n",
       "\\item[will] 0.693147180559945\n",
       "\\item[world] 0.916290731874155\n",
       "\\end{description*}\n"
      ],
      "text/markdown": [
       "also\n",
       ":   0.798507696217772barrel\n",
       ":   0.693147180559945barrels\n",
       ":   0.916290731874155crude\n",
       ":   0.798507696217772dlrs\n",
       ":   0.59783700075562industry\n",
       ":   0.916290731874155last\n",
       ":   0.510825623765991market\n",
       ":   0.916290731874155mln\n",
       ":   0.798507696217772new\n",
       ":   0.798507696217772oil\n",
       ":   0one\n",
       ":   0.510825623765991opec\n",
       ":   0.693147180559945pct\n",
       ":   0.798507696217772petroleum\n",
       ":   0.798507696217772price\n",
       ":   0.798507696217772prices\n",
       ":   0.287682072451781reuter\n",
       ":   0said\n",
       ":   0today\n",
       ":   1.04982212449868will\n",
       ":   0.693147180559945world\n",
       ":   0.916290731874155\n",
       "\n"
      ],
      "text/plain": [
       "     also    barrel   barrels     crude      dlrs  industry      last    market \n",
       "0.7985077 0.6931472 0.9162907 0.7985077 0.5978370 0.9162907 0.5108256 0.9162907 \n",
       "      mln       new       oil       one      opec       pct petroleum     price \n",
       "0.7985077 0.7985077 0.0000000 0.5108256 0.6931472 0.7985077 0.7985077 0.7985077 \n",
       "   prices    reuter      said     today      will     world \n",
       "0.2876821 0.0000000 0.0000000 1.0498221 0.6931472 0.9162907 "
      ]
     },
     "metadata": {},
     "output_type": "display_data"
    }
   ],
   "source": [
    "idf = log(nrow(dtm_matrix)/colSums(dtm_matrix > 0)) # sum of boolean matrix\n",
    "idf"
   ]
  },
  {
   "cell_type": "code",
   "execution_count": 72,
   "metadata": {},
   "outputs": [
    {
     "data": {
      "text/html": [
       "<table>\n",
       "<thead><tr><th></th><th scope=col>also</th><th scope=col>barrel</th><th scope=col>barrels</th><th scope=col>crude</th><th scope=col>dlrs</th><th scope=col>industry</th><th scope=col>last</th><th scope=col>market</th><th scope=col>mln</th><th scope=col>new</th><th scope=col>...</th><th scope=col>opec</th><th scope=col>pct</th><th scope=col>petroleum</th><th scope=col>price</th><th scope=col>prices</th><th scope=col>reuter</th><th scope=col>said</th><th scope=col>today</th><th scope=col>will</th><th scope=col>world</th></tr></thead>\n",
       "<tbody>\n",
       "\t<tr><th scope=row>127</th><td>0.0000000 </td><td>1.3862944 </td><td>0.0000000 </td><td>0.5753641 </td><td>1.5970154 </td><td>0.0000000 </td><td>0.0000000 </td><td>0.7985077 </td><td>0.0000000 </td><td>0.0000000 </td><td>...       </td><td> 0.0000000</td><td>0.0000000 </td><td>0.0000000 </td><td>1.5970154 </td><td>2.0794415 </td><td>0.0000000 </td><td>2.3955231 </td><td>1.0216512 </td><td>0.0000000 </td><td>0.0000000 </td></tr>\n",
       "\t<tr><th scope=row>144</th><td>0.0000000 </td><td>0.0000000 </td><td>0.0000000 </td><td>0.0000000 </td><td>0.0000000 </td><td>1.5970154 </td><td>0.5108256 </td><td>2.3955231 </td><td>3.6651629 </td><td>0.9162907 </td><td>...       </td><td>11.9117795</td><td>0.0000000 </td><td>0.0000000 </td><td>0.7985077 </td><td>3.9925385 </td><td>0.5108256 </td><td>8.7835847 </td><td>0.0000000 </td><td>2.7488722 </td><td>0.7985077 </td></tr>\n",
       "\t<tr><th scope=row>191</th><td>0.0000000 </td><td>0.7985077 </td><td>0.0000000 </td><td>0.0000000 </td><td>0.2876821 </td><td>0.0000000 </td><td>0.6931472 </td><td>0.0000000 </td><td>0.0000000 </td><td>0.0000000 </td><td>...       </td><td> 0.0000000</td><td>0.0000000 </td><td>0.0000000 </td><td>0.5753641 </td><td>0.0000000 </td><td>0.6931472 </td><td>0.0000000 </td><td>0.7985077 </td><td>0.5108256 </td><td>0.0000000 </td></tr>\n",
       "\t<tr><th scope=row>194</th><td>0.0000000 </td><td>0.6931472 </td><td>0.0000000 </td><td>3.1494664 </td><td>0.0000000 </td><td>0.0000000 </td><td>0.7985077 </td><td>0.0000000 </td><td>0.0000000 </td><td>0.0000000 </td><td>...       </td><td> 0.0000000</td><td>0.0000000 </td><td>1.0498221 </td><td>0.0000000 </td><td>0.0000000 </td><td>0.7985077 </td><td>0.5108256 </td><td>0.7985077 </td><td>0.9162907 </td><td>0.0000000 </td></tr>\n",
       "\t<tr><th scope=row>211</th><td>0.0000000 </td><td>0.0000000 </td><td>0.0000000 </td><td>0.0000000 </td><td>0.0000000 </td><td>0.0000000 </td><td>0.0000000 </td><td>0.0000000 </td><td>0.0000000 </td><td>0.0000000 </td><td>...       </td><td> 0.0000000</td><td>1.5970154 </td><td>0.6931472 </td><td>0.0000000 </td><td>0.0000000 </td><td>0.7985077 </td><td>2.0794415 </td><td>0.0000000 </td><td>0.0000000 </td><td>0.0000000 </td></tr>\n",
       "\t<tr><th scope=row>236</th><td>0.9162907 </td><td>2.3955231 </td><td>0.6931472 </td><td>1.8325815 </td><td>2.0996442 </td><td>0.0000000 </td><td>3.1940308 </td><td>0.0000000 </td><td>2.0433025 </td><td>0.7985077 </td><td>...       </td><td> 4.7910462</td><td>0.0000000 </td><td>0.0000000 </td><td>2.0996442 </td><td>0.0000000 </td><td>0.7985077 </td><td>7.9850770 </td><td>0.5108256 </td><td>1.5970154 </td><td>0.9162907 </td></tr>\n",
       "\t<tr><th scope=row>237</th><td>0.5108256 </td><td>0.0000000 </td><td>0.0000000 </td><td>0.0000000 </td><td>0.6931472 </td><td>0.0000000 </td><td>0.8630462 </td><td>0.0000000 </td><td>0.6931472 </td><td>0.0000000 </td><td>...       </td><td> 0.5978370</td><td>1.8325815 </td><td>0.7985077 </td><td>0.0000000 </td><td>0.0000000 </td><td>0.2876821 </td><td>0.7985077 </td><td>0.0000000 </td><td>0.0000000 </td><td>2.3955231 </td></tr>\n",
       "\t<tr><th scope=row>242</th><td>0.9162907 </td><td>0.0000000 </td><td>0.0000000 </td><td>0.0000000 </td><td>0.0000000 </td><td>1.0498221 </td><td>0.0000000 </td><td>1.5970154 </td><td>0.0000000 </td><td>0.5108256 </td><td>...       </td><td> 1.8325815</td><td>1.5970154 </td><td>0.0000000 </td><td>0.0000000 </td><td>2.0996442 </td><td>0.0000000 </td><td>2.3955231 </td><td>0.0000000 </td><td>0.5108256 </td><td>0.0000000 </td></tr>\n",
       "\t<tr><th scope=row>246</th><td>0.7985077 </td><td>0.0000000 </td><td>0.5978370 </td><td>0.0000000 </td><td>0.0000000 </td><td>0.6931472 </td><td>0.0000000 </td><td>0.0000000 </td><td>0.0000000 </td><td>0.0000000 </td><td>...       </td><td> 0.5108256</td><td>1.1956740 </td><td>0.9162907 </td><td>0.7985077 </td><td>0.6931472 </td><td>0.0000000 </td><td>1.4384104 </td><td>0.7985077 </td><td>0.0000000 </td><td>0.0000000 </td></tr>\n",
       "\t<tr><th scope=row>248</th><td>0.7985077 </td><td>1.8325815 </td><td>0.9162907 </td><td>0.0000000 </td><td>2.7725887 </td><td>0.0000000 </td><td>1.0498221 </td><td>0.0000000 </td><td>2.3955231 </td><td>0.0000000 </td><td>...       </td><td> 5.4977444</td><td>0.9162907 </td><td>0.0000000 </td><td>0.0000000 </td><td>8.2466166 </td><td>1.0498221 </td><td>0.0000000 </td><td>0.0000000 </td><td>0.7985077 </td><td>0.5108256 </td></tr>\n",
       "\t<tr><th scope=row>273</th><td>0.0000000 </td><td>1.5970154 </td><td>0.5108256 </td><td>2.9891850 </td><td>1.8325815 </td><td>0.0000000 </td><td>4.8520303 </td><td>0.0000000 </td><td>2.5891387 </td><td>0.7985077 </td><td>...       </td><td> 3.9925385</td><td>0.0000000 </td><td>0.5978370 </td><td>0.0000000 </td><td>3.9925385 </td><td>0.6931472 </td><td>0.0000000 </td><td>0.0000000 </td><td>0.7985077 </td><td>0.0000000 </td></tr>\n",
       "\t<tr><th scope=row>349</th><td>0.0000000 </td><td>0.0000000 </td><td>0.0000000 </td><td>1.8325815 </td><td>0.0000000 </td><td>0.0000000 </td><td>0.9162907 </td><td>1.0498221 </td><td>0.0000000 </td><td>0.0000000 </td><td>...       </td><td> 1.5970154</td><td>0.0000000 </td><td>0.9162907 </td><td>0.0000000 </td><td>0.6931472 </td><td>0.9162907 </td><td>1.0498221 </td><td>0.0000000 </td><td>0.7985077 </td><td>0.0000000 </td></tr>\n",
       "\t<tr><th scope=row>352</th><td>0.0000000 </td><td>0.0000000 </td><td>0.0000000 </td><td>0.0000000 </td><td>0.0000000 </td><td>0.0000000 </td><td>0.7985077 </td><td>1.3862944 </td><td>0.0000000 </td><td>0.0000000 </td><td>...       </td><td> 0.0000000</td><td>0.7985077 </td><td>0.0000000 </td><td>0.0000000 </td><td>4.5814537 </td><td>0.7985077 </td><td>1.3862944 </td><td>0.0000000 </td><td>0.2876821 </td><td>0.7985077 </td></tr>\n",
       "\t<tr><th scope=row>353</th><td>0.7985077 </td><td>0.0000000 </td><td>0.7985077 </td><td>1.8325815 </td><td>0.0000000 </td><td>0.0000000 </td><td>0.6931472 </td><td>0.0000000 </td><td>0.0000000 </td><td>0.0000000 </td><td>...       </td><td> 2.0433025</td><td>0.0000000 </td><td>0.0000000 </td><td>0.0000000 </td><td>1.5970154 </td><td>0.6931472 </td><td>0.9162907 </td><td>0.0000000 </td><td>0.0000000 </td><td>0.7985077 </td></tr>\n",
       "\t<tr><th scope=row>368</th><td>0.0000000 </td><td>0.0000000 </td><td>0.0000000 </td><td>0.0000000 </td><td>0.0000000 </td><td>0.0000000 </td><td>0.0000000 </td><td>0.0000000 </td><td>0.0000000 </td><td>0.0000000 </td><td>...       </td><td> 0.0000000</td><td>0.0000000 </td><td>0.0000000 </td><td>0.0000000 </td><td>0.0000000 </td><td>0.9162907 </td><td>2.3955231 </td><td>0.6931472 </td><td>0.0000000 </td><td>0.0000000 </td></tr>\n",
       "\t<tr><th scope=row>489</th><td>0.7985077 </td><td>0.7985077 </td><td>1.0216512 </td><td>0.0000000 </td><td>0.9162907 </td><td>0.9162907 </td><td>0.0000000 </td><td>0.0000000 </td><td>2.7488722 </td><td>1.0498221 </td><td>...       </td><td> 0.0000000</td><td>0.5108256 </td><td>0.7985077 </td><td>0.9162907 </td><td>1.8325815 </td><td>0.7985077 </td><td>1.3862944 </td><td>0.0000000 </td><td>0.0000000 </td><td>0.0000000 </td></tr>\n",
       "\t<tr><th scope=row>502</th><td>0.2876821 </td><td>0.7985077 </td><td>1.3862944 </td><td>0.0000000 </td><td>0.7985077 </td><td>1.0216512 </td><td>0.0000000 </td><td>0.0000000 </td><td>2.3955231 </td><td>0.6931472 </td><td>...       </td><td> 0.0000000</td><td>0.6931472 </td><td>0.0000000 </td><td>0.7985077 </td><td>1.0216512 </td><td>0.5978370 </td><td>1.8325815 </td><td>0.0000000 </td><td>0.0000000 </td><td>0.0000000 </td></tr>\n",
       "\t<tr><th scope=row>543</th><td>0.0000000 </td><td>0.7985077 </td><td>0.0000000 </td><td>1.0216512 </td><td>3.9925385 </td><td>0.0000000 </td><td>0.0000000 </td><td>0.0000000 </td><td>0.0000000 </td><td>0.0000000 </td><td>...       </td><td> 0.0000000</td><td>0.0000000 </td><td>0.0000000 </td><td>0.7985077 </td><td>1.8325815 </td><td>0.9162907 </td><td>3.1940308 </td><td>0.0000000 </td><td>0.0000000 </td><td>0.0000000 </td></tr>\n",
       "\t<tr><th scope=row>704</th><td>0.0000000 </td><td>0.0000000 </td><td>0.0000000 </td><td>0.0000000 </td><td>0.0000000 </td><td>0.7985077 </td><td>0.0000000 </td><td>1.1956740 </td><td>0.0000000 </td><td>2.3955231 </td><td>...       </td><td> 0.0000000</td><td>0.0000000 </td><td>0.0000000 </td><td>0.0000000 </td><td>2.3955231 </td><td>0.5108256 </td><td>2.3913480 </td><td>0.0000000 </td><td>4.7910462 </td><td>0.6931472 </td></tr>\n",
       "\t<tr><th scope=row>708</th><td>0.0000000 </td><td>0.0000000 </td><td>1.5970154 </td><td>0.7985077 </td><td>0.0000000 </td><td>0.0000000 </td><td>0.0000000 </td><td>0.0000000 </td><td>1.5970154 </td><td>0.0000000 </td><td>...       </td><td> 0.0000000</td><td>1.5970154 </td><td>0.0000000 </td><td>0.0000000 </td><td>0.0000000 </td><td>0.9162907 </td><td>0.9162907 </td><td>0.0000000 </td><td>0.0000000 </td><td>0.0000000 </td></tr>\n",
       "</tbody>\n",
       "</table>\n"
      ],
      "text/latex": [
       "\\begin{tabular}{r|llllllllllllllllllllll}\n",
       "  & also & barrel & barrels & crude & dlrs & industry & last & market & mln & new & ... & opec & pct & petroleum & price & prices & reuter & said & today & will & world\\\\\n",
       "\\hline\n",
       "\t127 & 0.0000000  & 1.3862944  & 0.0000000  & 0.5753641  & 1.5970154  & 0.0000000  & 0.0000000  & 0.7985077  & 0.0000000  & 0.0000000  & ...        &  0.0000000 & 0.0000000  & 0.0000000  & 1.5970154  & 2.0794415  & 0.0000000  & 2.3955231  & 1.0216512  & 0.0000000  & 0.0000000 \\\\\n",
       "\t144 & 0.0000000  & 0.0000000  & 0.0000000  & 0.0000000  & 0.0000000  & 1.5970154  & 0.5108256  & 2.3955231  & 3.6651629  & 0.9162907  & ...        & 11.9117795 & 0.0000000  & 0.0000000  & 0.7985077  & 3.9925385  & 0.5108256  & 8.7835847  & 0.0000000  & 2.7488722  & 0.7985077 \\\\\n",
       "\t191 & 0.0000000  & 0.7985077  & 0.0000000  & 0.0000000  & 0.2876821  & 0.0000000  & 0.6931472  & 0.0000000  & 0.0000000  & 0.0000000  & ...        &  0.0000000 & 0.0000000  & 0.0000000  & 0.5753641  & 0.0000000  & 0.6931472  & 0.0000000  & 0.7985077  & 0.5108256  & 0.0000000 \\\\\n",
       "\t194 & 0.0000000  & 0.6931472  & 0.0000000  & 3.1494664  & 0.0000000  & 0.0000000  & 0.7985077  & 0.0000000  & 0.0000000  & 0.0000000  & ...        &  0.0000000 & 0.0000000  & 1.0498221  & 0.0000000  & 0.0000000  & 0.7985077  & 0.5108256  & 0.7985077  & 0.9162907  & 0.0000000 \\\\\n",
       "\t211 & 0.0000000  & 0.0000000  & 0.0000000  & 0.0000000  & 0.0000000  & 0.0000000  & 0.0000000  & 0.0000000  & 0.0000000  & 0.0000000  & ...        &  0.0000000 & 1.5970154  & 0.6931472  & 0.0000000  & 0.0000000  & 0.7985077  & 2.0794415  & 0.0000000  & 0.0000000  & 0.0000000 \\\\\n",
       "\t236 & 0.9162907  & 2.3955231  & 0.6931472  & 1.8325815  & 2.0996442  & 0.0000000  & 3.1940308  & 0.0000000  & 2.0433025  & 0.7985077  & ...        &  4.7910462 & 0.0000000  & 0.0000000  & 2.0996442  & 0.0000000  & 0.7985077  & 7.9850770  & 0.5108256  & 1.5970154  & 0.9162907 \\\\\n",
       "\t237 & 0.5108256  & 0.0000000  & 0.0000000  & 0.0000000  & 0.6931472  & 0.0000000  & 0.8630462  & 0.0000000  & 0.6931472  & 0.0000000  & ...        &  0.5978370 & 1.8325815  & 0.7985077  & 0.0000000  & 0.0000000  & 0.2876821  & 0.7985077  & 0.0000000  & 0.0000000  & 2.3955231 \\\\\n",
       "\t242 & 0.9162907  & 0.0000000  & 0.0000000  & 0.0000000  & 0.0000000  & 1.0498221  & 0.0000000  & 1.5970154  & 0.0000000  & 0.5108256  & ...        &  1.8325815 & 1.5970154  & 0.0000000  & 0.0000000  & 2.0996442  & 0.0000000  & 2.3955231  & 0.0000000  & 0.5108256  & 0.0000000 \\\\\n",
       "\t246 & 0.7985077  & 0.0000000  & 0.5978370  & 0.0000000  & 0.0000000  & 0.6931472  & 0.0000000  & 0.0000000  & 0.0000000  & 0.0000000  & ...        &  0.5108256 & 1.1956740  & 0.9162907  & 0.7985077  & 0.6931472  & 0.0000000  & 1.4384104  & 0.7985077  & 0.0000000  & 0.0000000 \\\\\n",
       "\t248 & 0.7985077  & 1.8325815  & 0.9162907  & 0.0000000  & 2.7725887  & 0.0000000  & 1.0498221  & 0.0000000  & 2.3955231  & 0.0000000  & ...        &  5.4977444 & 0.9162907  & 0.0000000  & 0.0000000  & 8.2466166  & 1.0498221  & 0.0000000  & 0.0000000  & 0.7985077  & 0.5108256 \\\\\n",
       "\t273 & 0.0000000  & 1.5970154  & 0.5108256  & 2.9891850  & 1.8325815  & 0.0000000  & 4.8520303  & 0.0000000  & 2.5891387  & 0.7985077  & ...        &  3.9925385 & 0.0000000  & 0.5978370  & 0.0000000  & 3.9925385  & 0.6931472  & 0.0000000  & 0.0000000  & 0.7985077  & 0.0000000 \\\\\n",
       "\t349 & 0.0000000  & 0.0000000  & 0.0000000  & 1.8325815  & 0.0000000  & 0.0000000  & 0.9162907  & 1.0498221  & 0.0000000  & 0.0000000  & ...        &  1.5970154 & 0.0000000  & 0.9162907  & 0.0000000  & 0.6931472  & 0.9162907  & 1.0498221  & 0.0000000  & 0.7985077  & 0.0000000 \\\\\n",
       "\t352 & 0.0000000  & 0.0000000  & 0.0000000  & 0.0000000  & 0.0000000  & 0.0000000  & 0.7985077  & 1.3862944  & 0.0000000  & 0.0000000  & ...        &  0.0000000 & 0.7985077  & 0.0000000  & 0.0000000  & 4.5814537  & 0.7985077  & 1.3862944  & 0.0000000  & 0.2876821  & 0.7985077 \\\\\n",
       "\t353 & 0.7985077  & 0.0000000  & 0.7985077  & 1.8325815  & 0.0000000  & 0.0000000  & 0.6931472  & 0.0000000  & 0.0000000  & 0.0000000  & ...        &  2.0433025 & 0.0000000  & 0.0000000  & 0.0000000  & 1.5970154  & 0.6931472  & 0.9162907  & 0.0000000  & 0.0000000  & 0.7985077 \\\\\n",
       "\t368 & 0.0000000  & 0.0000000  & 0.0000000  & 0.0000000  & 0.0000000  & 0.0000000  & 0.0000000  & 0.0000000  & 0.0000000  & 0.0000000  & ...        &  0.0000000 & 0.0000000  & 0.0000000  & 0.0000000  & 0.0000000  & 0.9162907  & 2.3955231  & 0.6931472  & 0.0000000  & 0.0000000 \\\\\n",
       "\t489 & 0.7985077  & 0.7985077  & 1.0216512  & 0.0000000  & 0.9162907  & 0.9162907  & 0.0000000  & 0.0000000  & 2.7488722  & 1.0498221  & ...        &  0.0000000 & 0.5108256  & 0.7985077  & 0.9162907  & 1.8325815  & 0.7985077  & 1.3862944  & 0.0000000  & 0.0000000  & 0.0000000 \\\\\n",
       "\t502 & 0.2876821  & 0.7985077  & 1.3862944  & 0.0000000  & 0.7985077  & 1.0216512  & 0.0000000  & 0.0000000  & 2.3955231  & 0.6931472  & ...        &  0.0000000 & 0.6931472  & 0.0000000  & 0.7985077  & 1.0216512  & 0.5978370  & 1.8325815  & 0.0000000  & 0.0000000  & 0.0000000 \\\\\n",
       "\t543 & 0.0000000  & 0.7985077  & 0.0000000  & 1.0216512  & 3.9925385  & 0.0000000  & 0.0000000  & 0.0000000  & 0.0000000  & 0.0000000  & ...        &  0.0000000 & 0.0000000  & 0.0000000  & 0.7985077  & 1.8325815  & 0.9162907  & 3.1940308  & 0.0000000  & 0.0000000  & 0.0000000 \\\\\n",
       "\t704 & 0.0000000  & 0.0000000  & 0.0000000  & 0.0000000  & 0.0000000  & 0.7985077  & 0.0000000  & 1.1956740  & 0.0000000  & 2.3955231  & ...        &  0.0000000 & 0.0000000  & 0.0000000  & 0.0000000  & 2.3955231  & 0.5108256  & 2.3913480  & 0.0000000  & 4.7910462  & 0.6931472 \\\\\n",
       "\t708 & 0.0000000  & 0.0000000  & 1.5970154  & 0.7985077  & 0.0000000  & 0.0000000  & 0.0000000  & 0.0000000  & 1.5970154  & 0.0000000  & ...        &  0.0000000 & 1.5970154  & 0.0000000  & 0.0000000  & 0.0000000  & 0.9162907  & 0.9162907  & 0.0000000  & 0.0000000  & 0.0000000 \\\\\n",
       "\\end{tabular}\n"
      ],
      "text/markdown": [
       "\n",
       "| <!--/--> | also | barrel | barrels | crude | dlrs | industry | last | market | mln | new | ... | opec | pct | petroleum | price | prices | reuter | said | today | will | world | \n",
       "|---|---|---|---|---|---|---|---|---|---|---|---|---|---|---|---|---|---|---|---|\n",
       "| 127 | 0.0000000  | 1.3862944  | 0.0000000  | 0.5753641  | 1.5970154  | 0.0000000  | 0.0000000  | 0.7985077  | 0.0000000  | 0.0000000  | ...        |  0.0000000 | 0.0000000  | 0.0000000  | 1.5970154  | 2.0794415  | 0.0000000  | 2.3955231  | 1.0216512  | 0.0000000  | 0.0000000  | \n",
       "| 144 | 0.0000000  | 0.0000000  | 0.0000000  | 0.0000000  | 0.0000000  | 1.5970154  | 0.5108256  | 2.3955231  | 3.6651629  | 0.9162907  | ...        | 11.9117795 | 0.0000000  | 0.0000000  | 0.7985077  | 3.9925385  | 0.5108256  | 8.7835847  | 0.0000000  | 2.7488722  | 0.7985077  | \n",
       "| 191 | 0.0000000  | 0.7985077  | 0.0000000  | 0.0000000  | 0.2876821  | 0.0000000  | 0.6931472  | 0.0000000  | 0.0000000  | 0.0000000  | ...        |  0.0000000 | 0.0000000  | 0.0000000  | 0.5753641  | 0.0000000  | 0.6931472  | 0.0000000  | 0.7985077  | 0.5108256  | 0.0000000  | \n",
       "| 194 | 0.0000000  | 0.6931472  | 0.0000000  | 3.1494664  | 0.0000000  | 0.0000000  | 0.7985077  | 0.0000000  | 0.0000000  | 0.0000000  | ...        |  0.0000000 | 0.0000000  | 1.0498221  | 0.0000000  | 0.0000000  | 0.7985077  | 0.5108256  | 0.7985077  | 0.9162907  | 0.0000000  | \n",
       "| 211 | 0.0000000  | 0.0000000  | 0.0000000  | 0.0000000  | 0.0000000  | 0.0000000  | 0.0000000  | 0.0000000  | 0.0000000  | 0.0000000  | ...        |  0.0000000 | 1.5970154  | 0.6931472  | 0.0000000  | 0.0000000  | 0.7985077  | 2.0794415  | 0.0000000  | 0.0000000  | 0.0000000  | \n",
       "| 236 | 0.9162907  | 2.3955231  | 0.6931472  | 1.8325815  | 2.0996442  | 0.0000000  | 3.1940308  | 0.0000000  | 2.0433025  | 0.7985077  | ...        |  4.7910462 | 0.0000000  | 0.0000000  | 2.0996442  | 0.0000000  | 0.7985077  | 7.9850770  | 0.5108256  | 1.5970154  | 0.9162907  | \n",
       "| 237 | 0.5108256  | 0.0000000  | 0.0000000  | 0.0000000  | 0.6931472  | 0.0000000  | 0.8630462  | 0.0000000  | 0.6931472  | 0.0000000  | ...        |  0.5978370 | 1.8325815  | 0.7985077  | 0.0000000  | 0.0000000  | 0.2876821  | 0.7985077  | 0.0000000  | 0.0000000  | 2.3955231  | \n",
       "| 242 | 0.9162907  | 0.0000000  | 0.0000000  | 0.0000000  | 0.0000000  | 1.0498221  | 0.0000000  | 1.5970154  | 0.0000000  | 0.5108256  | ...        |  1.8325815 | 1.5970154  | 0.0000000  | 0.0000000  | 2.0996442  | 0.0000000  | 2.3955231  | 0.0000000  | 0.5108256  | 0.0000000  | \n",
       "| 246 | 0.7985077  | 0.0000000  | 0.5978370  | 0.0000000  | 0.0000000  | 0.6931472  | 0.0000000  | 0.0000000  | 0.0000000  | 0.0000000  | ...        |  0.5108256 | 1.1956740  | 0.9162907  | 0.7985077  | 0.6931472  | 0.0000000  | 1.4384104  | 0.7985077  | 0.0000000  | 0.0000000  | \n",
       "| 248 | 0.7985077  | 1.8325815  | 0.9162907  | 0.0000000  | 2.7725887  | 0.0000000  | 1.0498221  | 0.0000000  | 2.3955231  | 0.0000000  | ...        |  5.4977444 | 0.9162907  | 0.0000000  | 0.0000000  | 8.2466166  | 1.0498221  | 0.0000000  | 0.0000000  | 0.7985077  | 0.5108256  | \n",
       "| 273 | 0.0000000  | 1.5970154  | 0.5108256  | 2.9891850  | 1.8325815  | 0.0000000  | 4.8520303  | 0.0000000  | 2.5891387  | 0.7985077  | ...        |  3.9925385 | 0.0000000  | 0.5978370  | 0.0000000  | 3.9925385  | 0.6931472  | 0.0000000  | 0.0000000  | 0.7985077  | 0.0000000  | \n",
       "| 349 | 0.0000000  | 0.0000000  | 0.0000000  | 1.8325815  | 0.0000000  | 0.0000000  | 0.9162907  | 1.0498221  | 0.0000000  | 0.0000000  | ...        |  1.5970154 | 0.0000000  | 0.9162907  | 0.0000000  | 0.6931472  | 0.9162907  | 1.0498221  | 0.0000000  | 0.7985077  | 0.0000000  | \n",
       "| 352 | 0.0000000  | 0.0000000  | 0.0000000  | 0.0000000  | 0.0000000  | 0.0000000  | 0.7985077  | 1.3862944  | 0.0000000  | 0.0000000  | ...        |  0.0000000 | 0.7985077  | 0.0000000  | 0.0000000  | 4.5814537  | 0.7985077  | 1.3862944  | 0.0000000  | 0.2876821  | 0.7985077  | \n",
       "| 353 | 0.7985077  | 0.0000000  | 0.7985077  | 1.8325815  | 0.0000000  | 0.0000000  | 0.6931472  | 0.0000000  | 0.0000000  | 0.0000000  | ...        |  2.0433025 | 0.0000000  | 0.0000000  | 0.0000000  | 1.5970154  | 0.6931472  | 0.9162907  | 0.0000000  | 0.0000000  | 0.7985077  | \n",
       "| 368 | 0.0000000  | 0.0000000  | 0.0000000  | 0.0000000  | 0.0000000  | 0.0000000  | 0.0000000  | 0.0000000  | 0.0000000  | 0.0000000  | ...        |  0.0000000 | 0.0000000  | 0.0000000  | 0.0000000  | 0.0000000  | 0.9162907  | 2.3955231  | 0.6931472  | 0.0000000  | 0.0000000  | \n",
       "| 489 | 0.7985077  | 0.7985077  | 1.0216512  | 0.0000000  | 0.9162907  | 0.9162907  | 0.0000000  | 0.0000000  | 2.7488722  | 1.0498221  | ...        |  0.0000000 | 0.5108256  | 0.7985077  | 0.9162907  | 1.8325815  | 0.7985077  | 1.3862944  | 0.0000000  | 0.0000000  | 0.0000000  | \n",
       "| 502 | 0.2876821  | 0.7985077  | 1.3862944  | 0.0000000  | 0.7985077  | 1.0216512  | 0.0000000  | 0.0000000  | 2.3955231  | 0.6931472  | ...        |  0.0000000 | 0.6931472  | 0.0000000  | 0.7985077  | 1.0216512  | 0.5978370  | 1.8325815  | 0.0000000  | 0.0000000  | 0.0000000  | \n",
       "| 543 | 0.0000000  | 0.7985077  | 0.0000000  | 1.0216512  | 3.9925385  | 0.0000000  | 0.0000000  | 0.0000000  | 0.0000000  | 0.0000000  | ...        |  0.0000000 | 0.0000000  | 0.0000000  | 0.7985077  | 1.8325815  | 0.9162907  | 3.1940308  | 0.0000000  | 0.0000000  | 0.0000000  | \n",
       "| 704 | 0.0000000  | 0.0000000  | 0.0000000  | 0.0000000  | 0.0000000  | 0.7985077  | 0.0000000  | 1.1956740  | 0.0000000  | 2.3955231  | ...        |  0.0000000 | 0.0000000  | 0.0000000  | 0.0000000  | 2.3955231  | 0.5108256  | 2.3913480  | 0.0000000  | 4.7910462  | 0.6931472  | \n",
       "| 708 | 0.0000000  | 0.0000000  | 1.5970154  | 0.7985077  | 0.0000000  | 0.0000000  | 0.0000000  | 0.0000000  | 1.5970154  | 0.0000000  | ...        |  0.0000000 | 1.5970154  | 0.0000000  | 0.0000000  | 0.0000000  | 0.9162907  | 0.9162907  | 0.0000000  | 0.0000000  | 0.0000000  | \n",
       "\n",
       "\n"
      ],
      "text/plain": [
       "    also      barrel    barrels   crude     dlrs      industry  last     \n",
       "127 0.0000000 1.3862944 0.0000000 0.5753641 1.5970154 0.0000000 0.0000000\n",
       "144 0.0000000 0.0000000 0.0000000 0.0000000 0.0000000 1.5970154 0.5108256\n",
       "191 0.0000000 0.7985077 0.0000000 0.0000000 0.2876821 0.0000000 0.6931472\n",
       "194 0.0000000 0.6931472 0.0000000 3.1494664 0.0000000 0.0000000 0.7985077\n",
       "211 0.0000000 0.0000000 0.0000000 0.0000000 0.0000000 0.0000000 0.0000000\n",
       "236 0.9162907 2.3955231 0.6931472 1.8325815 2.0996442 0.0000000 3.1940308\n",
       "237 0.5108256 0.0000000 0.0000000 0.0000000 0.6931472 0.0000000 0.8630462\n",
       "242 0.9162907 0.0000000 0.0000000 0.0000000 0.0000000 1.0498221 0.0000000\n",
       "246 0.7985077 0.0000000 0.5978370 0.0000000 0.0000000 0.6931472 0.0000000\n",
       "248 0.7985077 1.8325815 0.9162907 0.0000000 2.7725887 0.0000000 1.0498221\n",
       "273 0.0000000 1.5970154 0.5108256 2.9891850 1.8325815 0.0000000 4.8520303\n",
       "349 0.0000000 0.0000000 0.0000000 1.8325815 0.0000000 0.0000000 0.9162907\n",
       "352 0.0000000 0.0000000 0.0000000 0.0000000 0.0000000 0.0000000 0.7985077\n",
       "353 0.7985077 0.0000000 0.7985077 1.8325815 0.0000000 0.0000000 0.6931472\n",
       "368 0.0000000 0.0000000 0.0000000 0.0000000 0.0000000 0.0000000 0.0000000\n",
       "489 0.7985077 0.7985077 1.0216512 0.0000000 0.9162907 0.9162907 0.0000000\n",
       "502 0.2876821 0.7985077 1.3862944 0.0000000 0.7985077 1.0216512 0.0000000\n",
       "543 0.0000000 0.7985077 0.0000000 1.0216512 3.9925385 0.0000000 0.0000000\n",
       "704 0.0000000 0.0000000 0.0000000 0.0000000 0.0000000 0.7985077 0.0000000\n",
       "708 0.0000000 0.0000000 1.5970154 0.7985077 0.0000000 0.0000000 0.0000000\n",
       "    market    mln       new       ... opec       pct       petroleum price    \n",
       "127 0.7985077 0.0000000 0.0000000 ...  0.0000000 0.0000000 0.0000000 1.5970154\n",
       "144 2.3955231 3.6651629 0.9162907 ... 11.9117795 0.0000000 0.0000000 0.7985077\n",
       "191 0.0000000 0.0000000 0.0000000 ...  0.0000000 0.0000000 0.0000000 0.5753641\n",
       "194 0.0000000 0.0000000 0.0000000 ...  0.0000000 0.0000000 1.0498221 0.0000000\n",
       "211 0.0000000 0.0000000 0.0000000 ...  0.0000000 1.5970154 0.6931472 0.0000000\n",
       "236 0.0000000 2.0433025 0.7985077 ...  4.7910462 0.0000000 0.0000000 2.0996442\n",
       "237 0.0000000 0.6931472 0.0000000 ...  0.5978370 1.8325815 0.7985077 0.0000000\n",
       "242 1.5970154 0.0000000 0.5108256 ...  1.8325815 1.5970154 0.0000000 0.0000000\n",
       "246 0.0000000 0.0000000 0.0000000 ...  0.5108256 1.1956740 0.9162907 0.7985077\n",
       "248 0.0000000 2.3955231 0.0000000 ...  5.4977444 0.9162907 0.0000000 0.0000000\n",
       "273 0.0000000 2.5891387 0.7985077 ...  3.9925385 0.0000000 0.5978370 0.0000000\n",
       "349 1.0498221 0.0000000 0.0000000 ...  1.5970154 0.0000000 0.9162907 0.0000000\n",
       "352 1.3862944 0.0000000 0.0000000 ...  0.0000000 0.7985077 0.0000000 0.0000000\n",
       "353 0.0000000 0.0000000 0.0000000 ...  2.0433025 0.0000000 0.0000000 0.0000000\n",
       "368 0.0000000 0.0000000 0.0000000 ...  0.0000000 0.0000000 0.0000000 0.0000000\n",
       "489 0.0000000 2.7488722 1.0498221 ...  0.0000000 0.5108256 0.7985077 0.9162907\n",
       "502 0.0000000 2.3955231 0.6931472 ...  0.0000000 0.6931472 0.0000000 0.7985077\n",
       "543 0.0000000 0.0000000 0.0000000 ...  0.0000000 0.0000000 0.0000000 0.7985077\n",
       "704 1.1956740 0.0000000 2.3955231 ...  0.0000000 0.0000000 0.0000000 0.0000000\n",
       "708 0.0000000 1.5970154 0.0000000 ...  0.0000000 1.5970154 0.0000000 0.0000000\n",
       "    prices    reuter    said      today     will      world    \n",
       "127 2.0794415 0.0000000 2.3955231 1.0216512 0.0000000 0.0000000\n",
       "144 3.9925385 0.5108256 8.7835847 0.0000000 2.7488722 0.7985077\n",
       "191 0.0000000 0.6931472 0.0000000 0.7985077 0.5108256 0.0000000\n",
       "194 0.0000000 0.7985077 0.5108256 0.7985077 0.9162907 0.0000000\n",
       "211 0.0000000 0.7985077 2.0794415 0.0000000 0.0000000 0.0000000\n",
       "236 0.0000000 0.7985077 7.9850770 0.5108256 1.5970154 0.9162907\n",
       "237 0.0000000 0.2876821 0.7985077 0.0000000 0.0000000 2.3955231\n",
       "242 2.0996442 0.0000000 2.3955231 0.0000000 0.5108256 0.0000000\n",
       "246 0.6931472 0.0000000 1.4384104 0.7985077 0.0000000 0.0000000\n",
       "248 8.2466166 1.0498221 0.0000000 0.0000000 0.7985077 0.5108256\n",
       "273 3.9925385 0.6931472 0.0000000 0.0000000 0.7985077 0.0000000\n",
       "349 0.6931472 0.9162907 1.0498221 0.0000000 0.7985077 0.0000000\n",
       "352 4.5814537 0.7985077 1.3862944 0.0000000 0.2876821 0.7985077\n",
       "353 1.5970154 0.6931472 0.9162907 0.0000000 0.0000000 0.7985077\n",
       "368 0.0000000 0.9162907 2.3955231 0.6931472 0.0000000 0.0000000\n",
       "489 1.8325815 0.7985077 1.3862944 0.0000000 0.0000000 0.0000000\n",
       "502 1.0216512 0.5978370 1.8325815 0.0000000 0.0000000 0.0000000\n",
       "543 1.8325815 0.9162907 3.1940308 0.0000000 0.0000000 0.0000000\n",
       "704 2.3955231 0.5108256 2.3913480 0.0000000 4.7910462 0.6931472\n",
       "708 0.0000000 0.9162907 0.9162907 0.0000000 0.0000000 0.0000000"
      ]
     },
     "metadata": {},
     "output_type": "display_data"
    }
   ],
   "source": [
    "tfidf = dtm_matrix*idf # matrix * vector is row-wise multiplication\n",
    "tfidf"
   ]
  },
  {
   "cell_type": "code",
   "execution_count": 77,
   "metadata": {},
   "outputs": [
    {
     "name": "stdout",
     "output_type": "stream",
     "text": [
      "<<DocumentTermMatrix (documents: 20, terms: 19)>>\n",
      "Non-/sparse entries: 182/198\n",
      "Sparsity           : 52%\n",
      "Maximal term length: 9\n",
      "Weighting          : term frequency - inverse document frequency (normalized) (tf-idf)\n",
      "Sample             :\n",
      "     Terms\n",
      "Docs       barrel      crude        dlrs     market        mln       opec\n",
      "  127 0.033898305 0.03905095 0.029237169 0.02240556 0.00000000 0.00000000\n",
      "  191 0.025641026 0.05907708 0.022115294 0.00000000 0.00000000 0.00000000\n",
      "  194 0.021739130 0.07513064 0.037499847 0.00000000 0.00000000 0.00000000\n",
      "  248 0.009302326 0.00000000 0.016046446 0.04918802 0.01607446 0.02790698\n",
      "  352 0.014285714 0.00000000 0.000000000 0.03776937 0.00000000 0.02857143\n",
      "  353 0.000000000 0.03777059 0.000000000 0.00000000 0.00000000 0.06557377\n",
      "  489 0.011494253 0.00000000 0.009913753 0.00000000 0.03972424 0.00000000\n",
      "  502 0.008849558 0.00000000 0.007632712 0.00000000 0.03058415 0.00000000\n",
      "  543 0.018181818 0.04189102 0.078408771 0.00000000 0.00000000 0.00000000\n",
      "  708 0.000000000 0.02618189 0.000000000 0.00000000 0.05236378 0.00000000\n",
      "     Terms\n",
      "Docs          pct      price      prices      today\n",
      "  127 0.000000000 0.03905095 0.021103602 0.05134146\n",
      "  191 0.000000000 0.05907708 0.000000000 0.03883521\n",
      "  194 0.000000000 0.05008709 0.000000000 0.03292550\n",
      "  248 0.005358154 0.00000000 0.017373663 0.00000000\n",
      "  352 0.016457187 0.00000000 0.029645536 0.00000000\n",
      "  353 0.000000000 0.00000000 0.013607787 0.00000000\n",
      "  489 0.013241415 0.01324141 0.009541092 0.00000000\n",
      "  502 0.010194718 0.01019472 0.007345796 0.00000000\n",
      "  543 0.000000000 0.02094551 0.015092273 0.00000000\n",
      "  708 0.052363777 0.00000000 0.000000000 0.00000000\n"
     ]
    }
   ],
   "source": [
    "# automatically create tf-idf\n",
    "dtm <‐ DocumentTermMatrix(reuters, control = list(removePunctuation = TRUE, stopwords = T, weighting = weightTfIdf))\n",
    "#dtm <- removeSparseTerms(dtm, 0.7)\n",
    "inspect(dtm)\n",
    "#as.matrix(dtm)"
   ]
  },
  {
   "cell_type": "code",
   "execution_count": 85,
   "metadata": {},
   "outputs": [
    {
     "data": {
      "text/html": [
       "<table>\n",
       "<thead><tr><th></th><th scope=col>100000</th><th scope=col>108</th><th scope=col>111</th><th scope=col>115</th><th scope=col>12217</th><th scope=col>1232</th><th scope=col>1381</th><th scope=col>13member</th><th scope=col>13nation</th><th scope=col>150</th><th scope=col>...</th><th scope=col>yacimientos</th><th scope=col>yanbu</th><th scope=col>year</th><th scope=col>years</th><th scope=col>yergin</th><th scope=col>yesterday</th><th scope=col>yesterdays</th><th scope=col>york</th><th scope=col>zero</th><th scope=col>zone</th></tr></thead>\n",
       "<tbody>\n",
       "\t<tr><th scope=row>127</th><td>0.000000 </td><td>0.000000 </td><td>0.000000 </td><td>0.000000 </td><td>0.000000 </td><td>0.000000 </td><td>0.000000 </td><td>0.000000 </td><td>0.000000 </td><td>4.321928 </td><td>...      </td><td>0.000000 </td><td>0.000000 </td><td>0.000000 </td><td> 0.000000</td><td>0.000000 </td><td>0.000000 </td><td>0.000000 </td><td>0.000000 </td><td>0.000000 </td><td>0.000000 </td></tr>\n",
       "\t<tr><th scope=row>144</th><td>0.000000 </td><td>0.000000 </td><td>0.000000 </td><td>0.000000 </td><td>0.000000 </td><td>0.000000 </td><td>0.000000 </td><td>0.000000 </td><td>0.000000 </td><td>0.000000 </td><td>...      </td><td>0.000000 </td><td>0.000000 </td><td>0.000000 </td><td> 0.000000</td><td>4.321928 </td><td>0.000000 </td><td>0.000000 </td><td>4.321928 </td><td>0.000000 </td><td>0.000000 </td></tr>\n",
       "\t<tr><th scope=row>191</th><td>0.000000 </td><td>0.000000 </td><td>0.000000 </td><td>0.000000 </td><td>0.000000 </td><td>0.000000 </td><td>0.000000 </td><td>0.000000 </td><td>0.000000 </td><td>0.000000 </td><td>...      </td><td>0.000000 </td><td>0.000000 </td><td>0.000000 </td><td> 0.000000</td><td>0.000000 </td><td>0.000000 </td><td>0.000000 </td><td>0.000000 </td><td>0.000000 </td><td>0.000000 </td></tr>\n",
       "\t<tr><th scope=row>194</th><td>0.000000 </td><td>0.000000 </td><td>0.000000 </td><td>0.000000 </td><td>0.000000 </td><td>0.000000 </td><td>0.000000 </td><td>0.000000 </td><td>0.000000 </td><td>0.000000 </td><td>...      </td><td>0.000000 </td><td>0.000000 </td><td>0.000000 </td><td> 0.000000</td><td>0.000000 </td><td>0.000000 </td><td>0.000000 </td><td>0.000000 </td><td>0.000000 </td><td>0.000000 </td></tr>\n",
       "\t<tr><th scope=row>211</th><td>0.000000 </td><td>0.000000 </td><td>0.000000 </td><td>0.000000 </td><td>0.000000 </td><td>0.000000 </td><td>0.000000 </td><td>0.000000 </td><td>0.000000 </td><td>0.000000 </td><td>...      </td><td>0.000000 </td><td>0.000000 </td><td>4.321928 </td><td> 0.000000</td><td>0.000000 </td><td>0.000000 </td><td>0.000000 </td><td>0.000000 </td><td>0.000000 </td><td>0.000000 </td></tr>\n",
       "\t<tr><th scope=row>236</th><td>0.000000 </td><td>0.000000 </td><td>0.000000 </td><td>0.000000 </td><td>0.000000 </td><td>0.000000 </td><td>0.000000 </td><td>0.000000 </td><td>4.321928 </td><td>0.000000 </td><td>...      </td><td>0.000000 </td><td>0.000000 </td><td>4.321928 </td><td> 0.000000</td><td>0.000000 </td><td>0.000000 </td><td>0.000000 </td><td>4.321928 </td><td>0.000000 </td><td>0.000000 </td></tr>\n",
       "\t<tr><th scope=row>237</th><td>0.000000 </td><td>0.000000 </td><td>0.000000 </td><td>0.000000 </td><td>0.000000 </td><td>0.000000 </td><td>0.000000 </td><td>0.000000 </td><td>0.000000 </td><td>0.000000 </td><td>...      </td><td>0.000000 </td><td>0.000000 </td><td>0.000000 </td><td> 4.321928</td><td>0.000000 </td><td>0.000000 </td><td>0.000000 </td><td>0.000000 </td><td>4.321928 </td><td>0.000000 </td></tr>\n",
       "\t<tr><th scope=row>242</th><td>0.000000 </td><td>0.000000 </td><td>0.000000 </td><td>0.000000 </td><td>0.000000 </td><td>0.000000 </td><td>0.000000 </td><td>4.321928 </td><td>0.000000 </td><td>0.000000 </td><td>...      </td><td>0.000000 </td><td>0.000000 </td><td>0.000000 </td><td> 0.000000</td><td>0.000000 </td><td>9.965784 </td><td>4.321928 </td><td>0.000000 </td><td>0.000000 </td><td>0.000000 </td></tr>\n",
       "\t<tr><th scope=row>246</th><td>0.000000 </td><td>0.000000 </td><td>0.000000 </td><td>0.000000 </td><td>2.736966 </td><td>0.000000 </td><td>0.000000 </td><td>0.000000 </td><td>0.000000 </td><td>0.000000 </td><td>...      </td><td>0.000000 </td><td>0.000000 </td><td>8.643856 </td><td>12.965784</td><td>0.000000 </td><td>0.000000 </td><td>0.000000 </td><td>0.000000 </td><td>0.000000 </td><td>0.000000 </td></tr>\n",
       "\t<tr><th scope=row>248</th><td>0.000000 </td><td>0.000000 </td><td>0.000000 </td><td>0.000000 </td><td>0.000000 </td><td>0.000000 </td><td>0.000000 </td><td>0.000000 </td><td>0.000000 </td><td>0.000000 </td><td>...      </td><td>0.000000 </td><td>0.000000 </td><td>2.736966 </td><td> 0.000000</td><td>0.000000 </td><td>0.000000 </td><td>0.000000 </td><td>0.000000 </td><td>0.000000 </td><td>0.000000 </td></tr>\n",
       "\t<tr><th scope=row>273</th><td>3.321928 </td><td>0.000000 </td><td>0.000000 </td><td>0.000000 </td><td>0.000000 </td><td>0.000000 </td><td>0.000000 </td><td>0.000000 </td><td>4.321928 </td><td>0.000000 </td><td>...      </td><td>0.000000 </td><td>8.643856 </td><td>0.000000 </td><td> 0.000000</td><td>0.000000 </td><td>4.321928 </td><td>0.000000 </td><td>0.000000 </td><td>3.321928 </td><td>8.643856 </td></tr>\n",
       "\t<tr><th scope=row>349</th><td>0.000000 </td><td>0.000000 </td><td>0.000000 </td><td>0.000000 </td><td>0.000000 </td><td>0.000000 </td><td>0.000000 </td><td>0.000000 </td><td>0.000000 </td><td>0.000000 </td><td>...      </td><td>0.000000 </td><td>0.000000 </td><td>0.000000 </td><td> 0.000000</td><td>0.000000 </td><td>0.000000 </td><td>0.000000 </td><td>0.000000 </td><td>0.000000 </td><td>0.000000 </td></tr>\n",
       "\t<tr><th scope=row>352</th><td>0.000000 </td><td>0.000000 </td><td>0.000000 </td><td>0.000000 </td><td>0.000000 </td><td>0.000000 </td><td>0.000000 </td><td>0.000000 </td><td>0.000000 </td><td>0.000000 </td><td>...      </td><td>0.000000 </td><td>0.000000 </td><td>0.000000 </td><td> 0.000000</td><td>0.000000 </td><td>0.000000 </td><td>0.000000 </td><td>0.000000 </td><td>0.000000 </td><td>0.000000 </td></tr>\n",
       "\t<tr><th scope=row>353</th><td>0.000000 </td><td>0.000000 </td><td>0.000000 </td><td>0.000000 </td><td>0.000000 </td><td>0.000000 </td><td>0.000000 </td><td>0.000000 </td><td>4.321928 </td><td>0.000000 </td><td>...      </td><td>0.000000 </td><td>0.000000 </td><td>0.000000 </td><td> 0.000000</td><td>0.000000 </td><td>0.000000 </td><td>0.000000 </td><td>0.000000 </td><td>0.000000 </td><td>0.000000 </td></tr>\n",
       "\t<tr><th scope=row>368</th><td>0.000000 </td><td>0.000000 </td><td>0.000000 </td><td>0.000000 </td><td>0.000000 </td><td>0.000000 </td><td>0.000000 </td><td>0.000000 </td><td>0.000000 </td><td>0.000000 </td><td>...      </td><td>0.000000 </td><td>0.000000 </td><td>0.000000 </td><td> 0.000000</td><td>0.000000 </td><td>0.000000 </td><td>0.000000 </td><td>0.000000 </td><td>0.000000 </td><td>0.000000 </td></tr>\n",
       "\t<tr><th scope=row>489</th><td>0.000000 </td><td>0.000000 </td><td>0.000000 </td><td>0.000000 </td><td>0.000000 </td><td>0.000000 </td><td>0.000000 </td><td>0.000000 </td><td>0.000000 </td><td>0.000000 </td><td>...      </td><td>0.000000 </td><td>0.000000 </td><td>0.000000 </td><td> 4.321928</td><td>0.000000 </td><td>0.000000 </td><td>0.000000 </td><td>0.000000 </td><td>0.000000 </td><td>0.000000 </td></tr>\n",
       "\t<tr><th scope=row>502</th><td>0.000000 </td><td>0.000000 </td><td>0.000000 </td><td>0.000000 </td><td>0.000000 </td><td>0.000000 </td><td>0.000000 </td><td>0.000000 </td><td>0.000000 </td><td>0.000000 </td><td>...      </td><td>0.000000 </td><td>0.000000 </td><td>0.000000 </td><td> 4.321928</td><td>0.000000 </td><td>0.000000 </td><td>0.000000 </td><td>0.000000 </td><td>0.000000 </td><td>0.000000 </td></tr>\n",
       "\t<tr><th scope=row>543</th><td>0.000000 </td><td>0.000000 </td><td>0.000000 </td><td>0.000000 </td><td>0.000000 </td><td>0.000000 </td><td>0.000000 </td><td>0.000000 </td><td>0.000000 </td><td>8.210897 </td><td>...      </td><td>0.000000 </td><td>0.000000 </td><td>0.000000 </td><td> 0.000000</td><td>0.000000 </td><td>0.000000 </td><td>0.000000 </td><td>0.000000 </td><td>0.000000 </td><td>0.000000 </td></tr>\n",
       "\t<tr><th scope=row>704</th><td>0.000000 </td><td>0.000000 </td><td>0.000000 </td><td>0.000000 </td><td>0.000000 </td><td>0.000000 </td><td>0.000000 </td><td>0.000000 </td><td>0.000000 </td><td>0.000000 </td><td>...      </td><td>0.000000 </td><td>0.000000 </td><td>0.000000 </td><td> 0.000000</td><td>0.000000 </td><td>0.000000 </td><td>0.000000 </td><td>4.321928 </td><td>0.000000 </td><td>0.000000 </td></tr>\n",
       "\t<tr><th scope=row>708</th><td>0.000000 </td><td>4.321928 </td><td>4.321928 </td><td>3.321928 </td><td>0.000000 </td><td>4.321928 </td><td>4.321928 </td><td>0.000000 </td><td>0.000000 </td><td>0.000000 </td><td>...      </td><td>8.643856 </td><td>0.000000 </td><td>0.000000 </td><td> 0.000000</td><td>0.000000 </td><td>0.000000 </td><td>0.000000 </td><td>0.000000 </td><td>0.000000 </td><td>0.000000 </td></tr>\n",
       "</tbody>\n",
       "</table>\n"
      ],
      "text/latex": [
       "\\begin{tabular}{r|lllllllllllllllllllllllllllllllllllllllllllllllllllllllllllllllllllllllllllllllllllllllllllllllllllllllllllllllllllllllllllllllllllllllllllllllllllllllllllllllllllllllllllllllllllllllllllllllllllllllllllllllllllllllllllllllllllllllllllllllllllllllllllllllllllllllllllllllllllllllllllllllllllllllllllllllllllllllllllllllllllllllllllllllllllllllllllllllllllllllllllllllllllllllllllllllllllllllllllllllllllllllllllllllllllllllllllllllllllllllllllllllllllllllllllllllllllllllllllllllllllllllllllllllllllllllllllllllllllllllllllllllllllllllllllllllllllllllllllllllllllllllllllllllllllllllllllllllllllllllllllllllllllllllllllllllllllllllllllllllllllllllllllllllllllllllllllllllllllllllllllllllllllllllllllllllllllllllllllllllllllllllllllllllllllllllllllllllllllllllllllllllllllllllllllllllllllllllllllllllllllllllllllllllllllllllllllllllllllllllllllllllllllllllllllllllllllllllllllllllllllllllllllllllllllllllllllllllllllllllllllllllllllllllllllllllllllllllllllllllllllllllllllllllllllllllllllllllllllllll}\n",
       "  & 100000 & 108 & 111 & 115 & 12217 & 1232 & 1381 & 13member & 13nation & 150 & ... & yacimientos & yanbu & year & years & yergin & yesterday & yesterdays & york & zero & zone\\\\\n",
       "\\hline\n",
       "\t127 & 0.000000  & 0.000000  & 0.000000  & 0.000000  & 0.000000  & 0.000000  & 0.000000  & 0.000000  & 0.000000  & 4.321928  & ...       & 0.000000  & 0.000000  & 0.000000  &  0.000000 & 0.000000  & 0.000000  & 0.000000  & 0.000000  & 0.000000  & 0.000000 \\\\\n",
       "\t144 & 0.000000  & 0.000000  & 0.000000  & 0.000000  & 0.000000  & 0.000000  & 0.000000  & 0.000000  & 0.000000  & 0.000000  & ...       & 0.000000  & 0.000000  & 0.000000  &  0.000000 & 4.321928  & 0.000000  & 0.000000  & 4.321928  & 0.000000  & 0.000000 \\\\\n",
       "\t191 & 0.000000  & 0.000000  & 0.000000  & 0.000000  & 0.000000  & 0.000000  & 0.000000  & 0.000000  & 0.000000  & 0.000000  & ...       & 0.000000  & 0.000000  & 0.000000  &  0.000000 & 0.000000  & 0.000000  & 0.000000  & 0.000000  & 0.000000  & 0.000000 \\\\\n",
       "\t194 & 0.000000  & 0.000000  & 0.000000  & 0.000000  & 0.000000  & 0.000000  & 0.000000  & 0.000000  & 0.000000  & 0.000000  & ...       & 0.000000  & 0.000000  & 0.000000  &  0.000000 & 0.000000  & 0.000000  & 0.000000  & 0.000000  & 0.000000  & 0.000000 \\\\\n",
       "\t211 & 0.000000  & 0.000000  & 0.000000  & 0.000000  & 0.000000  & 0.000000  & 0.000000  & 0.000000  & 0.000000  & 0.000000  & ...       & 0.000000  & 0.000000  & 4.321928  &  0.000000 & 0.000000  & 0.000000  & 0.000000  & 0.000000  & 0.000000  & 0.000000 \\\\\n",
       "\t236 & 0.000000  & 0.000000  & 0.000000  & 0.000000  & 0.000000  & 0.000000  & 0.000000  & 0.000000  & 4.321928  & 0.000000  & ...       & 0.000000  & 0.000000  & 4.321928  &  0.000000 & 0.000000  & 0.000000  & 0.000000  & 4.321928  & 0.000000  & 0.000000 \\\\\n",
       "\t237 & 0.000000  & 0.000000  & 0.000000  & 0.000000  & 0.000000  & 0.000000  & 0.000000  & 0.000000  & 0.000000  & 0.000000  & ...       & 0.000000  & 0.000000  & 0.000000  &  4.321928 & 0.000000  & 0.000000  & 0.000000  & 0.000000  & 4.321928  & 0.000000 \\\\\n",
       "\t242 & 0.000000  & 0.000000  & 0.000000  & 0.000000  & 0.000000  & 0.000000  & 0.000000  & 4.321928  & 0.000000  & 0.000000  & ...       & 0.000000  & 0.000000  & 0.000000  &  0.000000 & 0.000000  & 9.965784  & 4.321928  & 0.000000  & 0.000000  & 0.000000 \\\\\n",
       "\t246 & 0.000000  & 0.000000  & 0.000000  & 0.000000  & 2.736966  & 0.000000  & 0.000000  & 0.000000  & 0.000000  & 0.000000  & ...       & 0.000000  & 0.000000  & 8.643856  & 12.965784 & 0.000000  & 0.000000  & 0.000000  & 0.000000  & 0.000000  & 0.000000 \\\\\n",
       "\t248 & 0.000000  & 0.000000  & 0.000000  & 0.000000  & 0.000000  & 0.000000  & 0.000000  & 0.000000  & 0.000000  & 0.000000  & ...       & 0.000000  & 0.000000  & 2.736966  &  0.000000 & 0.000000  & 0.000000  & 0.000000  & 0.000000  & 0.000000  & 0.000000 \\\\\n",
       "\t273 & 3.321928  & 0.000000  & 0.000000  & 0.000000  & 0.000000  & 0.000000  & 0.000000  & 0.000000  & 4.321928  & 0.000000  & ...       & 0.000000  & 8.643856  & 0.000000  &  0.000000 & 0.000000  & 4.321928  & 0.000000  & 0.000000  & 3.321928  & 8.643856 \\\\\n",
       "\t349 & 0.000000  & 0.000000  & 0.000000  & 0.000000  & 0.000000  & 0.000000  & 0.000000  & 0.000000  & 0.000000  & 0.000000  & ...       & 0.000000  & 0.000000  & 0.000000  &  0.000000 & 0.000000  & 0.000000  & 0.000000  & 0.000000  & 0.000000  & 0.000000 \\\\\n",
       "\t352 & 0.000000  & 0.000000  & 0.000000  & 0.000000  & 0.000000  & 0.000000  & 0.000000  & 0.000000  & 0.000000  & 0.000000  & ...       & 0.000000  & 0.000000  & 0.000000  &  0.000000 & 0.000000  & 0.000000  & 0.000000  & 0.000000  & 0.000000  & 0.000000 \\\\\n",
       "\t353 & 0.000000  & 0.000000  & 0.000000  & 0.000000  & 0.000000  & 0.000000  & 0.000000  & 0.000000  & 4.321928  & 0.000000  & ...       & 0.000000  & 0.000000  & 0.000000  &  0.000000 & 0.000000  & 0.000000  & 0.000000  & 0.000000  & 0.000000  & 0.000000 \\\\\n",
       "\t368 & 0.000000  & 0.000000  & 0.000000  & 0.000000  & 0.000000  & 0.000000  & 0.000000  & 0.000000  & 0.000000  & 0.000000  & ...       & 0.000000  & 0.000000  & 0.000000  &  0.000000 & 0.000000  & 0.000000  & 0.000000  & 0.000000  & 0.000000  & 0.000000 \\\\\n",
       "\t489 & 0.000000  & 0.000000  & 0.000000  & 0.000000  & 0.000000  & 0.000000  & 0.000000  & 0.000000  & 0.000000  & 0.000000  & ...       & 0.000000  & 0.000000  & 0.000000  &  4.321928 & 0.000000  & 0.000000  & 0.000000  & 0.000000  & 0.000000  & 0.000000 \\\\\n",
       "\t502 & 0.000000  & 0.000000  & 0.000000  & 0.000000  & 0.000000  & 0.000000  & 0.000000  & 0.000000  & 0.000000  & 0.000000  & ...       & 0.000000  & 0.000000  & 0.000000  &  4.321928 & 0.000000  & 0.000000  & 0.000000  & 0.000000  & 0.000000  & 0.000000 \\\\\n",
       "\t543 & 0.000000  & 0.000000  & 0.000000  & 0.000000  & 0.000000  & 0.000000  & 0.000000  & 0.000000  & 0.000000  & 8.210897  & ...       & 0.000000  & 0.000000  & 0.000000  &  0.000000 & 0.000000  & 0.000000  & 0.000000  & 0.000000  & 0.000000  & 0.000000 \\\\\n",
       "\t704 & 0.000000  & 0.000000  & 0.000000  & 0.000000  & 0.000000  & 0.000000  & 0.000000  & 0.000000  & 0.000000  & 0.000000  & ...       & 0.000000  & 0.000000  & 0.000000  &  0.000000 & 0.000000  & 0.000000  & 0.000000  & 4.321928  & 0.000000  & 0.000000 \\\\\n",
       "\t708 & 0.000000  & 4.321928  & 4.321928  & 3.321928  & 0.000000  & 4.321928  & 4.321928  & 0.000000  & 0.000000  & 0.000000  & ...       & 8.643856  & 0.000000  & 0.000000  &  0.000000 & 0.000000  & 0.000000  & 0.000000  & 0.000000  & 0.000000  & 0.000000 \\\\\n",
       "\\end{tabular}\n"
      ],
      "text/markdown": [
       "\n",
       "| <!--/--> | 100000 | 108 | 111 | 115 | 12217 | 1232 | 1381 | 13member | 13nation | 150 | ... | yacimientos | yanbu | year | years | yergin | yesterday | yesterdays | york | zero | zone | \n",
       "|---|---|---|---|---|---|---|---|---|---|---|---|---|---|---|---|---|---|---|---|\n",
       "| 127 | 0.000000  | 0.000000  | 0.000000  | 0.000000  | 0.000000  | 0.000000  | 0.000000  | 0.000000  | 0.000000  | 4.321928  | ...       | 0.000000  | 0.000000  | 0.000000  |  0.000000 | 0.000000  | 0.000000  | 0.000000  | 0.000000  | 0.000000  | 0.000000  | \n",
       "| 144 | 0.000000  | 0.000000  | 0.000000  | 0.000000  | 0.000000  | 0.000000  | 0.000000  | 0.000000  | 0.000000  | 0.000000  | ...       | 0.000000  | 0.000000  | 0.000000  |  0.000000 | 4.321928  | 0.000000  | 0.000000  | 4.321928  | 0.000000  | 0.000000  | \n",
       "| 191 | 0.000000  | 0.000000  | 0.000000  | 0.000000  | 0.000000  | 0.000000  | 0.000000  | 0.000000  | 0.000000  | 0.000000  | ...       | 0.000000  | 0.000000  | 0.000000  |  0.000000 | 0.000000  | 0.000000  | 0.000000  | 0.000000  | 0.000000  | 0.000000  | \n",
       "| 194 | 0.000000  | 0.000000  | 0.000000  | 0.000000  | 0.000000  | 0.000000  | 0.000000  | 0.000000  | 0.000000  | 0.000000  | ...       | 0.000000  | 0.000000  | 0.000000  |  0.000000 | 0.000000  | 0.000000  | 0.000000  | 0.000000  | 0.000000  | 0.000000  | \n",
       "| 211 | 0.000000  | 0.000000  | 0.000000  | 0.000000  | 0.000000  | 0.000000  | 0.000000  | 0.000000  | 0.000000  | 0.000000  | ...       | 0.000000  | 0.000000  | 4.321928  |  0.000000 | 0.000000  | 0.000000  | 0.000000  | 0.000000  | 0.000000  | 0.000000  | \n",
       "| 236 | 0.000000  | 0.000000  | 0.000000  | 0.000000  | 0.000000  | 0.000000  | 0.000000  | 0.000000  | 4.321928  | 0.000000  | ...       | 0.000000  | 0.000000  | 4.321928  |  0.000000 | 0.000000  | 0.000000  | 0.000000  | 4.321928  | 0.000000  | 0.000000  | \n",
       "| 237 | 0.000000  | 0.000000  | 0.000000  | 0.000000  | 0.000000  | 0.000000  | 0.000000  | 0.000000  | 0.000000  | 0.000000  | ...       | 0.000000  | 0.000000  | 0.000000  |  4.321928 | 0.000000  | 0.000000  | 0.000000  | 0.000000  | 4.321928  | 0.000000  | \n",
       "| 242 | 0.000000  | 0.000000  | 0.000000  | 0.000000  | 0.000000  | 0.000000  | 0.000000  | 4.321928  | 0.000000  | 0.000000  | ...       | 0.000000  | 0.000000  | 0.000000  |  0.000000 | 0.000000  | 9.965784  | 4.321928  | 0.000000  | 0.000000  | 0.000000  | \n",
       "| 246 | 0.000000  | 0.000000  | 0.000000  | 0.000000  | 2.736966  | 0.000000  | 0.000000  | 0.000000  | 0.000000  | 0.000000  | ...       | 0.000000  | 0.000000  | 8.643856  | 12.965784 | 0.000000  | 0.000000  | 0.000000  | 0.000000  | 0.000000  | 0.000000  | \n",
       "| 248 | 0.000000  | 0.000000  | 0.000000  | 0.000000  | 0.000000  | 0.000000  | 0.000000  | 0.000000  | 0.000000  | 0.000000  | ...       | 0.000000  | 0.000000  | 2.736966  |  0.000000 | 0.000000  | 0.000000  | 0.000000  | 0.000000  | 0.000000  | 0.000000  | \n",
       "| 273 | 3.321928  | 0.000000  | 0.000000  | 0.000000  | 0.000000  | 0.000000  | 0.000000  | 0.000000  | 4.321928  | 0.000000  | ...       | 0.000000  | 8.643856  | 0.000000  |  0.000000 | 0.000000  | 4.321928  | 0.000000  | 0.000000  | 3.321928  | 8.643856  | \n",
       "| 349 | 0.000000  | 0.000000  | 0.000000  | 0.000000  | 0.000000  | 0.000000  | 0.000000  | 0.000000  | 0.000000  | 0.000000  | ...       | 0.000000  | 0.000000  | 0.000000  |  0.000000 | 0.000000  | 0.000000  | 0.000000  | 0.000000  | 0.000000  | 0.000000  | \n",
       "| 352 | 0.000000  | 0.000000  | 0.000000  | 0.000000  | 0.000000  | 0.000000  | 0.000000  | 0.000000  | 0.000000  | 0.000000  | ...       | 0.000000  | 0.000000  | 0.000000  |  0.000000 | 0.000000  | 0.000000  | 0.000000  | 0.000000  | 0.000000  | 0.000000  | \n",
       "| 353 | 0.000000  | 0.000000  | 0.000000  | 0.000000  | 0.000000  | 0.000000  | 0.000000  | 0.000000  | 4.321928  | 0.000000  | ...       | 0.000000  | 0.000000  | 0.000000  |  0.000000 | 0.000000  | 0.000000  | 0.000000  | 0.000000  | 0.000000  | 0.000000  | \n",
       "| 368 | 0.000000  | 0.000000  | 0.000000  | 0.000000  | 0.000000  | 0.000000  | 0.000000  | 0.000000  | 0.000000  | 0.000000  | ...       | 0.000000  | 0.000000  | 0.000000  |  0.000000 | 0.000000  | 0.000000  | 0.000000  | 0.000000  | 0.000000  | 0.000000  | \n",
       "| 489 | 0.000000  | 0.000000  | 0.000000  | 0.000000  | 0.000000  | 0.000000  | 0.000000  | 0.000000  | 0.000000  | 0.000000  | ...       | 0.000000  | 0.000000  | 0.000000  |  4.321928 | 0.000000  | 0.000000  | 0.000000  | 0.000000  | 0.000000  | 0.000000  | \n",
       "| 502 | 0.000000  | 0.000000  | 0.000000  | 0.000000  | 0.000000  | 0.000000  | 0.000000  | 0.000000  | 0.000000  | 0.000000  | ...       | 0.000000  | 0.000000  | 0.000000  |  4.321928 | 0.000000  | 0.000000  | 0.000000  | 0.000000  | 0.000000  | 0.000000  | \n",
       "| 543 | 0.000000  | 0.000000  | 0.000000  | 0.000000  | 0.000000  | 0.000000  | 0.000000  | 0.000000  | 0.000000  | 8.210897  | ...       | 0.000000  | 0.000000  | 0.000000  |  0.000000 | 0.000000  | 0.000000  | 0.000000  | 0.000000  | 0.000000  | 0.000000  | \n",
       "| 704 | 0.000000  | 0.000000  | 0.000000  | 0.000000  | 0.000000  | 0.000000  | 0.000000  | 0.000000  | 0.000000  | 0.000000  | ...       | 0.000000  | 0.000000  | 0.000000  |  0.000000 | 0.000000  | 0.000000  | 0.000000  | 4.321928  | 0.000000  | 0.000000  | \n",
       "| 708 | 0.000000  | 4.321928  | 4.321928  | 3.321928  | 0.000000  | 4.321928  | 4.321928  | 0.000000  | 0.000000  | 0.000000  | ...       | 8.643856  | 0.000000  | 0.000000  |  0.000000 | 0.000000  | 0.000000  | 0.000000  | 0.000000  | 0.000000  | 0.000000  | \n",
       "\n",
       "\n"
      ],
      "text/plain": [
       "    100000   108      111      115      12217    1232     1381     13member\n",
       "127 0.000000 0.000000 0.000000 0.000000 0.000000 0.000000 0.000000 0.000000\n",
       "144 0.000000 0.000000 0.000000 0.000000 0.000000 0.000000 0.000000 0.000000\n",
       "191 0.000000 0.000000 0.000000 0.000000 0.000000 0.000000 0.000000 0.000000\n",
       "194 0.000000 0.000000 0.000000 0.000000 0.000000 0.000000 0.000000 0.000000\n",
       "211 0.000000 0.000000 0.000000 0.000000 0.000000 0.000000 0.000000 0.000000\n",
       "236 0.000000 0.000000 0.000000 0.000000 0.000000 0.000000 0.000000 0.000000\n",
       "237 0.000000 0.000000 0.000000 0.000000 0.000000 0.000000 0.000000 0.000000\n",
       "242 0.000000 0.000000 0.000000 0.000000 0.000000 0.000000 0.000000 4.321928\n",
       "246 0.000000 0.000000 0.000000 0.000000 2.736966 0.000000 0.000000 0.000000\n",
       "248 0.000000 0.000000 0.000000 0.000000 0.000000 0.000000 0.000000 0.000000\n",
       "273 3.321928 0.000000 0.000000 0.000000 0.000000 0.000000 0.000000 0.000000\n",
       "349 0.000000 0.000000 0.000000 0.000000 0.000000 0.000000 0.000000 0.000000\n",
       "352 0.000000 0.000000 0.000000 0.000000 0.000000 0.000000 0.000000 0.000000\n",
       "353 0.000000 0.000000 0.000000 0.000000 0.000000 0.000000 0.000000 0.000000\n",
       "368 0.000000 0.000000 0.000000 0.000000 0.000000 0.000000 0.000000 0.000000\n",
       "489 0.000000 0.000000 0.000000 0.000000 0.000000 0.000000 0.000000 0.000000\n",
       "502 0.000000 0.000000 0.000000 0.000000 0.000000 0.000000 0.000000 0.000000\n",
       "543 0.000000 0.000000 0.000000 0.000000 0.000000 0.000000 0.000000 0.000000\n",
       "704 0.000000 0.000000 0.000000 0.000000 0.000000 0.000000 0.000000 0.000000\n",
       "708 0.000000 4.321928 4.321928 3.321928 0.000000 4.321928 4.321928 0.000000\n",
       "    13nation 150      ... yacimientos yanbu    year     years     yergin  \n",
       "127 0.000000 4.321928 ... 0.000000    0.000000 0.000000  0.000000 0.000000\n",
       "144 0.000000 0.000000 ... 0.000000    0.000000 0.000000  0.000000 4.321928\n",
       "191 0.000000 0.000000 ... 0.000000    0.000000 0.000000  0.000000 0.000000\n",
       "194 0.000000 0.000000 ... 0.000000    0.000000 0.000000  0.000000 0.000000\n",
       "211 0.000000 0.000000 ... 0.000000    0.000000 4.321928  0.000000 0.000000\n",
       "236 4.321928 0.000000 ... 0.000000    0.000000 4.321928  0.000000 0.000000\n",
       "237 0.000000 0.000000 ... 0.000000    0.000000 0.000000  4.321928 0.000000\n",
       "242 0.000000 0.000000 ... 0.000000    0.000000 0.000000  0.000000 0.000000\n",
       "246 0.000000 0.000000 ... 0.000000    0.000000 8.643856 12.965784 0.000000\n",
       "248 0.000000 0.000000 ... 0.000000    0.000000 2.736966  0.000000 0.000000\n",
       "273 4.321928 0.000000 ... 0.000000    8.643856 0.000000  0.000000 0.000000\n",
       "349 0.000000 0.000000 ... 0.000000    0.000000 0.000000  0.000000 0.000000\n",
       "352 0.000000 0.000000 ... 0.000000    0.000000 0.000000  0.000000 0.000000\n",
       "353 4.321928 0.000000 ... 0.000000    0.000000 0.000000  0.000000 0.000000\n",
       "368 0.000000 0.000000 ... 0.000000    0.000000 0.000000  0.000000 0.000000\n",
       "489 0.000000 0.000000 ... 0.000000    0.000000 0.000000  4.321928 0.000000\n",
       "502 0.000000 0.000000 ... 0.000000    0.000000 0.000000  4.321928 0.000000\n",
       "543 0.000000 8.210897 ... 0.000000    0.000000 0.000000  0.000000 0.000000\n",
       "704 0.000000 0.000000 ... 0.000000    0.000000 0.000000  0.000000 0.000000\n",
       "708 0.000000 0.000000 ... 8.643856    0.000000 0.000000  0.000000 0.000000\n",
       "    yesterday yesterdays york     zero     zone    \n",
       "127 0.000000  0.000000   0.000000 0.000000 0.000000\n",
       "144 0.000000  0.000000   4.321928 0.000000 0.000000\n",
       "191 0.000000  0.000000   0.000000 0.000000 0.000000\n",
       "194 0.000000  0.000000   0.000000 0.000000 0.000000\n",
       "211 0.000000  0.000000   0.000000 0.000000 0.000000\n",
       "236 0.000000  0.000000   4.321928 0.000000 0.000000\n",
       "237 0.000000  0.000000   0.000000 4.321928 0.000000\n",
       "242 9.965784  4.321928   0.000000 0.000000 0.000000\n",
       "246 0.000000  0.000000   0.000000 0.000000 0.000000\n",
       "248 0.000000  0.000000   0.000000 0.000000 0.000000\n",
       "273 4.321928  0.000000   0.000000 3.321928 8.643856\n",
       "349 0.000000  0.000000   0.000000 0.000000 0.000000\n",
       "352 0.000000  0.000000   0.000000 0.000000 0.000000\n",
       "353 0.000000  0.000000   0.000000 0.000000 0.000000\n",
       "368 0.000000  0.000000   0.000000 0.000000 0.000000\n",
       "489 0.000000  0.000000   0.000000 0.000000 0.000000\n",
       "502 0.000000  0.000000   0.000000 0.000000 0.000000\n",
       "543 0.000000  0.000000   0.000000 0.000000 0.000000\n",
       "704 0.000000  0.000000   4.321928 0.000000 0.000000\n",
       "708 0.000000  0.000000   0.000000 0.000000 0.000000"
      ]
     },
     "metadata": {},
     "output_type": "display_data"
    }
   ],
   "source": [
    "dtm <‐ DocumentTermMatrix(reuters, control = list(removePunctuation = TRUE, stopwords = T))\n",
    "tf = as.matrix(dtm) # dtm_matrix = tf term frequency\n",
    "idf = log2(nrow(tf)/colSums(tf > 0)) # sum of boolean matrix\n",
    "tf*idf"
   ]
  },
  {
   "cell_type": "code",
   "execution_count": 86,
   "metadata": {},
   "outputs": [
    {
     "data": {
      "text/html": [
       "<table>\n",
       "<thead><tr><th></th><th scope=col>100000</th><th scope=col>108</th><th scope=col>111</th><th scope=col>115</th><th scope=col>12217</th><th scope=col>1232</th><th scope=col>1381</th><th scope=col>13member</th><th scope=col>13nation</th><th scope=col>150</th><th scope=col>...</th><th scope=col>yacimientos</th><th scope=col>yanbu</th><th scope=col>year</th><th scope=col>years</th><th scope=col>yergin</th><th scope=col>yesterday</th><th scope=col>yesterdays</th><th scope=col>york</th><th scope=col>zero</th><th scope=col>zone</th></tr></thead>\n",
       "<tbody>\n",
       "\t<tr><th scope=row>127</th><td>0.000000</td><td>0.000000</td><td>0.000000</td><td>0.000000</td><td>0.000000</td><td>0.000000</td><td>0.000000</td><td>0.000000</td><td>0.000000</td><td>3.321928</td><td>...     </td><td>0.000000</td><td>0.000000</td><td>0.000000</td><td>0.000000</td><td>0.000000</td><td>0.000000</td><td>0.000000</td><td>0.000000</td><td>0.000000</td><td>0.000000</td></tr>\n",
       "\t<tr><th scope=row>144</th><td>0.000000</td><td>0.000000</td><td>0.000000</td><td>0.000000</td><td>0.000000</td><td>0.000000</td><td>0.000000</td><td>0.000000</td><td>0.000000</td><td>0.000000</td><td>...     </td><td>0.000000</td><td>0.000000</td><td>0.000000</td><td>0.000000</td><td>4.321928</td><td>0.000000</td><td>0.000000</td><td>2.736966</td><td>0.000000</td><td>0.000000</td></tr>\n",
       "\t<tr><th scope=row>191</th><td>0.000000</td><td>0.000000</td><td>0.000000</td><td>0.000000</td><td>0.000000</td><td>0.000000</td><td>0.000000</td><td>0.000000</td><td>0.000000</td><td>0.000000</td><td>...     </td><td>0.000000</td><td>0.000000</td><td>0.000000</td><td>0.000000</td><td>0.000000</td><td>0.000000</td><td>0.000000</td><td>0.000000</td><td>0.000000</td><td>0.000000</td></tr>\n",
       "\t<tr><th scope=row>194</th><td>0.000000</td><td>0.000000</td><td>0.000000</td><td>0.000000</td><td>0.000000</td><td>0.000000</td><td>0.000000</td><td>0.000000</td><td>0.000000</td><td>0.000000</td><td>...     </td><td>0.000000</td><td>0.000000</td><td>0.000000</td><td>0.000000</td><td>0.000000</td><td>0.000000</td><td>0.000000</td><td>0.000000</td><td>0.000000</td><td>0.000000</td></tr>\n",
       "\t<tr><th scope=row>211</th><td>0.000000</td><td>0.000000</td><td>0.000000</td><td>0.000000</td><td>0.000000</td><td>0.000000</td><td>0.000000</td><td>0.000000</td><td>0.000000</td><td>0.000000</td><td>...     </td><td>0.000000</td><td>0.000000</td><td>2.321928</td><td>0.000000</td><td>0.000000</td><td>0.000000</td><td>0.000000</td><td>0.000000</td><td>0.000000</td><td>0.000000</td></tr>\n",
       "\t<tr><th scope=row>236</th><td>0.000000</td><td>0.000000</td><td>0.000000</td><td>0.000000</td><td>0.000000</td><td>0.000000</td><td>0.000000</td><td>0.000000</td><td>2.736966</td><td>0.000000</td><td>...     </td><td>0.000000</td><td>0.000000</td><td>2.321928</td><td>0.000000</td><td>0.000000</td><td>0.000000</td><td>0.000000</td><td>2.736966</td><td>0.000000</td><td>0.000000</td></tr>\n",
       "\t<tr><th scope=row>237</th><td>0.000000</td><td>0.000000</td><td>0.000000</td><td>0.000000</td><td>0.000000</td><td>0.000000</td><td>0.000000</td><td>0.000000</td><td>0.000000</td><td>0.000000</td><td>...     </td><td>0.000000</td><td>0.000000</td><td>0.000000</td><td>2.321928</td><td>0.000000</td><td>0.000000</td><td>0.000000</td><td>0.000000</td><td>3.321928</td><td>0.000000</td></tr>\n",
       "\t<tr><th scope=row>242</th><td>0.000000</td><td>0.000000</td><td>0.000000</td><td>0.000000</td><td>0.000000</td><td>0.000000</td><td>0.000000</td><td>4.321928</td><td>0.000000</td><td>0.000000</td><td>...     </td><td>0.000000</td><td>0.000000</td><td>0.000000</td><td>0.000000</td><td>0.000000</td><td>9.965784</td><td>4.321928</td><td>0.000000</td><td>0.000000</td><td>0.000000</td></tr>\n",
       "\t<tr><th scope=row>246</th><td>0.000000</td><td>0.000000</td><td>0.000000</td><td>0.000000</td><td>4.321928</td><td>0.000000</td><td>0.000000</td><td>0.000000</td><td>0.000000</td><td>0.000000</td><td>...     </td><td>0.000000</td><td>0.000000</td><td>4.643856</td><td>6.965784</td><td>0.000000</td><td>0.000000</td><td>0.000000</td><td>0.000000</td><td>0.000000</td><td>0.000000</td></tr>\n",
       "\t<tr><th scope=row>248</th><td>0.000000</td><td>0.000000</td><td>0.000000</td><td>0.000000</td><td>0.000000</td><td>0.000000</td><td>0.000000</td><td>0.000000</td><td>0.000000</td><td>0.000000</td><td>...     </td><td>0.000000</td><td>0.000000</td><td>2.321928</td><td>0.000000</td><td>0.000000</td><td>0.000000</td><td>0.000000</td><td>0.000000</td><td>0.000000</td><td>0.000000</td></tr>\n",
       "\t<tr><th scope=row>273</th><td>4.321928</td><td>0.000000</td><td>0.000000</td><td>0.000000</td><td>0.000000</td><td>0.000000</td><td>0.000000</td><td>0.000000</td><td>2.736966</td><td>0.000000</td><td>...     </td><td>0.000000</td><td>8.643856</td><td>0.000000</td><td>0.000000</td><td>0.000000</td><td>3.321928</td><td>0.000000</td><td>0.000000</td><td>3.321928</td><td>8.643856</td></tr>\n",
       "\t<tr><th scope=row>349</th><td>0.000000</td><td>0.000000</td><td>0.000000</td><td>0.000000</td><td>0.000000</td><td>0.000000</td><td>0.000000</td><td>0.000000</td><td>0.000000</td><td>0.000000</td><td>...     </td><td>0.000000</td><td>0.000000</td><td>0.000000</td><td>0.000000</td><td>0.000000</td><td>0.000000</td><td>0.000000</td><td>0.000000</td><td>0.000000</td><td>0.000000</td></tr>\n",
       "\t<tr><th scope=row>352</th><td>0.000000</td><td>0.000000</td><td>0.000000</td><td>0.000000</td><td>0.000000</td><td>0.000000</td><td>0.000000</td><td>0.000000</td><td>0.000000</td><td>0.000000</td><td>...     </td><td>0.000000</td><td>0.000000</td><td>0.000000</td><td>0.000000</td><td>0.000000</td><td>0.000000</td><td>0.000000</td><td>0.000000</td><td>0.000000</td><td>0.000000</td></tr>\n",
       "\t<tr><th scope=row>353</th><td>0.000000</td><td>0.000000</td><td>0.000000</td><td>0.000000</td><td>0.000000</td><td>0.000000</td><td>0.000000</td><td>0.000000</td><td>2.736966</td><td>0.000000</td><td>...     </td><td>0.000000</td><td>0.000000</td><td>0.000000</td><td>0.000000</td><td>0.000000</td><td>0.000000</td><td>0.000000</td><td>0.000000</td><td>0.000000</td><td>0.000000</td></tr>\n",
       "\t<tr><th scope=row>368</th><td>0.000000</td><td>0.000000</td><td>0.000000</td><td>0.000000</td><td>0.000000</td><td>0.000000</td><td>0.000000</td><td>0.000000</td><td>0.000000</td><td>0.000000</td><td>...     </td><td>0.000000</td><td>0.000000</td><td>0.000000</td><td>0.000000</td><td>0.000000</td><td>0.000000</td><td>0.000000</td><td>0.000000</td><td>0.000000</td><td>0.000000</td></tr>\n",
       "\t<tr><th scope=row>489</th><td>0.000000</td><td>0.000000</td><td>0.000000</td><td>0.000000</td><td>0.000000</td><td>0.000000</td><td>0.000000</td><td>0.000000</td><td>0.000000</td><td>0.000000</td><td>...     </td><td>0.000000</td><td>0.000000</td><td>0.000000</td><td>2.321928</td><td>0.000000</td><td>0.000000</td><td>0.000000</td><td>0.000000</td><td>0.000000</td><td>0.000000</td></tr>\n",
       "\t<tr><th scope=row>502</th><td>0.000000</td><td>0.000000</td><td>0.000000</td><td>0.000000</td><td>0.000000</td><td>0.000000</td><td>0.000000</td><td>0.000000</td><td>0.000000</td><td>0.000000</td><td>...     </td><td>0.000000</td><td>0.000000</td><td>0.000000</td><td>2.321928</td><td>0.000000</td><td>0.000000</td><td>0.000000</td><td>0.000000</td><td>0.000000</td><td>0.000000</td></tr>\n",
       "\t<tr><th scope=row>543</th><td>0.000000</td><td>0.000000</td><td>0.000000</td><td>0.000000</td><td>0.000000</td><td>0.000000</td><td>0.000000</td><td>0.000000</td><td>0.000000</td><td>9.965784</td><td>...     </td><td>0.000000</td><td>0.000000</td><td>0.000000</td><td>0.000000</td><td>0.000000</td><td>0.000000</td><td>0.000000</td><td>0.000000</td><td>0.000000</td><td>0.000000</td></tr>\n",
       "\t<tr><th scope=row>704</th><td>0.000000</td><td>0.000000</td><td>0.000000</td><td>0.000000</td><td>0.000000</td><td>0.000000</td><td>0.000000</td><td>0.000000</td><td>0.000000</td><td>0.000000</td><td>...     </td><td>0.000000</td><td>0.000000</td><td>0.000000</td><td>0.000000</td><td>0.000000</td><td>0.000000</td><td>0.000000</td><td>2.736966</td><td>0.000000</td><td>0.000000</td></tr>\n",
       "\t<tr><th scope=row>708</th><td>0.000000</td><td>4.321928</td><td>4.321928</td><td>4.321928</td><td>0.000000</td><td>4.321928</td><td>4.321928</td><td>0.000000</td><td>0.000000</td><td>0.000000</td><td>...     </td><td>8.643856</td><td>0.000000</td><td>0.000000</td><td>0.000000</td><td>0.000000</td><td>0.000000</td><td>0.000000</td><td>0.000000</td><td>0.000000</td><td>0.000000</td></tr>\n",
       "</tbody>\n",
       "</table>\n"
      ],
      "text/latex": [
       "\\begin{tabular}{r|lllllllllllllllllllllllllllllllllllllllllllllllllllllllllllllllllllllllllllllllllllllllllllllllllllllllllllllllllllllllllllllllllllllllllllllllllllllllllllllllllllllllllllllllllllllllllllllllllllllllllllllllllllllllllllllllllllllllllllllllllllllllllllllllllllllllllllllllllllllllllllllllllllllllllllllllllllllllllllllllllllllllllllllllllllllllllllllllllllllllllllllllllllllllllllllllllllllllllllllllllllllllllllllllllllllllllllllllllllllllllllllllllllllllllllllllllllllllllllllllllllllllllllllllllllllllllllllllllllllllllllllllllllllllllllllllllllllllllllllllllllllllllllllllllllllllllllllllllllllllllllllllllllllllllllllllllllllllllllllllllllllllllllllllllllllllllllllllllllllllllllllllllllllllllllllllllllllllllllllllllllllllllllllllllllllllllllllllllllllllllllllllllllllllllllllllllllllllllllllllllllllllllllllllllllllllllllllllllllllllllllllllllllllllllllllllllllllllllllllllllllllllllllllllllllllllllllllllllllllllllllllllllllllllllllllllllllllllllllllllllllllllllllllllllllllllllllllllllllllll}\n",
       "  & 100000 & 108 & 111 & 115 & 12217 & 1232 & 1381 & 13member & 13nation & 150 & ... & yacimientos & yanbu & year & years & yergin & yesterday & yesterdays & york & zero & zone\\\\\n",
       "\\hline\n",
       "\t127 & 0.000000 & 0.000000 & 0.000000 & 0.000000 & 0.000000 & 0.000000 & 0.000000 & 0.000000 & 0.000000 & 3.321928 & ...      & 0.000000 & 0.000000 & 0.000000 & 0.000000 & 0.000000 & 0.000000 & 0.000000 & 0.000000 & 0.000000 & 0.000000\\\\\n",
       "\t144 & 0.000000 & 0.000000 & 0.000000 & 0.000000 & 0.000000 & 0.000000 & 0.000000 & 0.000000 & 0.000000 & 0.000000 & ...      & 0.000000 & 0.000000 & 0.000000 & 0.000000 & 4.321928 & 0.000000 & 0.000000 & 2.736966 & 0.000000 & 0.000000\\\\\n",
       "\t191 & 0.000000 & 0.000000 & 0.000000 & 0.000000 & 0.000000 & 0.000000 & 0.000000 & 0.000000 & 0.000000 & 0.000000 & ...      & 0.000000 & 0.000000 & 0.000000 & 0.000000 & 0.000000 & 0.000000 & 0.000000 & 0.000000 & 0.000000 & 0.000000\\\\\n",
       "\t194 & 0.000000 & 0.000000 & 0.000000 & 0.000000 & 0.000000 & 0.000000 & 0.000000 & 0.000000 & 0.000000 & 0.000000 & ...      & 0.000000 & 0.000000 & 0.000000 & 0.000000 & 0.000000 & 0.000000 & 0.000000 & 0.000000 & 0.000000 & 0.000000\\\\\n",
       "\t211 & 0.000000 & 0.000000 & 0.000000 & 0.000000 & 0.000000 & 0.000000 & 0.000000 & 0.000000 & 0.000000 & 0.000000 & ...      & 0.000000 & 0.000000 & 2.321928 & 0.000000 & 0.000000 & 0.000000 & 0.000000 & 0.000000 & 0.000000 & 0.000000\\\\\n",
       "\t236 & 0.000000 & 0.000000 & 0.000000 & 0.000000 & 0.000000 & 0.000000 & 0.000000 & 0.000000 & 2.736966 & 0.000000 & ...      & 0.000000 & 0.000000 & 2.321928 & 0.000000 & 0.000000 & 0.000000 & 0.000000 & 2.736966 & 0.000000 & 0.000000\\\\\n",
       "\t237 & 0.000000 & 0.000000 & 0.000000 & 0.000000 & 0.000000 & 0.000000 & 0.000000 & 0.000000 & 0.000000 & 0.000000 & ...      & 0.000000 & 0.000000 & 0.000000 & 2.321928 & 0.000000 & 0.000000 & 0.000000 & 0.000000 & 3.321928 & 0.000000\\\\\n",
       "\t242 & 0.000000 & 0.000000 & 0.000000 & 0.000000 & 0.000000 & 0.000000 & 0.000000 & 4.321928 & 0.000000 & 0.000000 & ...      & 0.000000 & 0.000000 & 0.000000 & 0.000000 & 0.000000 & 9.965784 & 4.321928 & 0.000000 & 0.000000 & 0.000000\\\\\n",
       "\t246 & 0.000000 & 0.000000 & 0.000000 & 0.000000 & 4.321928 & 0.000000 & 0.000000 & 0.000000 & 0.000000 & 0.000000 & ...      & 0.000000 & 0.000000 & 4.643856 & 6.965784 & 0.000000 & 0.000000 & 0.000000 & 0.000000 & 0.000000 & 0.000000\\\\\n",
       "\t248 & 0.000000 & 0.000000 & 0.000000 & 0.000000 & 0.000000 & 0.000000 & 0.000000 & 0.000000 & 0.000000 & 0.000000 & ...      & 0.000000 & 0.000000 & 2.321928 & 0.000000 & 0.000000 & 0.000000 & 0.000000 & 0.000000 & 0.000000 & 0.000000\\\\\n",
       "\t273 & 4.321928 & 0.000000 & 0.000000 & 0.000000 & 0.000000 & 0.000000 & 0.000000 & 0.000000 & 2.736966 & 0.000000 & ...      & 0.000000 & 8.643856 & 0.000000 & 0.000000 & 0.000000 & 3.321928 & 0.000000 & 0.000000 & 3.321928 & 8.643856\\\\\n",
       "\t349 & 0.000000 & 0.000000 & 0.000000 & 0.000000 & 0.000000 & 0.000000 & 0.000000 & 0.000000 & 0.000000 & 0.000000 & ...      & 0.000000 & 0.000000 & 0.000000 & 0.000000 & 0.000000 & 0.000000 & 0.000000 & 0.000000 & 0.000000 & 0.000000\\\\\n",
       "\t352 & 0.000000 & 0.000000 & 0.000000 & 0.000000 & 0.000000 & 0.000000 & 0.000000 & 0.000000 & 0.000000 & 0.000000 & ...      & 0.000000 & 0.000000 & 0.000000 & 0.000000 & 0.000000 & 0.000000 & 0.000000 & 0.000000 & 0.000000 & 0.000000\\\\\n",
       "\t353 & 0.000000 & 0.000000 & 0.000000 & 0.000000 & 0.000000 & 0.000000 & 0.000000 & 0.000000 & 2.736966 & 0.000000 & ...      & 0.000000 & 0.000000 & 0.000000 & 0.000000 & 0.000000 & 0.000000 & 0.000000 & 0.000000 & 0.000000 & 0.000000\\\\\n",
       "\t368 & 0.000000 & 0.000000 & 0.000000 & 0.000000 & 0.000000 & 0.000000 & 0.000000 & 0.000000 & 0.000000 & 0.000000 & ...      & 0.000000 & 0.000000 & 0.000000 & 0.000000 & 0.000000 & 0.000000 & 0.000000 & 0.000000 & 0.000000 & 0.000000\\\\\n",
       "\t489 & 0.000000 & 0.000000 & 0.000000 & 0.000000 & 0.000000 & 0.000000 & 0.000000 & 0.000000 & 0.000000 & 0.000000 & ...      & 0.000000 & 0.000000 & 0.000000 & 2.321928 & 0.000000 & 0.000000 & 0.000000 & 0.000000 & 0.000000 & 0.000000\\\\\n",
       "\t502 & 0.000000 & 0.000000 & 0.000000 & 0.000000 & 0.000000 & 0.000000 & 0.000000 & 0.000000 & 0.000000 & 0.000000 & ...      & 0.000000 & 0.000000 & 0.000000 & 2.321928 & 0.000000 & 0.000000 & 0.000000 & 0.000000 & 0.000000 & 0.000000\\\\\n",
       "\t543 & 0.000000 & 0.000000 & 0.000000 & 0.000000 & 0.000000 & 0.000000 & 0.000000 & 0.000000 & 0.000000 & 9.965784 & ...      & 0.000000 & 0.000000 & 0.000000 & 0.000000 & 0.000000 & 0.000000 & 0.000000 & 0.000000 & 0.000000 & 0.000000\\\\\n",
       "\t704 & 0.000000 & 0.000000 & 0.000000 & 0.000000 & 0.000000 & 0.000000 & 0.000000 & 0.000000 & 0.000000 & 0.000000 & ...      & 0.000000 & 0.000000 & 0.000000 & 0.000000 & 0.000000 & 0.000000 & 0.000000 & 2.736966 & 0.000000 & 0.000000\\\\\n",
       "\t708 & 0.000000 & 4.321928 & 4.321928 & 4.321928 & 0.000000 & 4.321928 & 4.321928 & 0.000000 & 0.000000 & 0.000000 & ...      & 8.643856 & 0.000000 & 0.000000 & 0.000000 & 0.000000 & 0.000000 & 0.000000 & 0.000000 & 0.000000 & 0.000000\\\\\n",
       "\\end{tabular}\n"
      ],
      "text/markdown": [
       "\n",
       "| <!--/--> | 100000 | 108 | 111 | 115 | 12217 | 1232 | 1381 | 13member | 13nation | 150 | ... | yacimientos | yanbu | year | years | yergin | yesterday | yesterdays | york | zero | zone | \n",
       "|---|---|---|---|---|---|---|---|---|---|---|---|---|---|---|---|---|---|---|---|\n",
       "| 127 | 0.000000 | 0.000000 | 0.000000 | 0.000000 | 0.000000 | 0.000000 | 0.000000 | 0.000000 | 0.000000 | 3.321928 | ...      | 0.000000 | 0.000000 | 0.000000 | 0.000000 | 0.000000 | 0.000000 | 0.000000 | 0.000000 | 0.000000 | 0.000000 | \n",
       "| 144 | 0.000000 | 0.000000 | 0.000000 | 0.000000 | 0.000000 | 0.000000 | 0.000000 | 0.000000 | 0.000000 | 0.000000 | ...      | 0.000000 | 0.000000 | 0.000000 | 0.000000 | 4.321928 | 0.000000 | 0.000000 | 2.736966 | 0.000000 | 0.000000 | \n",
       "| 191 | 0.000000 | 0.000000 | 0.000000 | 0.000000 | 0.000000 | 0.000000 | 0.000000 | 0.000000 | 0.000000 | 0.000000 | ...      | 0.000000 | 0.000000 | 0.000000 | 0.000000 | 0.000000 | 0.000000 | 0.000000 | 0.000000 | 0.000000 | 0.000000 | \n",
       "| 194 | 0.000000 | 0.000000 | 0.000000 | 0.000000 | 0.000000 | 0.000000 | 0.000000 | 0.000000 | 0.000000 | 0.000000 | ...      | 0.000000 | 0.000000 | 0.000000 | 0.000000 | 0.000000 | 0.000000 | 0.000000 | 0.000000 | 0.000000 | 0.000000 | \n",
       "| 211 | 0.000000 | 0.000000 | 0.000000 | 0.000000 | 0.000000 | 0.000000 | 0.000000 | 0.000000 | 0.000000 | 0.000000 | ...      | 0.000000 | 0.000000 | 2.321928 | 0.000000 | 0.000000 | 0.000000 | 0.000000 | 0.000000 | 0.000000 | 0.000000 | \n",
       "| 236 | 0.000000 | 0.000000 | 0.000000 | 0.000000 | 0.000000 | 0.000000 | 0.000000 | 0.000000 | 2.736966 | 0.000000 | ...      | 0.000000 | 0.000000 | 2.321928 | 0.000000 | 0.000000 | 0.000000 | 0.000000 | 2.736966 | 0.000000 | 0.000000 | \n",
       "| 237 | 0.000000 | 0.000000 | 0.000000 | 0.000000 | 0.000000 | 0.000000 | 0.000000 | 0.000000 | 0.000000 | 0.000000 | ...      | 0.000000 | 0.000000 | 0.000000 | 2.321928 | 0.000000 | 0.000000 | 0.000000 | 0.000000 | 3.321928 | 0.000000 | \n",
       "| 242 | 0.000000 | 0.000000 | 0.000000 | 0.000000 | 0.000000 | 0.000000 | 0.000000 | 4.321928 | 0.000000 | 0.000000 | ...      | 0.000000 | 0.000000 | 0.000000 | 0.000000 | 0.000000 | 9.965784 | 4.321928 | 0.000000 | 0.000000 | 0.000000 | \n",
       "| 246 | 0.000000 | 0.000000 | 0.000000 | 0.000000 | 4.321928 | 0.000000 | 0.000000 | 0.000000 | 0.000000 | 0.000000 | ...      | 0.000000 | 0.000000 | 4.643856 | 6.965784 | 0.000000 | 0.000000 | 0.000000 | 0.000000 | 0.000000 | 0.000000 | \n",
       "| 248 | 0.000000 | 0.000000 | 0.000000 | 0.000000 | 0.000000 | 0.000000 | 0.000000 | 0.000000 | 0.000000 | 0.000000 | ...      | 0.000000 | 0.000000 | 2.321928 | 0.000000 | 0.000000 | 0.000000 | 0.000000 | 0.000000 | 0.000000 | 0.000000 | \n",
       "| 273 | 4.321928 | 0.000000 | 0.000000 | 0.000000 | 0.000000 | 0.000000 | 0.000000 | 0.000000 | 2.736966 | 0.000000 | ...      | 0.000000 | 8.643856 | 0.000000 | 0.000000 | 0.000000 | 3.321928 | 0.000000 | 0.000000 | 3.321928 | 8.643856 | \n",
       "| 349 | 0.000000 | 0.000000 | 0.000000 | 0.000000 | 0.000000 | 0.000000 | 0.000000 | 0.000000 | 0.000000 | 0.000000 | ...      | 0.000000 | 0.000000 | 0.000000 | 0.000000 | 0.000000 | 0.000000 | 0.000000 | 0.000000 | 0.000000 | 0.000000 | \n",
       "| 352 | 0.000000 | 0.000000 | 0.000000 | 0.000000 | 0.000000 | 0.000000 | 0.000000 | 0.000000 | 0.000000 | 0.000000 | ...      | 0.000000 | 0.000000 | 0.000000 | 0.000000 | 0.000000 | 0.000000 | 0.000000 | 0.000000 | 0.000000 | 0.000000 | \n",
       "| 353 | 0.000000 | 0.000000 | 0.000000 | 0.000000 | 0.000000 | 0.000000 | 0.000000 | 0.000000 | 2.736966 | 0.000000 | ...      | 0.000000 | 0.000000 | 0.000000 | 0.000000 | 0.000000 | 0.000000 | 0.000000 | 0.000000 | 0.000000 | 0.000000 | \n",
       "| 368 | 0.000000 | 0.000000 | 0.000000 | 0.000000 | 0.000000 | 0.000000 | 0.000000 | 0.000000 | 0.000000 | 0.000000 | ...      | 0.000000 | 0.000000 | 0.000000 | 0.000000 | 0.000000 | 0.000000 | 0.000000 | 0.000000 | 0.000000 | 0.000000 | \n",
       "| 489 | 0.000000 | 0.000000 | 0.000000 | 0.000000 | 0.000000 | 0.000000 | 0.000000 | 0.000000 | 0.000000 | 0.000000 | ...      | 0.000000 | 0.000000 | 0.000000 | 2.321928 | 0.000000 | 0.000000 | 0.000000 | 0.000000 | 0.000000 | 0.000000 | \n",
       "| 502 | 0.000000 | 0.000000 | 0.000000 | 0.000000 | 0.000000 | 0.000000 | 0.000000 | 0.000000 | 0.000000 | 0.000000 | ...      | 0.000000 | 0.000000 | 0.000000 | 2.321928 | 0.000000 | 0.000000 | 0.000000 | 0.000000 | 0.000000 | 0.000000 | \n",
       "| 543 | 0.000000 | 0.000000 | 0.000000 | 0.000000 | 0.000000 | 0.000000 | 0.000000 | 0.000000 | 0.000000 | 9.965784 | ...      | 0.000000 | 0.000000 | 0.000000 | 0.000000 | 0.000000 | 0.000000 | 0.000000 | 0.000000 | 0.000000 | 0.000000 | \n",
       "| 704 | 0.000000 | 0.000000 | 0.000000 | 0.000000 | 0.000000 | 0.000000 | 0.000000 | 0.000000 | 0.000000 | 0.000000 | ...      | 0.000000 | 0.000000 | 0.000000 | 0.000000 | 0.000000 | 0.000000 | 0.000000 | 2.736966 | 0.000000 | 0.000000 | \n",
       "| 708 | 0.000000 | 4.321928 | 4.321928 | 4.321928 | 0.000000 | 4.321928 | 4.321928 | 0.000000 | 0.000000 | 0.000000 | ...      | 8.643856 | 0.000000 | 0.000000 | 0.000000 | 0.000000 | 0.000000 | 0.000000 | 0.000000 | 0.000000 | 0.000000 | \n",
       "\n",
       "\n"
      ],
      "text/plain": [
       "    100000   108      111      115      12217    1232     1381     13member\n",
       "127 0.000000 0.000000 0.000000 0.000000 0.000000 0.000000 0.000000 0.000000\n",
       "144 0.000000 0.000000 0.000000 0.000000 0.000000 0.000000 0.000000 0.000000\n",
       "191 0.000000 0.000000 0.000000 0.000000 0.000000 0.000000 0.000000 0.000000\n",
       "194 0.000000 0.000000 0.000000 0.000000 0.000000 0.000000 0.000000 0.000000\n",
       "211 0.000000 0.000000 0.000000 0.000000 0.000000 0.000000 0.000000 0.000000\n",
       "236 0.000000 0.000000 0.000000 0.000000 0.000000 0.000000 0.000000 0.000000\n",
       "237 0.000000 0.000000 0.000000 0.000000 0.000000 0.000000 0.000000 0.000000\n",
       "242 0.000000 0.000000 0.000000 0.000000 0.000000 0.000000 0.000000 4.321928\n",
       "246 0.000000 0.000000 0.000000 0.000000 4.321928 0.000000 0.000000 0.000000\n",
       "248 0.000000 0.000000 0.000000 0.000000 0.000000 0.000000 0.000000 0.000000\n",
       "273 4.321928 0.000000 0.000000 0.000000 0.000000 0.000000 0.000000 0.000000\n",
       "349 0.000000 0.000000 0.000000 0.000000 0.000000 0.000000 0.000000 0.000000\n",
       "352 0.000000 0.000000 0.000000 0.000000 0.000000 0.000000 0.000000 0.000000\n",
       "353 0.000000 0.000000 0.000000 0.000000 0.000000 0.000000 0.000000 0.000000\n",
       "368 0.000000 0.000000 0.000000 0.000000 0.000000 0.000000 0.000000 0.000000\n",
       "489 0.000000 0.000000 0.000000 0.000000 0.000000 0.000000 0.000000 0.000000\n",
       "502 0.000000 0.000000 0.000000 0.000000 0.000000 0.000000 0.000000 0.000000\n",
       "543 0.000000 0.000000 0.000000 0.000000 0.000000 0.000000 0.000000 0.000000\n",
       "704 0.000000 0.000000 0.000000 0.000000 0.000000 0.000000 0.000000 0.000000\n",
       "708 0.000000 4.321928 4.321928 4.321928 0.000000 4.321928 4.321928 0.000000\n",
       "    13nation 150      ... yacimientos yanbu    year     years    yergin  \n",
       "127 0.000000 3.321928 ... 0.000000    0.000000 0.000000 0.000000 0.000000\n",
       "144 0.000000 0.000000 ... 0.000000    0.000000 0.000000 0.000000 4.321928\n",
       "191 0.000000 0.000000 ... 0.000000    0.000000 0.000000 0.000000 0.000000\n",
       "194 0.000000 0.000000 ... 0.000000    0.000000 0.000000 0.000000 0.000000\n",
       "211 0.000000 0.000000 ... 0.000000    0.000000 2.321928 0.000000 0.000000\n",
       "236 2.736966 0.000000 ... 0.000000    0.000000 2.321928 0.000000 0.000000\n",
       "237 0.000000 0.000000 ... 0.000000    0.000000 0.000000 2.321928 0.000000\n",
       "242 0.000000 0.000000 ... 0.000000    0.000000 0.000000 0.000000 0.000000\n",
       "246 0.000000 0.000000 ... 0.000000    0.000000 4.643856 6.965784 0.000000\n",
       "248 0.000000 0.000000 ... 0.000000    0.000000 2.321928 0.000000 0.000000\n",
       "273 2.736966 0.000000 ... 0.000000    8.643856 0.000000 0.000000 0.000000\n",
       "349 0.000000 0.000000 ... 0.000000    0.000000 0.000000 0.000000 0.000000\n",
       "352 0.000000 0.000000 ... 0.000000    0.000000 0.000000 0.000000 0.000000\n",
       "353 2.736966 0.000000 ... 0.000000    0.000000 0.000000 0.000000 0.000000\n",
       "368 0.000000 0.000000 ... 0.000000    0.000000 0.000000 0.000000 0.000000\n",
       "489 0.000000 0.000000 ... 0.000000    0.000000 0.000000 2.321928 0.000000\n",
       "502 0.000000 0.000000 ... 0.000000    0.000000 0.000000 2.321928 0.000000\n",
       "543 0.000000 9.965784 ... 0.000000    0.000000 0.000000 0.000000 0.000000\n",
       "704 0.000000 0.000000 ... 0.000000    0.000000 0.000000 0.000000 0.000000\n",
       "708 0.000000 0.000000 ... 8.643856    0.000000 0.000000 0.000000 0.000000\n",
       "    yesterday yesterdays york     zero     zone    \n",
       "127 0.000000  0.000000   0.000000 0.000000 0.000000\n",
       "144 0.000000  0.000000   2.736966 0.000000 0.000000\n",
       "191 0.000000  0.000000   0.000000 0.000000 0.000000\n",
       "194 0.000000  0.000000   0.000000 0.000000 0.000000\n",
       "211 0.000000  0.000000   0.000000 0.000000 0.000000\n",
       "236 0.000000  0.000000   2.736966 0.000000 0.000000\n",
       "237 0.000000  0.000000   0.000000 3.321928 0.000000\n",
       "242 9.965784  4.321928   0.000000 0.000000 0.000000\n",
       "246 0.000000  0.000000   0.000000 0.000000 0.000000\n",
       "248 0.000000  0.000000   0.000000 0.000000 0.000000\n",
       "273 3.321928  0.000000   0.000000 3.321928 8.643856\n",
       "349 0.000000  0.000000   0.000000 0.000000 0.000000\n",
       "352 0.000000  0.000000   0.000000 0.000000 0.000000\n",
       "353 0.000000  0.000000   0.000000 0.000000 0.000000\n",
       "368 0.000000  0.000000   0.000000 0.000000 0.000000\n",
       "489 0.000000  0.000000   0.000000 0.000000 0.000000\n",
       "502 0.000000  0.000000   0.000000 0.000000 0.000000\n",
       "543 0.000000  0.000000   0.000000 0.000000 0.000000\n",
       "704 0.000000  0.000000   2.736966 0.000000 0.000000\n",
       "708 0.000000  0.000000   0.000000 0.000000 0.000000"
      ]
     },
     "metadata": {},
     "output_type": "display_data"
    }
   ],
   "source": [
    "dtm2 = DocumentTermMatrix(reuters, control = list(removePunctuation = TRUE, stopwords = T))\n",
    "dtm2 = weightTfIdf(dtm2, normalize = F)\n",
    "as.matrix(dtm2)"
   ]
  },
  {
   "cell_type": "code",
   "execution_count": null,
   "metadata": {},
   "outputs": [],
   "source": []
  },
  {
   "cell_type": "code",
   "execution_count": null,
   "metadata": {},
   "outputs": [],
   "source": [
    "#Regular expression: Are really all punctuations gone?\n",
    "# grep(\"^[a-z0-9]*\", colnames(dtm), invert=TRUE) #-optional"
   ]
  },
  {
   "cell_type": "code",
   "execution_count": 103,
   "metadata": {},
   "outputs": [
    {
     "data": {
      "text/html": [
       "<strong>$opec</strong> = <dl class=dl-horizontal>\n",
       "\t<dt>meeting</dt>\n",
       "\t\t<dd>0.88</dd>\n",
       "\t<dt>emergency</dt>\n",
       "\t\t<dd>0.87</dd>\n",
       "\t<dt>oil</dt>\n",
       "\t\t<dd>0.87</dd>\n",
       "\t<dt>15.8</dt>\n",
       "\t\t<dd>0.85</dd>\n",
       "\t<dt>analysts</dt>\n",
       "\t\t<dd>0.85</dd>\n",
       "\t<dt>buyers</dt>\n",
       "\t\t<dd>0.83</dd>\n",
       "\t<dt>said</dt>\n",
       "\t\t<dd>0.82</dd>\n",
       "\t<dt>ability</dt>\n",
       "\t\t<dd>0.8</dd>\n",
       "</dl>\n"
      ],
      "text/latex": [
       "\\textbf{\\$opec} = \\begin{description*}\n",
       "\\item[meeting] 0.88\n",
       "\\item[emergency] 0.87\n",
       "\\item[oil] 0.87\n",
       "\\item[15.8] 0.85\n",
       "\\item[analysts] 0.85\n",
       "\\item[buyers] 0.83\n",
       "\\item[said] 0.82\n",
       "\\item[ability] 0.8\n",
       "\\end{description*}\n"
      ],
      "text/markdown": [
       "**$opec** = meeting\n",
       ":   0.88emergency\n",
       ":   0.87oil\n",
       ":   0.8715.8\n",
       ":   0.85analysts\n",
       ":   0.85buyers\n",
       ":   0.83said\n",
       ":   0.82ability\n",
       ":   0.8\n",
       "\n"
      ],
      "text/plain": [
       "$opec\n",
       "  meeting emergency       oil      15.8  analysts    buyers      said   ability \n",
       "     0.88      0.87      0.87      0.85      0.85      0.83      0.82      0.80 \n"
      ]
     },
     "metadata": {},
     "output_type": "display_data"
    }
   ],
   "source": [
    "#If we want to find associations (i.e. terms which correlate) with at least 0.8 correlation for the term opec:\n",
    "findAssocs(dtm, \"opec\", 0.8)"
   ]
  },
  {
   "cell_type": "markdown",
   "metadata": {},
   "source": [
    "*  TDM and DTM tend to get very big, as they contain all words, even those that appear only once in a single document.\n",
    "    *  this means that for every other row and every other column (*than this 1 single word in a single document*), the matrix will contain zeros.\n",
    "    *  **dendogram** would be then **clattered and hard to interpret**, if we kept all those rare values.\n",
    "    *  **rule of thumb:** a good TDM has between 25 and 70 terms.\n",
    "*  **removeSparseTerms()** function can be used to remove **sparse terms**, i.e. **terms occurring only in very few documents**. \n",
    "    *  this reduces the matrix dramatically, without losing significant relations inherent to the matrix.\n",
    "    *  the lower the sparse value, the more terms are kept - 1 means 100% 0s are okay, 0.5 means only 50% zeros are okay."
   ]
  },
  {
   "cell_type": "code",
   "execution_count": 104,
   "metadata": {},
   "outputs": [
    {
     "name": "stdout",
     "output_type": "stream",
     "text": [
      "<<DocumentTermMatrix (documents: 20, terms: 3)>>\n",
      "Non-/sparse entries: 58/2\n",
      "Sparsity           : 3%\n",
      "Maximal term length: 6\n",
      "Weighting          : term frequency (tf)\n",
      "Sample             :\n",
      "     Terms\n",
      "Docs  oil reuter said\n",
      "  127   5      1    1\n",
      "  144  11      1    9\n",
      "  236   7      1    6\n",
      "  242   3      1    3\n",
      "  246   4      1    4\n",
      "  248   9      1    5\n",
      "  273   5      1    5\n",
      "  352   5      1    1\n",
      "  489   4      1    2\n",
      "  502   4      1    2\n"
     ]
    }
   ],
   "source": [
    "inspect(removeSparseTerms(dtm, 0.4)) # 40% of DTM-columns (indicating terms) are zeros; for TDM 40% of rows would be zeros"
   ]
  },
  {
   "cell_type": "markdown",
   "metadata": {},
   "source": [
    "way to aggressive to remove 60% of all zero columns. **Be careful!!**"
   ]
  },
  {
   "cell_type": "markdown",
   "metadata": {},
   "source": [
    "### Wordclouds"
   ]
  },
  {
   "cell_type": "code",
   "execution_count": 105,
   "metadata": {},
   "outputs": [
    {
     "data": {
      "image/png": "[encoded data removed]",
      "text/plain": [
       "plot without title"
      ]
     },
     "metadata": {},
     "output_type": "display_data"
    }
   ],
   "source": [
    "library(wordcloud)\n",
    "options(repr.plot.width = 7, repr.plot.height=7)\n",
    "wordcloud(trump.lines.clean) # alt. argument: , max.words=60"
   ]
  },
  {
   "cell_type": "code",
   "execution_count": 106,
   "metadata": {},
   "outputs": [
    {
     "data": {
      "image/png": "[encoded data removed]",
      "text/plain": [
       "plot without title"
      ]
     },
     "metadata": {},
     "output_type": "display_data"
    }
   ],
   "source": [
    "wordcloud(clinton.lines.clean)"
   ]
  },
  {
   "cell_type": "markdown",
   "metadata": {},
   "source": [
    "## Tidy Text Format: package tidytext\n",
    "\n",
    "*  tidytext data has a specific structure:\n",
    "    *  Each variable is a column\n",
    "    *  Each observation is a row\n",
    "    *  Each type of observational unit is a table\n",
    "*  We thus define the tidytext format as being a **table with one-token-per-row**.\n",
    "    *  **token** = meaningful unit of text, such as a word, that we are interested in using for analysis\n",
    "    *  **tokenization** = process of splitting text into tokens. \n",
    "*  This one-token-per-row structure is in contrast to the text stored as strings or DTM. \n",
    "*  For tidy text mining, the **token stored in each row is most often a single word**, but can also be an **n-gram, sentence, or\n",
    "paragraph**. \n",
    "*  In the tidytext package, we tokenize by commonly used units of text and convert to a one-token-per-row format.\n",
    "*  Tidy data sets allow manipulation with a standard set of “tidy” tools, including popular packages such as dplyr, tidyr, ggplot2, and broom. \n",
    "    *  By keeping the input and output in tidy tables, users can transition fluidly between these packages.  \n",
    "*  A key function is **unnest_tokens()**, which splits a column into tokens using the tokenizers package, splitting the table into one-token-per-row. \n",
    "\n",
    "### Contrasting Tidy Text with Other Data Structures\n",
    "**Tidy text format** = a table with one token per row. Structuring text data in this way means that it conforms to tidy data principles and can be manipulated with tidytext, dplyr, tidyr, broom and ggplot2. \n",
    "*  This is worth contrasting with other data structures in TM:\n",
    "    *  *String* = Text stored as strings (i.e. character vectors) within R.\n",
    "    *  *Corpus* = typically contains raw strings annotated with additional metadata and details.\n",
    "    *  *DTM = Document-term matrix* = a sparse matrix describing collection (i.e. a corpus) of documents with one row for each document and one column for each term. The value in the matrix is typically word count or tf-idf."
   ]
  },
  {
   "cell_type": "markdown",
   "metadata": {},
   "source": [
    "The function **dplyr::data_frame()** converts 4 strings below into a tibble. A **tibble** is a modern class of data frame within R, available in dplyr and tibble packages, that:\n",
    "*  has a convenient print method, \n",
    "*  will not convert strings to factors, and \n",
    "*  does not use row names. \n",
    "\n",
    "Tibbles are great for use with tidy tools, but typical data frames are also fine. \n",
    "*  In this first example, we only have one document, usually we have multiple documents in a single data set ex. multiple books, Shakespeare plays, song lyrics, CC from different news stations, speeches, emails...\n",
    "*  text_df isn’t yet compatible with tidy text analysis.\n",
    "    *  we need to convert this so that it has one token per document per row.\n",
    "    *  we need to both break the text into individual tokens (a process called tokenization) and transform it to a tidy data structure. To do this, we use the **tidytext::unnest_tokens()** function.\n",
    "    \n",
    "**tidytext::unnest_tokens()** takes 2 arguments: \n",
    "1. **word** = output column name that will be created as the text is unnested into it \n",
    "2. **text** = input column that the text comes from (text, in the case of *text_df* in ex. below)."
   ]
  },
  {
   "cell_type": "code",
   "execution_count": 21,
   "metadata": {},
   "outputs": [
    {
     "data": {
      "text/html": [
       "<table>\n",
       "<thead><tr><th scope=col>line</th><th scope=col>text</th></tr></thead>\n",
       "<tbody>\n",
       "\t<tr><td>1                                     </td><td>Because I could not stop for Death -  </td></tr>\n",
       "\t<tr><td>2                                     </td><td>He kindly stopped for me -            </td></tr>\n",
       "\t<tr><td>3                                     </td><td>The Carriage held but just Ourselves -</td></tr>\n",
       "\t<tr><td>4                                     </td><td>and Immortality                       </td></tr>\n",
       "</tbody>\n",
       "</table>\n"
      ],
      "text/latex": [
       "\\begin{tabular}{r|ll}\n",
       " line & text\\\\\n",
       "\\hline\n",
       "\t 1                                      & Because I could not stop for Death -  \\\\\n",
       "\t 2                                      & He kindly stopped for me -            \\\\\n",
       "\t 3                                      & The Carriage held but just Ourselves -\\\\\n",
       "\t 4                                      & and Immortality                       \\\\\n",
       "\\end{tabular}\n"
      ],
      "text/markdown": [
       "\n",
       "line | text | \n",
       "|---|---|---|---|\n",
       "| 1                                      | Because I could not stop for Death -   | \n",
       "| 2                                      | He kindly stopped for me -             | \n",
       "| 3                                      | The Carriage held but just Ourselves - | \n",
       "| 4                                      | and Immortality                        | \n",
       "\n",
       "\n"
      ],
      "text/plain": [
       "  line text                                  \n",
       "1 1    Because I could not stop for Death -  \n",
       "2 2    He kindly stopped for me -            \n",
       "3 3    The Carriage held but just Ourselves -\n",
       "4 4    and Immortality                       "
      ]
     },
     "metadata": {},
     "output_type": "display_data"
    }
   ],
   "source": [
    "text <- c(\"Because I could not stop for Death -\", \"He kindly stopped for me -\", \n",
    "          \"The Carriage held but just Ourselves -\", \"and Immortality\")\n",
    "text_df <- dplyr::data_frame(line = 1:4, text = text)\n",
    "text_df "
   ]
  },
  {
   "cell_type": "code",
   "execution_count": 22,
   "metadata": {},
   "outputs": [
    {
     "data": {
      "text/html": [
       "<table>\n",
       "<thead><tr><th scope=col>line</th><th scope=col>word</th></tr></thead>\n",
       "<tbody>\n",
       "\t<tr><td>1      </td><td>because</td></tr>\n",
       "\t<tr><td>1      </td><td>i      </td></tr>\n",
       "\t<tr><td>1      </td><td>could  </td></tr>\n",
       "\t<tr><td>1      </td><td>not    </td></tr>\n",
       "\t<tr><td>1      </td><td>stop   </td></tr>\n",
       "\t<tr><td>1      </td><td>for    </td></tr>\n",
       "\t<tr><td>1      </td><td>death  </td></tr>\n",
       "\t<tr><td>2      </td><td>he     </td></tr>\n",
       "\t<tr><td>2      </td><td>kindly </td></tr>\n",
       "\t<tr><td>2      </td><td>stopped</td></tr>\n",
       "</tbody>\n",
       "</table>\n"
      ],
      "text/latex": [
       "\\begin{tabular}{r|ll}\n",
       " line & word\\\\\n",
       "\\hline\n",
       "\t 1       & because\\\\\n",
       "\t 1       & i      \\\\\n",
       "\t 1       & could  \\\\\n",
       "\t 1       & not    \\\\\n",
       "\t 1       & stop   \\\\\n",
       "\t 1       & for    \\\\\n",
       "\t 1       & death  \\\\\n",
       "\t 2       & he     \\\\\n",
       "\t 2       & kindly \\\\\n",
       "\t 2       & stopped\\\\\n",
       "\\end{tabular}\n"
      ],
      "text/markdown": [
       "\n",
       "line | word | \n",
       "|---|---|---|---|---|---|---|---|---|---|\n",
       "| 1       | because | \n",
       "| 1       | i       | \n",
       "| 1       | could   | \n",
       "| 1       | not     | \n",
       "| 1       | stop    | \n",
       "| 1       | for     | \n",
       "| 1       | death   | \n",
       "| 2       | he      | \n",
       "| 2       | kindly  | \n",
       "| 2       | stopped | \n",
       "\n",
       "\n"
      ],
      "text/plain": [
       "   line word   \n",
       "1  1    because\n",
       "2  1    i      \n",
       "3  1    could  \n",
       "4  1    not    \n",
       "5  1    stop   \n",
       "6  1    for    \n",
       "7  1    death  \n",
       "8  2    he     \n",
       "9  2    kindly \n",
       "10 2    stopped"
      ]
     },
     "metadata": {},
     "output_type": "display_data"
    }
   ],
   "source": [
    "library(dplyr)\n",
    "library(tidytext)\n",
    "text_df = text_df %>% tidytext::unnest_tokens(word, text)\n",
    "head(text_df, 10)"
   ]
  },
  {
   "cell_type": "markdown",
   "metadata": {},
   "source": [
    "After using unnest_tokens, we’ve split each row so that there is one token (word) in each row of the new data frame; \n",
    "*  default tokenization in unnest_tokens() is for single words. \n",
    "*  Also notice:\n",
    "    *  Other columns, such as the line number each word came from, are retained.\n",
    "    *  Punctuation has been stripped.\n",
    "    *  By default, unnest_tokens() converts tokens to lowercase, which makes them easier to compare or combine with other datasets and group by them. (Use the to_lower = FALSE argument to turn off this behavior).\n",
    "    \n",
    "**To remove stopwords:**"
   ]
  },
  {
   "cell_type": "code",
   "execution_count": 23,
   "metadata": {},
   "outputs": [
    {
     "name": "stderr",
     "output_type": "stream",
     "text": [
      "Joining, by = \"word\"\n"
     ]
    },
    {
     "data": {
      "text/html": [
       "<table>\n",
       "<thead><tr><th scope=col>line</th><th scope=col>word</th></tr></thead>\n",
       "<tbody>\n",
       "\t<tr><td>1          </td><td>stop       </td></tr>\n",
       "\t<tr><td>1          </td><td>death      </td></tr>\n",
       "\t<tr><td>2          </td><td>kindly     </td></tr>\n",
       "\t<tr><td>2          </td><td>stopped    </td></tr>\n",
       "\t<tr><td>3          </td><td>carriage   </td></tr>\n",
       "\t<tr><td>3          </td><td>held       </td></tr>\n",
       "\t<tr><td>4          </td><td>immortality</td></tr>\n",
       "</tbody>\n",
       "</table>\n"
      ],
      "text/latex": [
       "\\begin{tabular}{r|ll}\n",
       " line & word\\\\\n",
       "\\hline\n",
       "\t 1           & stop       \\\\\n",
       "\t 1           & death      \\\\\n",
       "\t 2           & kindly     \\\\\n",
       "\t 2           & stopped    \\\\\n",
       "\t 3           & carriage   \\\\\n",
       "\t 3           & held       \\\\\n",
       "\t 4           & immortality\\\\\n",
       "\\end{tabular}\n"
      ],
      "text/markdown": [
       "\n",
       "line | word | \n",
       "|---|---|---|---|---|---|---|\n",
       "| 1           | stop        | \n",
       "| 1           | death       | \n",
       "| 2           | kindly      | \n",
       "| 2           | stopped     | \n",
       "| 3           | carriage    | \n",
       "| 3           | held        | \n",
       "| 4           | immortality | \n",
       "\n",
       "\n"
      ],
      "text/plain": [
       "  line word       \n",
       "1 1    stop       \n",
       "2 1    death      \n",
       "3 2    kindly     \n",
       "4 2    stopped    \n",
       "5 3    carriage   \n",
       "6 3    held       \n",
       "7 4    immortality"
      ]
     },
     "metadata": {},
     "output_type": "display_data"
    }
   ],
   "source": [
    "data(stop_words) # stop_words dataset in the tidytext package contains stop words from three lexicons.\n",
    "text_df %>% anti_join(stop_words)"
   ]
  },
  {
   "cell_type": "markdown",
   "metadata": {},
   "source": [
    "### The gutenbergr package\n",
    "*  it provides access to the public domain works from the Project Gutenberg (offering free ebooks)\n",
    "\n",
    "\n",
    "### H.G. Wells\n",
    "*  We will look at some science fiction and fantasy novels by H.G. Wells, who lived in the late 19th and early 20th centuries.  Let’s get \n",
    "    *  *The Time Machine*, (https://www.gutenberg.org/ebooks/35), \n",
    "    *  *The War of the Worlds* (https://www.gutenberg.org/ebooks/36),\n",
    "    *  *The Invisible Man* (https://www.gutenberg.org/ebooks/5230), and \n",
    "    *  *The Island of Doctor Moreau* (https://www.gutenberg.org/ebooks/159)."
   ]
  },
  {
   "cell_type": "code",
   "execution_count": 1,
   "metadata": {},
   "outputs": [
    {
     "data": {
      "text/html": [
       "<table>\n",
       "<thead><tr><th></th><th scope=col>gutenberg_id</th><th scope=col>text</th></tr></thead>\n",
       "<tbody>\n",
       "\t<tr><th scope=row>51</th><td>35                                                                 </td><td>Filby became pensive. 'Clearly,' the Time Traveller proceeded, 'any</td></tr>\n",
       "\t<tr><th scope=row>52</th><td>35                                                                 </td><td>real body must have extension in _four_ directions: it must have   </td></tr>\n",
       "\t<tr><th scope=row>53</th><td>35                                                                 </td><td>Length, Breadth, Thickness, and--Duration. But through a natural   </td></tr>\n",
       "\t<tr><th scope=row>54</th><td>35                                                                 </td><td>infirmity of the flesh, which I will explain to you in a moment, we</td></tr>\n",
       "\t<tr><th scope=row>55</th><td>35                                                                 </td><td>incline to overlook this fact. There are really four dimensions,   </td></tr>\n",
       "\t<tr><th scope=row>56</th><td>35                                                                 </td><td>three which we call the three planes of Space, and a fourth, Time. </td></tr>\n",
       "\t<tr><th scope=row>57</th><td>35                                                                 </td><td>There is, however, a tendency to draw an unreal distinction between</td></tr>\n",
       "\t<tr><th scope=row>58</th><td>35                                                                 </td><td>the former three dimensions and the latter, because it happens that</td></tr>\n",
       "\t<tr><th scope=row>59</th><td>35                                                                 </td><td>our consciousness moves intermittently in one direction along the  </td></tr>\n",
       "\t<tr><th scope=row>60</th><td>35                                                                 </td><td>latter from the beginning to the end of our lives.'                </td></tr>\n",
       "</tbody>\n",
       "</table>\n"
      ],
      "text/latex": [
       "\\begin{tabular}{r|ll}\n",
       "  & gutenberg\\_id & text\\\\\n",
       "\\hline\n",
       "\t51 & 35                                                                  & Filby became pensive. 'Clearly,' the Time Traveller proceeded, 'any\\\\\n",
       "\t52 & 35                                                                      & real body must have extension in \\_four\\_ directions: it must have   \\\\\n",
       "\t53 & 35                                                                  & Length, Breadth, Thickness, and--Duration. But through a natural   \\\\\n",
       "\t54 & 35                                                                  & infirmity of the flesh, which I will explain to you in a moment, we\\\\\n",
       "\t55 & 35                                                                  & incline to overlook this fact. There are really four dimensions,   \\\\\n",
       "\t56 & 35                                                                  & three which we call the three planes of Space, and a fourth, Time. \\\\\n",
       "\t57 & 35                                                                  & There is, however, a tendency to draw an unreal distinction between\\\\\n",
       "\t58 & 35                                                                  & the former three dimensions and the latter, because it happens that\\\\\n",
       "\t59 & 35                                                                  & our consciousness moves intermittently in one direction along the  \\\\\n",
       "\t60 & 35                                                                  & latter from the beginning to the end of our lives.'                \\\\\n",
       "\\end{tabular}\n"
      ],
      "text/markdown": [
       "\n",
       "| <!--/--> | gutenberg_id | text | \n",
       "|---|---|---|---|---|---|---|---|---|---|\n",
       "| 51 | 35                                                                  | Filby became pensive. 'Clearly,' the Time Traveller proceeded, 'any | \n",
       "| 52 | 35                                                                  | real body must have extension in _four_ directions: it must have    | \n",
       "| 53 | 35                                                                  | Length, Breadth, Thickness, and--Duration. But through a natural    | \n",
       "| 54 | 35                                                                  | infirmity of the flesh, which I will explain to you in a moment, we | \n",
       "| 55 | 35                                                                  | incline to overlook this fact. There are really four dimensions,    | \n",
       "| 56 | 35                                                                  | three which we call the three planes of Space, and a fourth, Time.  | \n",
       "| 57 | 35                                                                  | There is, however, a tendency to draw an unreal distinction between | \n",
       "| 58 | 35                                                                  | the former three dimensions and the latter, because it happens that | \n",
       "| 59 | 35                                                                  | our consciousness moves intermittently in one direction along the   | \n",
       "| 60 | 35                                                                  | latter from the beginning to the end of our lives.'                 | \n",
       "\n",
       "\n"
      ],
      "text/plain": [
       "   gutenberg_id\n",
       "51 35          \n",
       "52 35          \n",
       "53 35          \n",
       "54 35          \n",
       "55 35          \n",
       "56 35          \n",
       "57 35          \n",
       "58 35          \n",
       "59 35          \n",
       "60 35          \n",
       "   text                                                               \n",
       "51 Filby became pensive. 'Clearly,' the Time Traveller proceeded, 'any\n",
       "52 real body must have extension in _four_ directions: it must have   \n",
       "53 Length, Breadth, Thickness, and--Duration. But through a natural   \n",
       "54 infirmity of the flesh, which I will explain to you in a moment, we\n",
       "55 incline to overlook this fact. There are really four dimensions,   \n",
       "56 three which we call the three planes of Space, and a fourth, Time. \n",
       "57 There is, however, a tendency to draw an unreal distinction between\n",
       "58 the former three dimensions and the latter, because it happens that\n",
       "59 our consciousness moves intermittently in one direction along the  \n",
       "60 latter from the beginning to the end of our lives.'                "
      ]
     },
     "metadata": {},
     "output_type": "display_data"
    }
   ],
   "source": [
    "# library(gutenbergr)\n",
    "# hgwells <‐ gutenberg_download(c(35, 36, 5230, 159))\n",
    "#save(hgwells, file=\"data/hgwells.rda\"); \n",
    "load(\"data/hgwells.rda\")\n",
    "hgwells[51:60, ]"
   ]
  },
  {
   "cell_type": "code",
   "execution_count": 5,
   "metadata": {},
   "outputs": [
    {
     "name": "stderr",
     "output_type": "stream",
     "text": [
      "Joining, by = \"word\"\n"
     ]
    },
    {
     "data": {
      "text/html": [
       "<table>\n",
       "<thead><tr><th scope=col>gutenberg_id</th><th scope=col>text</th></tr></thead>\n",
       "<tbody>\n",
       "\t<tr><td>35                                                               </td><td>The Time Machine, by H. G. Wells [1898]                          </td></tr>\n",
       "\t<tr><td>35                                                               </td><td>                                                                 </td></tr>\n",
       "\t<tr><td>35                                                               </td><td>                                                                 </td></tr>\n",
       "\t<tr><td>35                                                               </td><td>                                                                 </td></tr>\n",
       "\t<tr><td>35                                                               </td><td>                                                                 </td></tr>\n",
       "\t<tr><td>35                                                               </td><td>I                                                                </td></tr>\n",
       "\t<tr><td>35                                                               </td><td>                                                                 </td></tr>\n",
       "\t<tr><td>35                                                               </td><td>                                                                 </td></tr>\n",
       "\t<tr><td>35                                                               </td><td>The Time Traveller (for so it will be convenient to speak of him)</td></tr>\n",
       "\t<tr><td>35                                                               </td><td>was expounding a recondite matter to us. His grey eyes shone and </td></tr>\n",
       "</tbody>\n",
       "</table>\n"
      ],
      "text/latex": [
       "\\begin{tabular}{r|ll}\n",
       " gutenberg\\_id & text\\\\\n",
       "\\hline\n",
       "\t 35                                                                    & The Time Machine, by H. G. Wells {[}1898{]}                          \\\\\n",
       "\t 35                                                                &                                                                  \\\\\n",
       "\t 35                                                                &                                                                  \\\\\n",
       "\t 35                                                                &                                                                  \\\\\n",
       "\t 35                                                                &                                                                  \\\\\n",
       "\t 35                                                                & I                                                                \\\\\n",
       "\t 35                                                                &                                                                  \\\\\n",
       "\t 35                                                                &                                                                  \\\\\n",
       "\t 35                                                                & The Time Traveller (for so it will be convenient to speak of him)\\\\\n",
       "\t 35                                                                & was expounding a recondite matter to us. His grey eyes shone and \\\\\n",
       "\\end{tabular}\n"
      ],
      "text/markdown": [
       "\n",
       "gutenberg_id | text | \n",
       "|---|---|---|---|---|---|---|---|---|---|\n",
       "| 35                                                                | The Time Machine, by H. G. Wells [1898]                           | \n",
       "| 35                                                                |                                                                   | \n",
       "| 35                                                                |                                                                   | \n",
       "| 35                                                                |                                                                   | \n",
       "| 35                                                                |                                                                   | \n",
       "| 35                                                                | I                                                                 | \n",
       "| 35                                                                |                                                                   | \n",
       "| 35                                                                |                                                                   | \n",
       "| 35                                                                | The Time Traveller (for so it will be convenient to speak of him) | \n",
       "| 35                                                                | was expounding a recondite matter to us. His grey eyes shone and  | \n",
       "\n",
       "\n"
      ],
      "text/plain": [
       "   gutenberg_id\n",
       "1  35          \n",
       "2  35          \n",
       "3  35          \n",
       "4  35          \n",
       "5  35          \n",
       "6  35          \n",
       "7  35          \n",
       "8  35          \n",
       "9  35          \n",
       "10 35          \n",
       "   text                                                             \n",
       "1  The Time Machine, by H. G. Wells [1898]                          \n",
       "2                                                                   \n",
       "3                                                                   \n",
       "4                                                                   \n",
       "5                                                                   \n",
       "6  I                                                                \n",
       "7                                                                   \n",
       "8                                                                   \n",
       "9  The Time Traveller (for so it will be convenient to speak of him)\n",
       "10 was expounding a recondite matter to us. His grey eyes shone and "
      ]
     },
     "metadata": {},
     "output_type": "display_data"
    },
    {
     "data": {
      "text/html": [
       "<table>\n",
       "<thead><tr><th scope=col>gutenberg_id</th><th scope=col>word</th></tr></thead>\n",
       "<tbody>\n",
       "\t<tr><td>35        </td><td>time      </td></tr>\n",
       "\t<tr><td>35        </td><td>machine   </td></tr>\n",
       "\t<tr><td>35        </td><td>1898      </td></tr>\n",
       "\t<tr><td>35        </td><td>time      </td></tr>\n",
       "\t<tr><td>35        </td><td>traveller </td></tr>\n",
       "\t<tr><td>35        </td><td>convenient</td></tr>\n",
       "\t<tr><td>35        </td><td>speak     </td></tr>\n",
       "\t<tr><td>35        </td><td>expounding</td></tr>\n",
       "\t<tr><td>35        </td><td>recondite </td></tr>\n",
       "\t<tr><td>35        </td><td>matter    </td></tr>\n",
       "\t<tr><td>35        </td><td>grey      </td></tr>\n",
       "\t<tr><td>35        </td><td>eyes      </td></tr>\n",
       "</tbody>\n",
       "</table>\n"
      ],
      "text/latex": [
       "\\begin{tabular}{r|ll}\n",
       " gutenberg\\_id & word\\\\\n",
       "\\hline\n",
       "\t 35         & time      \\\\\n",
       "\t 35         & machine   \\\\\n",
       "\t 35         & 1898      \\\\\n",
       "\t 35         & time      \\\\\n",
       "\t 35         & traveller \\\\\n",
       "\t 35         & convenient\\\\\n",
       "\t 35         & speak     \\\\\n",
       "\t 35         & expounding\\\\\n",
       "\t 35         & recondite \\\\\n",
       "\t 35         & matter    \\\\\n",
       "\t 35         & grey      \\\\\n",
       "\t 35         & eyes      \\\\\n",
       "\\end{tabular}\n"
      ],
      "text/markdown": [
       "\n",
       "gutenberg_id | word | \n",
       "|---|---|---|---|---|---|---|---|---|---|---|---|\n",
       "| 35         | time       | \n",
       "| 35         | machine    | \n",
       "| 35         | 1898       | \n",
       "| 35         | time       | \n",
       "| 35         | traveller  | \n",
       "| 35         | convenient | \n",
       "| 35         | speak      | \n",
       "| 35         | expounding | \n",
       "| 35         | recondite  | \n",
       "| 35         | matter     | \n",
       "| 35         | grey       | \n",
       "| 35         | eyes       | \n",
       "\n",
       "\n"
      ],
      "text/plain": [
       "   gutenberg_id word      \n",
       "1  35           time      \n",
       "2  35           machine   \n",
       "3  35           1898      \n",
       "4  35           time      \n",
       "5  35           traveller \n",
       "6  35           convenient\n",
       "7  35           speak     \n",
       "8  35           expounding\n",
       "9  35           recondite \n",
       "10 35           matter    \n",
       "11 35           grey      \n",
       "12 35           eyes      "
      ]
     },
     "metadata": {},
     "output_type": "display_data"
    }
   ],
   "source": [
    "library(tidytext) # necessary for stop_words dataset\n",
    "tidy_hgwells <‐ hgwells %>% tidytext::unnest_tokens(word, text) %>% dplyr::anti_join(stop_words) # anti_join removes stopwords\n",
    "head(hgwells, 10)\n",
    "head(tidy_hgwells, 12)"
   ]
  },
  {
   "cell_type": "markdown",
   "metadata": {},
   "source": [
    "*  2 arguments to unnest_tokens used here are **column names**: \n",
    "    *  **output column** that will be created as text is unnested into it (**word**), and **input column: text** that text comes from. \n",
    "    *  After using unnest_tokens on the **text** column, we’ve split each row so that there is one token (word) in each row of the new data frame; the **default tokenization** in unnest_tokens() is for **single words**, as shown here. \n",
    "    *  book id *gutenberg_id* is retained. Punctuation has been stripped.\n",
    "*  By default, unnest_tokens(): **converts the tokens to lowercase, strips punctuation and tokenizes them into a single word**, which makes resultant tokens easier to aggregate, compare or combine with other datasets. \n",
    "    *  to overwrite defaults: ex. *to_lower = FALSE* argument to turn off this behavior"
   ]
  },
  {
   "cell_type": "code",
   "execution_count": 6,
   "metadata": {},
   "outputs": [
    {
     "data": {
      "text/html": [
       "<table>\n",
       "<thead><tr><th scope=col>word</th><th scope=col>n</th></tr></thead>\n",
       "<tbody>\n",
       "\t<tr><td>time  </td><td>454   </td></tr>\n",
       "\t<tr><td>people</td><td>302   </td></tr>\n",
       "\t<tr><td>door  </td><td>260   </td></tr>\n",
       "\t<tr><td>heard </td><td>249   </td></tr>\n",
       "\t<tr><td>black </td><td>232   </td></tr>\n",
       "\t<tr><td>stood </td><td>229   </td></tr>\n",
       "\t<tr><td>white </td><td>222   </td></tr>\n",
       "\t<tr><td>hand  </td><td>218   </td></tr>\n",
       "\t<tr><td>kemp  </td><td>213   </td></tr>\n",
       "\t<tr><td>eyes  </td><td>210   </td></tr>\n",
       "</tbody>\n",
       "</table>\n"
      ],
      "text/latex": [
       "\\begin{tabular}{r|ll}\n",
       " word & n\\\\\n",
       "\\hline\n",
       "\t time   & 454   \\\\\n",
       "\t people & 302   \\\\\n",
       "\t door   & 260   \\\\\n",
       "\t heard  & 249   \\\\\n",
       "\t black  & 232   \\\\\n",
       "\t stood  & 229   \\\\\n",
       "\t white  & 222   \\\\\n",
       "\t hand   & 218   \\\\\n",
       "\t kemp   & 213   \\\\\n",
       "\t eyes   & 210   \\\\\n",
       "\\end{tabular}\n"
      ],
      "text/markdown": [
       "\n",
       "word | n | \n",
       "|---|---|---|---|---|---|---|---|---|---|\n",
       "| time   | 454    | \n",
       "| people | 302    | \n",
       "| door   | 260    | \n",
       "| heard  | 249    | \n",
       "| black  | 232    | \n",
       "| stood  | 229    | \n",
       "| white  | 222    | \n",
       "| hand   | 218    | \n",
       "| kemp   | 213    | \n",
       "| eyes   | 210    | \n",
       "\n",
       "\n"
      ],
      "text/plain": [
       "   word   n  \n",
       "1  time   454\n",
       "2  people 302\n",
       "3  door   260\n",
       "4  heard  249\n",
       "5  black  232\n",
       "6  stood  229\n",
       "7  white  222\n",
       "8  hand   218\n",
       "9  kemp   213\n",
       "10 eyes   210"
      ]
     },
     "metadata": {},
     "output_type": "display_data"
    }
   ],
   "source": [
    "# What are the 10 most common words in these novels of H.G. Wells?\n",
    "common_words_hgwells = tidy_hgwells %>% count(word, sort = TRUE)\n",
    "head(common_words_hgwells, 10)"
   ]
  },
  {
   "cell_type": "markdown",
   "metadata": {},
   "source": [
    "### Charlotte Brontë\n",
    "*  Let’s get *Jane Eyre* (https://www.gutenberg.org/ebooks/1260), \n",
    "*  *Wuthering Heights* (https://www.gutenberg.org/ebooks/768),\n",
    "*  *The Tenant of Wildfell Hall* (https://www.gutenberg.org/ebooks/969), \n",
    "*  *Villette* (https://www.gutenberg.org/ebooks/9182), and \n",
    "*  *Agnes Grey* (https://www.gutenberg.org/ebooks/767). \n",
    "* We again use the Project Gutenberg IDs for each novel and access the texts using gutenberg_download() ."
   ]
  },
  {
   "cell_type": "code",
   "execution_count": 7,
   "metadata": {},
   "outputs": [
    {
     "name": "stderr",
     "output_type": "stream",
     "text": [
      "Joining, by = \"word\"\n"
     ]
    },
    {
     "data": {
      "text/html": [
       "<table>\n",
       "<thead><tr><th scope=col>gutenberg_id</th><th scope=col>word</th></tr></thead>\n",
       "<tbody>\n",
       "\t<tr><td>767       </td><td>_facsimile</td></tr>\n",
       "\t<tr><td>767       </td><td>title     </td></tr>\n",
       "\t<tr><td>767       </td><td>page      </td></tr>\n",
       "\t<tr><td>767       </td><td>edition_  </td></tr>\n",
       "\t<tr><td>767       </td><td>_which    </td></tr>\n",
       "\t<tr><td>767       </td><td>issued_   </td></tr>\n",
       "</tbody>\n",
       "</table>\n"
      ],
      "text/latex": [
       "\\begin{tabular}{r|ll}\n",
       " gutenberg\\_id & word\\\\\n",
       "\\hline\n",
       "\t 767          & \\_facsimile\\\\\n",
       "\t 767        & title     \\\\\n",
       "\t 767        & page      \\\\\n",
       "\t 767          & edition\\_  \\\\\n",
       "\t 767          & \\_which    \\\\\n",
       "\t 767          & issued\\_   \\\\\n",
       "\\end{tabular}\n"
      ],
      "text/markdown": [
       "\n",
       "gutenberg_id | word | \n",
       "|---|---|---|---|---|---|\n",
       "| 767        | _facsimile | \n",
       "| 767        | title      | \n",
       "| 767        | page       | \n",
       "| 767        | edition_   | \n",
       "| 767        | _which     | \n",
       "| 767        | issued_    | \n",
       "\n",
       "\n"
      ],
      "text/plain": [
       "  gutenberg_id word      \n",
       "1 767          _facsimile\n",
       "2 767          title     \n",
       "3 767          page      \n",
       "4 767          edition_  \n",
       "5 767          _which    \n",
       "6 767          issued_   "
      ]
     },
     "metadata": {},
     "output_type": "display_data"
    }
   ],
   "source": [
    "#bronte <‐ gutenbergr::gutenberg_download(c(1260, 768, 969, 9182, 767))\n",
    "load(\"data/bronte.rda\")\n",
    "tidy_bronte <‐ bronte %>% unnest_tokens(word, text) %>% anti_join(stop_words)\n",
    "head(tidy_bronte)"
   ]
  },
  {
   "cell_type": "code",
   "execution_count": 8,
   "metadata": {},
   "outputs": [
    {
     "data": {
      "text/html": [
       "<table>\n",
       "<thead><tr><th scope=col>word</th><th scope=col>n</th></tr></thead>\n",
       "<tbody>\n",
       "\t<tr><td>time  </td><td>1065  </td></tr>\n",
       "\t<tr><td>miss  </td><td> 855  </td></tr>\n",
       "\t<tr><td>day   </td><td> 827  </td></tr>\n",
       "\t<tr><td>hand  </td><td> 768  </td></tr>\n",
       "\t<tr><td>eyes  </td><td> 713  </td></tr>\n",
       "\t<tr><td>night </td><td> 647  </td></tr>\n",
       "\t<tr><td>heart </td><td> 638  </td></tr>\n",
       "\t<tr><td>looked</td><td> 602  </td></tr>\n",
       "\t<tr><td>door  </td><td> 592  </td></tr>\n",
       "\t<tr><td>half  </td><td> 586  </td></tr>\n",
       "</tbody>\n",
       "</table>\n"
      ],
      "text/latex": [
       "\\begin{tabular}{r|ll}\n",
       " word & n\\\\\n",
       "\\hline\n",
       "\t time   & 1065  \\\\\n",
       "\t miss   &  855  \\\\\n",
       "\t day    &  827  \\\\\n",
       "\t hand   &  768  \\\\\n",
       "\t eyes   &  713  \\\\\n",
       "\t night  &  647  \\\\\n",
       "\t heart  &  638  \\\\\n",
       "\t looked &  602  \\\\\n",
       "\t door   &  592  \\\\\n",
       "\t half   &  586  \\\\\n",
       "\\end{tabular}\n"
      ],
      "text/markdown": [
       "\n",
       "word | n | \n",
       "|---|---|---|---|---|---|---|---|---|---|\n",
       "| time   | 1065   | \n",
       "| miss   |  855   | \n",
       "| day    |  827   | \n",
       "| hand   |  768   | \n",
       "| eyes   |  713   | \n",
       "| night  |  647   | \n",
       "| heart  |  638   | \n",
       "| looked |  602   | \n",
       "| door   |  592   | \n",
       "| half   |  586   | \n",
       "\n",
       "\n"
      ],
      "text/plain": [
       "   word   n   \n",
       "1  time   1065\n",
       "2  miss    855\n",
       "3  day     827\n",
       "4  hand    768\n",
       "5  eyes    713\n",
       "6  night   647\n",
       "7  heart   638\n",
       "8  looked  602\n",
       "9  door    592\n",
       "10 half    586"
      ]
     },
     "metadata": {},
     "output_type": "display_data"
    }
   ],
   "source": [
    "#What are the most common words in these novels of the Bronte sisters?\n",
    "common_words_bronte = tidy_bronte %>% count(word, sort = TRUE)\n",
    "head(common_words_bronte, 10)"
   ]
  },
  {
   "cell_type": "markdown",
   "metadata": {},
   "source": [
    "Interesting that “time”, “eyes”, and “hand” are in the top 10 for both H.G. Wells and the Bronte sisters.\n",
    "\n",
    "### Tidy DocumentTermMatrix\n",
    "#### Calculate frequency for each word - by hand\n",
    "...for the works of the Bronte sisters, and H.G. Wells by binding the data frames together."
   ]
  },
  {
   "cell_type": "code",
   "execution_count": 9,
   "metadata": {},
   "outputs": [
    {
     "data": {
      "text/html": [
       "<ol class=list-inline>\n",
       "\t<li>'facsimile'</li>\n",
       "\t<li>'title'</li>\n",
       "\t<li>'page'</li>\n",
       "\t<li>'edition'</li>\n",
       "\t<li>'which'</li>\n",
       "\t<li>'issued'</li>\n",
       "</ol>\n"
      ],
      "text/latex": [
       "\\begin{enumerate*}\n",
       "\\item 'facsimile'\n",
       "\\item 'title'\n",
       "\\item 'page'\n",
       "\\item 'edition'\n",
       "\\item 'which'\n",
       "\\item 'issued'\n",
       "\\end{enumerate*}\n"
      ],
      "text/markdown": [
       "1. 'facsimile'\n",
       "2. 'title'\n",
       "3. 'page'\n",
       "4. 'edition'\n",
       "5. 'which'\n",
       "6. 'issued'\n",
       "\n",
       "\n"
      ],
      "text/plain": [
       "[1] \"facsimile\" \"title\"     \"page\"      \"edition\"   \"which\"     \"issued\"   "
      ]
     },
     "metadata": {},
     "output_type": "display_data"
    }
   ],
   "source": [
    "library(stringr)\n",
    "head(str_extract(tidy_bronte$word, \"[a‐z']+\"))"
   ]
  },
  {
   "cell_type": "code",
   "execution_count": 10,
   "metadata": {},
   "outputs": [
    {
     "data": {
      "text/html": [
       "<table>\n",
       "<thead><tr><th scope=col>gutenberg_id</th><th scope=col>word</th><th scope=col>author</th></tr></thead>\n",
       "<tbody>\n",
       "\t<tr><td> 767          </td><td>facsimile     </td><td>Bronte Sisters</td></tr>\n",
       "\t<tr><td> 767          </td><td>title         </td><td>Bronte Sisters</td></tr>\n",
       "\t<tr><td> 767          </td><td>page          </td><td>Bronte Sisters</td></tr>\n",
       "\t<tr><td> 767          </td><td>edition       </td><td>Bronte Sisters</td></tr>\n",
       "\t<tr><td> 767          </td><td>which         </td><td>Bronte Sisters</td></tr>\n",
       "\t<tr><td> 767          </td><td>issued        </td><td>Bronte Sisters</td></tr>\n",
       "\t<tr><td>5230          </td><td>invisibility  </td><td>H.G. Wells    </td></tr>\n",
       "\t<tr><td>5230          </td><td>dozen         </td><td>H.G. Wells    </td></tr>\n",
       "\t<tr><td>5230          </td><td>strange       </td><td>H.G. Wells    </td></tr>\n",
       "\t<tr><td>5230          </td><td>secrets       </td><td>H.G. Wells    </td></tr>\n",
       "\t<tr><td>5230          </td><td>written       </td><td>H.G. Wells    </td></tr>\n",
       "\t<tr><td>5230          </td><td>dies          </td><td>H.G. Wells    </td></tr>\n",
       "</tbody>\n",
       "</table>\n"
      ],
      "text/latex": [
       "\\begin{tabular}{r|lll}\n",
       " gutenberg\\_id & word & author\\\\\n",
       "\\hline\n",
       "\t  767           & facsimile      & Bronte Sisters\\\\\n",
       "\t  767           & title          & Bronte Sisters\\\\\n",
       "\t  767           & page           & Bronte Sisters\\\\\n",
       "\t  767           & edition        & Bronte Sisters\\\\\n",
       "\t  767           & which          & Bronte Sisters\\\\\n",
       "\t  767           & issued         & Bronte Sisters\\\\\n",
       "\t 5230           & invisibility   & H.G. Wells    \\\\\n",
       "\t 5230           & dozen          & H.G. Wells    \\\\\n",
       "\t 5230           & strange        & H.G. Wells    \\\\\n",
       "\t 5230           & secrets        & H.G. Wells    \\\\\n",
       "\t 5230           & written        & H.G. Wells    \\\\\n",
       "\t 5230           & dies           & H.G. Wells    \\\\\n",
       "\\end{tabular}\n"
      ],
      "text/markdown": [
       "\n",
       "gutenberg_id | word | author | \n",
       "|---|---|---|---|---|---|---|---|---|---|---|---|\n",
       "|  767           | facsimile      | Bronte Sisters | \n",
       "|  767           | title          | Bronte Sisters | \n",
       "|  767           | page           | Bronte Sisters | \n",
       "|  767           | edition        | Bronte Sisters | \n",
       "|  767           | which          | Bronte Sisters | \n",
       "|  767           | issued         | Bronte Sisters | \n",
       "| 5230           | invisibility   | H.G. Wells     | \n",
       "| 5230           | dozen          | H.G. Wells     | \n",
       "| 5230           | strange        | H.G. Wells     | \n",
       "| 5230           | secrets        | H.G. Wells     | \n",
       "| 5230           | written        | H.G. Wells     | \n",
       "| 5230           | dies           | H.G. Wells     | \n",
       "\n",
       "\n"
      ],
      "text/plain": [
       "   gutenberg_id word         author        \n",
       "1   767         facsimile    Bronte Sisters\n",
       "2   767         title        Bronte Sisters\n",
       "3   767         page         Bronte Sisters\n",
       "4   767         edition      Bronte Sisters\n",
       "5   767         which        Bronte Sisters\n",
       "6   767         issued       Bronte Sisters\n",
       "7  5230         invisibility H.G. Wells    \n",
       "8  5230         dozen        H.G. Wells    \n",
       "9  5230         strange      H.G. Wells    \n",
       "10 5230         secrets      H.G. Wells    \n",
       "11 5230         written      H.G. Wells    \n",
       "12 5230         dies         H.G. Wells    "
      ]
     },
     "metadata": {},
     "output_type": "display_data"
    }
   ],
   "source": [
    "part1 = bind_rows(mutate(tidy_bronte, author = \"Bronte Sisters\"), # creates and binds a new column to tidy_bronte\n",
    "                        mutate(tidy_hgwells, author = \"H.G. Wells\") ) %>% # the same for tidy_hgwells\n",
    "                        mutate(word = str_extract(word, \"[a‐z']+\")) \n",
    "rbind(head(part1), tail(part1)) # bind_rows() is dplyr version of rbind()"
   ]
  },
  {
   "cell_type": "code",
   "execution_count": 11,
   "metadata": {},
   "outputs": [
    {
     "data": {
      "text/html": [
       "<table>\n",
       "<thead><tr><th scope=col>gutenberg_id</th><th scope=col>word</th><th scope=col>n</th></tr></thead>\n",
       "<tbody>\n",
       "\t<tr><td>  35        </td><td>a           </td><td>1           </td></tr>\n",
       "\t<tr><td>  35        </td><td>abandon     </td><td>1           </td></tr>\n",
       "\t<tr><td>  35        </td><td>abandoned   </td><td>1           </td></tr>\n",
       "\t<tr><td>  35        </td><td>abnormally  </td><td>1           </td></tr>\n",
       "\t<tr><td>  35        </td><td>abominable  </td><td>2           </td></tr>\n",
       "\t<tr><td>  35        </td><td>abominations</td><td>1           </td></tr>\n",
       "\t<tr><td>9182        </td><td>zest        </td><td>6           </td></tr>\n",
       "\t<tr><td>9182        </td><td>zigzag      </td><td>1           </td></tr>\n",
       "\t<tr><td>9182        </td><td>zigzags     </td><td>1           </td></tr>\n",
       "\t<tr><td>9182        </td><td>zone        </td><td>2           </td></tr>\n",
       "\t<tr><td>9182        </td><td>zurueck     </td><td>1           </td></tr>\n",
       "\t<tr><td>9182        </td><td>NA          </td><td>6           </td></tr>\n",
       "</tbody>\n",
       "</table>\n"
      ],
      "text/latex": [
       "\\begin{tabular}{r|lll}\n",
       " gutenberg\\_id & word & n\\\\\n",
       "\\hline\n",
       "\t   35         & a            & 1           \\\\\n",
       "\t   35         & abandon      & 1           \\\\\n",
       "\t   35         & abandoned    & 1           \\\\\n",
       "\t   35         & abnormally   & 1           \\\\\n",
       "\t   35         & abominable   & 2           \\\\\n",
       "\t   35         & abominations & 1           \\\\\n",
       "\t 9182         & zest         & 6           \\\\\n",
       "\t 9182         & zigzag       & 1           \\\\\n",
       "\t 9182         & zigzags      & 1           \\\\\n",
       "\t 9182         & zone         & 2           \\\\\n",
       "\t 9182         & zurueck      & 1           \\\\\n",
       "\t 9182         & NA           & 6           \\\\\n",
       "\\end{tabular}\n"
      ],
      "text/markdown": [
       "\n",
       "gutenberg_id | word | n | \n",
       "|---|---|---|---|---|---|---|---|---|---|---|---|\n",
       "|   35         | a            | 1            | \n",
       "|   35         | abandon      | 1            | \n",
       "|   35         | abandoned    | 1            | \n",
       "|   35         | abnormally   | 1            | \n",
       "|   35         | abominable   | 2            | \n",
       "|   35         | abominations | 1            | \n",
       "| 9182         | zest         | 6            | \n",
       "| 9182         | zigzag       | 1            | \n",
       "| 9182         | zigzags      | 1            | \n",
       "| 9182         | zone         | 2            | \n",
       "| 9182         | zurueck      | 1            | \n",
       "| 9182         | NA           | 6            | \n",
       "\n",
       "\n"
      ],
      "text/plain": [
       "   gutenberg_id word         n\n",
       "1    35         a            1\n",
       "2    35         abandon      1\n",
       "3    35         abandoned    1\n",
       "4    35         abnormally   1\n",
       "5    35         abominable   2\n",
       "6    35         abominations 1\n",
       "7  9182         zest         6\n",
       "8  9182         zigzag       1\n",
       "9  9182         zigzags      1\n",
       "10 9182         zone         2\n",
       "11 9182         zurueck      1\n",
       "12 9182         NA           6"
      ]
     },
     "metadata": {},
     "output_type": "display_data"
    }
   ],
   "source": [
    "frequency <‐ bind_rows(mutate(tidy_bronte, author = \"Bronte Sisters\"), # creates and binds a new column to tidy_bronte\n",
    "                        mutate(tidy_hgwells, author = \"H.G. Wells\") ) %>% # the same for tidy_hgwells\n",
    "                        mutate(word = str_extract(word, \"[a‐z']+\")) %>% # word \n",
    "                        count(gutenberg_id, word) # by counting the data is aggregated so that author column doesn't show\n",
    "# but it wasn't removed! after ungroup() we could display it\n",
    "rbind(head(frequency), tail(frequency)) # result similar to a TDM but without zeros"
   ]
  },
  {
   "cell_type": "code",
   "execution_count": 12,
   "metadata": {},
   "outputs": [
    {
     "data": {
      "text/html": [
       "<table>\n",
       "<thead><tr><th scope=col>author</th><th scope=col>word</th><th scope=col>n</th><th scope=col>proportion</th></tr></thead>\n",
       "<tbody>\n",
       "\t<tr><td>Bronte Sisters</td><td>a             </td><td> 8            </td><td>3.186807e-05  </td></tr>\n",
       "\t<tr><td>Bronte Sisters</td><td>a'most        </td><td> 4            </td><td>1.593403e-05  </td></tr>\n",
       "\t<tr><td>Bronte Sisters</td><td>aback         </td><td> 1            </td><td>3.983508e-06  </td></tr>\n",
       "\t<tr><td>Bronte Sisters</td><td>abaht         </td><td> 1            </td><td>3.983508e-06  </td></tr>\n",
       "\t<tr><td>Bronte Sisters</td><td>abandon       </td><td> 8            </td><td>3.186807e-05  </td></tr>\n",
       "\t<tr><td>Bronte Sisters</td><td>abandoned     </td><td>23            </td><td>9.162069e-05  </td></tr>\n",
       "\t<tr><td>H.G. Wells    </td><td>zodiac        </td><td> 1            </td><td>1.498487e-05  </td></tr>\n",
       "\t<tr><td>H.G. Wells    </td><td>zodiacal      </td><td> 1            </td><td>1.498487e-05  </td></tr>\n",
       "\t<tr><td>H.G. Wells    </td><td>zones         </td><td> 1            </td><td>1.498487e-05  </td></tr>\n",
       "\t<tr><td>H.G. Wells    </td><td>zoological    </td><td> 3            </td><td>4.495460e-05  </td></tr>\n",
       "\t<tr><td>H.G. Wells    </td><td>zouaves       </td><td> 1            </td><td>1.498487e-05  </td></tr>\n",
       "\t<tr><td>H.G. Wells    </td><td>NA            </td><td>31            </td><td>4.645308e-04  </td></tr>\n",
       "</tbody>\n",
       "</table>\n"
      ],
      "text/latex": [
       "\\begin{tabular}{r|llll}\n",
       " author & word & n & proportion\\\\\n",
       "\\hline\n",
       "\t Bronte Sisters & a              &  8             & 3.186807e-05  \\\\\n",
       "\t Bronte Sisters & a'most         &  4             & 1.593403e-05  \\\\\n",
       "\t Bronte Sisters & aback          &  1             & 3.983508e-06  \\\\\n",
       "\t Bronte Sisters & abaht          &  1             & 3.983508e-06  \\\\\n",
       "\t Bronte Sisters & abandon        &  8             & 3.186807e-05  \\\\\n",
       "\t Bronte Sisters & abandoned      & 23             & 9.162069e-05  \\\\\n",
       "\t H.G. Wells     & zodiac         &  1             & 1.498487e-05  \\\\\n",
       "\t H.G. Wells     & zodiacal       &  1             & 1.498487e-05  \\\\\n",
       "\t H.G. Wells     & zones          &  1             & 1.498487e-05  \\\\\n",
       "\t H.G. Wells     & zoological     &  3             & 4.495460e-05  \\\\\n",
       "\t H.G. Wells     & zouaves        &  1             & 1.498487e-05  \\\\\n",
       "\t H.G. Wells     & NA             & 31             & 4.645308e-04  \\\\\n",
       "\\end{tabular}\n"
      ],
      "text/markdown": [
       "\n",
       "author | word | n | proportion | \n",
       "|---|---|---|---|---|---|---|---|---|---|---|---|\n",
       "| Bronte Sisters | a              |  8             | 3.186807e-05   | \n",
       "| Bronte Sisters | a'most         |  4             | 1.593403e-05   | \n",
       "| Bronte Sisters | aback          |  1             | 3.983508e-06   | \n",
       "| Bronte Sisters | abaht          |  1             | 3.983508e-06   | \n",
       "| Bronte Sisters | abandon        |  8             | 3.186807e-05   | \n",
       "| Bronte Sisters | abandoned      | 23             | 9.162069e-05   | \n",
       "| H.G. Wells     | zodiac         |  1             | 1.498487e-05   | \n",
       "| H.G. Wells     | zodiacal       |  1             | 1.498487e-05   | \n",
       "| H.G. Wells     | zones          |  1             | 1.498487e-05   | \n",
       "| H.G. Wells     | zoological     |  3             | 4.495460e-05   | \n",
       "| H.G. Wells     | zouaves        |  1             | 1.498487e-05   | \n",
       "| H.G. Wells     | NA             | 31             | 4.645308e-04   | \n",
       "\n",
       "\n"
      ],
      "text/plain": [
       "   author         word       n  proportion  \n",
       "1  Bronte Sisters a           8 3.186807e-05\n",
       "2  Bronte Sisters a'most      4 1.593403e-05\n",
       "3  Bronte Sisters aback       1 3.983508e-06\n",
       "4  Bronte Sisters abaht       1 3.983508e-06\n",
       "5  Bronte Sisters abandon     8 3.186807e-05\n",
       "6  Bronte Sisters abandoned  23 9.162069e-05\n",
       "7  H.G. Wells     zodiac      1 1.498487e-05\n",
       "8  H.G. Wells     zodiacal    1 1.498487e-05\n",
       "9  H.G. Wells     zones       1 1.498487e-05\n",
       "10 H.G. Wells     zoological  3 4.495460e-05\n",
       "11 H.G. Wells     zouaves     1 1.498487e-05\n",
       "12 H.G. Wells     NA         31 4.645308e-04"
      ]
     },
     "metadata": {},
     "output_type": "display_data"
    }
   ],
   "source": [
    "part2 = bind_rows(mutate(tidy_bronte, author = \"Bronte Sisters\"),\n",
    "                            mutate(tidy_hgwells, author = \"H.G. Wells\") ) %>%\n",
    "                            mutate(word = str_extract(word, \"[a‐z']+\")) %>%\n",
    "                            count(author, word) %>% \n",
    "                            group_by(author) %>%\n",
    "                            mutate(proportion = n / sum(n)) \n",
    "rbind(head(part2), tail(part2))"
   ]
  },
  {
   "cell_type": "markdown",
   "metadata": {},
   "source": [
    "*  We use str_extract() here because the UTF-8 encoded some texts from Project Gutenberg with underscores around them to indicate emphasis (like italics). \n",
    "    *  The tokenizer treated these as words, but we don’t want to count “\\_any\\_” separately from “any”.\n",
    "    *  We can use **spread and gather from tidyr** to reshape our dataframe so that it is just what we need for plotting and comparing the three sets of novels."
   ]
  },
  {
   "cell_type": "code",
   "execution_count": 13,
   "metadata": {},
   "outputs": [
    {
     "data": {
      "text/html": [
       "<table>\n",
       "<thead><tr><th scope=col>word</th><th scope=col>Bronte Sisters</th><th scope=col>H.G. Wells</th></tr></thead>\n",
       "<tbody>\n",
       "\t<tr><td>a           </td><td>3.186807e-05</td><td>1.498487e-05</td></tr>\n",
       "\t<tr><td>a'most      </td><td>1.593403e-05</td><td>          NA</td></tr>\n",
       "\t<tr><td>aback       </td><td>3.983508e-06</td><td>1.498487e-05</td></tr>\n",
       "\t<tr><td>abaht       </td><td>3.983508e-06</td><td>          NA</td></tr>\n",
       "\t<tr><td>abandon     </td><td>3.186807e-05</td><td>1.498487e-05</td></tr>\n",
       "\t<tr><td>abandoned   </td><td>9.162069e-05</td><td>1.798184e-04</td></tr>\n",
       "</tbody>\n",
       "</table>\n"
      ],
      "text/latex": [
       "\\begin{tabular}{r|lll}\n",
       " word & Bronte Sisters & H.G. Wells\\\\\n",
       "\\hline\n",
       "\t a            & 3.186807e-05 & 1.498487e-05\\\\\n",
       "\t a'most       & 1.593403e-05 &           NA\\\\\n",
       "\t aback        & 3.983508e-06 & 1.498487e-05\\\\\n",
       "\t abaht        & 3.983508e-06 &           NA\\\\\n",
       "\t abandon      & 3.186807e-05 & 1.498487e-05\\\\\n",
       "\t abandoned    & 9.162069e-05 & 1.798184e-04\\\\\n",
       "\\end{tabular}\n"
      ],
      "text/markdown": [
       "\n",
       "word | Bronte Sisters | H.G. Wells | \n",
       "|---|---|---|---|---|---|\n",
       "| a            | 3.186807e-05 | 1.498487e-05 | \n",
       "| a'most       | 1.593403e-05 |           NA | \n",
       "| aback        | 3.983508e-06 | 1.498487e-05 | \n",
       "| abaht        | 3.983508e-06 |           NA | \n",
       "| abandon      | 3.186807e-05 | 1.498487e-05 | \n",
       "| abandoned    | 9.162069e-05 | 1.798184e-04 | \n",
       "\n",
       "\n"
      ],
      "text/plain": [
       "  word      Bronte Sisters H.G. Wells  \n",
       "1 a         3.186807e-05   1.498487e-05\n",
       "2 a'most    1.593403e-05             NA\n",
       "3 aback     3.983508e-06   1.498487e-05\n",
       "4 abaht     3.983508e-06             NA\n",
       "5 abandon   3.186807e-05   1.498487e-05\n",
       "6 abandoned 9.162069e-05   1.798184e-04"
      ]
     },
     "metadata": {},
     "output_type": "display_data"
    }
   ],
   "source": [
    "#library(tidyr) # function spread()\n",
    "library(scales)\n",
    "frequency2Plot <‐ bind_rows(mutate(tidy_bronte, author = \"Bronte Sisters\"),\n",
    "                            mutate(tidy_hgwells, author = \"H.G. Wells\") ) %>%\n",
    "                            mutate(word = str_extract(word, \"[a‐z']+\")) %>%\n",
    "                            count(author, word) %>% \n",
    "                            group_by(author) %>%\n",
    "                            mutate(proportion = n / sum(n)) %>% # adds column proportion\n",
    "                            select(‐n) %>% # removes column n, as it was only needed to calculate proportion\n",
    "                            tidyr::spread(author, proportion)\n",
    "#%>% gather(author, proportion, `Bronte Sisters`:`H.G. Wells`)\n",
    "# expect a warning about rows with missing values being removed\n",
    "head(frequency2Plot)"
   ]
  },
  {
   "cell_type": "code",
   "execution_count": 14,
   "metadata": {},
   "outputs": [
    {
     "data": {},
     "metadata": {},
     "output_type": "display_data"
    },
    {
     "data": {
      "image/png": "[encoded data removed]",
      "text/plain": [
       "plot without title"
      ]
     },
     "metadata": {},
     "output_type": "display_data"
    }
   ],
   "source": [
    "options(repr.plot.height = 4, repr.plot.width = 5)\n",
    "ggplot(frequency2Plot, aes(x = `Bronte Sisters`, y = `H.G. Wells`)) + \n",
    "            geom_abline(color = \"gray40\", lty = 2) +\n",
    "            geom_jitter(alpha = 0.1, size = 2.5, width = 0.3, height = 0.3) +\n",
    "            geom_text(aes(label = word), check_overlap = TRUE, vjust = 1.5) +\n",
    "            scale_x_log10(labels = scales::percent_format()) +\n",
    "            scale_y_log10(labels = scales::percent_format()) +\n",
    "            scale_color_gradient(limits = c(0, 0.001), low = \"darkslategray4\", high = \"gray75\")"
   ]
  },
  {
   "cell_type": "markdown",
   "metadata": {},
   "source": [
    "#### Interpretation\n",
    "Words that are close to the line in these plots have similar frequencies in both texts \n",
    "*  ex. \"fire, \"door\", \"day\", \"time\" at the high frequency end\n",
    "\n",
    "Words that are far from the line are words that are found more in one set of texts than another. \n",
    "*  ex. \"father\", \"john\", \"love\", \"miss\" are found in Bronte’s texts but not much in H.G.Wells \n",
    "\n",
    "Let’s quantify the similarity using a correlation test. How correlated are the word frequencies?"
   ]
  },
  {
   "cell_type": "code",
   "execution_count": 22,
   "metadata": {},
   "outputs": [
    {
     "data": {
      "text/html": [
       "<table>\n",
       "<thead><tr><th></th><th scope=col>H.G. Wells</th></tr></thead>\n",
       "<tbody>\n",
       "\t<tr><th scope=row>Bronte Sisters</th><td>0.6481145</td></tr>\n",
       "</tbody>\n",
       "</table>\n"
      ],
      "text/latex": [
       "\\begin{tabular}{r|l}\n",
       "  & H.G. Wells\\\\\n",
       "\\hline\n",
       "\tBronte Sisters & 0.6481145\\\\\n",
       "\\end{tabular}\n"
      ],
      "text/markdown": [
       "\n",
       "| <!--/--> | H.G. Wells | \n",
       "|---|\n",
       "| Bronte Sisters | 0.6481145 | \n",
       "\n",
       "\n"
      ],
      "text/plain": [
       "               H.G. Wells\n",
       "Bronte Sisters 0.6481145 "
      ]
     },
     "metadata": {},
     "output_type": "display_data"
    }
   ],
   "source": [
    "cor(frequency2Plot[,2], frequency2Plot[,3], use = \"pairwise.complete.obs\")"
   ]
  },
  {
   "cell_type": "markdown",
   "metadata": {},
   "source": [
    "*  their correlation is moderately strong!"
   ]
  },
  {
   "cell_type": "markdown",
   "metadata": {},
   "source": [
    "#### Calculate word frequency by using library(tm)"
   ]
  },
  {
   "cell_type": "code",
   "execution_count": 118,
   "metadata": {},
   "outputs": [
    {
     "name": "stdout",
     "output_type": "stream",
     "text": [
      "<<DocumentTermMatrix (documents: 9, terms: 20)>>\n",
      "Non-/sparse entries: 92/88\n",
      "Sparsity           : 49%\n",
      "Maximal term length: 10\n",
      "Weighting          : term frequency (tf)\n",
      "Sample             :\n",
      "      Terms\n",
      "Docs   abhorrence ability able abode abroad abruptness absence absent absolute\n",
      "  1260          0       0   23     8      4          1      14      9        6\n",
      "  159           1       0    4     0      0          1       0      1        2\n",
      "  35            0       0    3     0      0          0       4      1        7\n",
      "  36            0       1   16     0      1          0       3      2        5\n",
      "  5230          0       0    5     0      4          0       0      0        0\n",
      "  767           1       2   21     9      3          2       3      1        2\n",
      "  768           1       0   16     7      2          0      22      7        2\n",
      "  9182          2       2   16     5      8          2      19     10        2\n",
      "  969           6       1   35     8      4          1      14     11        9\n",
      "      Terms\n",
      "Docs   absorbed\n",
      "  1260       11\n",
      "  159         1\n",
      "  35          1\n",
      "  36          0\n",
      "  5230        1\n",
      "  767         3\n",
      "  768        10\n",
      "  9182       11\n",
      "  969        11\n"
     ]
    }
   ],
   "source": [
    "bronteLong = tapply(bronte$text, bronte$gutenberg_id, paste0, collapse=\" \")\n",
    "hgwellsLong = tapply(hgwells$text, hgwells$gutenberg_id, paste0, collapse=\" \")\n",
    "AllTexts = tolower(c(bronteLong, hgwellsLong))\n",
    "GutCorp = SimpleCorpus(VectorSource(AllTexts))\n",
    "dtm = DocumentTermMatrix(GutCorp, control = list(removePunctuation = TRUE, stopwords = TRUE))\n",
    "inspect(dtm[1:9, 1:20]) # returns numeric matrix for similarity analysis ex. as similarity measure for clustering"
   ]
  },
  {
   "cell_type": "code",
   "execution_count": 123,
   "metadata": {},
   "outputs": [
    {
     "name": "stderr",
     "output_type": "stream",
     "text": [
      "The \"ward\" method has been renamed to \"ward.D\"; note new \"ward.D2\"\n"
     ]
    },
    {
     "data": {
      "image/png": "[encoded data removed]",
      "text/plain": [
       "Plot with title \"Cluster Dendrogram\""
      ]
     },
     "metadata": {},
     "output_type": "display_data"
    }
   ],
   "source": [
    "# Clustering of text - distance bw. words measured by using word counts\n",
    "hc <‐ hclust(dist(as.matrix(dtm)), method = \"ward\") # linkage = ward\n",
    "options(repr.plot.width = 4, repr.plot.height = 4)\n",
    "plot(hc) # gutenberg_id as labels"
   ]
  },
  {
   "cell_type": "markdown",
   "metadata": {},
   "source": [
    "### Exercises\n",
    "*  Try different linkages and count transformations ex. single/complete/average linkage\n",
    "*  Find out why some Bronte books were classified/clustered as Wells books.\n",
    "*  What about kmeans?\n",
    "*  Find the optimum number of clusters\n",
    "\n",
    "#### Next Time:\n",
    "*  tfidf, ngrams, Sentiment Analysis, Prediction\n",
    "\n",
    "### IDF = Inverse-Document-Frequency weighting\n",
    "How well does our bag-of-words model meet our two goals? \n",
    "1. easy to set up and use, \n",
    "2. helpful at teasing out important aspects, and removing unimportant ones\n",
    "\n",
    "*  Not so strong on the second goal (recall the word count differences). But an extension called IDF weighting can help a lot with this when we have many documents in our collection (i.e. corpus). \n",
    "*  Suppose we have D documents in total. IDF weighting works as follows: e.g., the word count = nr of times Trump said *great*\n",
    "    *  it becomes the weighted word count: nr of times Trump said great x log(D/nr of documents with word great)\n",
    "    *  we see this as TF-IDF, where the TF stands for term frequency\n",
    "    *  So when all documents contain the word in question, the weight is zero. Better to have a large corpus, say D in the hundreds or thousands, not D = 2 like at the moment.\n",
    "    \n",
    "### Stemming\n",
    "**Stemming** = the process of erasing word suffixes for better aggregation ex. *complicated, complication, complicate, complicatedly* => **complicat**. \n",
    "*  It is a common technique in TM, as it reduces complexity without any severe loss of information for typical applications (especially for bag-of-words).\n",
    "*  The main stemming function is **stemDocument()**, which internally calls the Porter stemming algorithm, and can be used with several languages, like English, German or Russian (see e.g., Rstem’s **getStemLanguages()** for installed language extensions)."
   ]
  },
  {
   "cell_type": "code",
   "execution_count": 126,
   "metadata": {},
   "outputs": [
    {
     "data": {
      "text/html": [
       "<ol class=list-inline>\n",
       "\t<li>'danish'</li>\n",
       "\t<li>'dutch'</li>\n",
       "\t<li>'english'</li>\n",
       "\t<li>'finnish'</li>\n",
       "\t<li>'french'</li>\n",
       "\t<li>'german'</li>\n",
       "\t<li>'hungarian'</li>\n",
       "\t<li>'italian'</li>\n",
       "\t<li>'norwegian'</li>\n",
       "\t<li>'porter'</li>\n",
       "\t<li>'portuguese'</li>\n",
       "\t<li>'romanian'</li>\n",
       "\t<li>'russian'</li>\n",
       "\t<li>'spanish'</li>\n",
       "\t<li>'swedish'</li>\n",
       "\t<li>'turkish'</li>\n",
       "</ol>\n"
      ],
      "text/latex": [
       "\\begin{enumerate*}\n",
       "\\item 'danish'\n",
       "\\item 'dutch'\n",
       "\\item 'english'\n",
       "\\item 'finnish'\n",
       "\\item 'french'\n",
       "\\item 'german'\n",
       "\\item 'hungarian'\n",
       "\\item 'italian'\n",
       "\\item 'norwegian'\n",
       "\\item 'porter'\n",
       "\\item 'portuguese'\n",
       "\\item 'romanian'\n",
       "\\item 'russian'\n",
       "\\item 'spanish'\n",
       "\\item 'swedish'\n",
       "\\item 'turkish'\n",
       "\\end{enumerate*}\n"
      ],
      "text/markdown": [
       "1. 'danish'\n",
       "2. 'dutch'\n",
       "3. 'english'\n",
       "4. 'finnish'\n",
       "5. 'french'\n",
       "6. 'german'\n",
       "7. 'hungarian'\n",
       "8. 'italian'\n",
       "9. 'norwegian'\n",
       "10. 'porter'\n",
       "11. 'portuguese'\n",
       "12. 'romanian'\n",
       "13. 'russian'\n",
       "14. 'spanish'\n",
       "15. 'swedish'\n",
       "16. 'turkish'\n",
       "\n",
       "\n"
      ],
      "text/plain": [
       " [1] \"danish\"     \"dutch\"      \"english\"    \"finnish\"    \"french\"    \n",
       " [6] \"german\"     \"hungarian\"  \"italian\"    \"norwegian\"  \"porter\"    \n",
       "[11] \"portuguese\" \"romanian\"   \"russian\"    \"spanish\"    \"swedish\"   \n",
       "[16] \"turkish\"   "
      ]
     },
     "metadata": {},
     "output_type": "display_data"
    }
   ],
   "source": [
    "SnowballC::getStemLanguages()"
   ]
  },
  {
   "cell_type": "code",
   "execution_count": 127,
   "metadata": {},
   "outputs": [
    {
     "name": "stdout",
     "output_type": "stream",
     "text": [
      "<<PlainTextDocument>>\n",
      "Metadata:  15\n",
      "Content:  chars: 527\n",
      "\n",
      "Diamond Shamrock Corp said that\n",
      "effective today it had cut its contract prices for crude oil by\n",
      "1.50 dlrs a barrel.\n",
      "    The reduction brings its posted price for West Texas\n",
      "Intermediate to 16.00 dlrs a barrel, the copany said.\n",
      "    \"The price reduction today was made in the light of falling\n",
      "oil product prices and a weak crude oil market,\" a company\n",
      "spokeswoman said.\n",
      "    Diamond is the latest in a line of U.S. oil companies that\n",
      "have cut its contract, or posted, prices over the last two days\n",
      "citing weak oil markets.\n",
      " Reuter\n"
     ]
    }
   ],
   "source": [
    "data(\"crude\")\n",
    "inspect(crude[[1]])"
   ]
  },
  {
   "cell_type": "code",
   "execution_count": 128,
   "metadata": {},
   "outputs": [
    {
     "name": "stdout",
     "output_type": "stream",
     "text": [
      "<<PlainTextDocument>>\n",
      "Metadata:  15\n",
      "Content:  chars: 484\n",
      "\n",
      "Diamond Shamrock Corp said that effect today it had cut it contract price for crude oil by 1.50 dlrs a barrel. The reduct bring it post price for West Texa Intermedi to 16.00 dlrs a barrel, the copani said. \"The price reduct today was made in the light of fall oil product price and a weak crude oil market,\" a compani spokeswoman said. Diamond is the latest in a line of U.S. oil compani that have cut it contract, or posted, price over the last two day cite weak oil markets. Reuter\n"
     ]
    }
   ],
   "source": [
    "inspect(stemDocument(crude[[1]]))"
   ]
  },
  {
   "cell_type": "markdown",
   "metadata": {},
   "source": [
    "### Part of speech tagging\n",
    "*  In computational linguistics a common task is **tagging words** with their part of speech for further analysis. \n",
    "*  Via an interface with the openNLP package to the OpenNLP tool kit, **tm integrates part of speech tagging** functionality based on maximum entropy of ML models."
   ]
  },
  {
   "cell_type": "code",
   "execution_count": 133,
   "metadata": {},
   "outputs": [],
   "source": [
    "# pos_tag_annotator <‐ openNLP::Maxent_POS_Tag_Annotator()\n",
    "#annotate(\"And Bill, that conversation we started in the law library 45 years ago, it is still going strong. \n",
    "#                You know that conversation has lasted through good times that filled us with joy, \n",
    "#                and hard times that tested us.\", pos_tag_annotator)"
   ]
  },
  {
   "cell_type": "code",
   "execution_count": null,
   "metadata": {},
   "outputs": [],
   "source": [
    "options(warn=0)"
   ]
  }
 ],
 "metadata": {
  "kernelspec": {
   "display_name": "R",
   "language": "R",
   "name": "ir"
  },
  "language_info": {
   "codemirror_mode": "r",
   "file_extension": ".r",
   "mimetype": "text/x-r-source",
   "name": "R",
   "pygments_lexer": "r",
   "version": "3.4.3"
  },
  "toc": {
   "nav_menu": {},
   "number_sections": true,
   "sideBar": true,
   "skip_h1_title": true,
   "title_cell": "Table of Contents",
   "title_sidebar": "Table of Contents",
   "toc_cell": true,
   "toc_position": {
    "height": "calc(100% - 180px)",
    "left": "10px",
    "top": "150px",
    "width": "354px"
   },
   "toc_section_display": true,
   "toc_window_display": true
  },
  "varInspector": {
   "cols": {
    "lenName": 16,
    "lenType": 16,
    "lenVar": 40
   },
   "kernels_config": {
    "python": {
     "delete_cmd_postfix": "",
     "delete_cmd_prefix": "del ",
     "library": "var_list.py",
     "varRefreshCmd": "print(var_dic_list())"
    },
    "r": {
     "delete_cmd_postfix": ") ",
     "delete_cmd_prefix": "rm(",
     "library": "var_list.r",
     "varRefreshCmd": "cat(var_dic_list()) "
    }
   },
   "position": {
    "height": "648px",
    "left": "1110px",
    "right": "20px",
    "top": "81px",
    "width": "652px"
   },
   "types_to_exclude": [
    "module",
    "function",
    "builtin_function_or_method",
    "instance",
    "_Feature"
   ],
   "window_display": false
  }
 },
 "nbformat": 4,
 "nbformat_minor": 2
}
