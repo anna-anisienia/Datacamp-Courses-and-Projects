{
 "cells": [
  {
   "cell_type": "markdown",
   "metadata": {
    "toc": true
   },
   "source": [
    "<h1>Table of Contents<span class=\"tocSkip\"></span></h1>\n",
    "<div class=\"toc\"><ul class=\"toc-item\"><li><span><a href=\"#Ch1:-Geocoded-tweets-across-the-United-States\" data-toc-modified-id=\"Ch1:-Geocoded-tweets-across-the-United-States-1\"><span class=\"toc-item-num\">1&nbsp;&nbsp;</span>Ch1: Geocoded tweets across the United States</a></span><ul class=\"toc-item\"><li><span><a href=\"#Sentiment-lexicons\" data-toc-modified-id=\"Sentiment-lexicons-1.1\"><span class=\"toc-item-num\">1.1&nbsp;&nbsp;</span>Sentiment lexicons</a></span></li><li><span><a href=\"#Sentiment-analysis-using-an-inner-join\" data-toc-modified-id=\"Sentiment-analysis-using-an-inner-join-1.2\"><span class=\"toc-item-num\">1.2&nbsp;&nbsp;</span>Sentiment analysis using an inner join</a></span></li><li><span><a href=\"#Exercise-Inner-join,-loading-geocoded-Tweet-data\" data-toc-modified-id=\"Exercise-Inner-join,-loading-geocoded-Tweet-data-1.3\"><span class=\"toc-item-num\">1.3&nbsp;&nbsp;</span>Exercise Inner join, loading geocoded Tweet data</a></span></li><li><span><a href=\"#Analyzing-sentiment-analysis-results\" data-toc-modified-id=\"Analyzing-sentiment-analysis-results-1.4\"><span class=\"toc-item-num\">1.4&nbsp;&nbsp;</span>Analyzing sentiment analysis results</a></span></li><li><span><a href=\"#Differences-by-state\" data-toc-modified-id=\"Differences-by-state-1.5\"><span class=\"toc-item-num\">1.5&nbsp;&nbsp;</span>Differences by state</a></span></li><li><span><a href=\"#Exercise:-What-are-the-most-common-sadness-words?\" data-toc-modified-id=\"Exercise:-What-are-the-most-common-sadness-words?-1.6\"><span class=\"toc-item-num\">1.6&nbsp;&nbsp;</span>Exercise: What are the most common sadness words?</a></span></li><li><span><a href=\"#Exercise:-What-are-the-most-common-joy-words?\" data-toc-modified-id=\"Exercise:-What-are-the-most-common-joy-words?-1.7\"><span class=\"toc-item-num\">1.7&nbsp;&nbsp;</span>Exercise: What are the most common joy words?</a></span></li><li><span><a href=\"#Do-people-in-different-states-use-different-words?\" data-toc-modified-id=\"Do-people-in-different-states-use-different-words?-1.8\"><span class=\"toc-item-num\">1.8&nbsp;&nbsp;</span>Do people in different states use different words?</a></span></li><li><span><a href=\"#Exercise:-Which-states-have-the-most-positive-Twitter-users?\" data-toc-modified-id=\"Exercise:-Which-states-have-the-most-positive-Twitter-users?-1.9\"><span class=\"toc-item-num\">1.9&nbsp;&nbsp;</span>Exercise: Which states have the most positive Twitter users?</a></span></li></ul></li><li><span><a href=\"#Ch2:-Tidying-Shakespeare\" data-toc-modified-id=\"Ch2:-Tidying-Shakespeare-2\"><span class=\"toc-item-num\">2&nbsp;&nbsp;</span>Ch2: Tidying Shakespeare</a></span><ul class=\"toc-item\"><li><ul class=\"toc-item\"><li><span><a href=\"#Using-count-and-mutate\" data-toc-modified-id=\"Using-count-and-mutate-2.0.1\"><span class=\"toc-item-num\">2.0.1&nbsp;&nbsp;</span>Using count and mutate</a></span></li></ul></li><li><span><a href=\"#Sentiment-contributions-by-individual-words\" data-toc-modified-id=\"Sentiment-contributions-by-individual-words-2.1\"><span class=\"toc-item-num\">2.1&nbsp;&nbsp;</span>Sentiment contributions by individual words</a></span></li><li><span><a href=\"#Sentiment-analysis-of-Shakespeare\" data-toc-modified-id=\"Sentiment-analysis-of-Shakespeare-2.2\"><span class=\"toc-item-num\">2.2&nbsp;&nbsp;</span>Sentiment analysis of Shakespeare</a></span></li><li><span><a href=\"#Using-count-&amp;-mutate-in-shakespeare\" data-toc-modified-id=\"Using-count-&amp;-mutate-in-shakespeare-2.3\"><span class=\"toc-item-num\">2.3&nbsp;&nbsp;</span>Using count &amp; mutate in shakespeare</a></span><ul class=\"toc-item\"><li><span><a href=\"#Which-plays-have-a-higher-percentage-of-negative-words?-Do-the-tragedies-have-more-negative-words-than-the-comedies?\" data-toc-modified-id=\"Which-plays-have-a-higher-percentage-of-negative-words?-Do-the-tragedies-have-more-negative-words-than-the-comedies?-2.3.1\"><span class=\"toc-item-num\">2.3.1&nbsp;&nbsp;</span>Which plays have a higher percentage of negative words? Do the tragedies have more negative words than the comedies?</a></span></li></ul></li><li><span><a href=\"#Exercise:-Most-common-positive-and-negative-words\" data-toc-modified-id=\"Exercise:-Most-common-positive-and-negative-words-2.4\"><span class=\"toc-item-num\">2.4&nbsp;&nbsp;</span>Exercise: Most common positive and negative words</a></span></li><li><span><a href=\"#Exercise:-Word-contributions-(to-the-sentiment-score)-by-play\" data-toc-modified-id=\"Exercise:-Word-contributions-(to-the-sentiment-score)-by-play-2.5\"><span class=\"toc-item-num\">2.5&nbsp;&nbsp;</span>Exercise: Word contributions (to the sentiment score) by play</a></span></li><li><span><a href=\"#Exercise:-Calculating-a-contribution-score\" data-toc-modified-id=\"Exercise:-Calculating-a-contribution-score-2.6\"><span class=\"toc-item-num\">2.6&nbsp;&nbsp;</span>Exercise: Calculating a contribution score</a></span></li><li><span><a href=\"#Exercise:-How-does-sentiment-change-through-the-narrative-arcs-of-6-plays-by-Shakespeare?\" data-toc-modified-id=\"Exercise:-How-does-sentiment-change-through-the-narrative-arcs-of-6-plays-by-Shakespeare?-2.7\"><span class=\"toc-item-num\">2.7&nbsp;&nbsp;</span>Exercise: How does sentiment change through the narrative arcs of 6 plays by Shakespeare?</a></span></li></ul></li><li><span><a href=\"#Ch3:-Sentiment-analysis-of-TV-news\" data-toc-modified-id=\"Ch3:-Sentiment-analysis-of-TV-news-3\"><span class=\"toc-item-num\">3&nbsp;&nbsp;</span>Ch3: Sentiment analysis of TV news</a></span><ul class=\"toc-item\"><li><span><a href=\"#Exercise:-Counting-totals---most-common-words\" data-toc-modified-id=\"Exercise:-Counting-totals---most-common-words-3.1\"><span class=\"toc-item-num\">3.1&nbsp;&nbsp;</span>Exercise: Counting totals - most common words</a></span></li><li><span><a href=\"#Sentiment-analysis-of-TV-news\" data-toc-modified-id=\"Sentiment-analysis-of-TV-news-3.2\"><span class=\"toc-item-num\">3.2&nbsp;&nbsp;</span>Sentiment analysis of TV news</a></span></li><li><span><a href=\"#Exercise:-Which-station-uses-the-most-positive-or-negative-words?\" data-toc-modified-id=\"Exercise:-Which-station-uses-the-most-positive-or-negative-words?-3.3\"><span class=\"toc-item-num\">3.3&nbsp;&nbsp;</span>Exercise: Which station uses the most positive or negative words?</a></span></li><li><span><a href=\"#Exercise:-Which-words-contribute-to-the-sentiment-scores?\" data-toc-modified-id=\"Exercise:-Which-words-contribute-to-the-sentiment-scores?-3.4\"><span class=\"toc-item-num\">3.4&nbsp;&nbsp;</span>Exercise: Which words contribute to the sentiment scores?</a></span></li><li><span><a href=\"#Exercise:-Word-choice-and-TV-station\" data-toc-modified-id=\"Exercise:-Word-choice-and-TV-station-3.5\"><span class=\"toc-item-num\">3.5&nbsp;&nbsp;</span>Exercise: Word choice and TV station</a></span></li><li><span><a href=\"#Sentiment-over-time\" data-toc-modified-id=\"Sentiment-over-time-3.6\"><span class=\"toc-item-num\">3.6&nbsp;&nbsp;</span>Sentiment over time</a></span></li><li><span><a href=\"#Exercise:-Visualizing-sentiment-over-time\" data-toc-modified-id=\"Exercise:-Visualizing-sentiment-over-time-3.7\"><span class=\"toc-item-num\">3.7&nbsp;&nbsp;</span>Exercise: Visualizing sentiment over time</a></span></li><li><span><a href=\"#Exercise:-Word-changes-over-time---tidy-way\" data-toc-modified-id=\"Exercise:-Word-changes-over-time---tidy-way-3.8\"><span class=\"toc-item-num\">3.8&nbsp;&nbsp;</span>Exercise: Word changes over time - tidy way</a></span></li></ul></li><li><span><a href=\"#Ch4:-Sentiment-analysis-and-ranking-pop-songs-through-the-years\" data-toc-modified-id=\"Ch4:-Sentiment-analysis-and-ranking-pop-songs-through-the-years-4\"><span class=\"toc-item-num\">4&nbsp;&nbsp;</span>Ch4: Sentiment analysis and ranking pop songs through the years</a></span><ul class=\"toc-item\"><li><span><a href=\"#Exercise:-Calculating-total-words-per-song\" data-toc-modified-id=\"Exercise:-Calculating-total-words-per-song-4.1\"><span class=\"toc-item-num\">4.1&nbsp;&nbsp;</span>Exercise: Calculating total words per song</a></span></li><li><span><a href=\"#Exercise:-Sentiment-analysis-on-song-lyrics\" data-toc-modified-id=\"Exercise:-Sentiment-analysis-on-song-lyrics-4.2\"><span class=\"toc-item-num\">4.2&nbsp;&nbsp;</span>Exercise: Sentiment analysis on song lyrics</a></span></li><li><span><a href=\"#Exercise:-The-most-positive-and-negative-songs\" data-toc-modified-id=\"Exercise:-The-most-positive-and-negative-songs-4.3\"><span class=\"toc-item-num\">4.3&nbsp;&nbsp;</span>Exercise: The most positive and negative songs</a></span></li><li><span><a href=\"#Connecting-sentiment-to-other-quantities\" data-toc-modified-id=\"Connecting-sentiment-to-other-quantities-4.4\"><span class=\"toc-item-num\">4.4&nbsp;&nbsp;</span>Connecting sentiment to other quantities</a></span></li><li><span><a href=\"#Exercise:-Sentiment-and-Billboard-rank\" data-toc-modified-id=\"Exercise:-Sentiment-and-Billboard-rank-4.5\"><span class=\"toc-item-num\">4.5&nbsp;&nbsp;</span>Exercise: Sentiment and Billboard rank</a></span></li><li><span><a href=\"#Exercise:-More-on-Billboard-rank-and-sentiment-scores\" data-toc-modified-id=\"Exercise:-More-on-Billboard-rank-and-sentiment-scores-4.6\"><span class=\"toc-item-num\">4.6&nbsp;&nbsp;</span>Exercise: More on Billboard rank and sentiment scores</a></span></li><li><span><a href=\"#Pop-songs-over-time\" data-toc-modified-id=\"Pop-songs-over-time-4.7\"><span class=\"toc-item-num\">4.7&nbsp;&nbsp;</span>Pop songs over time</a></span></li><li><span><a href=\"#Exercise:-Sentiment-scores-by-year\" data-toc-modified-id=\"Exercise:-Sentiment-scores-by-year-4.8\"><span class=\"toc-item-num\">4.8&nbsp;&nbsp;</span>Exercise: Sentiment scores by year</a></span></li><li><span><a href=\"#Exercise:-Modeling-negative-sentiment\" data-toc-modified-id=\"Exercise:-Modeling-negative-sentiment-4.9\"><span class=\"toc-item-num\">4.9&nbsp;&nbsp;</span>Exercise: Modeling negative sentiment</a></span></li><li><span><a href=\"#Exercise:-Modeling-positive-sentiment\" data-toc-modified-id=\"Exercise:-Modeling-positive-sentiment-4.10\"><span class=\"toc-item-num\">4.10&nbsp;&nbsp;</span>Exercise: Modeling positive sentiment</a></span></li><li><span><a href=\"#How-is-sentiment-in-pop-songs-changing-over-the-decades?\" data-toc-modified-id=\"How-is-sentiment-in-pop-songs-changing-over-the-decades?-4.11\"><span class=\"toc-item-num\">4.11&nbsp;&nbsp;</span>How is sentiment in pop songs changing over the decades?</a></span></li><li><span><a href=\"#Diverse-texts,-powerful-techniques\" data-toc-modified-id=\"Diverse-texts,-powerful-techniques-4.12\"><span class=\"toc-item-num\">4.12&nbsp;&nbsp;</span>Diverse texts, powerful techniques</a></span></li></ul></li></ul></div>"
   ]
  },
  {
   "cell_type": "code",
   "execution_count": 14,
   "metadata": {},
   "outputs": [
    {
     "name": "stderr",
     "output_type": "stream",
     "text": [
      "Warning message:\n",
      "\"package 'tidyr' was built under R version 3.4.4\"Warning message:\n",
      "\"package 'IRdisplay' was built under R version 3.4.4\""
     ]
    }
   ],
   "source": [
    "# Load dplyr and tidytext\n",
    "library(dplyr)\n",
    "library(tidytext)\n",
    "library(tidyr)\n",
    "library(ggplot2)\n",
    "library(\"IRdisplay\") # display_jpeg(data = NULL, file = NULL, width = NULL, height = NULL)"
   ]
  },
  {
   "cell_type": "markdown",
   "metadata": {},
   "source": [
    "# Sentiment Analysis in R: The Tidy Way\n",
    "## Ch1: Geocoded tweets across the United States\n",
    "In this course, you will learn how to:\n",
    "*  implement sentiment analysis using tidy data principles\n",
    "*  explore sentiment lexicons\n",
    "*  apply these skills to real-world case studies\n",
    "    *  Geocoded Twitter data (geocoded: we know location of each user)\n",
    "        *  already in a tidy format = one word per row\n",
    "    *  6 Shakespeare's plays\n",
    "    *  text spoken on TV news programs\n",
    "    *  lyrics from pop songs over the last 50 years\n",
    "    \n",
    "### Sentiment lexicons"
   ]
  },
  {
   "cell_type": "code",
   "execution_count": 4,
   "metadata": {},
   "outputs": [
    {
     "data": {
      "text/html": [
       "<table>\n",
       "<thead><tr><th scope=col>word</th><th scope=col>sentiment</th></tr></thead>\n",
       "<tbody>\n",
       "\t<tr><td>2-faced    </td><td>negative   </td></tr>\n",
       "\t<tr><td>2-faces    </td><td>negative   </td></tr>\n",
       "\t<tr><td>a+         </td><td>positive   </td></tr>\n",
       "\t<tr><td>abnormal   </td><td>negative   </td></tr>\n",
       "\t<tr><td>abolish    </td><td>negative   </td></tr>\n",
       "\t<tr><td>abominable </td><td>negative   </td></tr>\n",
       "\t<tr><td>abominably </td><td>negative   </td></tr>\n",
       "\t<tr><td>abominate  </td><td>negative   </td></tr>\n",
       "\t<tr><td>abomination</td><td>negative   </td></tr>\n",
       "\t<tr><td>abort      </td><td>negative   </td></tr>\n",
       "</tbody>\n",
       "</table>\n"
      ],
      "text/latex": [
       "\\begin{tabular}{r|ll}\n",
       " word & sentiment\\\\\n",
       "\\hline\n",
       "\t 2-faced     & negative   \\\\\n",
       "\t 2-faces     & negative   \\\\\n",
       "\t a+          & positive   \\\\\n",
       "\t abnormal    & negative   \\\\\n",
       "\t abolish     & negative   \\\\\n",
       "\t abominable  & negative   \\\\\n",
       "\t abominably  & negative   \\\\\n",
       "\t abominate   & negative   \\\\\n",
       "\t abomination & negative   \\\\\n",
       "\t abort       & negative   \\\\\n",
       "\\end{tabular}\n"
      ],
      "text/markdown": [
       "\n",
       "word | sentiment | \n",
       "|---|---|---|---|---|---|---|---|---|---|\n",
       "| 2-faced     | negative    | \n",
       "| 2-faces     | negative    | \n",
       "| a+          | positive    | \n",
       "| abnormal    | negative    | \n",
       "| abolish     | negative    | \n",
       "| abominable  | negative    | \n",
       "| abominably  | negative    | \n",
       "| abominate   | negative    | \n",
       "| abomination | negative    | \n",
       "| abort       | negative    | \n",
       "\n",
       "\n"
      ],
      "text/plain": [
       "   word        sentiment\n",
       "1  2-faced     negative \n",
       "2  2-faces     negative \n",
       "3  a+          positive \n",
       "4  abnormal    negative \n",
       "5  abolish     negative \n",
       "6  abominable  negative \n",
       "7  abominably  negative \n",
       "8  abominate   negative \n",
       "9  abomination negative \n",
       "10 abort       negative "
      ]
     },
     "metadata": {},
     "output_type": "display_data"
    }
   ],
   "source": [
    "tidytext::get_sentiments(\"bing\")[1:10, ]"
   ]
  },
  {
   "cell_type": "markdown",
   "metadata": {},
   "source": [
    "While \"bing\" lexicon classifies words into 2 sentiments, positive or negative, there are 10 sentiment categories conveyed in the \"nrc\" lexicon.\n",
    "*  Sentiment lexicons include many words, but some words are unlikely to be found in a sentiment lexicon or dictionary. Which of the following words is most unlikely to be found in a sentiment lexicon?\n",
    "    *  pessimism, peace, merry, and, repulsion\n",
    "    * ANSWER: and - word like “and” is neutral and unlikely to be included in a sentiment lexicon."
   ]
  },
  {
   "cell_type": "code",
   "execution_count": 2,
   "metadata": {},
   "outputs": [
    {
     "data": {
      "text/html": [
       "<table>\n",
       "<thead><tr><th scope=col>word</th><th scope=col>sentiment</th></tr></thead>\n",
       "<tbody>\n",
       "\t<tr><td>abacus     </td><td>trust      </td></tr>\n",
       "\t<tr><td>abandon    </td><td>fear       </td></tr>\n",
       "\t<tr><td>abandon    </td><td>negative   </td></tr>\n",
       "\t<tr><td>abandon    </td><td>sadness    </td></tr>\n",
       "\t<tr><td>abandoned  </td><td>anger      </td></tr>\n",
       "\t<tr><td>abandoned  </td><td>fear       </td></tr>\n",
       "\t<tr><td>abandoned  </td><td>negative   </td></tr>\n",
       "\t<tr><td>abandoned  </td><td>sadness    </td></tr>\n",
       "\t<tr><td>abandonment</td><td>anger      </td></tr>\n",
       "\t<tr><td>abandonment</td><td>fear       </td></tr>\n",
       "</tbody>\n",
       "</table>\n"
      ],
      "text/latex": [
       "\\begin{tabular}{r|ll}\n",
       " word & sentiment\\\\\n",
       "\\hline\n",
       "\t abacus      & trust      \\\\\n",
       "\t abandon     & fear       \\\\\n",
       "\t abandon     & negative   \\\\\n",
       "\t abandon     & sadness    \\\\\n",
       "\t abandoned   & anger      \\\\\n",
       "\t abandoned   & fear       \\\\\n",
       "\t abandoned   & negative   \\\\\n",
       "\t abandoned   & sadness    \\\\\n",
       "\t abandonment & anger      \\\\\n",
       "\t abandonment & fear       \\\\\n",
       "\\end{tabular}\n"
      ],
      "text/markdown": [
       "\n",
       "word | sentiment | \n",
       "|---|---|---|---|---|---|---|---|---|---|\n",
       "| abacus      | trust       | \n",
       "| abandon     | fear        | \n",
       "| abandon     | negative    | \n",
       "| abandon     | sadness     | \n",
       "| abandoned   | anger       | \n",
       "| abandoned   | fear        | \n",
       "| abandoned   | negative    | \n",
       "| abandoned   | sadness     | \n",
       "| abandonment | anger       | \n",
       "| abandonment | fear        | \n",
       "\n",
       "\n"
      ],
      "text/plain": [
       "   word        sentiment\n",
       "1  abacus      trust    \n",
       "2  abandon     fear     \n",
       "3  abandon     negative \n",
       "4  abandon     sadness  \n",
       "5  abandoned   anger    \n",
       "6  abandoned   fear     \n",
       "7  abandoned   negative \n",
       "8  abandoned   sadness  \n",
       "9  abandonment anger    \n",
       "10 abandonment fear     "
      ]
     },
     "metadata": {},
     "output_type": "display_data"
    }
   ],
   "source": [
    "tidytext::get_sentiments(\"nrc\")[1:10, ] "
   ]
  },
  {
   "cell_type": "code",
   "execution_count": 3,
   "metadata": {},
   "outputs": [
    {
     "data": {
      "text/html": [
       "<table>\n",
       "<thead><tr><th scope=col>word</th><th scope=col>score</th></tr></thead>\n",
       "<tbody>\n",
       "\t<tr><td>abandon   </td><td>-2        </td></tr>\n",
       "\t<tr><td>abandoned </td><td>-2        </td></tr>\n",
       "\t<tr><td>abandons  </td><td>-2        </td></tr>\n",
       "\t<tr><td>abducted  </td><td>-2        </td></tr>\n",
       "\t<tr><td>abduction </td><td>-2        </td></tr>\n",
       "\t<tr><td>abductions</td><td>-2        </td></tr>\n",
       "\t<tr><td>abhor     </td><td>-3        </td></tr>\n",
       "\t<tr><td>abhorred  </td><td>-3        </td></tr>\n",
       "\t<tr><td>abhorrent </td><td>-3        </td></tr>\n",
       "\t<tr><td>abhors    </td><td>-3        </td></tr>\n",
       "</tbody>\n",
       "</table>\n"
      ],
      "text/latex": [
       "\\begin{tabular}{r|ll}\n",
       " word & score\\\\\n",
       "\\hline\n",
       "\t abandon    & -2        \\\\\n",
       "\t abandoned  & -2        \\\\\n",
       "\t abandons   & -2        \\\\\n",
       "\t abducted   & -2        \\\\\n",
       "\t abduction  & -2        \\\\\n",
       "\t abductions & -2        \\\\\n",
       "\t abhor      & -3        \\\\\n",
       "\t abhorred   & -3        \\\\\n",
       "\t abhorrent  & -3        \\\\\n",
       "\t abhors     & -3        \\\\\n",
       "\\end{tabular}\n"
      ],
      "text/markdown": [
       "\n",
       "word | score | \n",
       "|---|---|---|---|---|---|---|---|---|---|\n",
       "| abandon    | -2         | \n",
       "| abandoned  | -2         | \n",
       "| abandons   | -2         | \n",
       "| abducted   | -2         | \n",
       "| abduction  | -2         | \n",
       "| abductions | -2         | \n",
       "| abhor      | -3         | \n",
       "| abhorred   | -3         | \n",
       "| abhorrent  | -3         | \n",
       "| abhors     | -3         | \n",
       "\n",
       "\n"
      ],
      "text/plain": [
       "   word       score\n",
       "1  abandon    -2   \n",
       "2  abandoned  -2   \n",
       "3  abandons   -2   \n",
       "4  abducted   -2   \n",
       "5  abduction  -2   \n",
       "6  abductions -2   \n",
       "7  abhor      -3   \n",
       "8  abhorred   -3   \n",
       "9  abhorrent  -3   \n",
       "10 abhors     -3   "
      ]
     },
     "metadata": {},
     "output_type": "display_data"
    }
   ],
   "source": [
    "tidytext::get_sentiments(\"afinn\")[1:10, ]"
   ]
  },
  {
   "cell_type": "code",
   "execution_count": 3,
   "metadata": {},
   "outputs": [
    {
     "data": {
      "text/html": [
       "<table>\n",
       "<thead><tr><th scope=col>sentiment</th><th scope=col>n</th></tr></thead>\n",
       "<tbody>\n",
       "\t<tr><td>anger       </td><td>1247        </td></tr>\n",
       "\t<tr><td>anticipation</td><td> 839        </td></tr>\n",
       "\t<tr><td>disgust     </td><td>1058        </td></tr>\n",
       "\t<tr><td>fear        </td><td>1476        </td></tr>\n",
       "\t<tr><td>joy         </td><td> 689        </td></tr>\n",
       "\t<tr><td>negative    </td><td>3324        </td></tr>\n",
       "\t<tr><td>positive    </td><td>2312        </td></tr>\n",
       "\t<tr><td>sadness     </td><td>1191        </td></tr>\n",
       "\t<tr><td>surprise    </td><td> 534        </td></tr>\n",
       "\t<tr><td>trust       </td><td>1231        </td></tr>\n",
       "</tbody>\n",
       "</table>\n"
      ],
      "text/latex": [
       "\\begin{tabular}{r|ll}\n",
       " sentiment & n\\\\\n",
       "\\hline\n",
       "\t anger        & 1247        \\\\\n",
       "\t anticipation &  839        \\\\\n",
       "\t disgust      & 1058        \\\\\n",
       "\t fear         & 1476        \\\\\n",
       "\t joy          &  689        \\\\\n",
       "\t negative     & 3324        \\\\\n",
       "\t positive     & 2312        \\\\\n",
       "\t sadness      & 1191        \\\\\n",
       "\t surprise     &  534        \\\\\n",
       "\t trust        & 1231        \\\\\n",
       "\\end{tabular}\n"
      ],
      "text/markdown": [
       "\n",
       "sentiment | n | \n",
       "|---|---|---|---|---|---|---|---|---|---|\n",
       "| anger        | 1247         | \n",
       "| anticipation |  839         | \n",
       "| disgust      | 1058         | \n",
       "| fear         | 1476         | \n",
       "| joy          |  689         | \n",
       "| negative     | 3324         | \n",
       "| positive     | 2312         | \n",
       "| sadness      | 1191         | \n",
       "| surprise     |  534         | \n",
       "| trust        | 1231         | \n",
       "\n",
       "\n"
      ],
      "text/plain": [
       "   sentiment    n   \n",
       "1  anger        1247\n",
       "2  anticipation  839\n",
       "3  disgust      1058\n",
       "4  fear         1476\n",
       "5  joy           689\n",
       "6  negative     3324\n",
       "7  positive     2312\n",
       "8  sadness      1191\n",
       "9  surprise      534\n",
       "10 trust        1231"
      ]
     },
     "metadata": {},
     "output_type": "display_data"
    }
   ],
   "source": [
    "# Choose the bing lexicon\n",
    "#get_sentiments(\"bing\")\n",
    "\n",
    "# Choose the nrc lexicon\n",
    "get_sentiments(\"nrc\") %>% count(sentiment) # Count words by sentiment"
   ]
  },
  {
   "cell_type": "markdown",
   "metadata": {},
   "source": [
    "### Sentiment analysis using an inner join\n",
    "*  *geocoded_tweets* dataset contains three columns:\n",
    "1. state, a state in the United States\n",
    "2. word, a word used in tweets posted on Twitter\n",
    "3. freq, the average frequency of that word in that state (per billion words)\n",
    "\n",
    "*  when data is in a tidy format, we can perform sentiment analysis by doing an inner join of this data and a lexicon, as lexicons are data frames with one word per row."
   ]
  },
  {
   "cell_type": "code",
   "execution_count": 11,
   "metadata": {},
   "outputs": [
    {
     "data": {
      "image/png": "[encoded data removed]"
     },
     "metadata": {},
     "output_type": "display_data"
    }
   ],
   "source": [
    "IRdisplay::display_png(file=\"C:/Users/annaa/inner_join.png\")  "
   ]
  },
  {
   "cell_type": "code",
   "execution_count": 53,
   "metadata": {},
   "outputs": [
    {
     "data": {
      "text/html": [
       "<table>\n",
       "<thead><tr><th scope=col>word</th></tr></thead>\n",
       "<tbody>\n",
       "\t<tr><td>wow      </td></tr>\n",
       "\t<tr><td>what     </td></tr>\n",
       "\t<tr><td>an       </td></tr>\n",
       "\t<tr><td>amazing  </td></tr>\n",
       "\t<tr><td>beautiful</td></tr>\n",
       "\t<tr><td>wonderful</td></tr>\n",
       "\t<tr><td>day      </td></tr>\n",
       "</tbody>\n",
       "</table>\n"
      ],
      "text/latex": [
       "\\begin{tabular}{r|l}\n",
       " word\\\\\n",
       "\\hline\n",
       "\t wow      \\\\\n",
       "\t what     \\\\\n",
       "\t an       \\\\\n",
       "\t amazing  \\\\\n",
       "\t beautiful\\\\\n",
       "\t wonderful\\\\\n",
       "\t day      \\\\\n",
       "\\end{tabular}\n"
      ],
      "text/markdown": [
       "\n",
       "word | \n",
       "|---|---|---|---|---|---|---|\n",
       "| wow       | \n",
       "| what      | \n",
       "| an        | \n",
       "| amazing   | \n",
       "| beautiful | \n",
       "| wonderful | \n",
       "| day       | \n",
       "\n",
       "\n"
      ],
      "text/plain": [
       "  word     \n",
       "1 wow      \n",
       "2 what     \n",
       "3 an       \n",
       "4 amazing  \n",
       "5 beautiful\n",
       "6 wonderful\n",
       "7 day      "
      ]
     },
     "metadata": {},
     "output_type": "display_data"
    },
    {
     "data": {
      "text/html": [
       "<table>\n",
       "<thead><tr><th scope=col>word</th></tr></thead>\n",
       "<tbody>\n",
       "\t<tr><td>amazing  </td></tr>\n",
       "\t<tr><td>wonderful</td></tr>\n",
       "\t<tr><td>sad      </td></tr>\n",
       "\t<tr><td>terrible </td></tr>\n",
       "</tbody>\n",
       "</table>\n"
      ],
      "text/latex": [
       "\\begin{tabular}{r|l}\n",
       " word\\\\\n",
       "\\hline\n",
       "\t amazing  \\\\\n",
       "\t wonderful\\\\\n",
       "\t sad      \\\\\n",
       "\t terrible \\\\\n",
       "\\end{tabular}\n"
      ],
      "text/markdown": [
       "\n",
       "word | \n",
       "|---|---|---|---|\n",
       "| amazing   | \n",
       "| wonderful | \n",
       "| sad       | \n",
       "| terrible  | \n",
       "\n",
       "\n"
      ],
      "text/plain": [
       "  word     \n",
       "1 amazing  \n",
       "2 wonderful\n",
       "3 sad      \n",
       "4 terrible "
      ]
     },
     "metadata": {},
     "output_type": "display_data"
    }
   ],
   "source": [
    "(text = tibble(word = c(\"wow\", \"what\", \"an\", \"amazing\", \"beautiful\", \"wonderful\", \"day\"))) # alt.: data_frame()\n",
    "(lexicon = tibble(word = c(\"amazing\", \"wonderful\", \"sad\", \"terrible\")))"
   ]
  },
  {
   "cell_type": "code",
   "execution_count": 54,
   "metadata": {},
   "outputs": [
    {
     "name": "stderr",
     "output_type": "stream",
     "text": [
      "Joining, by = \"word\"\n"
     ]
    },
    {
     "data": {
      "text/html": [
       "<table>\n",
       "<thead><tr><th scope=col>word</th></tr></thead>\n",
       "<tbody>\n",
       "\t<tr><td>amazing  </td></tr>\n",
       "\t<tr><td>wonderful</td></tr>\n",
       "</tbody>\n",
       "</table>\n"
      ],
      "text/latex": [
       "\\begin{tabular}{r|l}\n",
       " word\\\\\n",
       "\\hline\n",
       "\t amazing  \\\\\n",
       "\t wonderful\\\\\n",
       "\\end{tabular}\n"
      ],
      "text/markdown": [
       "\n",
       "word | \n",
       "|---|---|\n",
       "| amazing   | \n",
       "| wonderful | \n",
       "\n",
       "\n"
      ],
      "text/plain": [
       "  word     \n",
       "1 amazing  \n",
       "2 wonderful"
      ]
     },
     "metadata": {},
     "output_type": "display_data"
    }
   ],
   "source": [
    "text %>% dplyr::inner_join(lexicon)"
   ]
  },
  {
   "cell_type": "markdown",
   "metadata": {},
   "source": [
    "### Exercise Inner join, loading geocoded Tweet data"
   ]
  },
  {
   "cell_type": "code",
   "execution_count": 5,
   "metadata": {},
   "outputs": [
    {
     "data": {
      "text/html": [
       "<table>\n",
       "<thead><tr><th scope=col>state</th><th scope=col>word</th><th scope=col>freq</th></tr></thead>\n",
       "<tbody>\n",
       "\t<tr><td>alabama     </td><td>a           </td><td>16256685.699</td></tr>\n",
       "\t<tr><td>alabama     </td><td>a-          </td><td>    5491.100</td></tr>\n",
       "\t<tr><td>alabama     </td><td>a-day       </td><td>    3991.764</td></tr>\n",
       "\t<tr><td>alabama     </td><td>aa          </td><td>    4739.479</td></tr>\n",
       "\t<tr><td>alabama     </td><td>aaliyah     </td><td>    8251.955</td></tr>\n",
       "\t<tr><td>alabama     </td><td>aamu        </td><td>    4305.704</td></tr>\n",
       "</tbody>\n",
       "</table>\n"
      ],
      "text/latex": [
       "\\begin{tabular}{r|lll}\n",
       " state & word & freq\\\\\n",
       "\\hline\n",
       "\t alabama      & a            & 16256685.699\\\\\n",
       "\t alabama      & a-           &     5491.100\\\\\n",
       "\t alabama      & a-day        &     3991.764\\\\\n",
       "\t alabama      & aa           &     4739.479\\\\\n",
       "\t alabama      & aaliyah      &     8251.955\\\\\n",
       "\t alabama      & aamu         &     4305.704\\\\\n",
       "\\end{tabular}\n"
      ],
      "text/markdown": [
       "\n",
       "state | word | freq | \n",
       "|---|---|---|---|---|---|\n",
       "| alabama      | a            | 16256685.699 | \n",
       "| alabama      | a-           |     5491.100 | \n",
       "| alabama      | a-day        |     3991.764 | \n",
       "| alabama      | aa           |     4739.479 | \n",
       "| alabama      | aaliyah      |     8251.955 | \n",
       "| alabama      | aamu         |     4305.704 | \n",
       "\n",
       "\n"
      ],
      "text/plain": [
       "  state   word    freq        \n",
       "1 alabama a       16256685.699\n",
       "2 alabama a-          5491.100\n",
       "3 alabama a-day       3991.764\n",
       "4 alabama aa          4739.479\n",
       "5 alabama aaliyah     8251.955\n",
       "6 alabama aamu        4305.704"
      ]
     },
     "metadata": {},
     "output_type": "display_data"
    }
   ],
   "source": [
    "load(file = \"geocoded_tweets.rda\")\n",
    "head(geocoded_tweets)"
   ]
  },
  {
   "cell_type": "code",
   "execution_count": 6,
   "metadata": {},
   "outputs": [
    {
     "name": "stderr",
     "output_type": "stream",
     "text": [
      "Joining, by = \"word\"\n"
     ]
    },
    {
     "data": {
      "text/html": [
       "<table>\n",
       "<thead><tr><th scope=col>state</th><th scope=col>word</th><th scope=col>freq</th><th scope=col>sentiment</th></tr></thead>\n",
       "<tbody>\n",
       "\t<tr><td>alabama       </td><td>abuse         </td><td> 7185.962     </td><td>negative      </td></tr>\n",
       "\t<tr><td>alabama       </td><td>abused        </td><td> 3072.975     </td><td>negative      </td></tr>\n",
       "\t<tr><td>alabama       </td><td>accomplish    </td><td> 5957.113     </td><td>positive      </td></tr>\n",
       "\t<tr><td>alabama       </td><td>accomplished  </td><td>13121.385     </td><td>positive      </td></tr>\n",
       "\t<tr><td>alabama       </td><td>accomplishment</td><td> 3035.666     </td><td>positive      </td></tr>\n",
       "\t<tr><td>alabama       </td><td>accurate      </td><td>28261.680     </td><td>positive      </td></tr>\n",
       "</tbody>\n",
       "</table>\n"
      ],
      "text/latex": [
       "\\begin{tabular}{r|llll}\n",
       " state & word & freq & sentiment\\\\\n",
       "\\hline\n",
       "\t alabama        & abuse          &  7185.962      & negative      \\\\\n",
       "\t alabama        & abused         &  3072.975      & negative      \\\\\n",
       "\t alabama        & accomplish     &  5957.113      & positive      \\\\\n",
       "\t alabama        & accomplished   & 13121.385      & positive      \\\\\n",
       "\t alabama        & accomplishment &  3035.666      & positive      \\\\\n",
       "\t alabama        & accurate       & 28261.680      & positive      \\\\\n",
       "\\end{tabular}\n"
      ],
      "text/markdown": [
       "\n",
       "state | word | freq | sentiment | \n",
       "|---|---|---|---|---|---|\n",
       "| alabama        | abuse          |  7185.962      | negative       | \n",
       "| alabama        | abused         |  3072.975      | negative       | \n",
       "| alabama        | accomplish     |  5957.113      | positive       | \n",
       "| alabama        | accomplished   | 13121.385      | positive       | \n",
       "| alabama        | accomplishment |  3035.666      | positive       | \n",
       "| alabama        | accurate       | 28261.680      | positive       | \n",
       "\n",
       "\n"
      ],
      "text/plain": [
       "  state   word           freq      sentiment\n",
       "1 alabama abuse           7185.962 negative \n",
       "2 alabama abused          3072.975 negative \n",
       "3 alabama accomplish      5957.113 positive \n",
       "4 alabama accomplished   13121.385 positive \n",
       "5 alabama accomplishment  3035.666 positive \n",
       "6 alabama accurate       28261.680 positive "
      ]
     },
     "metadata": {},
     "output_type": "display_data"
    }
   ],
   "source": [
    "# Use data frame with text data\n",
    "geocoded_tweets %>%\n",
    "  inner_join(get_sentiments(\"bing\")) %>% head() # With inner join, implement sentiment analysis using `bing`"
   ]
  },
  {
   "cell_type": "markdown",
   "metadata": {},
   "source": [
    "By inner joining geocoded_tweets with the \"bing\" lexicon, you can see the average frequency and the sentiment associated with each word that exists in both data frames."
   ]
  },
  {
   "cell_type": "markdown",
   "metadata": {},
   "source": [
    "### Analyzing sentiment analysis results\n",
    "*  tweets_nrc %>% filter(sentiment == \"positive\")\n",
    "*  tweets_nrc %>% filter(sentiment == \"positive\") %>% group_by(word)\n",
    "*  tweets_nrc %>% filter(sentiment == \"sadness\") %>% group_by(word) %>% summarize(freq = mean(freq))\n",
    "*  tweets_nrc %>% filter(sentiment == \"sadness\") %>% group_by(word) %>% summarize(freq = mean(freq)) %>% arrange(desc(freq))\n",
    "\n",
    "**Common patterns:**\n",
    "your_df %>% group_by(your_variable) %>% {DO_SOMETHING_HERE} %>% ungroup\n",
    "*  ungroup will remove the groups/aggregation \n",
    "\n",
    "### Differences by state \n",
    "*  examining 1 state: *tweets_nrc %>% filter(state == \"texas\", sentiment == \"positive\")*\n",
    "*  calculating a quantity for all states: *tweets_nrc %>% group_by(state)*\n",
    "*  **spread()** converts long data to wide data:"
   ]
  },
  {
   "cell_type": "code",
   "execution_count": 27,
   "metadata": {},
   "outputs": [
    {
     "data": {
      "image/png": "[encoded data removed]"
     },
     "metadata": {},
     "output_type": "display_data"
    }
   ],
   "source": [
    "IRdisplay::display_png(file=\"C:/Users/annaa/spread.png\")  "
   ]
  },
  {
   "cell_type": "code",
   "execution_count": 9,
   "metadata": {},
   "outputs": [
    {
     "name": "stderr",
     "output_type": "stream",
     "text": [
      "Joining, by = \"word\"\n"
     ]
    },
    {
     "data": {
      "text/html": [
       "<table>\n",
       "<thead><tr><th scope=col>state</th><th scope=col>word</th><th scope=col>freq</th><th scope=col>sentiment</th></tr></thead>\n",
       "<tbody>\n",
       "\t<tr><td>alabama       </td><td>abuse         </td><td> 7185.962     </td><td>negative      </td></tr>\n",
       "\t<tr><td>alabama       </td><td>abused        </td><td> 3072.975     </td><td>negative      </td></tr>\n",
       "\t<tr><td>alabama       </td><td>accomplish    </td><td> 5957.113     </td><td>positive      </td></tr>\n",
       "\t<tr><td>alabama       </td><td>accomplished  </td><td>13121.385     </td><td>positive      </td></tr>\n",
       "\t<tr><td>alabama       </td><td>accomplishment</td><td> 3035.666     </td><td>positive      </td></tr>\n",
       "\t<tr><td>alabama       </td><td>accurate      </td><td>28261.680     </td><td>positive      </td></tr>\n",
       "</tbody>\n",
       "</table>\n"
      ],
      "text/latex": [
       "\\begin{tabular}{r|llll}\n",
       " state & word & freq & sentiment\\\\\n",
       "\\hline\n",
       "\t alabama        & abuse          &  7185.962      & negative      \\\\\n",
       "\t alabama        & abused         &  3072.975      & negative      \\\\\n",
       "\t alabama        & accomplish     &  5957.113      & positive      \\\\\n",
       "\t alabama        & accomplished   & 13121.385      & positive      \\\\\n",
       "\t alabama        & accomplishment &  3035.666      & positive      \\\\\n",
       "\t alabama        & accurate       & 28261.680      & positive      \\\\\n",
       "\\end{tabular}\n"
      ],
      "text/markdown": [
       "\n",
       "state | word | freq | sentiment | \n",
       "|---|---|---|---|---|---|\n",
       "| alabama        | abuse          |  7185.962      | negative       | \n",
       "| alabama        | abused         |  3072.975      | negative       | \n",
       "| alabama        | accomplish     |  5957.113      | positive       | \n",
       "| alabama        | accomplished   | 13121.385      | positive       | \n",
       "| alabama        | accomplishment |  3035.666      | positive       | \n",
       "| alabama        | accurate       | 28261.680      | positive       | \n",
       "\n",
       "\n"
      ],
      "text/plain": [
       "  state   word           freq      sentiment\n",
       "1 alabama abuse           7185.962 negative \n",
       "2 alabama abused          3072.975 negative \n",
       "3 alabama accomplish      5957.113 positive \n",
       "4 alabama accomplished   13121.385 positive \n",
       "5 alabama accomplishment  3035.666 positive \n",
       "6 alabama accurate       28261.680 positive "
      ]
     },
     "metadata": {},
     "output_type": "display_data"
    },
    {
     "name": "stderr",
     "output_type": "stream",
     "text": [
      "Joining, by = \"word\"\n"
     ]
    },
    {
     "data": {
      "text/html": [
       "<table>\n",
       "<thead><tr><th scope=col>state</th><th scope=col>negative</th><th scope=col>positive</th></tr></thead>\n",
       "<tbody>\n",
       "\t<tr><td>alabama    </td><td>47984.48   </td><td>91260.97   </td></tr>\n",
       "\t<tr><td>arizona    </td><td>48099.03   </td><td>88048.30   </td></tr>\n",
       "\t<tr><td>arkansas   </td><td>44455.37   </td><td>90683.97   </td></tr>\n",
       "\t<tr><td>california </td><td>43658.95   </td><td>81781.97   </td></tr>\n",
       "\t<tr><td>colorado   </td><td>41342.76   </td><td>79718.93   </td></tr>\n",
       "\t<tr><td>connecticut</td><td>44187.57   </td><td>83579.27   </td></tr>\n",
       "</tbody>\n",
       "</table>\n"
      ],
      "text/latex": [
       "\\begin{tabular}{r|lll}\n",
       " state & negative & positive\\\\\n",
       "\\hline\n",
       "\t alabama     & 47984.48    & 91260.97   \\\\\n",
       "\t arizona     & 48099.03    & 88048.30   \\\\\n",
       "\t arkansas    & 44455.37    & 90683.97   \\\\\n",
       "\t california  & 43658.95    & 81781.97   \\\\\n",
       "\t colorado    & 41342.76    & 79718.93   \\\\\n",
       "\t connecticut & 44187.57    & 83579.27   \\\\\n",
       "\\end{tabular}\n"
      ],
      "text/markdown": [
       "\n",
       "state | negative | positive | \n",
       "|---|---|---|---|---|---|\n",
       "| alabama     | 47984.48    | 91260.97    | \n",
       "| arizona     | 48099.03    | 88048.30    | \n",
       "| arkansas    | 44455.37    | 90683.97    | \n",
       "| california  | 43658.95    | 81781.97    | \n",
       "| colorado    | 41342.76    | 79718.93    | \n",
       "| connecticut | 44187.57    | 83579.27    | \n",
       "\n",
       "\n"
      ],
      "text/plain": [
       "  state       negative positive\n",
       "1 alabama     47984.48 91260.97\n",
       "2 arizona     48099.03 88048.30\n",
       "3 arkansas    44455.37 90683.97\n",
       "4 california  43658.95 81781.97\n",
       "5 colorado    41342.76 79718.93\n",
       "6 connecticut 44187.57 83579.27"
      ]
     },
     "metadata": {},
     "output_type": "display_data"
    }
   ],
   "source": [
    "#Ex.: \n",
    "head(inner_join(geocoded_tweets, get_sentiments(\"bing\")))\n",
    "geocoded_tweets %>% inner_join(get_sentiments(\"bing\")) %>% \n",
    "        group_by(state, sentiment) %>% summarize(freq = mean(freq)) %>% \n",
    "        tidyr::spread(sentiment, freq) %>% ungroup() %>% head()"
   ]
  },
  {
   "cell_type": "markdown",
   "metadata": {},
   "source": [
    "### Exercise: What are the most common sadness words?\n",
    "For example, what are the most common words related to sadness in this Twitter dataset?"
   ]
  },
  {
   "cell_type": "code",
   "execution_count": 60,
   "metadata": {},
   "outputs": [
    {
     "name": "stderr",
     "output_type": "stream",
     "text": [
      "Joining, by = \"word\"\n"
     ]
    },
    {
     "data": {
      "text/html": [
       "<table>\n",
       "<thead><tr><th scope=col>state</th><th scope=col>word</th><th scope=col>freq</th><th scope=col>sentiment</th></tr></thead>\n",
       "<tbody>\n",
       "\t<tr><td>alabama  </td><td>abandoned</td><td> 4070.773</td><td>anger    </td></tr>\n",
       "\t<tr><td>alabama  </td><td>abandoned</td><td> 4070.773</td><td>fear     </td></tr>\n",
       "\t<tr><td>alabama  </td><td>abandoned</td><td> 4070.773</td><td>negative </td></tr>\n",
       "\t<tr><td>alabama  </td><td>abandoned</td><td> 4070.773</td><td>sadness  </td></tr>\n",
       "\t<tr><td>alabama  </td><td>ability  </td><td>12406.263</td><td>positive </td></tr>\n",
       "\t<tr><td>alabama  </td><td>abortion </td><td> 3267.394</td><td>disgust  </td></tr>\n",
       "\t<tr><td>alabama  </td><td>abortion </td><td> 3267.394</td><td>fear     </td></tr>\n",
       "\t<tr><td>alabama  </td><td>abortion </td><td> 3267.394</td><td>negative </td></tr>\n",
       "\t<tr><td>alabama  </td><td>abortion </td><td> 3267.394</td><td>sadness  </td></tr>\n",
       "\t<tr><td>alabama  </td><td>absolute </td><td>22956.284</td><td>positive </td></tr>\n",
       "</tbody>\n",
       "</table>\n"
      ],
      "text/latex": [
       "\\begin{tabular}{r|llll}\n",
       " state & word & freq & sentiment\\\\\n",
       "\\hline\n",
       "\t alabama   & abandoned &  4070.773 & anger    \\\\\n",
       "\t alabama   & abandoned &  4070.773 & fear     \\\\\n",
       "\t alabama   & abandoned &  4070.773 & negative \\\\\n",
       "\t alabama   & abandoned &  4070.773 & sadness  \\\\\n",
       "\t alabama   & ability   & 12406.263 & positive \\\\\n",
       "\t alabama   & abortion  &  3267.394 & disgust  \\\\\n",
       "\t alabama   & abortion  &  3267.394 & fear     \\\\\n",
       "\t alabama   & abortion  &  3267.394 & negative \\\\\n",
       "\t alabama   & abortion  &  3267.394 & sadness  \\\\\n",
       "\t alabama   & absolute  & 22956.284 & positive \\\\\n",
       "\\end{tabular}\n"
      ],
      "text/markdown": [
       "\n",
       "state | word | freq | sentiment | \n",
       "|---|---|---|---|---|---|---|---|---|---|\n",
       "| alabama   | abandoned |  4070.773 | anger     | \n",
       "| alabama   | abandoned |  4070.773 | fear      | \n",
       "| alabama   | abandoned |  4070.773 | negative  | \n",
       "| alabama   | abandoned |  4070.773 | sadness   | \n",
       "| alabama   | ability   | 12406.263 | positive  | \n",
       "| alabama   | abortion  |  3267.394 | disgust   | \n",
       "| alabama   | abortion  |  3267.394 | fear      | \n",
       "| alabama   | abortion  |  3267.394 | negative  | \n",
       "| alabama   | abortion  |  3267.394 | sadness   | \n",
       "| alabama   | absolute  | 22956.284 | positive  | \n",
       "\n",
       "\n"
      ],
      "text/plain": [
       "   state   word      freq      sentiment\n",
       "1  alabama abandoned  4070.773 anger    \n",
       "2  alabama abandoned  4070.773 fear     \n",
       "3  alabama abandoned  4070.773 negative \n",
       "4  alabama abandoned  4070.773 sadness  \n",
       "5  alabama ability   12406.263 positive \n",
       "6  alabama abortion   3267.394 disgust  \n",
       "7  alabama abortion   3267.394 fear     \n",
       "8  alabama abortion   3267.394 negative \n",
       "9  alabama abortion   3267.394 sadness  \n",
       "10 alabama absolute  22956.284 positive "
      ]
     },
     "metadata": {},
     "output_type": "display_data"
    }
   ],
   "source": [
    "# Inner join of geocoded tweets and nrc lexicon\n",
    "tweets_nrc = geocoded_tweets %>% dplyr::inner_join(get_sentiments(\"nrc\"))\n",
    "head(tweets_nrc, 10)"
   ]
  },
  {
   "cell_type": "code",
   "execution_count": 62,
   "metadata": {},
   "outputs": [
    {
     "data": {
      "text/html": [
       "<table>\n",
       "<thead><tr><th scope=col>word</th><th scope=col>mean_freq</th></tr></thead>\n",
       "<tbody>\n",
       "\t<tr><td>hate     </td><td>1253839.9</td></tr>\n",
       "\t<tr><td>bad      </td><td> 984942.9</td></tr>\n",
       "\t<tr><td>bitch    </td><td> 787774.0</td></tr>\n",
       "\t<tr><td>hell     </td><td> 486259.0</td></tr>\n",
       "\t<tr><td>crazy    </td><td> 447047.2</td></tr>\n",
       "\t<tr><td>feeling  </td><td> 407561.6</td></tr>\n",
       "\t<tr><td>leave    </td><td> 397805.5</td></tr>\n",
       "\t<tr><td>mad      </td><td> 393559.5</td></tr>\n",
       "\t<tr><td>music    </td><td> 373608.3</td></tr>\n",
       "\t<tr><td>sick     </td><td> 362022.6</td></tr>\n",
       "</tbody>\n",
       "</table>\n"
      ],
      "text/latex": [
       "\\begin{tabular}{r|ll}\n",
       " word & mean\\_freq\\\\\n",
       "\\hline\n",
       "\t hate      & 1253839.9\\\\\n",
       "\t bad       &  984942.9\\\\\n",
       "\t bitch     &  787774.0\\\\\n",
       "\t hell      &  486259.0\\\\\n",
       "\t crazy     &  447047.2\\\\\n",
       "\t feeling   &  407561.6\\\\\n",
       "\t leave     &  397805.5\\\\\n",
       "\t mad       &  393559.5\\\\\n",
       "\t music     &  373608.3\\\\\n",
       "\t sick      &  362022.6\\\\\n",
       "\\end{tabular}\n"
      ],
      "text/markdown": [
       "\n",
       "word | mean_freq | \n",
       "|---|---|---|---|---|---|---|---|---|---|\n",
       "| hate      | 1253839.9 | \n",
       "| bad       |  984942.9 | \n",
       "| bitch     |  787774.0 | \n",
       "| hell      |  486259.0 | \n",
       "| crazy     |  447047.2 | \n",
       "| feeling   |  407561.6 | \n",
       "| leave     |  397805.5 | \n",
       "| mad       |  393559.5 | \n",
       "| music     |  373608.3 | \n",
       "| sick      |  362022.6 | \n",
       "\n",
       "\n"
      ],
      "text/plain": [
       "   word    mean_freq\n",
       "1  hate    1253839.9\n",
       "2  bad      984942.9\n",
       "3  bitch    787774.0\n",
       "4  hell     486259.0\n",
       "5  crazy    447047.2\n",
       "6  feeling  407561.6\n",
       "7  leave    397805.5\n",
       "8  mad      393559.5\n",
       "9  music    373608.3\n",
       "10 sick     362022.6"
      ]
     },
     "metadata": {},
     "output_type": "display_data"
    }
   ],
   "source": [
    "tweets_nrc %>%\n",
    "      filter(sentiment == \"sadness\") %>% # Filter to only choose the words associated with sadness\n",
    "      group_by(word) %>% # Group by word\n",
    "      summarize(mean_freq = mean(freq)) %>% # Use the summarize verb to find the mean frequency\n",
    "      arrange(desc(mean_freq)) %>% # sort in order of descending frequency \n",
    "      head(10)"
   ]
  },
  {
   "cell_type": "markdown",
   "metadata": {},
   "source": [
    "### Exercise: What are the most common joy words?"
   ]
  },
  {
   "cell_type": "code",
   "execution_count": 15,
   "metadata": {},
   "outputs": [
    {
     "name": "stderr",
     "output_type": "stream",
     "text": [
      "Selecting by freq\n"
     ]
    },
    {
     "data": {},
     "metadata": {},
     "output_type": "display_data"
    },
    {
     "data": {
      "image/png": "[encoded data removed]",
      "text/plain": [
       "plot without title"
      ]
     },
     "metadata": {},
     "output_type": "display_data"
    }
   ],
   "source": [
    "joy_words <- tweets_nrc %>%\n",
    "      filter(sentiment == \"joy\") %>%  # Filter to choose only words associated with joy\n",
    "      group_by(word) %>% # Group by each word\n",
    "      summarize(freq = mean(freq)) %>%  # Use the summarize verb to find the mean frequency\n",
    "      arrange(desc(freq)) # Arrange to sort in order of descending frequency\n",
    "  \n",
    "options(repr.plot.height = 3, repr.plot.width = 4)\n",
    "joy_words %>% top_n(20) %>% mutate(word = reorder(word, freq)) %>% \n",
    "              ggplot(aes(word, freq)) + geom_col() + coord_flip() "
   ]
  },
  {
   "cell_type": "markdown",
   "metadata": {},
   "source": [
    "### Do people in different states use different words?\n",
    "So far you have looked at the United States as a whole, but you can use this dataset to examine differences in word use by state. In this exercise, you will examine two states and compare their use of joy words. Do they use the same words associated with joy? Do they use these words at the same rate?"
   ]
  },
  {
   "cell_type": "code",
   "execution_count": 19,
   "metadata": {},
   "outputs": [
    {
     "data": {
      "text/html": [
       "<table>\n",
       "<thead><tr><th scope=col>state</th><th scope=col>word</th><th scope=col>freq</th><th scope=col>sentiment</th></tr></thead>\n",
       "<tbody>\n",
       "\t<tr><td>utah     </td><td>love     </td><td>4207322.0</td><td>joy      </td></tr>\n",
       "\t<tr><td>utah     </td><td>good     </td><td>3035113.5</td><td>joy      </td></tr>\n",
       "\t<tr><td>utah     </td><td>happy    </td><td>1402567.6</td><td>joy      </td></tr>\n",
       "\t<tr><td>utah     </td><td>pretty   </td><td> 902946.6</td><td>joy      </td></tr>\n",
       "\t<tr><td>utah     </td><td>fun      </td><td> 764045.1</td><td>joy      </td></tr>\n",
       "\t<tr><td>utah     </td><td>birthday </td><td> 663439.1</td><td>joy      </td></tr>\n",
       "\t<tr><td>utah     </td><td>beautiful</td><td> 653060.9</td><td>joy      </td></tr>\n",
       "\t<tr><td>utah     </td><td>friend   </td><td> 627521.5</td><td>joy      </td></tr>\n",
       "\t<tr><td>utah     </td><td>hope     </td><td> 571841.1</td><td>joy      </td></tr>\n",
       "\t<tr><td>utah     </td><td>god      </td><td> 536687.3</td><td>joy      </td></tr>\n",
       "</tbody>\n",
       "</table>\n"
      ],
      "text/latex": [
       "\\begin{tabular}{r|llll}\n",
       " state & word & freq & sentiment\\\\\n",
       "\\hline\n",
       "\t utah      & love      & 4207322.0 & joy      \\\\\n",
       "\t utah      & good      & 3035113.5 & joy      \\\\\n",
       "\t utah      & happy     & 1402567.6 & joy      \\\\\n",
       "\t utah      & pretty    &  902946.6 & joy      \\\\\n",
       "\t utah      & fun       &  764045.1 & joy      \\\\\n",
       "\t utah      & birthday  &  663439.1 & joy      \\\\\n",
       "\t utah      & beautiful &  653060.9 & joy      \\\\\n",
       "\t utah      & friend    &  627521.5 & joy      \\\\\n",
       "\t utah      & hope      &  571841.1 & joy      \\\\\n",
       "\t utah      & god       &  536687.3 & joy      \\\\\n",
       "\\end{tabular}\n"
      ],
      "text/markdown": [
       "\n",
       "state | word | freq | sentiment | \n",
       "|---|---|---|---|---|---|---|---|---|---|\n",
       "| utah      | love      | 4207322.0 | joy       | \n",
       "| utah      | good      | 3035113.5 | joy       | \n",
       "| utah      | happy     | 1402567.6 | joy       | \n",
       "| utah      | pretty    |  902946.6 | joy       | \n",
       "| utah      | fun       |  764045.1 | joy       | \n",
       "| utah      | birthday  |  663439.1 | joy       | \n",
       "| utah      | beautiful |  653060.9 | joy       | \n",
       "| utah      | friend    |  627521.5 | joy       | \n",
       "| utah      | hope      |  571841.1 | joy       | \n",
       "| utah      | god       |  536687.3 | joy       | \n",
       "\n",
       "\n"
      ],
      "text/plain": [
       "   state word      freq      sentiment\n",
       "1  utah  love      4207322.0 joy      \n",
       "2  utah  good      3035113.5 joy      \n",
       "3  utah  happy     1402567.6 joy      \n",
       "4  utah  pretty     902946.6 joy      \n",
       "5  utah  fun        764045.1 joy      \n",
       "6  utah  birthday   663439.1 joy      \n",
       "7  utah  beautiful  653060.9 joy      \n",
       "8  utah  friend     627521.5 joy      \n",
       "9  utah  hope       571841.1 joy      \n",
       "10 utah  god        536687.3 joy      "
      ]
     },
     "metadata": {},
     "output_type": "display_data"
    },
    {
     "data": {
      "text/html": [
       "<table>\n",
       "<thead><tr><th scope=col>state</th><th scope=col>word</th><th scope=col>freq</th><th scope=col>sentiment</th></tr></thead>\n",
       "<tbody>\n",
       "\t<tr><td>louisiana</td><td>love     </td><td>3764157.0</td><td>joy      </td></tr>\n",
       "\t<tr><td>louisiana</td><td>good     </td><td>2758698.9</td><td>joy      </td></tr>\n",
       "\t<tr><td>louisiana</td><td>baby     </td><td>1184392.5</td><td>joy      </td></tr>\n",
       "\t<tr><td>louisiana</td><td>happy    </td><td>1176290.6</td><td>joy      </td></tr>\n",
       "\t<tr><td>louisiana</td><td>god      </td><td> 882456.6</td><td>joy      </td></tr>\n",
       "\t<tr><td>louisiana</td><td>birthday </td><td> 740497.5</td><td>joy      </td></tr>\n",
       "\t<tr><td>louisiana</td><td>money    </td><td> 677898.6</td><td>joy      </td></tr>\n",
       "\t<tr><td>louisiana</td><td>hope     </td><td> 675559.2</td><td>joy      </td></tr>\n",
       "\t<tr><td>louisiana</td><td>pretty   </td><td> 581241.5</td><td>joy      </td></tr>\n",
       "\t<tr><td>louisiana</td><td>feeling  </td><td> 486367.3</td><td>joy      </td></tr>\n",
       "</tbody>\n",
       "</table>\n"
      ],
      "text/latex": [
       "\\begin{tabular}{r|llll}\n",
       " state & word & freq & sentiment\\\\\n",
       "\\hline\n",
       "\t louisiana & love      & 3764157.0 & joy      \\\\\n",
       "\t louisiana & good      & 2758698.9 & joy      \\\\\n",
       "\t louisiana & baby      & 1184392.5 & joy      \\\\\n",
       "\t louisiana & happy     & 1176290.6 & joy      \\\\\n",
       "\t louisiana & god       &  882456.6 & joy      \\\\\n",
       "\t louisiana & birthday  &  740497.5 & joy      \\\\\n",
       "\t louisiana & money     &  677898.6 & joy      \\\\\n",
       "\t louisiana & hope      &  675559.2 & joy      \\\\\n",
       "\t louisiana & pretty    &  581241.5 & joy      \\\\\n",
       "\t louisiana & feeling   &  486367.3 & joy      \\\\\n",
       "\\end{tabular}\n"
      ],
      "text/markdown": [
       "\n",
       "state | word | freq | sentiment | \n",
       "|---|---|---|---|---|---|---|---|---|---|\n",
       "| louisiana | love      | 3764157.0 | joy       | \n",
       "| louisiana | good      | 2758698.9 | joy       | \n",
       "| louisiana | baby      | 1184392.5 | joy       | \n",
       "| louisiana | happy     | 1176290.6 | joy       | \n",
       "| louisiana | god       |  882456.6 | joy       | \n",
       "| louisiana | birthday  |  740497.5 | joy       | \n",
       "| louisiana | money     |  677898.6 | joy       | \n",
       "| louisiana | hope      |  675559.2 | joy       | \n",
       "| louisiana | pretty    |  581241.5 | joy       | \n",
       "| louisiana | feeling   |  486367.3 | joy       | \n",
       "\n",
       "\n"
      ],
      "text/plain": [
       "   state     word     freq      sentiment\n",
       "1  louisiana love     3764157.0 joy      \n",
       "2  louisiana good     2758698.9 joy      \n",
       "3  louisiana baby     1184392.5 joy      \n",
       "4  louisiana happy    1176290.6 joy      \n",
       "5  louisiana god       882456.6 joy      \n",
       "6  louisiana birthday  740497.5 joy      \n",
       "7  louisiana money     677898.6 joy      \n",
       "8  louisiana hope      675559.2 joy      \n",
       "9  louisiana pretty    581241.5 joy      \n",
       "10 louisiana feeling   486367.3 joy      "
      ]
     },
     "metadata": {},
     "output_type": "display_data"
    }
   ],
   "source": [
    "tweets_nrc %>% # Find only the words for the state of Utah and associated with joy\n",
    "  filter(state == \"utah\", sentiment == \"joy\") %>%\n",
    "  arrange(desc(freq)) %>% head(10)\n",
    "\n",
    "tweets_nrc %>% # Find only the words for the state of Louisiana and associated with joy\n",
    "  filter(state == \"louisiana\", sentiment == \"joy\") %>%\n",
    "  arrange(desc(freq)) %>% head(10)\n",
    "# Words like “baby” and “money” are popular in Louisiana but not in Utah."
   ]
  },
  {
   "cell_type": "markdown",
   "metadata": {},
   "source": [
    "### Exercise: Which states have the most positive Twitter users?\n",
    "*  you will determine how the overall sentiment of Twitter sentiment varies from state to state. \n",
    "*  You will use a dataset called tweets_bing, which is the output of an inner join\n",
    "*  You can use group_by() and summarize() to find which states had the highest frequency of positive and negative words, \n",
    "*  then pipe to ggplot2 (after some tidyr manipulation) to make a clear, interesting visualization."
   ]
  },
  {
   "cell_type": "code",
   "execution_count": 21,
   "metadata": {},
   "outputs": [
    {
     "name": "stderr",
     "output_type": "stream",
     "text": [
      "Joining, by = \"word\"\n"
     ]
    },
    {
     "data": {
      "text/html": [
       "<table>\n",
       "<thead><tr><th scope=col>state</th><th scope=col>word</th><th scope=col>freq</th><th scope=col>sentiment</th></tr></thead>\n",
       "<tbody>\n",
       "\t<tr><td>alabama       </td><td>abuse         </td><td> 7185.962     </td><td>negative      </td></tr>\n",
       "\t<tr><td>alabama       </td><td>abused        </td><td> 3072.975     </td><td>negative      </td></tr>\n",
       "\t<tr><td>alabama       </td><td>accomplish    </td><td> 5957.113     </td><td>positive      </td></tr>\n",
       "\t<tr><td>alabama       </td><td>accomplished  </td><td>13121.385     </td><td>positive      </td></tr>\n",
       "\t<tr><td>alabama       </td><td>accomplishment</td><td> 3035.666     </td><td>positive      </td></tr>\n",
       "\t<tr><td>alabama       </td><td>accurate      </td><td>28261.680     </td><td>positive      </td></tr>\n",
       "</tbody>\n",
       "</table>\n"
      ],
      "text/latex": [
       "\\begin{tabular}{r|llll}\n",
       " state & word & freq & sentiment\\\\\n",
       "\\hline\n",
       "\t alabama        & abuse          &  7185.962      & negative      \\\\\n",
       "\t alabama        & abused         &  3072.975      & negative      \\\\\n",
       "\t alabama        & accomplish     &  5957.113      & positive      \\\\\n",
       "\t alabama        & accomplished   & 13121.385      & positive      \\\\\n",
       "\t alabama        & accomplishment &  3035.666      & positive      \\\\\n",
       "\t alabama        & accurate       & 28261.680      & positive      \\\\\n",
       "\\end{tabular}\n"
      ],
      "text/markdown": [
       "\n",
       "state | word | freq | sentiment | \n",
       "|---|---|---|---|---|---|\n",
       "| alabama        | abuse          |  7185.962      | negative       | \n",
       "| alabama        | abused         |  3072.975      | negative       | \n",
       "| alabama        | accomplish     |  5957.113      | positive       | \n",
       "| alabama        | accomplished   | 13121.385      | positive       | \n",
       "| alabama        | accomplishment |  3035.666      | positive       | \n",
       "| alabama        | accurate       | 28261.680      | positive       | \n",
       "\n",
       "\n"
      ],
      "text/plain": [
       "  state   word           freq      sentiment\n",
       "1 alabama abuse           7185.962 negative \n",
       "2 alabama abused          3072.975 negative \n",
       "3 alabama accomplish      5957.113 positive \n",
       "4 alabama accomplished   13121.385 positive \n",
       "5 alabama accomplishment  3035.666 positive \n",
       "6 alabama accurate       28261.680 positive "
      ]
     },
     "metadata": {},
     "output_type": "display_data"
    }
   ],
   "source": [
    "tweets_bing = geocoded_tweets %>% inner_join(get_sentiments(\"bing\"))\n",
    "head(tweets_bing)"
   ]
  },
  {
   "cell_type": "code",
   "execution_count": 22,
   "metadata": {},
   "outputs": [
    {
     "data": {
      "text/html": [
       "<table>\n",
       "<thead><tr><th scope=col>state</th><th scope=col>sentiment</th><th scope=col>freq</th></tr></thead>\n",
       "<tbody>\n",
       "\t<tr><td>alabama </td><td>negative</td><td>47984.48</td></tr>\n",
       "\t<tr><td>alabama </td><td>positive</td><td>91260.97</td></tr>\n",
       "\t<tr><td>arizona </td><td>negative</td><td>48099.03</td></tr>\n",
       "\t<tr><td>arizona </td><td>positive</td><td>88048.30</td></tr>\n",
       "\t<tr><td>arkansas</td><td>negative</td><td>44455.37</td></tr>\n",
       "\t<tr><td>arkansas</td><td>positive</td><td>90683.97</td></tr>\n",
       "</tbody>\n",
       "</table>\n"
      ],
      "text/latex": [
       "\\begin{tabular}{r|lll}\n",
       " state & sentiment & freq\\\\\n",
       "\\hline\n",
       "\t alabama  & negative & 47984.48\\\\\n",
       "\t alabama  & positive & 91260.97\\\\\n",
       "\t arizona  & negative & 48099.03\\\\\n",
       "\t arizona  & positive & 88048.30\\\\\n",
       "\t arkansas & negative & 44455.37\\\\\n",
       "\t arkansas & positive & 90683.97\\\\\n",
       "\\end{tabular}\n"
      ],
      "text/markdown": [
       "\n",
       "state | sentiment | freq | \n",
       "|---|---|---|---|---|---|\n",
       "| alabama  | negative | 47984.48 | \n",
       "| alabama  | positive | 91260.97 | \n",
       "| arizona  | negative | 48099.03 | \n",
       "| arizona  | positive | 88048.30 | \n",
       "| arkansas | negative | 44455.37 | \n",
       "| arkansas | positive | 90683.97 | \n",
       "\n",
       "\n"
      ],
      "text/plain": [
       "  state    sentiment freq    \n",
       "1 alabama  negative  47984.48\n",
       "2 alabama  positive  91260.97\n",
       "3 arizona  negative  48099.03\n",
       "4 arizona  positive  88048.30\n",
       "5 arkansas negative  44455.37\n",
       "6 arkansas positive  90683.97"
      ]
     },
     "metadata": {},
     "output_type": "display_data"
    }
   ],
   "source": [
    "tweets_bing %>% group_by(state, sentiment) %>% summarize(freq = mean(freq)) %>% head()"
   ]
  },
  {
   "cell_type": "code",
   "execution_count": 23,
   "metadata": {},
   "outputs": [
    {
     "data": {
      "text/html": [
       "<table>\n",
       "<thead><tr><th scope=col>state</th><th scope=col>negative</th><th scope=col>positive</th></tr></thead>\n",
       "<tbody>\n",
       "\t<tr><td>alabama    </td><td>47984.48   </td><td>91260.97   </td></tr>\n",
       "\t<tr><td>arizona    </td><td>48099.03   </td><td>88048.30   </td></tr>\n",
       "\t<tr><td>arkansas   </td><td>44455.37   </td><td>90683.97   </td></tr>\n",
       "\t<tr><td>california </td><td>43658.95   </td><td>81781.97   </td></tr>\n",
       "\t<tr><td>colorado   </td><td>41342.76   </td><td>79718.93   </td></tr>\n",
       "\t<tr><td>connecticut</td><td>44187.57   </td><td>83579.27   </td></tr>\n",
       "</tbody>\n",
       "</table>\n"
      ],
      "text/latex": [
       "\\begin{tabular}{r|lll}\n",
       " state & negative & positive\\\\\n",
       "\\hline\n",
       "\t alabama     & 47984.48    & 91260.97   \\\\\n",
       "\t arizona     & 48099.03    & 88048.30   \\\\\n",
       "\t arkansas    & 44455.37    & 90683.97   \\\\\n",
       "\t california  & 43658.95    & 81781.97   \\\\\n",
       "\t colorado    & 41342.76    & 79718.93   \\\\\n",
       "\t connecticut & 44187.57    & 83579.27   \\\\\n",
       "\\end{tabular}\n"
      ],
      "text/markdown": [
       "\n",
       "state | negative | positive | \n",
       "|---|---|---|---|---|---|\n",
       "| alabama     | 47984.48    | 91260.97    | \n",
       "| arizona     | 48099.03    | 88048.30    | \n",
       "| arkansas    | 44455.37    | 90683.97    | \n",
       "| california  | 43658.95    | 81781.97    | \n",
       "| colorado    | 41342.76    | 79718.93    | \n",
       "| connecticut | 44187.57    | 83579.27    | \n",
       "\n",
       "\n"
      ],
      "text/plain": [
       "  state       negative positive\n",
       "1 alabama     47984.48 91260.97\n",
       "2 arizona     48099.03 88048.30\n",
       "3 arkansas    44455.37 90683.97\n",
       "4 california  43658.95 81781.97\n",
       "5 colorado    41342.76 79718.93\n",
       "6 connecticut 44187.57 83579.27"
      ]
     },
     "metadata": {},
     "output_type": "display_data"
    }
   ],
   "source": [
    "tweets_bing %>% \n",
    "      group_by(state, sentiment) %>% # after grouping by state and sentiment and summirizing/averaging their \n",
    "#word frequency, variable word doesn't appear, as its frequency is aggregated over those categories\n",
    "      summarize(freq = mean(freq)) %>%\n",
    "      tidyr::spread(sentiment, freq) %>% head() # spread transposes the data by turning unique sentiment values into columns \n",
    "# i.e. positive and negative and column frequency to rows/vaues"
   ]
  },
  {
   "cell_type": "code",
   "execution_count": 24,
   "metadata": {},
   "outputs": [
    {
     "data": {
      "text/html": [
       "<table>\n",
       "<thead><tr><th scope=col>state</th><th scope=col>negative</th><th scope=col>positive</th><th scope=col>ratio</th></tr></thead>\n",
       "<tbody>\n",
       "\t<tr><td>alabama    </td><td>47984.48   </td><td>91260.97   </td><td>1.901885   </td></tr>\n",
       "\t<tr><td>arizona    </td><td>48099.03   </td><td>88048.30   </td><td>1.830563   </td></tr>\n",
       "\t<tr><td>arkansas   </td><td>44455.37   </td><td>90683.97   </td><td>2.039888   </td></tr>\n",
       "\t<tr><td>california </td><td>43658.95   </td><td>81781.97   </td><td>1.873201   </td></tr>\n",
       "\t<tr><td>colorado   </td><td>41342.76   </td><td>79718.93   </td><td>1.928244   </td></tr>\n",
       "\t<tr><td>connecticut</td><td>44187.57   </td><td>83579.27   </td><td>1.891465   </td></tr>\n",
       "</tbody>\n",
       "</table>\n"
      ],
      "text/latex": [
       "\\begin{tabular}{r|llll}\n",
       " state & negative & positive & ratio\\\\\n",
       "\\hline\n",
       "\t alabama     & 47984.48    & 91260.97    & 1.901885   \\\\\n",
       "\t arizona     & 48099.03    & 88048.30    & 1.830563   \\\\\n",
       "\t arkansas    & 44455.37    & 90683.97    & 2.039888   \\\\\n",
       "\t california  & 43658.95    & 81781.97    & 1.873201   \\\\\n",
       "\t colorado    & 41342.76    & 79718.93    & 1.928244   \\\\\n",
       "\t connecticut & 44187.57    & 83579.27    & 1.891465   \\\\\n",
       "\\end{tabular}\n"
      ],
      "text/markdown": [
       "\n",
       "state | negative | positive | ratio | \n",
       "|---|---|---|---|---|---|\n",
       "| alabama     | 47984.48    | 91260.97    | 1.901885    | \n",
       "| arizona     | 48099.03    | 88048.30    | 1.830563    | \n",
       "| arkansas    | 44455.37    | 90683.97    | 2.039888    | \n",
       "| california  | 43658.95    | 81781.97    | 1.873201    | \n",
       "| colorado    | 41342.76    | 79718.93    | 1.928244    | \n",
       "| connecticut | 44187.57    | 83579.27    | 1.891465    | \n",
       "\n",
       "\n"
      ],
      "text/plain": [
       "  state       negative positive ratio   \n",
       "1 alabama     47984.48 91260.97 1.901885\n",
       "2 arizona     48099.03 88048.30 1.830563\n",
       "3 arkansas    44455.37 90683.97 2.039888\n",
       "4 california  43658.95 81781.97 1.873201\n",
       "5 colorado    41342.76 79718.93 1.928244\n",
       "6 connecticut 44187.57 83579.27 1.891465"
      ]
     },
     "metadata": {},
     "output_type": "display_data"
    }
   ],
   "source": [
    "# ADDING ADDITIONAL COLUMN RATIO THROUGH MUTATE() after ungrouping\n",
    "tweets_bing %>% \n",
    "      group_by(state, sentiment) %>% # after grouping by state and sentiment and summirizing/averaging their \n",
    "#word frequency, variable word doesn't appear, as its frequency is aggregated over those categories\n",
    "      summarize(freq = mean(freq)) %>%\n",
    "      tidyr::spread(sentiment, freq) %>%\n",
    "      ungroup() %>%\n",
    "      mutate(ratio = positive / negative, # Calculate the ratio of positive to negative words\n",
    "             state = reorder(state, ratio)) %>% head()"
   ]
  },
  {
   "cell_type": "code",
   "execution_count": 25,
   "metadata": {},
   "outputs": [
    {
     "data": {},
     "metadata": {},
     "output_type": "display_data"
    },
    {
     "data": {
      "image/png": "[encoded data removed]",
      "text/plain": [
       "plot without title"
      ]
     },
     "metadata": {},
     "output_type": "display_data"
    }
   ],
   "source": [
    "# FINAL RESULT: SCATTERPLOT\n",
    "options(repr.plot.height = 5, repr.plot.width = 6)\n",
    "tweets_bing %>% \n",
    "      group_by(state, sentiment) %>% # after grouping by state and sentiment and summirizing/averaging their \n",
    "#word frequency, variable word doesn't appear, as its frequency is aggregated over those categories\n",
    "      summarize(freq = mean(freq)) %>%\n",
    "      tidyr::spread(sentiment, freq) %>%\n",
    "      ungroup() %>%\n",
    "      mutate(ratio = positive / negative, # Calculate the ratio of positive to negative words\n",
    "             state = reorder(state, ratio)) %>%\n",
    "      ggplot(aes(state, ratio)) + geom_point() + coord_flip()"
   ]
  },
  {
   "cell_type": "markdown",
   "metadata": {},
   "source": [
    "## Ch2: Tidying Shakespeare\n",
    "Six Shakespearean plays available from Project Gutenberg\n",
    "*  title, the title of a Shakespearean play\n",
    "*  type, the type of play, either tragedy or comedy\n",
    "*  text, a line from that play\n",
    "*  Tokenization: in our case token = single word\n",
    "\n",
    "What does tidytext::unnest_tokens()?\n",
    "*  Other columns are retained\n",
    "*  Punctuation is stripped\n",
    "*  Words are converted to lower-case\n",
    "\n",
    "\n",
    "#### Using count and mutate\n",
    "*  Positive and negative words: *shakespeare_sentiment %>% count(title, sentiment)*\n",
    "*  Defining a new column using mutate(): *mutate(total = sum(n), percent = n / total)*\n",
    "*  Looking at contributions by word: *hamlet_sentiment %>% count(word, sentiment, sort = TRUE)*\n",
    "\n",
    "### Sentiment contributions by individual words\n",
    "*  What positive and negative words contribute to sentiment scores?\n",
    "*  Which words are important in each play? Tidy data principles make sentiment analysis easier and more effective \n",
    "    *  plots of word contributions\n",
    "    *  plots of narrative arcs - change bw. positive and negative sentiment"
   ]
  },
  {
   "cell_type": "code",
   "execution_count": 28,
   "metadata": {},
   "outputs": [
    {
     "data": {
      "image/png": "[encoded data removed]"
     },
     "metadata": {},
     "output_type": "display_data"
    },
    {
     "data": {
      "image/png": "[encoded data removed]"
     },
     "metadata": {},
     "output_type": "display_data"
    }
   ],
   "source": [
    "IRdisplay::display_png(file=\"C:/Users/annaa/contributions.png\")  \n",
    "IRdisplay::display_png(file=\"C:/Users/annaa/narrative.png\")  "
   ]
  },
  {
   "cell_type": "code",
   "execution_count": 27,
   "metadata": {},
   "outputs": [
    {
     "data": {
      "text/html": [
       "<table>\n",
       "<thead><tr><th scope=col>title</th><th scope=col>type</th><th scope=col>text</th></tr></thead>\n",
       "<tbody>\n",
       "\t<tr><td>The Tragedy of Romeo and Juliet                                </td><td>Tragedy                                                        </td><td>The Complete Works of William Shakespeare                      </td></tr>\n",
       "\t<tr><td>The Tragedy of Romeo and Juliet                                </td><td>Tragedy                                                        </td><td>                                                               </td></tr>\n",
       "\t<tr><td>The Tragedy of Romeo and Juliet                                </td><td>Tragedy                                                        </td><td>The Tragedy of Romeo and Juliet                                </td></tr>\n",
       "\t<tr><td>The Tragedy of Romeo and Juliet                                </td><td>Tragedy                                                        </td><td>                                                               </td></tr>\n",
       "\t<tr><td>The Tragedy of Romeo and Juliet                                </td><td>Tragedy                                                        </td><td>The Library of the Future Complete Works of William Shakespeare</td></tr>\n",
       "\t<tr><td>The Tragedy of Romeo and Juliet                                </td><td>Tragedy                                                        </td><td>Library of the Future is a TradeMark (TM) of World Library Inc.</td></tr>\n",
       "</tbody>\n",
       "</table>\n"
      ],
      "text/latex": [
       "\\begin{tabular}{r|lll}\n",
       " title & type & text\\\\\n",
       "\\hline\n",
       "\t The Tragedy of Romeo and Juliet                                 & Tragedy                                                         & The Complete Works of William Shakespeare                      \\\\\n",
       "\t The Tragedy of Romeo and Juliet                                 & Tragedy                                                         &                                                                \\\\\n",
       "\t The Tragedy of Romeo and Juliet                                 & Tragedy                                                         & The Tragedy of Romeo and Juliet                                \\\\\n",
       "\t The Tragedy of Romeo and Juliet                                 & Tragedy                                                         &                                                                \\\\\n",
       "\t The Tragedy of Romeo and Juliet                                 & Tragedy                                                         & The Library of the Future Complete Works of William Shakespeare\\\\\n",
       "\t The Tragedy of Romeo and Juliet                                 & Tragedy                                                         & Library of the Future is a TradeMark (TM) of World Library Inc.\\\\\n",
       "\\end{tabular}\n"
      ],
      "text/markdown": [
       "\n",
       "title | type | text | \n",
       "|---|---|---|---|---|---|\n",
       "| The Tragedy of Romeo and Juliet                                 | Tragedy                                                         | The Complete Works of William Shakespeare                       | \n",
       "| The Tragedy of Romeo and Juliet                                 | Tragedy                                                         |                                                                 | \n",
       "| The Tragedy of Romeo and Juliet                                 | Tragedy                                                         | The Tragedy of Romeo and Juliet                                 | \n",
       "| The Tragedy of Romeo and Juliet                                 | Tragedy                                                         |                                                                 | \n",
       "| The Tragedy of Romeo and Juliet                                 | Tragedy                                                         | The Library of the Future Complete Works of William Shakespeare | \n",
       "| The Tragedy of Romeo and Juliet                                 | Tragedy                                                         | Library of the Future is a TradeMark (TM) of World Library Inc. | \n",
       "\n",
       "\n"
      ],
      "text/plain": [
       "  title                           type   \n",
       "1 The Tragedy of Romeo and Juliet Tragedy\n",
       "2 The Tragedy of Romeo and Juliet Tragedy\n",
       "3 The Tragedy of Romeo and Juliet Tragedy\n",
       "4 The Tragedy of Romeo and Juliet Tragedy\n",
       "5 The Tragedy of Romeo and Juliet Tragedy\n",
       "6 The Tragedy of Romeo and Juliet Tragedy\n",
       "  text                                                           \n",
       "1 The Complete Works of William Shakespeare                      \n",
       "2                                                                \n",
       "3 The Tragedy of Romeo and Juliet                                \n",
       "4                                                                \n",
       "5 The Library of the Future Complete Works of William Shakespeare\n",
       "6 Library of the Future is a TradeMark (TM) of World Library Inc."
      ]
     },
     "metadata": {},
     "output_type": "display_data"
    }
   ],
   "source": [
    "load(file = \"shakespeare.rda\")\n",
    "head(shakespeare)"
   ]
  },
  {
   "cell_type": "code",
   "execution_count": 28,
   "metadata": {},
   "outputs": [
    {
     "data": {
      "text/html": [
       "<table>\n",
       "<thead><tr><th scope=col>title</th><th scope=col>type</th><th scope=col>n</th></tr></thead>\n",
       "<tbody>\n",
       "\t<tr><td>A Midsummer Night's Dream      </td><td>Comedy                         </td><td>3459                           </td></tr>\n",
       "\t<tr><td>Hamlet, Prince of Denmark      </td><td>Tragedy                        </td><td>6776                           </td></tr>\n",
       "\t<tr><td>Much Ado about Nothing         </td><td>Comedy                         </td><td>3799                           </td></tr>\n",
       "\t<tr><td>The Merchant of Venice         </td><td>Comedy                         </td><td>4225                           </td></tr>\n",
       "\t<tr><td>The Tragedy of Macbeth         </td><td>Tragedy                        </td><td>3188                           </td></tr>\n",
       "\t<tr><td>The Tragedy of Romeo and Juliet</td><td>Tragedy                        </td><td>4441                           </td></tr>\n",
       "</tbody>\n",
       "</table>\n"
      ],
      "text/latex": [
       "\\begin{tabular}{r|lll}\n",
       " title & type & n\\\\\n",
       "\\hline\n",
       "\t A Midsummer Night's Dream       & Comedy                          & 3459                           \\\\\n",
       "\t Hamlet, Prince of Denmark       & Tragedy                         & 6776                           \\\\\n",
       "\t Much Ado about Nothing          & Comedy                          & 3799                           \\\\\n",
       "\t The Merchant of Venice          & Comedy                          & 4225                           \\\\\n",
       "\t The Tragedy of Macbeth          & Tragedy                         & 3188                           \\\\\n",
       "\t The Tragedy of Romeo and Juliet & Tragedy                         & 4441                           \\\\\n",
       "\\end{tabular}\n"
      ],
      "text/markdown": [
       "\n",
       "title | type | n | \n",
       "|---|---|---|---|---|---|\n",
       "| A Midsummer Night's Dream       | Comedy                          | 3459                            | \n",
       "| Hamlet, Prince of Denmark       | Tragedy                         | 6776                            | \n",
       "| Much Ado about Nothing          | Comedy                          | 3799                            | \n",
       "| The Merchant of Venice          | Comedy                          | 4225                            | \n",
       "| The Tragedy of Macbeth          | Tragedy                         | 3188                            | \n",
       "| The Tragedy of Romeo and Juliet | Tragedy                         | 4441                            | \n",
       "\n",
       "\n"
      ],
      "text/plain": [
       "  title                           type    n   \n",
       "1 A Midsummer Night's Dream       Comedy  3459\n",
       "2 Hamlet, Prince of Denmark       Tragedy 6776\n",
       "3 Much Ado about Nothing          Comedy  3799\n",
       "4 The Merchant of Venice          Comedy  4225\n",
       "5 The Tragedy of Macbeth          Tragedy 3188\n",
       "6 The Tragedy of Romeo and Juliet Tragedy 4441"
      ]
     },
     "metadata": {},
     "output_type": "display_data"
    }
   ],
   "source": [
    "# Use count to find out how many titles/types there are\n",
    "shakespeare %>% count(title, type) %>% head()"
   ]
  },
  {
   "cell_type": "code",
   "execution_count": 29,
   "metadata": {},
   "outputs": [
    {
     "data": {
      "text/html": [
       "<table>\n",
       "<thead><tr><th scope=col>type</th><th scope=col>title</th><th scope=col>n</th></tr></thead>\n",
       "<tbody>\n",
       "\t<tr><td>Comedy                         </td><td>A Midsummer Night's Dream      </td><td>3459                           </td></tr>\n",
       "\t<tr><td>Comedy                         </td><td>Much Ado about Nothing         </td><td>3799                           </td></tr>\n",
       "\t<tr><td>Comedy                         </td><td>The Merchant of Venice         </td><td>4225                           </td></tr>\n",
       "\t<tr><td>Tragedy                        </td><td>Hamlet, Prince of Denmark      </td><td>6776                           </td></tr>\n",
       "\t<tr><td>Tragedy                        </td><td>The Tragedy of Macbeth         </td><td>3188                           </td></tr>\n",
       "\t<tr><td>Tragedy                        </td><td>The Tragedy of Romeo and Juliet</td><td>4441                           </td></tr>\n",
       "</tbody>\n",
       "</table>\n"
      ],
      "text/latex": [
       "\\begin{tabular}{r|lll}\n",
       " type & title & n\\\\\n",
       "\\hline\n",
       "\t Comedy                          & A Midsummer Night's Dream       & 3459                           \\\\\n",
       "\t Comedy                          & Much Ado about Nothing          & 3799                           \\\\\n",
       "\t Comedy                          & The Merchant of Venice          & 4225                           \\\\\n",
       "\t Tragedy                         & Hamlet, Prince of Denmark       & 6776                           \\\\\n",
       "\t Tragedy                         & The Tragedy of Macbeth          & 3188                           \\\\\n",
       "\t Tragedy                         & The Tragedy of Romeo and Juliet & 4441                           \\\\\n",
       "\\end{tabular}\n"
      ],
      "text/markdown": [
       "\n",
       "type | title | n | \n",
       "|---|---|---|---|---|---|\n",
       "| Comedy                          | A Midsummer Night's Dream       | 3459                            | \n",
       "| Comedy                          | Much Ado about Nothing          | 3799                            | \n",
       "| Comedy                          | The Merchant of Venice          | 4225                            | \n",
       "| Tragedy                         | Hamlet, Prince of Denmark       | 6776                            | \n",
       "| Tragedy                         | The Tragedy of Macbeth          | 3188                            | \n",
       "| Tragedy                         | The Tragedy of Romeo and Juliet | 4441                            | \n",
       "\n",
       "\n"
      ],
      "text/plain": [
       "  type    title                           n   \n",
       "1 Comedy  A Midsummer Night's Dream       3459\n",
       "2 Comedy  Much Ado about Nothing          3799\n",
       "3 Comedy  The Merchant of Venice          4225\n",
       "4 Tragedy Hamlet, Prince of Denmark       6776\n",
       "5 Tragedy The Tragedy of Macbeth          3188\n",
       "6 Tragedy The Tragedy of Romeo and Juliet 4441"
      ]
     },
     "metadata": {},
     "output_type": "display_data"
    }
   ],
   "source": [
    "shakespeare %>% count(type, title) %>% head() # exactly the same output, only column type first"
   ]
  },
  {
   "cell_type": "code",
   "execution_count": 30,
   "metadata": {},
   "outputs": [
    {
     "data": {
      "text/html": [
       "<table>\n",
       "<thead><tr><th scope=col>title</th><th scope=col>type</th><th scope=col>word</th></tr></thead>\n",
       "<tbody>\n",
       "\t<tr><td>The Tragedy of Romeo and Juliet</td><td>Tragedy                        </td><td>the                            </td></tr>\n",
       "\t<tr><td>The Tragedy of Romeo and Juliet</td><td>Tragedy                        </td><td>complete                       </td></tr>\n",
       "\t<tr><td>The Tragedy of Romeo and Juliet</td><td>Tragedy                        </td><td>works                          </td></tr>\n",
       "\t<tr><td>The Tragedy of Romeo and Juliet</td><td>Tragedy                        </td><td>of                             </td></tr>\n",
       "\t<tr><td>The Tragedy of Romeo and Juliet</td><td>Tragedy                        </td><td>william                        </td></tr>\n",
       "\t<tr><td>The Tragedy of Romeo and Juliet</td><td>Tragedy                        </td><td>shakespeare                    </td></tr>\n",
       "</tbody>\n",
       "</table>\n"
      ],
      "text/latex": [
       "\\begin{tabular}{r|lll}\n",
       " title & type & word\\\\\n",
       "\\hline\n",
       "\t The Tragedy of Romeo and Juliet & Tragedy                         & the                            \\\\\n",
       "\t The Tragedy of Romeo and Juliet & Tragedy                         & complete                       \\\\\n",
       "\t The Tragedy of Romeo and Juliet & Tragedy                         & works                          \\\\\n",
       "\t The Tragedy of Romeo and Juliet & Tragedy                         & of                             \\\\\n",
       "\t The Tragedy of Romeo and Juliet & Tragedy                         & william                        \\\\\n",
       "\t The Tragedy of Romeo and Juliet & Tragedy                         & shakespeare                    \\\\\n",
       "\\end{tabular}\n"
      ],
      "text/markdown": [
       "\n",
       "title | type | word | \n",
       "|---|---|---|---|---|---|\n",
       "| The Tragedy of Romeo and Juliet | Tragedy                         | the                             | \n",
       "| The Tragedy of Romeo and Juliet | Tragedy                         | complete                        | \n",
       "| The Tragedy of Romeo and Juliet | Tragedy                         | works                           | \n",
       "| The Tragedy of Romeo and Juliet | Tragedy                         | of                              | \n",
       "| The Tragedy of Romeo and Juliet | Tragedy                         | william                         | \n",
       "| The Tragedy of Romeo and Juliet | Tragedy                         | shakespeare                     | \n",
       "\n",
       "\n"
      ],
      "text/plain": [
       "  title                           type    word       \n",
       "1 The Tragedy of Romeo and Juliet Tragedy the        \n",
       "2 The Tragedy of Romeo and Juliet Tragedy complete   \n",
       "3 The Tragedy of Romeo and Juliet Tragedy works      \n",
       "4 The Tragedy of Romeo and Juliet Tragedy of         \n",
       "5 The Tragedy of Romeo and Juliet Tragedy william    \n",
       "6 The Tragedy of Romeo and Juliet Tragedy shakespeare"
      ]
     },
     "metadata": {},
     "output_type": "display_data"
    }
   ],
   "source": [
    "tidy_shakespeare = shakespeare %>% tidytext::unnest_tokens(word, text)\n",
    "head(tidy_shakespeare)"
   ]
  },
  {
   "cell_type": "code",
   "execution_count": 31,
   "metadata": {},
   "outputs": [
    {
     "data": {
      "text/html": [
       "<table>\n",
       "<thead><tr><th scope=col>word</th><th scope=col>sentiment</th></tr></thead>\n",
       "<tbody>\n",
       "\t<tr><td>wilt    </td><td>negative</td></tr>\n",
       "</tbody>\n",
       "</table>\n"
      ],
      "text/latex": [
       "\\begin{tabular}{r|ll}\n",
       " word & sentiment\\\\\n",
       "\\hline\n",
       "\t wilt     & negative\\\\\n",
       "\\end{tabular}\n"
      ],
      "text/markdown": [
       "\n",
       "word | sentiment | \n",
       "|---|\n",
       "| wilt     | negative | \n",
       "\n",
       "\n"
      ],
      "text/plain": [
       "  word sentiment\n",
       "1 wilt negative "
      ]
     },
     "metadata": {},
     "output_type": "display_data"
    }
   ],
   "source": [
    "#  Back to the sentiment lexicons: \n",
    "get_sentiments(\"bing\") %>% filter(word == \"wilt\") # in this context classification as negative is incorrect"
   ]
  },
  {
   "cell_type": "code",
   "execution_count": 33,
   "metadata": {},
   "outputs": [
    {
     "data": {
      "text/html": [
       "<table>\n",
       "<thead><tr><th scope=col>text</th></tr></thead>\n",
       "<tbody>\n",
       "\t<tr><td>    Take it in what sense thou wilt.                </td></tr>\n",
       "\t<tr><td>    Which thou wilt propagate, to have it prest     </td></tr>\n",
       "\t<tr><td>    Thou wilt fall backward when thou hast more wit;</td></tr>\n",
       "\t<tr><td>    Thou wilt fall backward when thou comest to age;</td></tr>\n",
       "\t<tr><td>  Ben. An if he hear thee, thou wilt anger him.     </td></tr>\n",
       "\t<tr><td>    Or, if thou wilt not, be but sworn my love,     </td></tr>\n",
       "</tbody>\n",
       "</table>\n"
      ],
      "text/latex": [
       "\\begin{tabular}{r|l}\n",
       " text\\\\\n",
       "\\hline\n",
       "\t     Take it in what sense thou wilt.                \\\\\n",
       "\t     Which thou wilt propagate, to have it prest     \\\\\n",
       "\t     Thou wilt fall backward when thou hast more wit;\\\\\n",
       "\t     Thou wilt fall backward when thou comest to age;\\\\\n",
       "\t   Ben. An if he hear thee, thou wilt anger him.     \\\\\n",
       "\t     Or, if thou wilt not, be but sworn my love,     \\\\\n",
       "\\end{tabular}\n"
      ],
      "text/markdown": [
       "\n",
       "text | \n",
       "|---|---|---|---|---|---|\n",
       "|     Take it in what sense thou wilt.                 | \n",
       "|     Which thou wilt propagate, to have it prest      | \n",
       "|     Thou wilt fall backward when thou hast more wit; | \n",
       "|     Thou wilt fall backward when thou comest to age; | \n",
       "|   Ben. An if he hear thee, thou wilt anger him.      | \n",
       "|     Or, if thou wilt not, be but sworn my love,      | \n",
       "\n",
       "\n"
      ],
      "text/plain": [
       "  text                                                \n",
       "1     Take it in what sense thou wilt.                \n",
       "2     Which thou wilt propagate, to have it prest     \n",
       "3     Thou wilt fall backward when thou hast more wit;\n",
       "4     Thou wilt fall backward when thou comest to age;\n",
       "5   Ben. An if he hear thee, thou wilt anger him.     \n",
       "6     Or, if thou wilt not, be but sworn my love,     "
      ]
     },
     "metadata": {},
     "output_type": "display_data"
    }
   ],
   "source": [
    "shakespeare %>% filter(stringr::str_detect(text, \"wilt\")) %>% select(text) %>% head()"
   ]
  },
  {
   "cell_type": "code",
   "execution_count": 35,
   "metadata": {},
   "outputs": [
    {
     "name": "stderr",
     "output_type": "stream",
     "text": [
      "Joining, by = \"word\"\n"
     ]
    },
    {
     "data": {
      "text/html": [
       "<table>\n",
       "<thead><tr><th scope=col>title</th><th scope=col>type</th><th scope=col>word</th></tr></thead>\n",
       "<tbody>\n",
       "\t<tr><td>The Tragedy of Romeo and Juliet</td><td>Tragedy                        </td><td>the                            </td></tr>\n",
       "\t<tr><td>The Tragedy of Romeo and Juliet</td><td>Tragedy                        </td><td>complete                       </td></tr>\n",
       "\t<tr><td>The Tragedy of Romeo and Juliet</td><td>Tragedy                        </td><td>works                          </td></tr>\n",
       "\t<tr><td>The Tragedy of Romeo and Juliet</td><td>Tragedy                        </td><td>of                             </td></tr>\n",
       "\t<tr><td>The Tragedy of Romeo and Juliet</td><td>Tragedy                        </td><td>william                        </td></tr>\n",
       "\t<tr><td>The Tragedy of Romeo and Juliet</td><td>Tragedy                        </td><td>shakespeare                    </td></tr>\n",
       "</tbody>\n",
       "</table>\n"
      ],
      "text/latex": [
       "\\begin{tabular}{r|lll}\n",
       " title & type & word\\\\\n",
       "\\hline\n",
       "\t The Tragedy of Romeo and Juliet & Tragedy                         & the                            \\\\\n",
       "\t The Tragedy of Romeo and Juliet & Tragedy                         & complete                       \\\\\n",
       "\t The Tragedy of Romeo and Juliet & Tragedy                         & works                          \\\\\n",
       "\t The Tragedy of Romeo and Juliet & Tragedy                         & of                             \\\\\n",
       "\t The Tragedy of Romeo and Juliet & Tragedy                         & william                        \\\\\n",
       "\t The Tragedy of Romeo and Juliet & Tragedy                         & shakespeare                    \\\\\n",
       "\\end{tabular}\n"
      ],
      "text/markdown": [
       "\n",
       "title | type | word | \n",
       "|---|---|---|---|---|---|\n",
       "| The Tragedy of Romeo and Juliet | Tragedy                         | the                             | \n",
       "| The Tragedy of Romeo and Juliet | Tragedy                         | complete                        | \n",
       "| The Tragedy of Romeo and Juliet | Tragedy                         | works                           | \n",
       "| The Tragedy of Romeo and Juliet | Tragedy                         | of                              | \n",
       "| The Tragedy of Romeo and Juliet | Tragedy                         | william                         | \n",
       "| The Tragedy of Romeo and Juliet | Tragedy                         | shakespeare                     | \n",
       "\n",
       "\n"
      ],
      "text/plain": [
       "  title                           type    word       \n",
       "1 The Tragedy of Romeo and Juliet Tragedy the        \n",
       "2 The Tragedy of Romeo and Juliet Tragedy complete   \n",
       "3 The Tragedy of Romeo and Juliet Tragedy works      \n",
       "4 The Tragedy of Romeo and Juliet Tragedy of         \n",
       "5 The Tragedy of Romeo and Juliet Tragedy william    \n",
       "6 The Tragedy of Romeo and Juliet Tragedy shakespeare"
      ]
     },
     "metadata": {},
     "output_type": "display_data"
    }
   ],
   "source": [
    "# How to remove the word wilt from tidy text so that we can still use the same \"bing\" sentiment lexicon?\n",
    "tidy_shakespeare %>% anti_join(data_frame(word = \"wilt\")) %>% head()"
   ]
  },
  {
   "cell_type": "markdown",
   "metadata": {},
   "source": [
    "Passing a dataset and a variable to count() returns the unique values in that variable and the corresponding count n, which in this case, is the number of lines in a play."
   ]
  },
  {
   "cell_type": "code",
   "execution_count": 57,
   "metadata": {},
   "outputs": [
    {
     "data": {
      "text/html": [
       "<table>\n",
       "<thead><tr><th scope=col>word</th><th scope=col>n</th></tr></thead>\n",
       "<tbody>\n",
       "\t<tr><td>the </td><td>4651</td></tr>\n",
       "\t<tr><td>and </td><td>4170</td></tr>\n",
       "\t<tr><td>i   </td><td>3296</td></tr>\n",
       "\t<tr><td>to  </td><td>3047</td></tr>\n",
       "\t<tr><td>of  </td><td>2645</td></tr>\n",
       "\t<tr><td>a   </td><td>2511</td></tr>\n",
       "</tbody>\n",
       "</table>\n"
      ],
      "text/latex": [
       "\\begin{tabular}{r|ll}\n",
       " word & n\\\\\n",
       "\\hline\n",
       "\t the  & 4651\\\\\n",
       "\t and  & 4170\\\\\n",
       "\t i    & 3296\\\\\n",
       "\t to   & 3047\\\\\n",
       "\t of   & 2645\\\\\n",
       "\t a    & 2511\\\\\n",
       "\\end{tabular}\n"
      ],
      "text/markdown": [
       "\n",
       "word | n | \n",
       "|---|---|---|---|---|---|\n",
       "| the  | 4651 | \n",
       "| and  | 4170 | \n",
       "| i    | 3296 | \n",
       "| to   | 3047 | \n",
       "| of   | 2645 | \n",
       "| a    | 2511 | \n",
       "\n",
       "\n"
      ],
      "text/plain": [
       "  word n   \n",
       "1 the  4651\n",
       "2 and  4170\n",
       "3 i    3296\n",
       "4 to   3047\n",
       "5 of   2645\n",
       "6 a    2511"
      ]
     },
     "metadata": {},
     "output_type": "display_data"
    }
   ],
   "source": [
    "library(tidytext)\n",
    "\n",
    "tidy_shakespeare <- shakespeare %>% group_by(title) %>%\n",
    "  mutate(linenumber = row_number()) %>% # Define a new column linenumber\n",
    "  unnest_tokens(word, text) %>% # Transform the non-tidy text data to tidy text data\n",
    "  ungroup()\n",
    "\n",
    "# Pipe the tidy Shakespeare data frame to the next line\n",
    "tidy_shakespeare %>% \n",
    "  # Use count to find out how many times each word is used\n",
    "  count(word, sort = TRUE) %>% head()"
   ]
  },
  {
   "cell_type": "markdown",
   "metadata": {},
   "source": [
    "the most common words are “the”, “and”, and “i” that have no sentiments associated with them!\n",
    "\n",
    "### Sentiment analysis of Shakespeare\n",
    "*  After transforming the text of these Shakespearean plays to a tidy text dataset, the resulting data frame tidy_shakespeare is ready for sentiment analysis with inner_join approach. \n",
    "*  Once you have performed the sentiment analysis, you can find out how many negative and positive words each play has.\n",
    "*  Passing two variables to count() returns the count n for each unique combination of the two variables. In this case: *shakespeare_sentiment %>% count(title, sentiment)*, you have 6 plays and 2 sentiments, so count() returns 6 x 2 = 12 rows."
   ]
  },
  {
   "cell_type": "code",
   "execution_count": 60,
   "metadata": {},
   "outputs": [
    {
     "name": "stderr",
     "output_type": "stream",
     "text": [
      "Joining, by = \"word\"\n"
     ]
    },
    {
     "data": {
      "text/html": [
       "<table>\n",
       "<thead><tr><th scope=col>title</th><th scope=col>sentiment</th><th scope=col>n</th></tr></thead>\n",
       "<tbody>\n",
       "\t<tr><td>A Midsummer Night's Dream      </td><td>negative                       </td><td> 681                           </td></tr>\n",
       "\t<tr><td>A Midsummer Night's Dream      </td><td>positive                       </td><td> 773                           </td></tr>\n",
       "\t<tr><td>Hamlet, Prince of Denmark      </td><td>negative                       </td><td>1323                           </td></tr>\n",
       "\t<tr><td>Hamlet, Prince of Denmark      </td><td>positive                       </td><td>1223                           </td></tr>\n",
       "\t<tr><td>Much Ado about Nothing         </td><td>negative                       </td><td> 767                           </td></tr>\n",
       "\t<tr><td>Much Ado about Nothing         </td><td>positive                       </td><td>1127                           </td></tr>\n",
       "\t<tr><td>The Merchant of Venice         </td><td>negative                       </td><td> 740                           </td></tr>\n",
       "\t<tr><td>The Merchant of Venice         </td><td>positive                       </td><td> 962                           </td></tr>\n",
       "\t<tr><td>The Tragedy of Macbeth         </td><td>negative                       </td><td> 914                           </td></tr>\n",
       "\t<tr><td>The Tragedy of Macbeth         </td><td>positive                       </td><td> 749                           </td></tr>\n",
       "\t<tr><td>The Tragedy of Romeo and Juliet</td><td>negative                       </td><td>1235                           </td></tr>\n",
       "\t<tr><td>The Tragedy of Romeo and Juliet</td><td>positive                       </td><td>1090                           </td></tr>\n",
       "</tbody>\n",
       "</table>\n"
      ],
      "text/latex": [
       "\\begin{tabular}{r|lll}\n",
       " title & sentiment & n\\\\\n",
       "\\hline\n",
       "\t A Midsummer Night's Dream       & negative                        &  681                           \\\\\n",
       "\t A Midsummer Night's Dream       & positive                        &  773                           \\\\\n",
       "\t Hamlet, Prince of Denmark       & negative                        & 1323                           \\\\\n",
       "\t Hamlet, Prince of Denmark       & positive                        & 1223                           \\\\\n",
       "\t Much Ado about Nothing          & negative                        &  767                           \\\\\n",
       "\t Much Ado about Nothing          & positive                        & 1127                           \\\\\n",
       "\t The Merchant of Venice          & negative                        &  740                           \\\\\n",
       "\t The Merchant of Venice          & positive                        &  962                           \\\\\n",
       "\t The Tragedy of Macbeth          & negative                        &  914                           \\\\\n",
       "\t The Tragedy of Macbeth          & positive                        &  749                           \\\\\n",
       "\t The Tragedy of Romeo and Juliet & negative                        & 1235                           \\\\\n",
       "\t The Tragedy of Romeo and Juliet & positive                        & 1090                           \\\\\n",
       "\\end{tabular}\n"
      ],
      "text/markdown": [
       "\n",
       "title | sentiment | n | \n",
       "|---|---|---|---|---|---|---|---|---|---|---|---|\n",
       "| A Midsummer Night's Dream       | negative                        |  681                            | \n",
       "| A Midsummer Night's Dream       | positive                        |  773                            | \n",
       "| Hamlet, Prince of Denmark       | negative                        | 1323                            | \n",
       "| Hamlet, Prince of Denmark       | positive                        | 1223                            | \n",
       "| Much Ado about Nothing          | negative                        |  767                            | \n",
       "| Much Ado about Nothing          | positive                        | 1127                            | \n",
       "| The Merchant of Venice          | negative                        |  740                            | \n",
       "| The Merchant of Venice          | positive                        |  962                            | \n",
       "| The Tragedy of Macbeth          | negative                        |  914                            | \n",
       "| The Tragedy of Macbeth          | positive                        |  749                            | \n",
       "| The Tragedy of Romeo and Juliet | negative                        | 1235                            | \n",
       "| The Tragedy of Romeo and Juliet | positive                        | 1090                            | \n",
       "\n",
       "\n"
      ],
      "text/plain": [
       "   title                           sentiment n   \n",
       "1  A Midsummer Night's Dream       negative   681\n",
       "2  A Midsummer Night's Dream       positive   773\n",
       "3  Hamlet, Prince of Denmark       negative  1323\n",
       "4  Hamlet, Prince of Denmark       positive  1223\n",
       "5  Much Ado about Nothing          negative   767\n",
       "6  Much Ado about Nothing          positive  1127\n",
       "7  The Merchant of Venice          negative   740\n",
       "8  The Merchant of Venice          positive   962\n",
       "9  The Tragedy of Macbeth          negative   914\n",
       "10 The Tragedy of Macbeth          positive   749\n",
       "11 The Tragedy of Romeo and Juliet negative  1235\n",
       "12 The Tragedy of Romeo and Juliet positive  1090"
      ]
     },
     "metadata": {},
     "output_type": "display_data"
    }
   ],
   "source": [
    "shakespeare_sentiment <- tidy_shakespeare %>%\n",
    "  inner_join(get_sentiments(\"bing\")) # Implement sentiment analysis with the \"bing\" lexicon\n",
    "\n",
    "shakespeare_sentiment %>%\n",
    "  count(title, sentiment) # Find how many positive/negative words each play has"
   ]
  },
  {
   "cell_type": "markdown",
   "metadata": {},
   "source": [
    "### Using count & mutate in shakespeare\n",
    "#### Which plays have a higher percentage of negative words? Do the tragedies have more negative words than the comedies?"
   ]
  },
  {
   "cell_type": "code",
   "execution_count": 61,
   "metadata": {},
   "outputs": [
    {
     "name": "stderr",
     "output_type": "stream",
     "text": [
      "Joining, by = \"word\"\n"
     ]
    },
    {
     "data": {
      "text/html": [
       "<table>\n",
       "<thead><tr><th scope=col>title</th><th scope=col>type</th><th scope=col>sentiment</th><th scope=col>n</th><th scope=col>total</th><th scope=col>percent</th></tr></thead>\n",
       "<tbody>\n",
       "\t<tr><td>Much Ado about Nothing         </td><td>Comedy                         </td><td>negative                       </td><td> 767                           </td><td>1894                           </td><td>0.4049630                      </td></tr>\n",
       "\t<tr><td>The Merchant of Venice         </td><td>Comedy                         </td><td>negative                       </td><td> 740                           </td><td>1702                           </td><td>0.4347826                      </td></tr>\n",
       "\t<tr><td>A Midsummer Night's Dream      </td><td>Comedy                         </td><td>negative                       </td><td> 681                           </td><td>1454                           </td><td>0.4683631                      </td></tr>\n",
       "\t<tr><td>Hamlet, Prince of Denmark      </td><td>Tragedy                        </td><td>negative                       </td><td>1323                           </td><td>2546                           </td><td>0.5196386                      </td></tr>\n",
       "\t<tr><td>The Tragedy of Romeo and Juliet</td><td>Tragedy                        </td><td>negative                       </td><td>1235                           </td><td>2325                           </td><td>0.5311828                      </td></tr>\n",
       "\t<tr><td>The Tragedy of Macbeth         </td><td>Tragedy                        </td><td>negative                       </td><td> 914                           </td><td>1663                           </td><td>0.5496091                      </td></tr>\n",
       "</tbody>\n",
       "</table>\n"
      ],
      "text/latex": [
       "\\begin{tabular}{r|llllll}\n",
       " title & type & sentiment & n & total & percent\\\\\n",
       "\\hline\n",
       "\t Much Ado about Nothing          & Comedy                          & negative                        &  767                            & 1894                            & 0.4049630                      \\\\\n",
       "\t The Merchant of Venice          & Comedy                          & negative                        &  740                            & 1702                            & 0.4347826                      \\\\\n",
       "\t A Midsummer Night's Dream       & Comedy                          & negative                        &  681                            & 1454                            & 0.4683631                      \\\\\n",
       "\t Hamlet, Prince of Denmark       & Tragedy                         & negative                        & 1323                            & 2546                            & 0.5196386                      \\\\\n",
       "\t The Tragedy of Romeo and Juliet & Tragedy                         & negative                        & 1235                            & 2325                            & 0.5311828                      \\\\\n",
       "\t The Tragedy of Macbeth          & Tragedy                         & negative                        &  914                            & 1663                            & 0.5496091                      \\\\\n",
       "\\end{tabular}\n"
      ],
      "text/markdown": [
       "\n",
       "title | type | sentiment | n | total | percent | \n",
       "|---|---|---|---|---|---|\n",
       "| Much Ado about Nothing          | Comedy                          | negative                        |  767                            | 1894                            | 0.4049630                       | \n",
       "| The Merchant of Venice          | Comedy                          | negative                        |  740                            | 1702                            | 0.4347826                       | \n",
       "| A Midsummer Night's Dream       | Comedy                          | negative                        |  681                            | 1454                            | 0.4683631                       | \n",
       "| Hamlet, Prince of Denmark       | Tragedy                         | negative                        | 1323                            | 2546                            | 0.5196386                       | \n",
       "| The Tragedy of Romeo and Juliet | Tragedy                         | negative                        | 1235                            | 2325                            | 0.5311828                       | \n",
       "| The Tragedy of Macbeth          | Tragedy                         | negative                        |  914                            | 1663                            | 0.5496091                       | \n",
       "\n",
       "\n"
      ],
      "text/plain": [
       "  title                           type    sentiment n    total percent  \n",
       "1 Much Ado about Nothing          Comedy  negative   767 1894  0.4049630\n",
       "2 The Merchant of Venice          Comedy  negative   740 1702  0.4347826\n",
       "3 A Midsummer Night's Dream       Comedy  negative   681 1454  0.4683631\n",
       "4 Hamlet, Prince of Denmark       Tragedy negative  1323 2546  0.5196386\n",
       "5 The Tragedy of Romeo and Juliet Tragedy negative  1235 2325  0.5311828\n",
       "6 The Tragedy of Macbeth          Tragedy negative   914 1663  0.5496091"
      ]
     },
     "metadata": {},
     "output_type": "display_data"
    }
   ],
   "source": [
    "sentiment_counts <- tidy_shakespeare %>%\n",
    "    inner_join(get_sentiments(\"bing\")) %>% # Implement sentiment analysis using the \"bing\" lexicon\n",
    "    count(title, type, sentiment) # Count the number of words by title, type, and sentiment\n",
    "\n",
    "sentiment_counts %>%\n",
    "    group_by(title) %>% # Group by the titles of the plays\n",
    "    mutate(total = sum(n), # Find the total number of words in each play\n",
    "           percent = n / total) %>% # Calculate the number of words divided by the total\n",
    "    filter(sentiment == \"negative\") %>% # Filter the results for only negative sentiment\n",
    "    arrange(percent)"
   ]
  },
  {
   "cell_type": "markdown",
   "metadata": {},
   "source": [
    "*  tragedies do in fact have a higher percentage of negative words!\n",
    "\n",
    "### Exercise: Most common positive and negative words\n",
    "*  Shakespeare's tragedies use proportionally more negative words than the comedies. \n",
    "*  Now we can explore which specific words are driving these sentiment scores. Which are the most common positive and negative words in these plays?\n",
    "*  There are three steps:\n",
    "    1. count how many times each word is used, \n",
    "    2. take the top 10 most-used positive and negative words, \n",
    "    3. make a plot to visualize this result."
   ]
  },
  {
   "cell_type": "code",
   "execution_count": 36,
   "metadata": {},
   "outputs": [
    {
     "name": "stderr",
     "output_type": "stream",
     "text": [
      "Joining, by = \"word\"\n",
      "Selecting by n\n"
     ]
    },
    {
     "data": {},
     "metadata": {},
     "output_type": "display_data"
    },
    {
     "data": {
      "image/png": "[encoded data removed]",
      "text/plain": [
       "plot without title"
      ]
     },
     "metadata": {},
     "output_type": "display_data"
    }
   ],
   "source": [
    "word_counts <- tidy_shakespeare %>%\n",
    "      inner_join(get_sentiments(\"bing\")) %>%  # Implement sentiment analysis using the \"bing\" lexicon\n",
    "      count(word, sentiment)\n",
    "\n",
    "# Take the top 10 for each sentiment\n",
    "top_words <- word_counts %>% group_by(sentiment) %>% top_n(10) %>% ungroup() %>%\n",
    "  # Make word a factor in order of n: it converts word from a character that would be plotted in alphabetical order to a factor that will be plotted in order of n.\n",
    "      mutate(word = reorder(word, n))\n",
    "\n",
    "options(repr.plot.height = 3, repr.plot.width = 5)   # Make a bar chart with geom_col()\n",
    "ggplot(top_words, aes(word, n, fill = sentiment)) + geom_col(show.legend = FALSE) +\n",
    "      facet_wrap(~sentiment, scales = \"free\") + coord_flip()"
   ]
  },
  {
   "cell_type": "markdown",
   "metadata": {},
   "source": [
    "Death is pretty negative and love is positive, but are there words in that list that had different connotations during Shakespeare's time? Do you see a word that the lexicon has misidentified? => wilt!\n",
    "*  **thou wilt** should be seen as **you will** in old English\n",
    "*  Ex. Romeo and Juliet, “For thou wilt lie upon the wings of night”. It is important to explore the details of how words were scored when performing sentiment analyses."
   ]
  },
  {
   "cell_type": "markdown",
   "metadata": {},
   "source": [
    "### Exercise: Word contributions (to the sentiment score) by play\n",
    "*  the \"afinn\" lexicon assign words to a score from -5 to 5. Different lexicons take different approaches to quantifying the emotion/opinion content of words.\n",
    "*  Which words contribute to the overall sentiment in which plays? we look specifically at Macbeth here.\n",
    "*  Notice that it is possible to perform sentiment analysis on count data, not only the original tidy data frame."
   ]
  },
  {
   "cell_type": "code",
   "execution_count": 38,
   "metadata": {},
   "outputs": [
    {
     "name": "stderr",
     "output_type": "stream",
     "text": [
      "Joining, by = \"word\"\n"
     ]
    },
    {
     "data": {
      "text/html": [
       "<table>\n",
       "<thead><tr><th scope=col>title</th><th scope=col>word</th><th scope=col>n</th><th scope=col>score</th></tr></thead>\n",
       "<tbody>\n",
       "\t<tr><td>The Tragedy of Macbeth</td><td>no                    </td><td>73                    </td><td>-1                    </td></tr>\n",
       "\t<tr><td>The Tragedy of Macbeth</td><td>fear                  </td><td>35                    </td><td>-2                    </td></tr>\n",
       "\t<tr><td>The Tragedy of Macbeth</td><td>death                 </td><td>20                    </td><td>-2                    </td></tr>\n",
       "\t<tr><td>The Tragedy of Macbeth</td><td>bloody                </td><td>16                    </td><td>-3                    </td></tr>\n",
       "\t<tr><td>The Tragedy of Macbeth</td><td>poor                  </td><td>16                    </td><td>-2                    </td></tr>\n",
       "\t<tr><td>The Tragedy of Macbeth</td><td>strange               </td><td>16                    </td><td>-1                    </td></tr>\n",
       "\t<tr><td>The Tragedy of Macbeth</td><td>dead                  </td><td>14                    </td><td>-3                    </td></tr>\n",
       "\t<tr><td>The Tragedy of Macbeth</td><td>leave                 </td><td>14                    </td><td>-1                    </td></tr>\n",
       "\t<tr><td>The Tragedy of Macbeth</td><td>fight                 </td><td>13                    </td><td>-1                    </td></tr>\n",
       "\t<tr><td>The Tragedy of Macbeth</td><td>charges               </td><td>11                    </td><td>-2                    </td></tr>\n",
       "</tbody>\n",
       "</table>\n"
      ],
      "text/latex": [
       "\\begin{tabular}{r|llll}\n",
       " title & word & n & score\\\\\n",
       "\\hline\n",
       "\t The Tragedy of Macbeth & no                     & 73                     & -1                    \\\\\n",
       "\t The Tragedy of Macbeth & fear                   & 35                     & -2                    \\\\\n",
       "\t The Tragedy of Macbeth & death                  & 20                     & -2                    \\\\\n",
       "\t The Tragedy of Macbeth & bloody                 & 16                     & -3                    \\\\\n",
       "\t The Tragedy of Macbeth & poor                   & 16                     & -2                    \\\\\n",
       "\t The Tragedy of Macbeth & strange                & 16                     & -1                    \\\\\n",
       "\t The Tragedy of Macbeth & dead                   & 14                     & -3                    \\\\\n",
       "\t The Tragedy of Macbeth & leave                  & 14                     & -1                    \\\\\n",
       "\t The Tragedy of Macbeth & fight                  & 13                     & -1                    \\\\\n",
       "\t The Tragedy of Macbeth & charges                & 11                     & -2                    \\\\\n",
       "\\end{tabular}\n"
      ],
      "text/markdown": [
       "\n",
       "title | word | n | score | \n",
       "|---|---|---|---|---|---|---|---|---|---|\n",
       "| The Tragedy of Macbeth | no                     | 73                     | -1                     | \n",
       "| The Tragedy of Macbeth | fear                   | 35                     | -2                     | \n",
       "| The Tragedy of Macbeth | death                  | 20                     | -2                     | \n",
       "| The Tragedy of Macbeth | bloody                 | 16                     | -3                     | \n",
       "| The Tragedy of Macbeth | poor                   | 16                     | -2                     | \n",
       "| The Tragedy of Macbeth | strange                | 16                     | -1                     | \n",
       "| The Tragedy of Macbeth | dead                   | 14                     | -3                     | \n",
       "| The Tragedy of Macbeth | leave                  | 14                     | -1                     | \n",
       "| The Tragedy of Macbeth | fight                  | 13                     | -1                     | \n",
       "| The Tragedy of Macbeth | charges                | 11                     | -2                     | \n",
       "\n",
       "\n"
      ],
      "text/plain": [
       "   title                  word    n  score\n",
       "1  The Tragedy of Macbeth no      73 -1   \n",
       "2  The Tragedy of Macbeth fear    35 -2   \n",
       "3  The Tragedy of Macbeth death   20 -2   \n",
       "4  The Tragedy of Macbeth bloody  16 -3   \n",
       "5  The Tragedy of Macbeth poor    16 -2   \n",
       "6  The Tragedy of Macbeth strange 16 -1   \n",
       "7  The Tragedy of Macbeth dead    14 -3   \n",
       "8  The Tragedy of Macbeth leave   14 -1   \n",
       "9  The Tragedy of Macbeth fight   13 -1   \n",
       "10 The Tragedy of Macbeth charges 11 -2   "
      ]
     },
     "metadata": {},
     "output_type": "display_data"
    }
   ],
   "source": [
    "tidy_shakespeare %>% count(title, word, sort = TRUE) %>%\n",
    "      inner_join(get_sentiments(\"afinn\")) %>% # Implement sentiment analysis using the \"afinn\" lexicon\n",
    "      filter(title == \"The Tragedy of Macbeth\", score < 0) %>% head(10)  # Filter scores for Macbeth that are negative"
   ]
  },
  {
   "cell_type": "markdown",
   "metadata": {},
   "source": [
    "### Exercise: Calculating a contribution score\n",
    "*  you can calculate a relative contribution for each word in each play. \n",
    "*  This contribution can be found by multiplying the score for each word by the times it is used in each play and divided by the total words in each play."
   ]
  },
  {
   "cell_type": "code",
   "execution_count": 40,
   "metadata": {},
   "outputs": [
    {
     "name": "stderr",
     "output_type": "stream",
     "text": [
      "Joining, by = \"word\"\n"
     ]
    },
    {
     "data": {
      "text/html": [
       "<table>\n",
       "<thead><tr><th scope=col>title</th><th scope=col>word</th><th scope=col>n</th><th scope=col>score</th><th scope=col>contribution</th></tr></thead>\n",
       "<tbody>\n",
       "\t<tr><td>Hamlet, Prince of Denmark      </td><td>no                             </td><td>143                            </td><td>-1                             </td><td>-0.06520748                    </td></tr>\n",
       "\t<tr><td>The Tragedy of Romeo and Juliet</td><td>love                           </td><td>140                            </td><td> 3                             </td><td> 0.21319797                    </td></tr>\n",
       "\t<tr><td>Much Ado about Nothing         </td><td>no                             </td><td>132                            </td><td>-1                             </td><td>-0.07683353                    </td></tr>\n",
       "\t<tr><td>Much Ado about Nothing         </td><td>hero                           </td><td>114                            </td><td> 2                             </td><td> 0.13271246                    </td></tr>\n",
       "\t<tr><td>A Midsummer Night's Dream      </td><td>love                           </td><td>110                            </td><td> 3                             </td><td> 0.26982829                    </td></tr>\n",
       "\t<tr><td>Hamlet, Prince of Denmark      </td><td>good                           </td><td>109                            </td><td> 3                             </td><td> 0.14911081                    </td></tr>\n",
       "</tbody>\n",
       "</table>\n"
      ],
      "text/latex": [
       "\\begin{tabular}{r|lllll}\n",
       " title & word & n & score & contribution\\\\\n",
       "\\hline\n",
       "\t Hamlet, Prince of Denmark       & no                              & 143                             & -1                              & -0.06520748                    \\\\\n",
       "\t The Tragedy of Romeo and Juliet & love                            & 140                             &  3                              &  0.21319797                    \\\\\n",
       "\t Much Ado about Nothing          & no                              & 132                             & -1                              & -0.07683353                    \\\\\n",
       "\t Much Ado about Nothing          & hero                            & 114                             &  2                              &  0.13271246                    \\\\\n",
       "\t A Midsummer Night's Dream       & love                            & 110                             &  3                              &  0.26982829                    \\\\\n",
       "\t Hamlet, Prince of Denmark       & good                            & 109                             &  3                              &  0.14911081                    \\\\\n",
       "\\end{tabular}\n"
      ],
      "text/markdown": [
       "\n",
       "title | word | n | score | contribution | \n",
       "|---|---|---|---|---|---|\n",
       "| Hamlet, Prince of Denmark       | no                              | 143                             | -1                              | -0.06520748                     | \n",
       "| The Tragedy of Romeo and Juliet | love                            | 140                             |  3                              |  0.21319797                     | \n",
       "| Much Ado about Nothing          | no                              | 132                             | -1                              | -0.07683353                     | \n",
       "| Much Ado about Nothing          | hero                            | 114                             |  2                              |  0.13271246                     | \n",
       "| A Midsummer Night's Dream       | love                            | 110                             |  3                              |  0.26982829                     | \n",
       "| Hamlet, Prince of Denmark       | good                            | 109                             |  3                              |  0.14911081                     | \n",
       "\n",
       "\n"
      ],
      "text/plain": [
       "  title                           word n   score contribution\n",
       "1 Hamlet, Prince of Denmark       no   143 -1    -0.06520748 \n",
       "2 The Tragedy of Romeo and Juliet love 140  3     0.21319797 \n",
       "3 Much Ado about Nothing          no   132 -1    -0.07683353 \n",
       "4 Much Ado about Nothing          hero 114  2     0.13271246 \n",
       "5 A Midsummer Night's Dream       love 110  3     0.26982829 \n",
       "6 Hamlet, Prince of Denmark       good 109  3     0.14911081 "
      ]
     },
     "metadata": {},
     "output_type": "display_data"
    }
   ],
   "source": [
    "sentiment_contributions <- tidy_shakespeare %>%\n",
    "  # Count by title and word\n",
    "  count(title, word, sort = TRUE) %>%\n",
    "  # Implement sentiment analysis using the \"afinn\" lexicon\n",
    "  inner_join(get_sentiments(\"afinn\")) %>%\n",
    "  # Group by title\n",
    "  group_by(title) %>%\n",
    "  # Calculate a contribution for each word in each title\n",
    "  mutate(contribution = score * n / sum(n)) %>%\n",
    "  ungroup()\n",
    "    \n",
    "head(sentiment_contributions)"
   ]
  },
  {
   "cell_type": "markdown",
   "metadata": {},
   "source": [
    " Notice that “hero” shows up in your results there => that is the name of one of the characters in “Much Ado About Nothing”."
   ]
  },
  {
   "cell_type": "code",
   "execution_count": 42,
   "metadata": {},
   "outputs": [
    {
     "data": {
      "text/html": [
       "<table>\n",
       "<thead><tr><th scope=col>title</th><th scope=col>word</th><th scope=col>n</th><th scope=col>score</th><th scope=col>contribution</th></tr></thead>\n",
       "<tbody>\n",
       "\t<tr><td>Hamlet, Prince of Denmark</td><td>no                       </td><td>143                      </td><td>-1                       </td><td>-0.06520748              </td></tr>\n",
       "\t<tr><td>The Merchant of Venice   </td><td>no                       </td><td> 92                      </td><td>-1                       </td><td>-0.06301370              </td></tr>\n",
       "\t<tr><td>Hamlet, Prince of Denmark</td><td>dead                     </td><td> 33                      </td><td>-3                       </td><td>-0.04514364              </td></tr>\n",
       "\t<tr><td>Hamlet, Prince of Denmark</td><td>death                    </td><td> 38                      </td><td>-2                       </td><td>-0.03465572              </td></tr>\n",
       "\t<tr><td>The Merchant of Venice   </td><td>swear                    </td><td> 23                      </td><td>-2                       </td><td>-0.03150685              </td></tr>\n",
       "\t<tr><td>Hamlet, Prince of Denmark</td><td>madness                  </td><td> 22                      </td><td>-3                       </td><td>-0.03009576              </td></tr>\n",
       "\t<tr><td>Hamlet, Prince of Denmark</td><td>mad                      </td><td> 21                      </td><td>-3                       </td><td>-0.02872777              </td></tr>\n",
       "\t<tr><td>The Merchant of Venice   </td><td>fear                     </td><td> 15                      </td><td>-2                       </td><td>-0.02054795              </td></tr>\n",
       "\t<tr><td>Hamlet, Prince of Denmark</td><td>fear                     </td><td> 21                      </td><td>-2                       </td><td>-0.01915185              </td></tr>\n",
       "\t<tr><td>Hamlet, Prince of Denmark</td><td>poor                     </td><td> 20                      </td><td>-2                       </td><td>-0.01823985              </td></tr>\n",
       "</tbody>\n",
       "</table>\n"
      ],
      "text/latex": [
       "\\begin{tabular}{r|lllll}\n",
       " title & word & n & score & contribution\\\\\n",
       "\\hline\n",
       "\t Hamlet, Prince of Denmark & no                        & 143                       & -1                        & -0.06520748              \\\\\n",
       "\t The Merchant of Venice    & no                        &  92                       & -1                        & -0.06301370              \\\\\n",
       "\t Hamlet, Prince of Denmark & dead                      &  33                       & -3                        & -0.04514364              \\\\\n",
       "\t Hamlet, Prince of Denmark & death                     &  38                       & -2                        & -0.03465572              \\\\\n",
       "\t The Merchant of Venice    & swear                     &  23                       & -2                        & -0.03150685              \\\\\n",
       "\t Hamlet, Prince of Denmark & madness                   &  22                       & -3                        & -0.03009576              \\\\\n",
       "\t Hamlet, Prince of Denmark & mad                       &  21                       & -3                        & -0.02872777              \\\\\n",
       "\t The Merchant of Venice    & fear                      &  15                       & -2                        & -0.02054795              \\\\\n",
       "\t Hamlet, Prince of Denmark & fear                      &  21                       & -2                        & -0.01915185              \\\\\n",
       "\t Hamlet, Prince of Denmark & poor                      &  20                       & -2                        & -0.01823985              \\\\\n",
       "\\end{tabular}\n"
      ],
      "text/markdown": [
       "\n",
       "title | word | n | score | contribution | \n",
       "|---|---|---|---|---|---|---|---|---|---|\n",
       "| Hamlet, Prince of Denmark | no                        | 143                       | -1                        | -0.06520748               | \n",
       "| The Merchant of Venice    | no                        |  92                       | -1                        | -0.06301370               | \n",
       "| Hamlet, Prince of Denmark | dead                      |  33                       | -3                        | -0.04514364               | \n",
       "| Hamlet, Prince of Denmark | death                     |  38                       | -2                        | -0.03465572               | \n",
       "| The Merchant of Venice    | swear                     |  23                       | -2                        | -0.03150685               | \n",
       "| Hamlet, Prince of Denmark | madness                   |  22                       | -3                        | -0.03009576               | \n",
       "| Hamlet, Prince of Denmark | mad                       |  21                       | -3                        | -0.02872777               | \n",
       "| The Merchant of Venice    | fear                      |  15                       | -2                        | -0.02054795               | \n",
       "| Hamlet, Prince of Denmark | fear                      |  21                       | -2                        | -0.01915185               | \n",
       "| Hamlet, Prince of Denmark | poor                      |  20                       | -2                        | -0.01823985               | \n",
       "\n",
       "\n"
      ],
      "text/plain": [
       "   title                     word    n   score contribution\n",
       "1  Hamlet, Prince of Denmark no      143 -1    -0.06520748 \n",
       "2  The Merchant of Venice    no       92 -1    -0.06301370 \n",
       "3  Hamlet, Prince of Denmark dead     33 -3    -0.04514364 \n",
       "4  Hamlet, Prince of Denmark death    38 -2    -0.03465572 \n",
       "5  The Merchant of Venice    swear    23 -2    -0.03150685 \n",
       "6  Hamlet, Prince of Denmark madness  22 -3    -0.03009576 \n",
       "7  Hamlet, Prince of Denmark mad      21 -3    -0.02872777 \n",
       "8  The Merchant of Venice    fear     15 -2    -0.02054795 \n",
       "9  Hamlet, Prince of Denmark fear     21 -2    -0.01915185 \n",
       "10 Hamlet, Prince of Denmark poor     20 -2    -0.01823985 "
      ]
     },
     "metadata": {},
     "output_type": "display_data"
    }
   ],
   "source": [
    "sentiment_contributions %>%\n",
    "  # Filter for Hamlet and The Merchant of Venice\n",
    "  filter(title %in% c(\"Hamlet, Prince of Denmark\", \"The Merchant of Venice\")) %>%\n",
    "  # Arrange to see the most negative words\n",
    "  arrange(contribution) %>% head(10)"
   ]
  },
  {
   "cell_type": "code",
   "execution_count": 43,
   "metadata": {},
   "outputs": [
    {
     "data": {
      "text/html": [
       "<table>\n",
       "<thead><tr><th scope=col>title</th><th scope=col>word</th><th scope=col>n</th><th scope=col>score</th><th scope=col>contribution</th></tr></thead>\n",
       "<tbody>\n",
       "\t<tr><td>Hamlet, Prince of Denmark</td><td>no                       </td><td>143                      </td><td>-1                       </td><td>-0.06520748              </td></tr>\n",
       "\t<tr><td>Hamlet, Prince of Denmark</td><td>dead                     </td><td> 33                      </td><td>-3                       </td><td>-0.04514364              </td></tr>\n",
       "\t<tr><td>Hamlet, Prince of Denmark</td><td>death                    </td><td> 38                      </td><td>-2                       </td><td>-0.03465572              </td></tr>\n",
       "\t<tr><td>Hamlet, Prince of Denmark</td><td>madness                  </td><td> 22                      </td><td>-3                       </td><td>-0.03009576              </td></tr>\n",
       "\t<tr><td>Hamlet, Prince of Denmark</td><td>mad                      </td><td> 21                      </td><td>-3                       </td><td>-0.02872777              </td></tr>\n",
       "\t<tr><td>Hamlet, Prince of Denmark</td><td>fear                     </td><td> 21                      </td><td>-2                       </td><td>-0.01915185              </td></tr>\n",
       "</tbody>\n",
       "</table>\n"
      ],
      "text/latex": [
       "\\begin{tabular}{r|lllll}\n",
       " title & word & n & score & contribution\\\\\n",
       "\\hline\n",
       "\t Hamlet, Prince of Denmark & no                        & 143                       & -1                        & -0.06520748              \\\\\n",
       "\t Hamlet, Prince of Denmark & dead                      &  33                       & -3                        & -0.04514364              \\\\\n",
       "\t Hamlet, Prince of Denmark & death                     &  38                       & -2                        & -0.03465572              \\\\\n",
       "\t Hamlet, Prince of Denmark & madness                   &  22                       & -3                        & -0.03009576              \\\\\n",
       "\t Hamlet, Prince of Denmark & mad                       &  21                       & -3                        & -0.02872777              \\\\\n",
       "\t Hamlet, Prince of Denmark & fear                      &  21                       & -2                        & -0.01915185              \\\\\n",
       "\\end{tabular}\n"
      ],
      "text/markdown": [
       "\n",
       "title | word | n | score | contribution | \n",
       "|---|---|---|---|---|---|\n",
       "| Hamlet, Prince of Denmark | no                        | 143                       | -1                        | -0.06520748               | \n",
       "| Hamlet, Prince of Denmark | dead                      |  33                       | -3                        | -0.04514364               | \n",
       "| Hamlet, Prince of Denmark | death                     |  38                       | -2                        | -0.03465572               | \n",
       "| Hamlet, Prince of Denmark | madness                   |  22                       | -3                        | -0.03009576               | \n",
       "| Hamlet, Prince of Denmark | mad                       |  21                       | -3                        | -0.02872777               | \n",
       "| Hamlet, Prince of Denmark | fear                      |  21                       | -2                        | -0.01915185               | \n",
       "\n",
       "\n"
      ],
      "text/plain": [
       "  title                     word    n   score contribution\n",
       "1 Hamlet, Prince of Denmark no      143 -1    -0.06520748 \n",
       "2 Hamlet, Prince of Denmark dead     33 -3    -0.04514364 \n",
       "3 Hamlet, Prince of Denmark death    38 -2    -0.03465572 \n",
       "4 Hamlet, Prince of Denmark madness  22 -3    -0.03009576 \n",
       "5 Hamlet, Prince of Denmark mad      21 -3    -0.02872777 \n",
       "6 Hamlet, Prince of Denmark fear     21 -2    -0.01915185 "
      ]
     },
     "metadata": {},
     "output_type": "display_data"
    }
   ],
   "source": [
    "sentiment_contributions %>%\n",
    "  # Filter for Hamlet\n",
    "  filter(title == \"Hamlet, Prince of Denmark\") %>%\n",
    "  # Arrange to see the most negative words\n",
    "  arrange(contribution) %>% head()"
   ]
  },
  {
   "cell_type": "code",
   "execution_count": 44,
   "metadata": {},
   "outputs": [
    {
     "data": {
      "text/html": [
       "<table>\n",
       "<thead><tr><th scope=col>title</th><th scope=col>word</th><th scope=col>n</th><th scope=col>score</th><th scope=col>contribution</th></tr></thead>\n",
       "<tbody>\n",
       "\t<tr><td>The Merchant of Venice</td><td>good                  </td><td>63                    </td><td>3                     </td><td>0.12945205            </td></tr>\n",
       "\t<tr><td>The Merchant of Venice</td><td>love                  </td><td>60                    </td><td>3                     </td><td>0.12328767            </td></tr>\n",
       "\t<tr><td>The Merchant of Venice</td><td>fair                  </td><td>35                    </td><td>2                     </td><td>0.04794521            </td></tr>\n",
       "\t<tr><td>The Merchant of Venice</td><td>like                  </td><td>34                    </td><td>2                     </td><td>0.04657534            </td></tr>\n",
       "\t<tr><td>The Merchant of Venice</td><td>true                  </td><td>24                    </td><td>2                     </td><td>0.03287671            </td></tr>\n",
       "\t<tr><td>The Merchant of Venice</td><td>sweet                 </td><td>23                    </td><td>2                     </td><td>0.03150685            </td></tr>\n",
       "</tbody>\n",
       "</table>\n"
      ],
      "text/latex": [
       "\\begin{tabular}{r|lllll}\n",
       " title & word & n & score & contribution\\\\\n",
       "\\hline\n",
       "\t The Merchant of Venice & good                   & 63                     & 3                      & 0.12945205            \\\\\n",
       "\t The Merchant of Venice & love                   & 60                     & 3                      & 0.12328767            \\\\\n",
       "\t The Merchant of Venice & fair                   & 35                     & 2                      & 0.04794521            \\\\\n",
       "\t The Merchant of Venice & like                   & 34                     & 2                      & 0.04657534            \\\\\n",
       "\t The Merchant of Venice & true                   & 24                     & 2                      & 0.03287671            \\\\\n",
       "\t The Merchant of Venice & sweet                  & 23                     & 2                      & 0.03150685            \\\\\n",
       "\\end{tabular}\n"
      ],
      "text/markdown": [
       "\n",
       "title | word | n | score | contribution | \n",
       "|---|---|---|---|---|---|\n",
       "| The Merchant of Venice | good                   | 63                     | 3                      | 0.12945205             | \n",
       "| The Merchant of Venice | love                   | 60                     | 3                      | 0.12328767             | \n",
       "| The Merchant of Venice | fair                   | 35                     | 2                      | 0.04794521             | \n",
       "| The Merchant of Venice | like                   | 34                     | 2                      | 0.04657534             | \n",
       "| The Merchant of Venice | true                   | 24                     | 2                      | 0.03287671             | \n",
       "| The Merchant of Venice | sweet                  | 23                     | 2                      | 0.03150685             | \n",
       "\n",
       "\n"
      ],
      "text/plain": [
       "  title                  word  n  score contribution\n",
       "1 The Merchant of Venice good  63 3     0.12945205  \n",
       "2 The Merchant of Venice love  60 3     0.12328767  \n",
       "3 The Merchant of Venice fair  35 2     0.04794521  \n",
       "4 The Merchant of Venice like  34 2     0.04657534  \n",
       "5 The Merchant of Venice true  24 2     0.03287671  \n",
       "6 The Merchant of Venice sweet 23 2     0.03150685  "
      ]
     },
     "metadata": {},
     "output_type": "display_data"
    }
   ],
   "source": [
    "sentiment_contributions %>%\n",
    "  # Filter for The Merchant of Venice\n",
    "  filter(title == \"The Merchant of Venice\") %>%\n",
    "  # Arrange to see the most positive words\n",
    "  arrange(desc(contribution)) %>% head()"
   ]
  },
  {
   "cell_type": "markdown",
   "metadata": {},
   "source": [
    "### Exercise: How does sentiment change through the narrative arcs of 6 plays by Shakespeare?\n",
    "*  we now examine how sentiment changes through the narrative arcs of plays. \n",
    "*  start by implementing sentiment analysis using inner_join(), and then use count() with four arguments: \n",
    "    *  *title, type, an index  that will section together lines of the play, and sentiment*.\n",
    "*  After these lines of code, you will have the number of positive and negative words used in each index-ed section of the play. \n",
    "    *  These sections will be 70 lines long. \n",
    "    *  You want a chunk of text that is not too small (because then the sentiment changes will be very noisy) and not too big (because then you will not be able to see plot structure). \n",
    "    *  In an analysis of this type you may need to experiment with what size chunks to make; sections of 70 lines works well for these plays.\n",
    "    *  *index = linenumber %/% 70* makes chunks of text that are 70 lines long using integer division (%/%).\n",
    "*  The next steps involve tidyr::spread(). Goal: net sentiment in each index-ed section of the play; \n",
    "    *  net sentiment is the negative sentiment subtracted from the positive sentiment.\n",
    "*  Finally, visualize the results. "
   ]
  },
  {
   "cell_type": "code",
   "execution_count": 48,
   "metadata": {},
   "outputs": [
    {
     "name": "stderr",
     "output_type": "stream",
     "text": [
      "Joining, by = \"word\"\n"
     ]
    },
    {
     "data": {},
     "metadata": {},
     "output_type": "display_data"
    },
    {
     "data": {
      "image/png": "[encoded data removed]",
      "text/plain": [
       "plot without title"
      ]
     },
     "metadata": {},
     "output_type": "display_data"
    }
   ],
   "source": [
    "library(tidyr)\n",
    "# Load the ggplot2 package\n",
    "library(ggplot2)\n",
    "options(repr.plot.height = 4, repr.plot.width = 8)   # Make a bar chart with geom_col()\n",
    "tidy_shakespeare %>% mutate(linenumber = row_number()) %>%\n",
    "  inner_join(get_sentiments(\"bing\")) %>%\n",
    "  count(title, type, index = linenumber %/% 70, sentiment) %>%\n",
    "  spread(sentiment, n, fill = 0) %>%\n",
    "  mutate(sentiment = positive - negative) %>%\n",
    "  # Put index on x-axis, sentiment on y-axis, and map comedy/tragedy to fill\n",
    "  ggplot(aes(x = index, y = sentiment, fill = type)) +\n",
    "  geom_col() + facet_wrap(~title, scales = \"free_x\")\n",
    "  # Separate panels for each title with facet_wrap(), use scales = \"free_x\" so x-axes behave nicely."
   ]
  },
  {
   "cell_type": "markdown",
   "metadata": {},
   "source": [
    "## Ch3: Sentiment analysis of TV news\n",
    "Closed captioning text from TV news (for hearing-impaired) => *climate_text* where the news contained the phrase CLIMATE CHANGE. \n",
    "\n",
    "Data set includes variables:\n",
    "*  station, the TV news station where the text is from\n",
    "*  show, the show on that station where the text was spoken\n",
    "*  show_date, the broadcast date of the spoken text\n",
    "*  text, the actual text spoken on TV"
   ]
  },
  {
   "cell_type": "code",
   "execution_count": 49,
   "metadata": {},
   "outputs": [
    {
     "data": {
      "text/html": [
       "<table>\n",
       "<thead><tr><th scope=col>station</th><th scope=col>show</th><th scope=col>show_date</th><th scope=col>text</th></tr></thead>\n",
       "<tbody>\n",
       "\t<tr><td>MSNBC                                                                                                                                                                                                                                                                                                                                                                                                                                                                                                                        </td><td>Morning Meeting                                                                                                                                                                                                                                                                                                                                                                                                                                                                                                              </td><td>2009-09-22 13:00:00                                                                                                                                                                                                                                                                                                                                                                                                                                                                                                          </td><td>the interior positively oozes class raves car magazine slick and sensuous boasts the washington times the most striking vw in recent memory declares okay i get it already i think we were in a car commercial yeah yeah we join the president at the u.n on climate change climate change is serious                                                                                                                                                                                                                        </td></tr>\n",
       "\t<tr><td>MSNBC                                                                                                                                                                                                                                                                                                                                                                                                                                                                                                                        </td><td>Morning Meeting                                                                                                                                                                                                                                                                                                                                                                                                                                                                                                              </td><td>2009-10-23 13:00:00                                                                                                                                                                                                                                                                                                                                                                                                                                                                                                          </td><td>corporations have withdrawn from the chamber of commerce because of their disagreement with the chamber on the subject of climate change we asked the chamber for comment on the latest legal fight and they referred us to their original statement on the yes men which they said public relations hoax is undermine the effort to find real solutions on the challenge of climate change joining us now on the set is mike part of the activism group called the yes american what is your objective forget climate change</td></tr>\n",
       "\t<tr><td>CNN                                                                                                                                                                                                                                                                                                                                                                                                                                                                                                                          </td><td>CNN Newsroom                                                                                                                                                                                                                                                                                                                                                                                                                                                                                                                 </td><td>2009-12-03 20:00:00                                                                                                                                                                                                                                                                                                                                                                                                                                                                                                          </td><td>he says he was bumped by the greeter but cops didn't buy it and the guy is now under arrest all right you're looking at two years in the life of a glacier right there here's my question climate change                                                                                                                                                                                                                                                                                                                     </td></tr>\n",
       "\t<tr><td>CNN                                                                                                                                                                                                                                                                                                                                                                                                                                                                                                                          </td><td>American Morning                                                                                                                                                                                                                                                                                                                                                                                                                                                                                                             </td><td>2009-12-07 11:00:00                                                                                                                                                                                                                                                                                                                                                                                                                                                                                                          </td><td>especially at at time now where the climate change conference is beginning in copenhagen a lot of the world paying very close attention to this controversy and the issue in general our president headed there next week that e mail scandal may overshadow what we've been talking about this big u.n conference on climate change                                                                                                                                                                                         </td></tr>\n",
       "\t<tr><td>MSNBC                                                                                                                                                                                                                                                                                                                                                                                                                                                                                                                        </td><td>Morning Meeting                                                                                                                                                                                                                                                                                                                                                                                                                                                                                                              </td><td>2009-12-08 14:00:00                                                                                                                                                                                                                                                                                                                                                                                                                                                                                                          </td><td>lots more coming up quite simply here green peace activists going nuts like this is new anyway a few study claiming that global warming itself my friends could actually drive you nuts climate change                                                                                                                                                                                                                                                                                                                       </td></tr>\n",
       "\t<tr><td>MSNBC                                                                                                                                                                                                                                                                                                                                                                                                                                                                                                                        </td><td>Countdown With Keith Olbermann                                                                                                                                                                                                                                                                                                                                                                                                                                                                                               </td><td>2009-12-10 06:00:00                                                                                                                                                                                                                                                                                                                                                                                                                                                                                                          </td><td>so they're carrying a lot of water for john yoo judgment at nuremberg but never judgment at the white house jonathan turley of george washington university as always great thanks for making it intelligible to folks like me thanks keith sarah palin admits climate change e mails were stolen admits there is climate change                                                                                                                                                                                             </td></tr>\n",
       "</tbody>\n",
       "</table>\n"
      ],
      "text/latex": [
       "\\begin{tabular}{r|llll}\n",
       " station & show & show\\_date & text\\\\\n",
       "\\hline\n",
       "\t MSNBC                                                                                                                                                                                                                                                                                                                                                                                                                                                                                                                         & Morning Meeting                                                                                                                                                                                                                                                                                                                                                                                                                                                                                                               & 2009-09-22 13:00:00                                                                                                                                                                                                                                                                                                                                                                                                                                                                                                           & the interior positively oozes class raves car magazine slick and sensuous boasts the washington times the most striking vw in recent memory declares okay i get it already i think we were in a car commercial yeah yeah we join the president at the u.n on climate change climate change is serious                                                                                                                                                                                                                        \\\\\n",
       "\t MSNBC                                                                                                                                                                                                                                                                                                                                                                                                                                                                                                                         & Morning Meeting                                                                                                                                                                                                                                                                                                                                                                                                                                                                                                               & 2009-10-23 13:00:00                                                                                                                                                                                                                                                                                                                                                                                                                                                                                                           & corporations have withdrawn from the chamber of commerce because of their disagreement with the chamber on the subject of climate change we asked the chamber for comment on the latest legal fight and they referred us to their original statement on the yes men which they said public relations hoax is undermine the effort to find real solutions on the challenge of climate change joining us now on the set is mike part of the activism group called the yes american what is your objective forget climate change\\\\\n",
       "\t CNN                                                                                                                                                                                                                                                                                                                                                                                                                                                                                                                           & CNN Newsroom                                                                                                                                                                                                                                                                                                                                                                                                                                                                                                                  & 2009-12-03 20:00:00                                                                                                                                                                                                                                                                                                                                                                                                                                                                                                           & he says he was bumped by the greeter but cops didn't buy it and the guy is now under arrest all right you're looking at two years in the life of a glacier right there here's my question climate change                                                                                                                                                                                                                                                                                                                     \\\\\n",
       "\t CNN                                                                                                                                                                                                                                                                                                                                                                                                                                                                                                                           & American Morning                                                                                                                                                                                                                                                                                                                                                                                                                                                                                                              & 2009-12-07 11:00:00                                                                                                                                                                                                                                                                                                                                                                                                                                                                                                           & especially at at time now where the climate change conference is beginning in copenhagen a lot of the world paying very close attention to this controversy and the issue in general our president headed there next week that e mail scandal may overshadow what we've been talking about this big u.n conference on climate change                                                                                                                                                                                         \\\\\n",
       "\t MSNBC                                                                                                                                                                                                                                                                                                                                                                                                                                                                                                                         & Morning Meeting                                                                                                                                                                                                                                                                                                                                                                                                                                                                                                               & 2009-12-08 14:00:00                                                                                                                                                                                                                                                                                                                                                                                                                                                                                                           & lots more coming up quite simply here green peace activists going nuts like this is new anyway a few study claiming that global warming itself my friends could actually drive you nuts climate change                                                                                                                                                                                                                                                                                                                       \\\\\n",
       "\t MSNBC                                                                                                                                                                                                                                                                                                                                                                                                                                                                                                                         & Countdown With Keith Olbermann                                                                                                                                                                                                                                                                                                                                                                                                                                                                                                & 2009-12-10 06:00:00                                                                                                                                                                                                                                                                                                                                                                                                                                                                                                           & so they're carrying a lot of water for john yoo judgment at nuremberg but never judgment at the white house jonathan turley of george washington university as always great thanks for making it intelligible to folks like me thanks keith sarah palin admits climate change e mails were stolen admits there is climate change                                                                                                                                                                                             \\\\\n",
       "\\end{tabular}\n"
      ],
      "text/markdown": [
       "\n",
       "station | show | show_date | text | \n",
       "|---|---|---|---|---|---|\n",
       "| MSNBC                                                                                                                                                                                                                                                                                                                                                                                                                                                                                                                         | Morning Meeting                                                                                                                                                                                                                                                                                                                                                                                                                                                                                                               | 2009-09-22 13:00:00                                                                                                                                                                                                                                                                                                                                                                                                                                                                                                           | the interior positively oozes class raves car magazine slick and sensuous boasts the washington times the most striking vw in recent memory declares okay i get it already i think we were in a car commercial yeah yeah we join the president at the u.n on climate change climate change is serious                                                                                                                                                                                                                         | \n",
       "| MSNBC                                                                                                                                                                                                                                                                                                                                                                                                                                                                                                                         | Morning Meeting                                                                                                                                                                                                                                                                                                                                                                                                                                                                                                               | 2009-10-23 13:00:00                                                                                                                                                                                                                                                                                                                                                                                                                                                                                                           | corporations have withdrawn from the chamber of commerce because of their disagreement with the chamber on the subject of climate change we asked the chamber for comment on the latest legal fight and they referred us to their original statement on the yes men which they said public relations hoax is undermine the effort to find real solutions on the challenge of climate change joining us now on the set is mike part of the activism group called the yes american what is your objective forget climate change | \n",
       "| CNN                                                                                                                                                                                                                                                                                                                                                                                                                                                                                                                           | CNN Newsroom                                                                                                                                                                                                                                                                                                                                                                                                                                                                                                                  | 2009-12-03 20:00:00                                                                                                                                                                                                                                                                                                                                                                                                                                                                                                           | he says he was bumped by the greeter but cops didn't buy it and the guy is now under arrest all right you're looking at two years in the life of a glacier right there here's my question climate change                                                                                                                                                                                                                                                                                                                      | \n",
       "| CNN                                                                                                                                                                                                                                                                                                                                                                                                                                                                                                                           | American Morning                                                                                                                                                                                                                                                                                                                                                                                                                                                                                                              | 2009-12-07 11:00:00                                                                                                                                                                                                                                                                                                                                                                                                                                                                                                           | especially at at time now where the climate change conference is beginning in copenhagen a lot of the world paying very close attention to this controversy and the issue in general our president headed there next week that e mail scandal may overshadow what we've been talking about this big u.n conference on climate change                                                                                                                                                                                          | \n",
       "| MSNBC                                                                                                                                                                                                                                                                                                                                                                                                                                                                                                                         | Morning Meeting                                                                                                                                                                                                                                                                                                                                                                                                                                                                                                               | 2009-12-08 14:00:00                                                                                                                                                                                                                                                                                                                                                                                                                                                                                                           | lots more coming up quite simply here green peace activists going nuts like this is new anyway a few study claiming that global warming itself my friends could actually drive you nuts climate change                                                                                                                                                                                                                                                                                                                        | \n",
       "| MSNBC                                                                                                                                                                                                                                                                                                                                                                                                                                                                                                                         | Countdown With Keith Olbermann                                                                                                                                                                                                                                                                                                                                                                                                                                                                                                | 2009-12-10 06:00:00                                                                                                                                                                                                                                                                                                                                                                                                                                                                                                           | so they're carrying a lot of water for john yoo judgment at nuremberg but never judgment at the white house jonathan turley of george washington university as always great thanks for making it intelligible to folks like me thanks keith sarah palin admits climate change e mails were stolen admits there is climate change                                                                                                                                                                                              | \n",
       "\n",
       "\n"
      ],
      "text/plain": [
       "  station show                           show_date          \n",
       "1 MSNBC   Morning Meeting                2009-09-22 13:00:00\n",
       "2 MSNBC   Morning Meeting                2009-10-23 13:00:00\n",
       "3 CNN     CNN Newsroom                   2009-12-03 20:00:00\n",
       "4 CNN     American Morning               2009-12-07 11:00:00\n",
       "5 MSNBC   Morning Meeting                2009-12-08 14:00:00\n",
       "6 MSNBC   Countdown With Keith Olbermann 2009-12-10 06:00:00\n",
       "  text                                                                                                                                                                                                                                                                                                                                                                                                                                                                                                                         \n",
       "1 the interior positively oozes class raves car magazine slick and sensuous boasts the washington times the most striking vw in recent memory declares okay i get it already i think we were in a car commercial yeah yeah we join the president at the u.n on climate change climate change is serious                                                                                                                                                                                                                        \n",
       "2 corporations have withdrawn from the chamber of commerce because of their disagreement with the chamber on the subject of climate change we asked the chamber for comment on the latest legal fight and they referred us to their original statement on the yes men which they said public relations hoax is undermine the effort to find real solutions on the challenge of climate change joining us now on the set is mike part of the activism group called the yes american what is your objective forget climate change\n",
       "3 he says he was bumped by the greeter but cops didn't buy it and the guy is now under arrest all right you're looking at two years in the life of a glacier right there here's my question climate change                                                                                                                                                                                                                                                                                                                     \n",
       "4 especially at at time now where the climate change conference is beginning in copenhagen a lot of the world paying very close attention to this controversy and the issue in general our president headed there next week that e mail scandal may overshadow what we've been talking about this big u.n conference on climate change                                                                                                                                                                                         \n",
       "5 lots more coming up quite simply here green peace activists going nuts like this is new anyway a few study claiming that global warming itself my friends could actually drive you nuts climate change                                                                                                                                                                                                                                                                                                                       \n",
       "6 so they're carrying a lot of water for john yoo judgment at nuremberg but never judgment at the white house jonathan turley of george washington university as always great thanks for making it intelligible to folks like me thanks keith sarah palin admits climate change e mails were stolen admits there is climate change                                                                                                                                                                                             "
      ]
     },
     "metadata": {},
     "output_type": "display_data"
    }
   ],
   "source": [
    "load(\"climate_text.rda\")\n",
    "head(climate_text)"
   ]
  },
  {
   "cell_type": "code",
   "execution_count": 51,
   "metadata": {},
   "outputs": [
    {
     "data": {
      "text/html": [
       "<table>\n",
       "<thead><tr><th scope=col>text</th></tr></thead>\n",
       "<tbody>\n",
       "\t<tr><td>the interior positively oozes class raves car magazine slick and sensuous boasts the washington times the most striking vw in recent memory declares okay i get it already i think we were in a car commercial yeah yeah we join the president at the u.n on climate change climate change is serious                                                                                                                                                                                                                        </td></tr>\n",
       "\t<tr><td>corporations have withdrawn from the chamber of commerce because of their disagreement with the chamber on the subject of climate change we asked the chamber for comment on the latest legal fight and they referred us to their original statement on the yes men which they said public relations hoax is undermine the effort to find real solutions on the challenge of climate change joining us now on the set is mike part of the activism group called the yes american what is your objective forget climate change</td></tr>\n",
       "\t<tr><td>he says he was bumped by the greeter but cops didn't buy it and the guy is now under arrest all right you're looking at two years in the life of a glacier right there here's my question climate change                                                                                                                                                                                                                                                                                                                     </td></tr>\n",
       "</tbody>\n",
       "</table>\n"
      ],
      "text/latex": [
       "\\begin{tabular}{r|l}\n",
       " text\\\\\n",
       "\\hline\n",
       "\t the interior positively oozes class raves car magazine slick and sensuous boasts the washington times the most striking vw in recent memory declares okay i get it already i think we were in a car commercial yeah yeah we join the president at the u.n on climate change climate change is serious                                                                                                                                                                                                                        \\\\\n",
       "\t corporations have withdrawn from the chamber of commerce because of their disagreement with the chamber on the subject of climate change we asked the chamber for comment on the latest legal fight and they referred us to their original statement on the yes men which they said public relations hoax is undermine the effort to find real solutions on the challenge of climate change joining us now on the set is mike part of the activism group called the yes american what is your objective forget climate change\\\\\n",
       "\t he says he was bumped by the greeter but cops didn't buy it and the guy is now under arrest all right you're looking at two years in the life of a glacier right there here's my question climate change                                                                                                                                                                                                                                                                                                                     \\\\\n",
       "\\end{tabular}\n"
      ],
      "text/markdown": [
       "\n",
       "text | \n",
       "|---|---|---|\n",
       "| the interior positively oozes class raves car magazine slick and sensuous boasts the washington times the most striking vw in recent memory declares okay i get it already i think we were in a car commercial yeah yeah we join the president at the u.n on climate change climate change is serious                                                                                                                                                                                                                         | \n",
       "| corporations have withdrawn from the chamber of commerce because of their disagreement with the chamber on the subject of climate change we asked the chamber for comment on the latest legal fight and they referred us to their original statement on the yes men which they said public relations hoax is undermine the effort to find real solutions on the challenge of climate change joining us now on the set is mike part of the activism group called the yes american what is your objective forget climate change | \n",
       "| he says he was bumped by the greeter but cops didn't buy it and the guy is now under arrest all right you're looking at two years in the life of a glacier right there here's my question climate change                                                                                                                                                                                                                                                                                                                      | \n",
       "\n",
       "\n"
      ],
      "text/plain": [
       "  text                                                                                                                                                                                                                                                                                                                                                                                                                                                                                                                         \n",
       "1 the interior positively oozes class raves car magazine slick and sensuous boasts the washington times the most striking vw in recent memory declares okay i get it already i think we were in a car commercial yeah yeah we join the president at the u.n on climate change climate change is serious                                                                                                                                                                                                                        \n",
       "2 corporations have withdrawn from the chamber of commerce because of their disagreement with the chamber on the subject of climate change we asked the chamber for comment on the latest legal fight and they referred us to their original statement on the yes men which they said public relations hoax is undermine the effort to find real solutions on the challenge of climate change joining us now on the set is mike part of the activism group called the yes american what is your objective forget climate change\n",
       "3 he says he was bumped by the greeter but cops didn't buy it and the guy is now under arrest all right you're looking at two years in the life of a glacier right there here's my question climate change                                                                                                                                                                                                                                                                                                                     "
      ]
     },
     "metadata": {},
     "output_type": "display_data"
    }
   ],
   "source": [
    "climate_text %>% dplyr::select(text) %>% head(2) # How to retrieve only the text column?"
   ]
  },
  {
   "cell_type": "code",
   "execution_count": 52,
   "metadata": {},
   "outputs": [
    {
     "data": {
      "text/html": [
       "<table>\n",
       "<thead><tr><th scope=col>station</th><th scope=col>n</th></tr></thead>\n",
       "<tbody>\n",
       "\t<tr><td>CNN     </td><td>148     </td></tr>\n",
       "\t<tr><td>FOX News</td><td>183     </td></tr>\n",
       "\t<tr><td>MSNBC   </td><td>262     </td></tr>\n",
       "</tbody>\n",
       "</table>\n"
      ],
      "text/latex": [
       "\\begin{tabular}{r|ll}\n",
       " station & n\\\\\n",
       "\\hline\n",
       "\t CNN      & 148     \\\\\n",
       "\t FOX News & 183     \\\\\n",
       "\t MSNBC    & 262     \\\\\n",
       "\\end{tabular}\n"
      ],
      "text/markdown": [
       "\n",
       "station | n | \n",
       "|---|---|---|\n",
       "| CNN      | 148      | \n",
       "| FOX News | 183      | \n",
       "| MSNBC    | 262      | \n",
       "\n",
       "\n"
      ],
      "text/plain": [
       "  station  n  \n",
       "1 CNN      148\n",
       "2 FOX News 183\n",
       "3 MSNBC    262"
      ]
     },
     "metadata": {},
     "output_type": "display_data"
    }
   ],
   "source": [
    "# Compare nr of closed caption snippets for each TV station\n",
    "climate_text %>% count(station)"
   ]
  },
  {
   "cell_type": "code",
   "execution_count": 50,
   "metadata": {},
   "outputs": [
    {
     "data": {
      "text/html": [
       "<table>\n",
       "<thead><tr><th scope=col>station</th><th scope=col>show</th><th scope=col>show_date</th><th scope=col>word</th></tr></thead>\n",
       "<tbody>\n",
       "\t<tr><td>MSNBC              </td><td>Morning Meeting    </td><td>2009-09-22 13:00:00</td><td>the                </td></tr>\n",
       "\t<tr><td>MSNBC              </td><td>Morning Meeting    </td><td>2009-09-22 13:00:00</td><td>interior           </td></tr>\n",
       "\t<tr><td>MSNBC              </td><td>Morning Meeting    </td><td>2009-09-22 13:00:00</td><td>positively         </td></tr>\n",
       "\t<tr><td>MSNBC              </td><td>Morning Meeting    </td><td>2009-09-22 13:00:00</td><td>oozes              </td></tr>\n",
       "\t<tr><td>MSNBC              </td><td>Morning Meeting    </td><td>2009-09-22 13:00:00</td><td>class              </td></tr>\n",
       "\t<tr><td>MSNBC              </td><td>Morning Meeting    </td><td>2009-09-22 13:00:00</td><td>raves              </td></tr>\n",
       "</tbody>\n",
       "</table>\n"
      ],
      "text/latex": [
       "\\begin{tabular}{r|llll}\n",
       " station & show & show\\_date & word\\\\\n",
       "\\hline\n",
       "\t MSNBC               & Morning Meeting     & 2009-09-22 13:00:00 & the                \\\\\n",
       "\t MSNBC               & Morning Meeting     & 2009-09-22 13:00:00 & interior           \\\\\n",
       "\t MSNBC               & Morning Meeting     & 2009-09-22 13:00:00 & positively         \\\\\n",
       "\t MSNBC               & Morning Meeting     & 2009-09-22 13:00:00 & oozes              \\\\\n",
       "\t MSNBC               & Morning Meeting     & 2009-09-22 13:00:00 & class              \\\\\n",
       "\t MSNBC               & Morning Meeting     & 2009-09-22 13:00:00 & raves              \\\\\n",
       "\\end{tabular}\n"
      ],
      "text/markdown": [
       "\n",
       "station | show | show_date | word | \n",
       "|---|---|---|---|---|---|\n",
       "| MSNBC               | Morning Meeting     | 2009-09-22 13:00:00 | the                 | \n",
       "| MSNBC               | Morning Meeting     | 2009-09-22 13:00:00 | interior            | \n",
       "| MSNBC               | Morning Meeting     | 2009-09-22 13:00:00 | positively          | \n",
       "| MSNBC               | Morning Meeting     | 2009-09-22 13:00:00 | oozes               | \n",
       "| MSNBC               | Morning Meeting     | 2009-09-22 13:00:00 | class               | \n",
       "| MSNBC               | Morning Meeting     | 2009-09-22 13:00:00 | raves               | \n",
       "\n",
       "\n"
      ],
      "text/plain": [
       "  station show            show_date           word      \n",
       "1 MSNBC   Morning Meeting 2009-09-22 13:00:00 the       \n",
       "2 MSNBC   Morning Meeting 2009-09-22 13:00:00 interior  \n",
       "3 MSNBC   Morning Meeting 2009-09-22 13:00:00 positively\n",
       "4 MSNBC   Morning Meeting 2009-09-22 13:00:00 oozes     \n",
       "5 MSNBC   Morning Meeting 2009-09-22 13:00:00 class     \n",
       "6 MSNBC   Morning Meeting 2009-09-22 13:00:00 raves     "
      ]
     },
     "metadata": {},
     "output_type": "display_data"
    }
   ],
   "source": [
    "# Transform the non-tidy text data to tidy text data\n",
    "tidy_tv <- climate_text %>% tidytext::unnest_tokens(word, text)\n",
    "head(tidy_tv)"
   ]
  },
  {
   "cell_type": "markdown",
   "metadata": {},
   "source": [
    "### Exercise: Counting totals - most common words\n",
    "*  what words are most common when discussing climate change on TV news?\n",
    "*  What's the total number of words from each station?\n",
    "=> helpful exploratory steps\n",
    "\n",
    "*  The stop_words dataset in the tidytext package contains stop words from 3 lexicons. We can use them all together or filter() to only use one set of stop words if that is more appropriate for a certain analysis."
   ]
  },
  {
   "cell_type": "code",
   "execution_count": 55,
   "metadata": {},
   "outputs": [
    {
     "data": {
      "text/html": [
       "<table>\n",
       "<thead><tr><th scope=col>word</th><th scope=col>lexicon</th></tr></thead>\n",
       "<tbody>\n",
       "\t<tr><td>a        </td><td>SMART    </td></tr>\n",
       "\t<tr><td>a's      </td><td>SMART    </td></tr>\n",
       "\t<tr><td>able     </td><td>SMART    </td></tr>\n",
       "\t<tr><td>about    </td><td>SMART    </td></tr>\n",
       "\t<tr><td>above    </td><td>SMART    </td></tr>\n",
       "\t<tr><td>according</td><td>SMART    </td></tr>\n",
       "</tbody>\n",
       "</table>\n"
      ],
      "text/latex": [
       "\\begin{tabular}{r|ll}\n",
       " word & lexicon\\\\\n",
       "\\hline\n",
       "\t a         & SMART    \\\\\n",
       "\t a's       & SMART    \\\\\n",
       "\t able      & SMART    \\\\\n",
       "\t about     & SMART    \\\\\n",
       "\t above     & SMART    \\\\\n",
       "\t according & SMART    \\\\\n",
       "\\end{tabular}\n"
      ],
      "text/markdown": [
       "\n",
       "word | lexicon | \n",
       "|---|---|---|---|---|---|\n",
       "| a         | SMART     | \n",
       "| a's       | SMART     | \n",
       "| able      | SMART     | \n",
       "| about     | SMART     | \n",
       "| above     | SMART     | \n",
       "| according | SMART     | \n",
       "\n",
       "\n"
      ],
      "text/plain": [
       "  word      lexicon\n",
       "1 a         SMART  \n",
       "2 a's       SMART  \n",
       "3 able      SMART  \n",
       "4 about     SMART  \n",
       "5 above     SMART  \n",
       "6 according SMART  "
      ]
     },
     "metadata": {},
     "output_type": "display_data"
    }
   ],
   "source": [
    "data(stop_words) # from tidytext\n",
    "head(stop_words)"
   ]
  },
  {
   "cell_type": "code",
   "execution_count": 56,
   "metadata": {},
   "outputs": [
    {
     "data": {
      "text/html": [
       "<table>\n",
       "<thead><tr><th scope=col>lexicon</th><th scope=col>n</th></tr></thead>\n",
       "<tbody>\n",
       "\t<tr><td>onix    </td><td>404     </td></tr>\n",
       "\t<tr><td>SMART   </td><td>571     </td></tr>\n",
       "\t<tr><td>snowball</td><td>174     </td></tr>\n",
       "</tbody>\n",
       "</table>\n"
      ],
      "text/latex": [
       "\\begin{tabular}{r|ll}\n",
       " lexicon & n\\\\\n",
       "\\hline\n",
       "\t onix     & 404     \\\\\n",
       "\t SMART    & 571     \\\\\n",
       "\t snowball & 174     \\\\\n",
       "\\end{tabular}\n"
      ],
      "text/markdown": [
       "\n",
       "lexicon | n | \n",
       "|---|---|---|\n",
       "| onix     | 404      | \n",
       "| SMART    | 571      | \n",
       "| snowball | 174      | \n",
       "\n",
       "\n"
      ],
      "text/plain": [
       "  lexicon  n  \n",
       "1 onix     404\n",
       "2 SMART    571\n",
       "3 snowball 174"
      ]
     },
     "metadata": {},
     "output_type": "display_data"
    }
   ],
   "source": [
    "stop_words %>% count(lexicon)"
   ]
  },
  {
   "cell_type": "code",
   "execution_count": 58,
   "metadata": {},
   "outputs": [
    {
     "name": "stderr",
     "output_type": "stream",
     "text": [
      "Joining, by = \"word\"\n"
     ]
    },
    {
     "data": {
      "text/html": [
       "<table>\n",
       "<thead><tr><th scope=col>word</th><th scope=col>n</th></tr></thead>\n",
       "<tbody>\n",
       "\t<tr><td>climate  </td><td>1627     </td></tr>\n",
       "\t<tr><td>change   </td><td>1615     </td></tr>\n",
       "\t<tr><td>people   </td><td> 139     </td></tr>\n",
       "\t<tr><td>real     </td><td> 125     </td></tr>\n",
       "\t<tr><td>president</td><td> 112     </td></tr>\n",
       "\t<tr><td>global   </td><td> 107     </td></tr>\n",
       "\t<tr><td>issue    </td><td>  87     </td></tr>\n",
       "\t<tr><td>trump    </td><td>  86     </td></tr>\n",
       "\t<tr><td>warming  </td><td>  85     </td></tr>\n",
       "\t<tr><td>issues   </td><td>  69     </td></tr>\n",
       "</tbody>\n",
       "</table>\n"
      ],
      "text/latex": [
       "\\begin{tabular}{r|ll}\n",
       " word & n\\\\\n",
       "\\hline\n",
       "\t climate   & 1627     \\\\\n",
       "\t change    & 1615     \\\\\n",
       "\t people    &  139     \\\\\n",
       "\t real      &  125     \\\\\n",
       "\t president &  112     \\\\\n",
       "\t global    &  107     \\\\\n",
       "\t issue     &   87     \\\\\n",
       "\t trump     &   86     \\\\\n",
       "\t warming   &   85     \\\\\n",
       "\t issues    &   69     \\\\\n",
       "\\end{tabular}\n"
      ],
      "text/markdown": [
       "\n",
       "word | n | \n",
       "|---|---|---|---|---|---|---|---|---|---|\n",
       "| climate   | 1627      | \n",
       "| change    | 1615      | \n",
       "| people    |  139      | \n",
       "| real      |  125      | \n",
       "| president |  112      | \n",
       "| global    |  107      | \n",
       "| issue     |   87      | \n",
       "| trump     |   86      | \n",
       "| warming   |   85      | \n",
       "| issues    |   69      | \n",
       "\n",
       "\n"
      ],
      "text/plain": [
       "   word      n   \n",
       "1  climate   1627\n",
       "2  change    1615\n",
       "3  people     139\n",
       "4  real       125\n",
       "5  president  112\n",
       "6  global     107\n",
       "7  issue       87\n",
       "8  trump       86\n",
       "9  warming     85\n",
       "10 issues      69"
      ]
     },
     "metadata": {},
     "output_type": "display_data"
    }
   ],
   "source": [
    "tidy_tv %>% anti_join(stop_words) %>% # remove stop_words\n",
    "    count(word, sort = TRUE) %>% head(10)"
   ]
  },
  {
   "cell_type": "code",
   "execution_count": 59,
   "metadata": {},
   "outputs": [
    {
     "data": {
      "text/html": [
       "<table>\n",
       "<thead><tr><th scope=col>station</th><th scope=col>station_total</th></tr></thead>\n",
       "<tbody>\n",
       "\t<tr><td>CNN     </td><td>10713   </td></tr>\n",
       "\t<tr><td>FOX News</td><td>10876   </td></tr>\n",
       "\t<tr><td>MSNBC   </td><td>19487   </td></tr>\n",
       "</tbody>\n",
       "</table>\n"
      ],
      "text/latex": [
       "\\begin{tabular}{r|ll}\n",
       " station & station\\_total\\\\\n",
       "\\hline\n",
       "\t CNN      & 10713   \\\\\n",
       "\t FOX News & 10876   \\\\\n",
       "\t MSNBC    & 19487   \\\\\n",
       "\\end{tabular}\n"
      ],
      "text/markdown": [
       "\n",
       "station | station_total | \n",
       "|---|---|---|\n",
       "| CNN      | 10713    | \n",
       "| FOX News | 10876    | \n",
       "| MSNBC    | 19487    | \n",
       "\n",
       "\n"
      ],
      "text/plain": [
       "  station  station_total\n",
       "1 CNN      10713        \n",
       "2 FOX News 10876        \n",
       "3 MSNBC    19487        "
      ]
     },
     "metadata": {},
     "output_type": "display_data"
    }
   ],
   "source": [
    "# Find the nr of words used by each station\n",
    "tidy_tv %>% count(station) %>% rename(station_total = n) # Rename the new column station_total"
   ]
  },
  {
   "cell_type": "markdown",
   "metadata": {},
   "source": [
    "### Sentiment analysis of TV news\n",
    "After transforming TV news to a tidy format, resulting data frame tidy_tv is ready for sentiment analysis. \n",
    "*  Before inner join, add new column with the total number of words from each station so you can calculate proportions soon."
   ]
  },
  {
   "cell_type": "code",
   "execution_count": 64,
   "metadata": {},
   "outputs": [
    {
     "name": "stderr",
     "output_type": "stream",
     "text": [
      "Joining, by = \"word\"\n"
     ]
    },
    {
     "data": {
      "text/html": [
       "<table>\n",
       "<thead><tr><th scope=col>station</th><th scope=col>show</th><th scope=col>show_date</th><th scope=col>word</th><th scope=col>station_total</th><th scope=col>sentiment</th></tr></thead>\n",
       "<tbody>\n",
       "\t<tr><td>MSNBC              </td><td>Morning Meeting    </td><td>2009-09-22 13:00:00</td><td>interior           </td><td>19487              </td><td>disgust            </td></tr>\n",
       "\t<tr><td>MSNBC              </td><td>Morning Meeting    </td><td>2009-09-22 13:00:00</td><td>interior           </td><td>19487              </td><td>positive           </td></tr>\n",
       "\t<tr><td>MSNBC              </td><td>Morning Meeting    </td><td>2009-09-22 13:00:00</td><td>interior           </td><td>19487              </td><td>trust              </td></tr>\n",
       "\t<tr><td>MSNBC              </td><td>Morning Meeting    </td><td>2009-09-22 13:00:00</td><td>sensuous           </td><td>19487              </td><td>joy                </td></tr>\n",
       "\t<tr><td>MSNBC              </td><td>Morning Meeting    </td><td>2009-09-22 13:00:00</td><td>sensuous           </td><td>19487              </td><td>positive           </td></tr>\n",
       "\t<tr><td>MSNBC              </td><td>Morning Meeting    </td><td>2009-09-22 13:00:00</td><td>striking           </td><td>19487              </td><td>positive           </td></tr>\n",
       "</tbody>\n",
       "</table>\n"
      ],
      "text/latex": [
       "\\begin{tabular}{r|llllll}\n",
       " station & show & show\\_date & word & station\\_total & sentiment\\\\\n",
       "\\hline\n",
       "\t MSNBC               & Morning Meeting     & 2009-09-22 13:00:00 & interior            & 19487               & disgust            \\\\\n",
       "\t MSNBC               & Morning Meeting     & 2009-09-22 13:00:00 & interior            & 19487               & positive           \\\\\n",
       "\t MSNBC               & Morning Meeting     & 2009-09-22 13:00:00 & interior            & 19487               & trust              \\\\\n",
       "\t MSNBC               & Morning Meeting     & 2009-09-22 13:00:00 & sensuous            & 19487               & joy                \\\\\n",
       "\t MSNBC               & Morning Meeting     & 2009-09-22 13:00:00 & sensuous            & 19487               & positive           \\\\\n",
       "\t MSNBC               & Morning Meeting     & 2009-09-22 13:00:00 & striking            & 19487               & positive           \\\\\n",
       "\\end{tabular}\n"
      ],
      "text/markdown": [
       "\n",
       "station | show | show_date | word | station_total | sentiment | \n",
       "|---|---|---|---|---|---|\n",
       "| MSNBC               | Morning Meeting     | 2009-09-22 13:00:00 | interior            | 19487               | disgust             | \n",
       "| MSNBC               | Morning Meeting     | 2009-09-22 13:00:00 | interior            | 19487               | positive            | \n",
       "| MSNBC               | Morning Meeting     | 2009-09-22 13:00:00 | interior            | 19487               | trust               | \n",
       "| MSNBC               | Morning Meeting     | 2009-09-22 13:00:00 | sensuous            | 19487               | joy                 | \n",
       "| MSNBC               | Morning Meeting     | 2009-09-22 13:00:00 | sensuous            | 19487               | positive            | \n",
       "| MSNBC               | Morning Meeting     | 2009-09-22 13:00:00 | striking            | 19487               | positive            | \n",
       "\n",
       "\n"
      ],
      "text/plain": [
       "  station show            show_date           word     station_total sentiment\n",
       "1 MSNBC   Morning Meeting 2009-09-22 13:00:00 interior 19487         disgust  \n",
       "2 MSNBC   Morning Meeting 2009-09-22 13:00:00 interior 19487         positive \n",
       "3 MSNBC   Morning Meeting 2009-09-22 13:00:00 interior 19487         trust    \n",
       "4 MSNBC   Morning Meeting 2009-09-22 13:00:00 sensuous 19487         joy      \n",
       "5 MSNBC   Morning Meeting 2009-09-22 13:00:00 sensuous 19487         positive \n",
       "6 MSNBC   Morning Meeting 2009-09-22 13:00:00 striking 19487         positive "
      ]
     },
     "metadata": {},
     "output_type": "display_data"
    }
   ],
   "source": [
    "tv_sentiment <- tidy_tv %>% group_by(station) %>% \n",
    "    mutate(station_total = n()) %>% # Define a new column station_total\n",
    "    ungroup() %>% inner_join(get_sentiments(\"nrc\")) # Implement sentiment analysis with the NRC lexicon\n",
    "head(tv_sentiment)"
   ]
  },
  {
   "cell_type": "code",
   "execution_count": 66,
   "metadata": {},
   "outputs": [
    {
     "data": {
      "text/html": [
       "<table>\n",
       "<thead><tr><th scope=col>station</th><th scope=col>sentiment</th><th scope=col>station_total</th><th scope=col>n</th></tr></thead>\n",
       "<tbody>\n",
       "\t<tr><td>CNN         </td><td>anger       </td><td>10713       </td><td>187         </td></tr>\n",
       "\t<tr><td>CNN         </td><td>anticipation</td><td>10713       </td><td>152         </td></tr>\n",
       "\t<tr><td>CNN         </td><td>disgust     </td><td>10713       </td><td> 89         </td></tr>\n",
       "\t<tr><td>CNN         </td><td>fear        </td><td>10713       </td><td>545         </td></tr>\n",
       "\t<tr><td>CNN         </td><td>joy         </td><td>10713       </td><td> 97         </td></tr>\n",
       "\t<tr><td>CNN         </td><td>negative    </td><td>10713       </td><td>331         </td></tr>\n",
       "\t<tr><td>CNN         </td><td>positive    </td><td>10713       </td><td>522         </td></tr>\n",
       "\t<tr><td>CNN         </td><td>sadness     </td><td>10713       </td><td>139         </td></tr>\n",
       "\t<tr><td>CNN         </td><td>surprise    </td><td>10713       </td><td>127         </td></tr>\n",
       "\t<tr><td>CNN         </td><td>trust       </td><td>10713       </td><td>368         </td></tr>\n",
       "</tbody>\n",
       "</table>\n"
      ],
      "text/latex": [
       "\\begin{tabular}{r|llll}\n",
       " station & sentiment & station\\_total & n\\\\\n",
       "\\hline\n",
       "\t CNN          & anger        & 10713        & 187         \\\\\n",
       "\t CNN          & anticipation & 10713        & 152         \\\\\n",
       "\t CNN          & disgust      & 10713        &  89         \\\\\n",
       "\t CNN          & fear         & 10713        & 545         \\\\\n",
       "\t CNN          & joy          & 10713        &  97         \\\\\n",
       "\t CNN          & negative     & 10713        & 331         \\\\\n",
       "\t CNN          & positive     & 10713        & 522         \\\\\n",
       "\t CNN          & sadness      & 10713        & 139         \\\\\n",
       "\t CNN          & surprise     & 10713        & 127         \\\\\n",
       "\t CNN          & trust        & 10713        & 368         \\\\\n",
       "\\end{tabular}\n"
      ],
      "text/markdown": [
       "\n",
       "station | sentiment | station_total | n | \n",
       "|---|---|---|---|---|---|---|---|---|---|\n",
       "| CNN          | anger        | 10713        | 187          | \n",
       "| CNN          | anticipation | 10713        | 152          | \n",
       "| CNN          | disgust      | 10713        |  89          | \n",
       "| CNN          | fear         | 10713        | 545          | \n",
       "| CNN          | joy          | 10713        |  97          | \n",
       "| CNN          | negative     | 10713        | 331          | \n",
       "| CNN          | positive     | 10713        | 522          | \n",
       "| CNN          | sadness      | 10713        | 139          | \n",
       "| CNN          | surprise     | 10713        | 127          | \n",
       "| CNN          | trust        | 10713        | 368          | \n",
       "\n",
       "\n"
      ],
      "text/plain": [
       "   station sentiment    station_total n  \n",
       "1  CNN     anger        10713         187\n",
       "2  CNN     anticipation 10713         152\n",
       "3  CNN     disgust      10713          89\n",
       "4  CNN     fear         10713         545\n",
       "5  CNN     joy          10713          97\n",
       "6  CNN     negative     10713         331\n",
       "7  CNN     positive     10713         522\n",
       "8  CNN     sadness      10713         139\n",
       "9  CNN     surprise     10713         127\n",
       "10 CNN     trust        10713         368"
      ]
     },
     "metadata": {},
     "output_type": "display_data"
    }
   ],
   "source": [
    "# Finding totals for each sentiment\n",
    "tv_sentiment %>% count(station, sentiment, station_total) %>% head(10) # station total just for later use"
   ]
  },
  {
   "cell_type": "markdown",
   "metadata": {},
   "source": [
    "### Exercise: Which station uses the most positive or negative words?\n",
    "You performed sentiment analysis => tv_sentiment. \n",
    "*  How do the words used when discussing climate change compare across stations? \n",
    "*  Which stations use more positive words? More negative words?\n",
    "    *  Notice that MSNBC used a low proportion of negative words but a high proportion of positive words\n",
    "    *  the reverse is true of FOX News, \n",
    "    *  CNN lies in between."
   ]
  },
  {
   "cell_type": "code",
   "execution_count": 71,
   "metadata": {},
   "outputs": [
    {
     "data": {
      "text/html": [
       "<table>\n",
       "<thead><tr><th scope=col>station</th><th scope=col>sentiment</th><th scope=col>station_total</th><th scope=col>n</th><th scope=col>percent</th></tr></thead>\n",
       "<tbody>\n",
       "\t<tr><td>MSNBC     </td><td>negative  </td><td>19487     </td><td>526       </td><td>0.02699235</td></tr>\n",
       "\t<tr><td>CNN       </td><td>negative  </td><td>10713     </td><td>331       </td><td>0.03089704</td></tr>\n",
       "\t<tr><td>FOX News  </td><td>negative  </td><td>10876     </td><td>403       </td><td>0.03705406</td></tr>\n",
       "</tbody>\n",
       "</table>\n"
      ],
      "text/latex": [
       "\\begin{tabular}{r|lllll}\n",
       " station & sentiment & station\\_total & n & percent\\\\\n",
       "\\hline\n",
       "\t MSNBC      & negative   & 19487      & 526        & 0.02699235\\\\\n",
       "\t CNN        & negative   & 10713      & 331        & 0.03089704\\\\\n",
       "\t FOX News   & negative   & 10876      & 403        & 0.03705406\\\\\n",
       "\\end{tabular}\n"
      ],
      "text/markdown": [
       "\n",
       "station | sentiment | station_total | n | percent | \n",
       "|---|---|---|\n",
       "| MSNBC      | negative   | 19487      | 526        | 0.02699235 | \n",
       "| CNN        | negative   | 10713      | 331        | 0.03089704 | \n",
       "| FOX News   | negative   | 10876      | 403        | 0.03705406 | \n",
       "\n",
       "\n"
      ],
      "text/plain": [
       "  station  sentiment station_total n   percent   \n",
       "1 MSNBC    negative  19487         526 0.02699235\n",
       "2 CNN      negative  10713         331 0.03089704\n",
       "3 FOX News negative  10876         403 0.03705406"
      ]
     },
     "metadata": {},
     "output_type": "display_data"
    }
   ],
   "source": [
    "# Which stations use the most negative words?\n",
    "tv_sentiment %>% count(station, sentiment, station_total) %>%\n",
    "    mutate(percent = n / station_total) %>% # Define a new column percent\n",
    "    filter(sentiment == \"negative\") %>%  # Filter only for negative words\n",
    "    arrange(percent)"
   ]
  },
  {
   "cell_type": "code",
   "execution_count": 72,
   "metadata": {},
   "outputs": [
    {
     "data": {
      "text/html": [
       "<table>\n",
       "<thead><tr><th scope=col>station</th><th scope=col>sentiment</th><th scope=col>station_total</th><th scope=col>n</th><th scope=col>percent</th></tr></thead>\n",
       "<tbody>\n",
       "\t<tr><td>FOX News  </td><td>positive  </td><td>10876     </td><td>514       </td><td>0.04726002</td></tr>\n",
       "\t<tr><td>CNN       </td><td>positive  </td><td>10713     </td><td>522       </td><td>0.04872585</td></tr>\n",
       "\t<tr><td>MSNBC     </td><td>positive  </td><td>19487     </td><td>953       </td><td>0.04890440</td></tr>\n",
       "</tbody>\n",
       "</table>\n"
      ],
      "text/latex": [
       "\\begin{tabular}{r|lllll}\n",
       " station & sentiment & station\\_total & n & percent\\\\\n",
       "\\hline\n",
       "\t FOX News   & positive   & 10876      & 514        & 0.04726002\\\\\n",
       "\t CNN        & positive   & 10713      & 522        & 0.04872585\\\\\n",
       "\t MSNBC      & positive   & 19487      & 953        & 0.04890440\\\\\n",
       "\\end{tabular}\n"
      ],
      "text/markdown": [
       "\n",
       "station | sentiment | station_total | n | percent | \n",
       "|---|---|---|\n",
       "| FOX News   | positive   | 10876      | 514        | 0.04726002 | \n",
       "| CNN        | positive   | 10713      | 522        | 0.04872585 | \n",
       "| MSNBC      | positive   | 19487      | 953        | 0.04890440 | \n",
       "\n",
       "\n"
      ],
      "text/plain": [
       "  station  sentiment station_total n   percent   \n",
       "1 FOX News positive  10876         514 0.04726002\n",
       "2 CNN      positive  10713         522 0.04872585\n",
       "3 MSNBC    positive  19487         953 0.04890440"
      ]
     },
     "metadata": {},
     "output_type": "display_data"
    }
   ],
   "source": [
    "# Now do the same but for positive words\n",
    "tv_sentiment %>% count(station, sentiment, station_total) %>%\n",
    "    mutate(percent = n / station_total) %>%\n",
    "    filter(sentiment == \"positive\") %>% arrange(percent)"
   ]
  },
  {
   "cell_type": "markdown",
   "metadata": {},
   "source": [
    "### Exercise: Which words contribute to the sentiment scores?\n",
    "It's important to understand which words specifically are driving sentiment scores. \n",
    "*  we now make a plot showing which words contribute the most to the 10 types of sentiment in the NRC lexicon. \n",
    "*  by looking at the result: \n",
    "    *  which words might not be appropriate in these contexts? \n",
    "    *  Are there proper names? Are there some neutral words used in these contexts?\n",
    "*  If so, you can always remove these words from your dataset (or the sentiment lexicon) using anti_join()."
   ]
  },
  {
   "cell_type": "code",
   "execution_count": 76,
   "metadata": {},
   "outputs": [
    {
     "name": "stderr",
     "output_type": "stream",
     "text": [
      "Selecting by n\n"
     ]
    },
    {
     "data": {},
     "metadata": {},
     "output_type": "display_data"
    },
    {
     "data": {
      "image/png": "[encoded data removed]",
      "text/plain": [
       "plot without title"
      ]
     },
     "metadata": {},
     "output_type": "display_data"
    }
   ],
   "source": [
    "options(repr.plot.height = 5, repr.plot.width = 6) \n",
    "tv_sentiment %>% count(word, sentiment) %>% group_by(sentiment) %>%\n",
    "    top_n(10) %>% # Take the top 10 words for each sentiment\n",
    "    ungroup() %>% mutate(word = reorder(word, n)) %>%\n",
    "    ggplot(aes(word, n, fill = sentiment)) + geom_col(show.legend = FALSE) +\n",
    "    facet_wrap(~ sentiment, scales = \"free\") + coord_flip()"
   ]
  },
  {
   "cell_type": "markdown",
   "metadata": {},
   "source": [
    "*  we see names like Gore and Trump, which should be treated as neutral, \n",
    "*  “change” was a strong driver of fear sentiment, even though it is by definition part of these texts on climate change. \n",
    "*  It is important to see which words contribute to your sentiment scores so you can adjust the sentiment lexicons if appropriate.\n",
    "\n",
    "### Exercise: Word choice and TV station\n",
    "we saw which words contributed to which sentiment for this dataset of closed captioning texts about climate change from TV news station. \n",
    "*  it's time to explore different words that each station used in the context of discussing climate change. \n",
    "    *  Which negative words did each station use when talking about climate change on the air?"
   ]
  },
  {
   "cell_type": "code",
   "execution_count": 80,
   "metadata": {},
   "outputs": [
    {
     "name": "stderr",
     "output_type": "stream",
     "text": [
      "Selecting by n\n"
     ]
    },
    {
     "data": {},
     "metadata": {},
     "output_type": "display_data"
    },
    {
     "data": {
      "image/png": "[encoded data removed]",
      "text/plain": [
       "plot without title"
      ]
     },
     "metadata": {},
     "output_type": "display_data"
    }
   ],
   "source": [
    "options(repr.plot.height = 4, repr.plot.width = 4) \n",
    "tv_sentiment %>%\n",
    "    # Filter for only negative words\n",
    "    filter(sentiment == \"negative\") %>%\n",
    "    # Count to find which words are contributing most to the overall sentiment scores\n",
    "    count(word, station) %>%\n",
    "    # Group by station\n",
    "    group_by(station) %>%\n",
    "    # Take the top 10 words for each station\n",
    "    top_n(10) %>%\n",
    "    ungroup() %>%\n",
    "    mutate(word = reorder(paste(word, station, sep = \"__\"), n)) %>%\n",
    "    # Set up the plot with aes()\n",
    "    ggplot(aes(word, n, fill = station)) +\n",
    "    geom_col(show.legend = FALSE) +\n",
    "    scale_x_discrete(labels = function(x) gsub(\"__.+$\", \"\", x)) +\n",
    "    facet_wrap(~ station, nrow = 2, scales = \"free\") +\n",
    "    coord_flip()"
   ]
  },
  {
   "cell_type": "markdown",
   "metadata": {},
   "source": [
    "Some words, like “threat” are used by all three stations but some word choices are quite different. \n",
    "*  FOX News talks about terrorism and hurricanes, while CNN discusses hoaxes."
   ]
  },
  {
   "cell_type": "markdown",
   "metadata": {},
   "source": [
    "### Sentiment over time\n",
    "For handling dates and times, try the lubridate package: *lubridate::floor_date(show_date, unit = \"6 months\")*"
   ]
  },
  {
   "cell_type": "code",
   "execution_count": 81,
   "metadata": {},
   "outputs": [
    {
     "data": {
      "text/html": [
       "<time datetime=\"2016-07-01\">2016-07-01</time>"
      ],
      "text/latex": [
       "2016-07-01"
      ],
      "text/markdown": [
       "2016-07-01"
      ],
      "text/plain": [
       "[1] \"2016-07-01\""
      ]
     },
     "metadata": {},
     "output_type": "display_data"
    }
   ],
   "source": [
    "#library(lubridate) not necessary if we specify the package explicitly\n",
    "lubridate::floor_date(as.Date(\"2016-09-27\"), unit = \"3 months\") # 2016-07-01"
   ]
  },
  {
   "cell_type": "markdown",
   "metadata": {},
   "source": [
    "### Exercise: Visualizing sentiment over time\n",
    "*  how sentiment is changing over time? Are TV news stations using more negative words as time passes? More positive words? \n",
    "*  floor_date() counts uses of positive and negative words over time."
   ]
  },
  {
   "cell_type": "code",
   "execution_count": 87,
   "metadata": {},
   "outputs": [
    {
     "data": {
      "text/html": [
       "<table>\n",
       "<thead><tr><th scope=col>station</th><th scope=col>show</th><th scope=col>show_date</th><th scope=col>word</th><th scope=col>date</th></tr></thead>\n",
       "<tbody>\n",
       "\t<tr><td>MSNBC              </td><td>Morning Meeting    </td><td>2009-09-22 13:00:00</td><td>the                </td><td>2009-07-01         </td></tr>\n",
       "\t<tr><td>MSNBC              </td><td>Morning Meeting    </td><td>2009-09-22 13:00:00</td><td>interior           </td><td>2009-07-01         </td></tr>\n",
       "\t<tr><td>MSNBC              </td><td>Morning Meeting    </td><td>2009-09-22 13:00:00</td><td>positively         </td><td>2009-07-01         </td></tr>\n",
       "\t<tr><td>MSNBC              </td><td>Morning Meeting    </td><td>2009-09-22 13:00:00</td><td>oozes              </td><td>2009-07-01         </td></tr>\n",
       "\t<tr><td>MSNBC              </td><td>Morning Meeting    </td><td>2009-09-22 13:00:00</td><td>class              </td><td>2009-07-01         </td></tr>\n",
       "\t<tr><td>MSNBC              </td><td>Morning Meeting    </td><td>2009-09-22 13:00:00</td><td>raves              </td><td>2009-07-01         </td></tr>\n",
       "\t<tr><td>MSNBC              </td><td>Morning Meeting    </td><td>2009-09-22 13:00:00</td><td>car                </td><td>2009-07-01         </td></tr>\n",
       "\t<tr><td>MSNBC              </td><td>Morning Meeting    </td><td>2009-09-22 13:00:00</td><td>magazine           </td><td>2009-07-01         </td></tr>\n",
       "\t<tr><td>MSNBC              </td><td>Morning Meeting    </td><td>2009-09-22 13:00:00</td><td>slick              </td><td>2009-07-01         </td></tr>\n",
       "\t<tr><td>MSNBC              </td><td>Morning Meeting    </td><td>2009-09-22 13:00:00</td><td>and                </td><td>2009-07-01         </td></tr>\n",
       "</tbody>\n",
       "</table>\n"
      ],
      "text/latex": [
       "\\begin{tabular}{r|lllll}\n",
       " station & show & show\\_date & word & date\\\\\n",
       "\\hline\n",
       "\t MSNBC               & Morning Meeting     & 2009-09-22 13:00:00 & the                 & 2009-07-01         \\\\\n",
       "\t MSNBC               & Morning Meeting     & 2009-09-22 13:00:00 & interior            & 2009-07-01         \\\\\n",
       "\t MSNBC               & Morning Meeting     & 2009-09-22 13:00:00 & positively          & 2009-07-01         \\\\\n",
       "\t MSNBC               & Morning Meeting     & 2009-09-22 13:00:00 & oozes               & 2009-07-01         \\\\\n",
       "\t MSNBC               & Morning Meeting     & 2009-09-22 13:00:00 & class               & 2009-07-01         \\\\\n",
       "\t MSNBC               & Morning Meeting     & 2009-09-22 13:00:00 & raves               & 2009-07-01         \\\\\n",
       "\t MSNBC               & Morning Meeting     & 2009-09-22 13:00:00 & car                 & 2009-07-01         \\\\\n",
       "\t MSNBC               & Morning Meeting     & 2009-09-22 13:00:00 & magazine            & 2009-07-01         \\\\\n",
       "\t MSNBC               & Morning Meeting     & 2009-09-22 13:00:00 & slick               & 2009-07-01         \\\\\n",
       "\t MSNBC               & Morning Meeting     & 2009-09-22 13:00:00 & and                 & 2009-07-01         \\\\\n",
       "\\end{tabular}\n"
      ],
      "text/markdown": [
       "\n",
       "station | show | show_date | word | date | \n",
       "|---|---|---|---|---|---|---|---|---|---|\n",
       "| MSNBC               | Morning Meeting     | 2009-09-22 13:00:00 | the                 | 2009-07-01          | \n",
       "| MSNBC               | Morning Meeting     | 2009-09-22 13:00:00 | interior            | 2009-07-01          | \n",
       "| MSNBC               | Morning Meeting     | 2009-09-22 13:00:00 | positively          | 2009-07-01          | \n",
       "| MSNBC               | Morning Meeting     | 2009-09-22 13:00:00 | oozes               | 2009-07-01          | \n",
       "| MSNBC               | Morning Meeting     | 2009-09-22 13:00:00 | class               | 2009-07-01          | \n",
       "| MSNBC               | Morning Meeting     | 2009-09-22 13:00:00 | raves               | 2009-07-01          | \n",
       "| MSNBC               | Morning Meeting     | 2009-09-22 13:00:00 | car                 | 2009-07-01          | \n",
       "| MSNBC               | Morning Meeting     | 2009-09-22 13:00:00 | magazine            | 2009-07-01          | \n",
       "| MSNBC               | Morning Meeting     | 2009-09-22 13:00:00 | slick               | 2009-07-01          | \n",
       "| MSNBC               | Morning Meeting     | 2009-09-22 13:00:00 | and                 | 2009-07-01          | \n",
       "\n",
       "\n"
      ],
      "text/plain": [
       "   station show            show_date           word       date      \n",
       "1  MSNBC   Morning Meeting 2009-09-22 13:00:00 the        2009-07-01\n",
       "2  MSNBC   Morning Meeting 2009-09-22 13:00:00 interior   2009-07-01\n",
       "3  MSNBC   Morning Meeting 2009-09-22 13:00:00 positively 2009-07-01\n",
       "4  MSNBC   Morning Meeting 2009-09-22 13:00:00 oozes      2009-07-01\n",
       "5  MSNBC   Morning Meeting 2009-09-22 13:00:00 class      2009-07-01\n",
       "6  MSNBC   Morning Meeting 2009-09-22 13:00:00 raves      2009-07-01\n",
       "7  MSNBC   Morning Meeting 2009-09-22 13:00:00 car        2009-07-01\n",
       "8  MSNBC   Morning Meeting 2009-09-22 13:00:00 magazine   2009-07-01\n",
       "9  MSNBC   Morning Meeting 2009-09-22 13:00:00 slick      2009-07-01\n",
       "10 MSNBC   Morning Meeting 2009-09-22 13:00:00 and        2009-07-01"
      ]
     },
     "metadata": {},
     "output_type": "display_data"
    }
   ],
   "source": [
    "# Load the lubridate package\n",
    "library(lubridate)\n",
    "tidy_tv %>%\n",
    "    # Define a new column rounding each date down to the nearest 6-month unit\n",
    "    mutate(date = floor_date(show_date, unit = \"6 months\")) %>%\n",
    "    group_by(date) %>% head(10)"
   ]
  },
  {
   "cell_type": "code",
   "execution_count": 88,
   "metadata": {},
   "outputs": [
    {
     "name": "stderr",
     "output_type": "stream",
     "text": [
      "Joining, by = \"word\"\n"
     ]
    },
    {
     "data": {},
     "metadata": {},
     "output_type": "display_data"
    },
    {
     "data": {
      "image/png": "[encoded data removed]",
      "text/plain": [
       "plot without title"
      ]
     },
     "metadata": {},
     "output_type": "display_data"
    }
   ],
   "source": [
    "options(repr.plot.height = 2, repr.plot.width = 5) \n",
    "sentiment_by_time <- tidy_tv %>% mutate(date = floor_date(show_date, unit = \"6 months\")) %>%\n",
    "    group_by(date) %>% mutate(total_words = n()) %>% ungroup() %>% inner_join(get_sentiments(\"nrc\"))\n",
    "\n",
    "sentiment_by_time %>% filter(sentiment %in% c(\"positive\", \"negative\")) %>%\n",
    "    count(date, sentiment, total_words) %>% ungroup() %>% mutate(percent = n / total_words) %>%\n",
    "    ggplot(aes(date, percent, col = sentiment)) + geom_line(size = 1.5) +\n",
    "    geom_smooth(method = \"lm\", se = FALSE, lty = 2) + expand_limits(y = 0)"
   ]
  },
  {
   "cell_type": "markdown",
   "metadata": {},
   "source": [
    "The proportion of positive words looks flat, and the proportion of negative words may be increasing."
   ]
  },
  {
   "cell_type": "code",
   "execution_count": 91,
   "metadata": {},
   "outputs": [
    {
     "data": {
      "text/html": [
       "<table>\n",
       "<thead><tr><th scope=col>date</th><th scope=col>sentiment</th><th scope=col>total_words</th><th scope=col>n</th></tr></thead>\n",
       "<tbody>\n",
       "\t<tr><td>2009-07-01</td><td>negative  </td><td>491       </td><td>17        </td></tr>\n",
       "\t<tr><td>2009-07-01</td><td>positive  </td><td>491       </td><td>29        </td></tr>\n",
       "\t<tr><td>2010-01-01</td><td>negative  </td><td>464       </td><td>14        </td></tr>\n",
       "\t<tr><td>2010-01-01</td><td>positive  </td><td>464       </td><td>31        </td></tr>\n",
       "\t<tr><td>2010-07-01</td><td>negative  </td><td>535       </td><td>15        </td></tr>\n",
       "\t<tr><td>2010-07-01</td><td>positive  </td><td>535       </td><td>22        </td></tr>\n",
       "</tbody>\n",
       "</table>\n"
      ],
      "text/latex": [
       "\\begin{tabular}{r|llll}\n",
       " date & sentiment & total\\_words & n\\\\\n",
       "\\hline\n",
       "\t 2009-07-01 & negative   & 491        & 17        \\\\\n",
       "\t 2009-07-01 & positive   & 491        & 29        \\\\\n",
       "\t 2010-01-01 & negative   & 464        & 14        \\\\\n",
       "\t 2010-01-01 & positive   & 464        & 31        \\\\\n",
       "\t 2010-07-01 & negative   & 535        & 15        \\\\\n",
       "\t 2010-07-01 & positive   & 535        & 22        \\\\\n",
       "\\end{tabular}\n"
      ],
      "text/markdown": [
       "\n",
       "date | sentiment | total_words | n | \n",
       "|---|---|---|---|---|---|\n",
       "| 2009-07-01 | negative   | 491        | 17         | \n",
       "| 2009-07-01 | positive   | 491        | 29         | \n",
       "| 2010-01-01 | negative   | 464        | 14         | \n",
       "| 2010-01-01 | positive   | 464        | 31         | \n",
       "| 2010-07-01 | negative   | 535        | 15         | \n",
       "| 2010-07-01 | positive   | 535        | 22         | \n",
       "\n",
       "\n"
      ],
      "text/plain": [
       "  date       sentiment total_words n \n",
       "1 2009-07-01 negative  491         17\n",
       "2 2009-07-01 positive  491         29\n",
       "3 2010-01-01 negative  464         14\n",
       "4 2010-01-01 positive  464         31\n",
       "5 2010-07-01 negative  535         15\n",
       "6 2010-07-01 positive  535         22"
      ]
     },
     "metadata": {},
     "output_type": "display_data"
    }
   ],
   "source": [
    "#Tidy date handling\n",
    "sentiment_by_time %>% dplyr::filter(sentiment %in% c(\"positive\", \"negative\")) %>%\n",
    "                     dplyr::count(date, sentiment, total_words) %>% head()"
   ]
  },
  {
   "cell_type": "markdown",
   "metadata": {},
   "source": [
    "### Exercise: Word changes over time - tidy way\n",
    "*  explore how individual words have been used over time. \n",
    "*  take the tidy_tv dataframe and make a plot to see how certain words used in the context of climate change have changed in use over time. \n",
    "    *  You will again use the floor_date() function, but this time to count monthly uses of words."
   ]
  },
  {
   "cell_type": "code",
   "execution_count": 97,
   "metadata": {},
   "outputs": [
    {
     "data": {},
     "metadata": {},
     "output_type": "display_data"
    },
    {
     "data": {
      "image/png": "[encoded data removed]",
      "text/plain": [
       "plot without title"
      ]
     },
     "metadata": {},
     "output_type": "display_data"
    }
   ],
   "source": [
    "options(repr.plot.height = 3, repr.plot.width = 5) \n",
    "tidy_tv %>%\n",
    "    # Define a new column that rounds each date to the nearest 1 month\n",
    "    mutate(date = floor_date(show_date, unit = \"1 month\")) %>%\n",
    "    filter(word %in% c(\"threat\", \"hoax\", \"denier\",\n",
    "                       \"real\", \"warming\", \"hurricane\")) %>%\n",
    "    # Count by date and word\n",
    "    count(date, word) %>%\n",
    "    ungroup() %>%\n",
    "    # Set up your plot with aes()\n",
    "    ggplot(aes(date, n, col = word)) +\n",
    "    # Make facets by word\n",
    "    facet_wrap(~ word) +\n",
    "    geom_line(size = 1, show.legend = FALSE) +\n",
    "    expand_limits(y = 0)"
   ]
  },
  {
   "cell_type": "markdown",
   "metadata": {},
   "source": [
    "words like “hoax” and “denier” have been used only recently, and “warming” is decreasing in monthly uses. \n",
    "*  You can see when a hurricane was being discussed as well."
   ]
  },
  {
   "cell_type": "markdown",
   "metadata": {},
   "source": [
    "## Ch4: Sentiment analysis and ranking pop songs through the years\n",
    "Lyrics of pop songs = *song_lyrics* with variables:\n",
    "*  rank, the rank a song achieved on the Billboard Year-End Hot 100\n",
    "*  song, the song's title\n",
    "*  artist, the artist who recorded the song\n",
    "*  year, the year the song reached the given rank on the Billboard chart\n",
    "*  lyrics, the lyrics of the song.\n",
    "\n",
    "=> Lyrics from the Billboard Year-End Hot 100, sourced by Kaylin Walker\n",
    "\n",
    "This dataset contains over 5000 songs, from 1965 to the present. The lyrics are all in one column, so they are not yet in a tidy format."
   ]
  },
  {
   "cell_type": "code",
   "execution_count": 99,
   "metadata": {},
   "outputs": [
    {
     "data": {
      "text/html": [
       "<table>\n",
       "<thead><tr><th scope=col>rank</th><th scope=col>song</th><th scope=col>artist</th><th scope=col>year</th><th scope=col>lyrics</th></tr></thead>\n",
       "<tbody>\n",
       "\t<tr><td>1                                                                                                                                                                                                                                                                                                                                                                                                                                                                                                                                                                                                                                                                                                                                                                                                                                                                                                                                                                                                                                </td><td>wooly bully                                                                                                                                                                                                                                                                                                                                                                                                                                                                                                                                                                                                                                                                                                                                                                                                                                                                                                                                                                                                                      </td><td>sam the sham and the pharaohs                                                                                                                                                                                                                                                                                                                                                                                                                                                                                                                                                                                                                                                                                                                                                                                                                                                                                                                                                                                                    </td><td>1965                                                                                                                                                                                                                                                                                                                                                                                                                                                                                                                                                                                                                                                                                                                                                                                                                                                                                                                                                                                                                             </td><td>sam the sham miscellaneous wooly bully wooly bully sam the sham  the pharaohs  domingo samudio uno dos one two tres quatro matty told hatty about a thing she saw had two big horns and a wooly jaw wooly bully wooly bully wooly bully wooly bully wooly bully hatty told matty lets dont take no chance lets not belseven come and learn to dance wooly bully wooly bully wooly bully wooly bully wooly bully matty told hatty thats the thing to do get you someone really to pull the wool with you wooly bully wooly bully wooly bully wooly bully wooly bully lseven  the letter l and the number 7 when typed they form a rough square l7 so the lyrics mean lets not be square                                                                                                                                                                                                                                                                                                                                           </td></tr>\n",
       "\t<tr><td>2                                                                                                                                                                                                                                                                                                                                                                                                                                                                                                                                                                                                                                                                                                                                                                                                                                                                                                                                                                                                                                </td><td>i cant help myself sugar pie honey bunch                                                                                                                                                                                                                                                                                                                                                                                                                                                                                                                                                                                                                                                                                                                                                                                                                                                                                                                                                                                         </td><td>four tops                                                                                                                                                                                                                                                                                                                                                                                                                                                                                                                                                                                                                                                                                                                                                                                                                                                                                                                                                                                                                        </td><td>1965                                                                                                                                                                                                                                                                                                                                                                                                                                                                                                                                                                                                                                                                                                                                                                                                                                                                                                                                                                                                                             </td><td>sugar pie honey bunch you know that i love you i cant help myself i love you and nobody elsein and out my life you come and you go leaving just your picture behind and i kissed it a thousand timeswhen you snap your finger or wink your eye i come arunning to you im tied to your apron strings and theres nothing that i can docant help myself no i cant help myselfsugar pie honey bunch im weaker than a man should be i cant help myself im a fool in love you seewanna tell you i dont love you tell you that were through and ive tried but every time i see your face i get all choked up insidewhen i call your name girl it starts the flame burning in my heart tearing it all apart no matter how i try my love i cannot hidecause sugar pie honey bunch you know that im weak for you cant help myself i love you and nobody elsesugar pie honey bunch do anything you ask me to cant help myself i want you and nobody elsesugar pie honey bunch you know that i love you i cant help myself i cant help myself</td></tr>\n",
       "</tbody>\n",
       "</table>\n"
      ],
      "text/latex": [
       "\\begin{tabular}{r|lllll}\n",
       " rank & song & artist & year & lyrics\\\\\n",
       "\\hline\n",
       "\t 1                                                                                                                                                                                                                                                                                                                                                                                                                                                                                                                                                                                                                                                                                                                                                                                                                                                                                                                                                                                                                                 & wooly bully                                                                                                                                                                                                                                                                                                                                                                                                                                                                                                                                                                                                                                                                                                                                                                                                                                                                                                                                                                                                                       & sam the sham and the pharaohs                                                                                                                                                                                                                                                                                                                                                                                                                                                                                                                                                                                                                                                                                                                                                                                                                                                                                                                                                                                                     & 1965                                                                                                                                                                                                                                                                                                                                                                                                                                                                                                                                                                                                                                                                                                                                                                                                                                                                                                                                                                                                                              & sam the sham miscellaneous wooly bully wooly bully sam the sham  the pharaohs  domingo samudio uno dos one two tres quatro matty told hatty about a thing she saw had two big horns and a wooly jaw wooly bully wooly bully wooly bully wooly bully wooly bully hatty told matty lets dont take no chance lets not belseven come and learn to dance wooly bully wooly bully wooly bully wooly bully wooly bully matty told hatty thats the thing to do get you someone really to pull the wool with you wooly bully wooly bully wooly bully wooly bully wooly bully lseven  the letter l and the number 7 when typed they form a rough square l7 so the lyrics mean lets not be square                                                                                                                                                                                                                                                                                                                                           \\\\\n",
       "\t 2                                                                                                                                                                                                                                                                                                                                                                                                                                                                                                                                                                                                                                                                                                                                                                                                                                                                                                                                                                                                                                 & i cant help myself sugar pie honey bunch                                                                                                                                                                                                                                                                                                                                                                                                                                                                                                                                                                                                                                                                                                                                                                                                                                                                                                                                                                                          & four tops                                                                                                                                                                                                                                                                                                                                                                                                                                                                                                                                                                                                                                                                                                                                                                                                                                                                                                                                                                                                                         & 1965                                                                                                                                                                                                                                                                                                                                                                                                                                                                                                                                                                                                                                                                                                                                                                                                                                                                                                                                                                                                                              & sugar pie honey bunch you know that i love you i cant help myself i love you and nobody elsein and out my life you come and you go leaving just your picture behind and i kissed it a thousand timeswhen you snap your finger or wink your eye i come arunning to you im tied to your apron strings and theres nothing that i can docant help myself no i cant help myselfsugar pie honey bunch im weaker than a man should be i cant help myself im a fool in love you seewanna tell you i dont love you tell you that were through and ive tried but every time i see your face i get all choked up insidewhen i call your name girl it starts the flame burning in my heart tearing it all apart no matter how i try my love i cannot hidecause sugar pie honey bunch you know that im weak for you cant help myself i love you and nobody elsesugar pie honey bunch do anything you ask me to cant help myself i want you and nobody elsesugar pie honey bunch you know that i love you i cant help myself i cant help myself\\\\\n",
       "\\end{tabular}\n"
      ],
      "text/markdown": [
       "\n",
       "rank | song | artist | year | lyrics | \n",
       "|---|---|\n",
       "| 1                                                                                                                                                                                                                                                                                                                                                                                                                                                                                                                                                                                                                                                                                                                                                                                                                                                                                                                                                                                                                                 | wooly bully                                                                                                                                                                                                                                                                                                                                                                                                                                                                                                                                                                                                                                                                                                                                                                                                                                                                                                                                                                                                                       | sam the sham and the pharaohs                                                                                                                                                                                                                                                                                                                                                                                                                                                                                                                                                                                                                                                                                                                                                                                                                                                                                                                                                                                                     | 1965                                                                                                                                                                                                                                                                                                                                                                                                                                                                                                                                                                                                                                                                                                                                                                                                                                                                                                                                                                                                                              | sam the sham miscellaneous wooly bully wooly bully sam the sham  the pharaohs  domingo samudio uno dos one two tres quatro matty told hatty about a thing she saw had two big horns and a wooly jaw wooly bully wooly bully wooly bully wooly bully wooly bully hatty told matty lets dont take no chance lets not belseven come and learn to dance wooly bully wooly bully wooly bully wooly bully wooly bully matty told hatty thats the thing to do get you someone really to pull the wool with you wooly bully wooly bully wooly bully wooly bully wooly bully lseven  the letter l and the number 7 when typed they form a rough square l7 so the lyrics mean lets not be square                                                                                                                                                                                                                                                                                                                                            | \n",
       "| 2                                                                                                                                                                                                                                                                                                                                                                                                                                                                                                                                                                                                                                                                                                                                                                                                                                                                                                                                                                                                                                 | i cant help myself sugar pie honey bunch                                                                                                                                                                                                                                                                                                                                                                                                                                                                                                                                                                                                                                                                                                                                                                                                                                                                                                                                                                                          | four tops                                                                                                                                                                                                                                                                                                                                                                                                                                                                                                                                                                                                                                                                                                                                                                                                                                                                                                                                                                                                                         | 1965                                                                                                                                                                                                                                                                                                                                                                                                                                                                                                                                                                                                                                                                                                                                                                                                                                                                                                                                                                                                                              | sugar pie honey bunch you know that i love you i cant help myself i love you and nobody elsein and out my life you come and you go leaving just your picture behind and i kissed it a thousand timeswhen you snap your finger or wink your eye i come arunning to you im tied to your apron strings and theres nothing that i can docant help myself no i cant help myselfsugar pie honey bunch im weaker than a man should be i cant help myself im a fool in love you seewanna tell you i dont love you tell you that were through and ive tried but every time i see your face i get all choked up insidewhen i call your name girl it starts the flame burning in my heart tearing it all apart no matter how i try my love i cannot hidecause sugar pie honey bunch you know that im weak for you cant help myself i love you and nobody elsesugar pie honey bunch do anything you ask me to cant help myself i want you and nobody elsesugar pie honey bunch you know that i love you i cant help myself i cant help myself | \n",
       "\n",
       "\n"
      ],
      "text/plain": [
       "  rank song                                     artist                       \n",
       "1 1    wooly bully                              sam the sham and the pharaohs\n",
       "2 2    i cant help myself sugar pie honey bunch four tops                    \n",
       "  year\n",
       "1 1965\n",
       "2 1965\n",
       "  lyrics                                                                                                                                                                                                                                                                                                                                                                                                                                                                                                                                                                                                                                                                                                                                                                                                                                                                                                                                                                                                                           \n",
       "1 sam the sham miscellaneous wooly bully wooly bully sam the sham  the pharaohs  domingo samudio uno dos one two tres quatro matty told hatty about a thing she saw had two big horns and a wooly jaw wooly bully wooly bully wooly bully wooly bully wooly bully hatty told matty lets dont take no chance lets not belseven come and learn to dance wooly bully wooly bully wooly bully wooly bully wooly bully matty told hatty thats the thing to do get you someone really to pull the wool with you wooly bully wooly bully wooly bully wooly bully wooly bully lseven  the letter l and the number 7 when typed they form a rough square l7 so the lyrics mean lets not be square                                                                                                                                                                                                                                                                                                                                           \n",
       "2 sugar pie honey bunch you know that i love you i cant help myself i love you and nobody elsein and out my life you come and you go leaving just your picture behind and i kissed it a thousand timeswhen you snap your finger or wink your eye i come arunning to you im tied to your apron strings and theres nothing that i can docant help myself no i cant help myselfsugar pie honey bunch im weaker than a man should be i cant help myself im a fool in love you seewanna tell you i dont love you tell you that were through and ive tried but every time i see your face i get all choked up insidewhen i call your name girl it starts the flame burning in my heart tearing it all apart no matter how i try my love i cannot hidecause sugar pie honey bunch you know that im weak for you cant help myself i love you and nobody elsesugar pie honey bunch do anything you ask me to cant help myself i want you and nobody elsesugar pie honey bunch you know that i love you i cant help myself i cant help myself"
      ]
     },
     "metadata": {},
     "output_type": "display_data"
    }
   ],
   "source": [
    "load(\"song_lyrics.rda\")\n",
    "head(song_lyrics, 2)"
   ]
  },
  {
   "cell_type": "code",
   "execution_count": 101,
   "metadata": {},
   "outputs": [
    {
     "data": {
      "text/html": [
       "<table>\n",
       "<thead><tr><th scope=col>rank</th><th scope=col>song</th><th scope=col>artist</th><th scope=col>year</th><th scope=col>word</th></tr></thead>\n",
       "<tbody>\n",
       "\t<tr><td>1                            </td><td>wooly bully                  </td><td>sam the sham and the pharaohs</td><td>1965                         </td><td>sam                          </td></tr>\n",
       "\t<tr><td>1                            </td><td>wooly bully                  </td><td>sam the sham and the pharaohs</td><td>1965                         </td><td>the                          </td></tr>\n",
       "\t<tr><td>1                            </td><td>wooly bully                  </td><td>sam the sham and the pharaohs</td><td>1965                         </td><td>sham                         </td></tr>\n",
       "\t<tr><td>1                            </td><td>wooly bully                  </td><td>sam the sham and the pharaohs</td><td>1965                         </td><td>miscellaneous                </td></tr>\n",
       "\t<tr><td>1                            </td><td>wooly bully                  </td><td>sam the sham and the pharaohs</td><td>1965                         </td><td>wooly                        </td></tr>\n",
       "\t<tr><td>1                            </td><td>wooly bully                  </td><td>sam the sham and the pharaohs</td><td>1965                         </td><td>bully                        </td></tr>\n",
       "</tbody>\n",
       "</table>\n"
      ],
      "text/latex": [
       "\\begin{tabular}{r|lllll}\n",
       " rank & song & artist & year & word\\\\\n",
       "\\hline\n",
       "\t 1                             & wooly bully                   & sam the sham and the pharaohs & 1965                          & sam                          \\\\\n",
       "\t 1                             & wooly bully                   & sam the sham and the pharaohs & 1965                          & the                          \\\\\n",
       "\t 1                             & wooly bully                   & sam the sham and the pharaohs & 1965                          & sham                         \\\\\n",
       "\t 1                             & wooly bully                   & sam the sham and the pharaohs & 1965                          & miscellaneous                \\\\\n",
       "\t 1                             & wooly bully                   & sam the sham and the pharaohs & 1965                          & wooly                        \\\\\n",
       "\t 1                             & wooly bully                   & sam the sham and the pharaohs & 1965                          & bully                        \\\\\n",
       "\\end{tabular}\n"
      ],
      "text/markdown": [
       "\n",
       "rank | song | artist | year | word | \n",
       "|---|---|---|---|---|---|\n",
       "| 1                             | wooly bully                   | sam the sham and the pharaohs | 1965                          | sam                           | \n",
       "| 1                             | wooly bully                   | sam the sham and the pharaohs | 1965                          | the                           | \n",
       "| 1                             | wooly bully                   | sam the sham and the pharaohs | 1965                          | sham                          | \n",
       "| 1                             | wooly bully                   | sam the sham and the pharaohs | 1965                          | miscellaneous                 | \n",
       "| 1                             | wooly bully                   | sam the sham and the pharaohs | 1965                          | wooly                         | \n",
       "| 1                             | wooly bully                   | sam the sham and the pharaohs | 1965                          | bully                         | \n",
       "\n",
       "\n"
      ],
      "text/plain": [
       "  rank song        artist                        year word         \n",
       "1 1    wooly bully sam the sham and the pharaohs 1965 sam          \n",
       "2 1    wooly bully sam the sham and the pharaohs 1965 the          \n",
       "3 1    wooly bully sam the sham and the pharaohs 1965 sham         \n",
       "4 1    wooly bully sam the sham and the pharaohs 1965 miscellaneous\n",
       "5 1    wooly bully sam the sham and the pharaohs 1965 wooly        \n",
       "6 1    wooly bully sam the sham and the pharaohs 1965 bully        "
      ]
     },
     "metadata": {},
     "output_type": "display_data"
    }
   ],
   "source": [
    "# Pipe song_lyrics to the next line\n",
    "tidy_lyrics <- song_lyrics %>% tidytext::unnest_tokens(word, lyrics)\n",
    "\n",
    "head(tidy_lyrics)"
   ]
  },
  {
   "cell_type": "markdown",
   "metadata": {},
   "source": [
    "### Exercise: Calculating total words per song\n",
    "*  total number of words in each song. Use count() to count up the words per song, and then left_join() these word totals to the tidy data set. \n",
    "    *  You can specify exactly which column to use when joining the two data frames if you add by = \"song\"."
   ]
  },
  {
   "cell_type": "code",
   "execution_count": 102,
   "metadata": {},
   "outputs": [
    {
     "data": {
      "text/html": [
       "<table>\n",
       "<thead><tr><th scope=col>song</th><th scope=col>total_words</th></tr></thead>\n",
       "<tbody>\n",
       "\t<tr><td>0 to 100  the catch up</td><td>894                   </td></tr>\n",
       "\t<tr><td>1 2 3 4 sumpin new    </td><td>670                   </td></tr>\n",
       "\t<tr><td>1 2 3 red light       </td><td>145                   </td></tr>\n",
       "\t<tr><td>1 2 step              </td><td>437                   </td></tr>\n",
       "\t<tr><td>1 thing               </td><td>532                   </td></tr>\n",
       "\t<tr><td>100 pure love         </td><td>590                   </td></tr>\n",
       "</tbody>\n",
       "</table>\n"
      ],
      "text/latex": [
       "\\begin{tabular}{r|ll}\n",
       " song & total\\_words\\\\\n",
       "\\hline\n",
       "\t 0 to 100  the catch up & 894                   \\\\\n",
       "\t 1 2 3 4 sumpin new     & 670                   \\\\\n",
       "\t 1 2 3 red light        & 145                   \\\\\n",
       "\t 1 2 step               & 437                   \\\\\n",
       "\t 1 thing                & 532                   \\\\\n",
       "\t 100 pure love          & 590                   \\\\\n",
       "\\end{tabular}\n"
      ],
      "text/markdown": [
       "\n",
       "song | total_words | \n",
       "|---|---|---|---|---|---|\n",
       "| 0 to 100  the catch up | 894                    | \n",
       "| 1 2 3 4 sumpin new     | 670                    | \n",
       "| 1 2 3 red light        | 145                    | \n",
       "| 1 2 step               | 437                    | \n",
       "| 1 thing                | 532                    | \n",
       "| 100 pure love          | 590                    | \n",
       "\n",
       "\n"
      ],
      "text/plain": [
       "  song                   total_words\n",
       "1 0 to 100  the catch up 894        \n",
       "2 1 2 3 4 sumpin new     670        \n",
       "3 1 2 3 red light        145        \n",
       "4 1 2 step               437        \n",
       "5 1 thing                532        \n",
       "6 100 pure love          590        "
      ]
     },
     "metadata": {},
     "output_type": "display_data"
    }
   ],
   "source": [
    "totals <- tidy_lyrics %>% count(song) %>% # Count by song to find the word totals for each song\n",
    "  rename(total_words = n) # Rename the new column\n",
    "  \n",
    "head(totals)"
   ]
  },
  {
   "cell_type": "code",
   "execution_count": 103,
   "metadata": {},
   "outputs": [
    {
     "data": {
      "text/html": [
       "<table>\n",
       "<thead><tr><th scope=col>rank</th><th scope=col>song</th><th scope=col>artist</th><th scope=col>year</th><th scope=col>word</th><th scope=col>total_words</th></tr></thead>\n",
       "<tbody>\n",
       "\t<tr><td>1                            </td><td>wooly bully                  </td><td>sam the sham and the pharaohs</td><td>1965                         </td><td>sam                          </td><td>125                          </td></tr>\n",
       "\t<tr><td>1                            </td><td>wooly bully                  </td><td>sam the sham and the pharaohs</td><td>1965                         </td><td>the                          </td><td>125                          </td></tr>\n",
       "\t<tr><td>1                            </td><td>wooly bully                  </td><td>sam the sham and the pharaohs</td><td>1965                         </td><td>sham                         </td><td>125                          </td></tr>\n",
       "\t<tr><td>1                            </td><td>wooly bully                  </td><td>sam the sham and the pharaohs</td><td>1965                         </td><td>miscellaneous                </td><td>125                          </td></tr>\n",
       "\t<tr><td>1                            </td><td>wooly bully                  </td><td>sam the sham and the pharaohs</td><td>1965                         </td><td>wooly                        </td><td>125                          </td></tr>\n",
       "\t<tr><td>1                            </td><td>wooly bully                  </td><td>sam the sham and the pharaohs</td><td>1965                         </td><td>bully                        </td><td>125                          </td></tr>\n",
       "</tbody>\n",
       "</table>\n"
      ],
      "text/latex": [
       "\\begin{tabular}{r|llllll}\n",
       " rank & song & artist & year & word & total\\_words\\\\\n",
       "\\hline\n",
       "\t 1                             & wooly bully                   & sam the sham and the pharaohs & 1965                          & sam                           & 125                          \\\\\n",
       "\t 1                             & wooly bully                   & sam the sham and the pharaohs & 1965                          & the                           & 125                          \\\\\n",
       "\t 1                             & wooly bully                   & sam the sham and the pharaohs & 1965                          & sham                          & 125                          \\\\\n",
       "\t 1                             & wooly bully                   & sam the sham and the pharaohs & 1965                          & miscellaneous                 & 125                          \\\\\n",
       "\t 1                             & wooly bully                   & sam the sham and the pharaohs & 1965                          & wooly                         & 125                          \\\\\n",
       "\t 1                             & wooly bully                   & sam the sham and the pharaohs & 1965                          & bully                         & 125                          \\\\\n",
       "\\end{tabular}\n"
      ],
      "text/markdown": [
       "\n",
       "rank | song | artist | year | word | total_words | \n",
       "|---|---|---|---|---|---|\n",
       "| 1                             | wooly bully                   | sam the sham and the pharaohs | 1965                          | sam                           | 125                           | \n",
       "| 1                             | wooly bully                   | sam the sham and the pharaohs | 1965                          | the                           | 125                           | \n",
       "| 1                             | wooly bully                   | sam the sham and the pharaohs | 1965                          | sham                          | 125                           | \n",
       "| 1                             | wooly bully                   | sam the sham and the pharaohs | 1965                          | miscellaneous                 | 125                           | \n",
       "| 1                             | wooly bully                   | sam the sham and the pharaohs | 1965                          | wooly                         | 125                           | \n",
       "| 1                             | wooly bully                   | sam the sham and the pharaohs | 1965                          | bully                         | 125                           | \n",
       "\n",
       "\n"
      ],
      "text/plain": [
       "  rank song        artist                        year word          total_words\n",
       "1 1    wooly bully sam the sham and the pharaohs 1965 sam           125        \n",
       "2 1    wooly bully sam the sham and the pharaohs 1965 the           125        \n",
       "3 1    wooly bully sam the sham and the pharaohs 1965 sham          125        \n",
       "4 1    wooly bully sam the sham and the pharaohs 1965 miscellaneous 125        \n",
       "5 1    wooly bully sam the sham and the pharaohs 1965 wooly         125        \n",
       "6 1    wooly bully sam the sham and the pharaohs 1965 bully         125        "
      ]
     },
     "metadata": {},
     "output_type": "display_data"
    }
   ],
   "source": [
    "lyric_counts <- tidy_lyrics %>% \n",
    "  left_join(totals, by = \"song\") # Combine totals with tidy_lyrics using the \"song\" column\n",
    "head(lyric_counts)"
   ]
  },
  {
   "cell_type": "markdown",
   "metadata": {},
   "source": [
    "### Exercise: Sentiment analysis on song lyrics\n",
    "Once sentiment analysis is done, we can learn which songs have the most sentiment words from the NRC lexicon. \n",
    "*  NRC lexicon has 10 categories of sentiment: *anger, anticipation, disgust, fear, joy, negative, positive, sadness, surprise, trust*"
   ]
  },
  {
   "cell_type": "code",
   "execution_count": 104,
   "metadata": {},
   "outputs": [
    {
     "name": "stderr",
     "output_type": "stream",
     "text": [
      "Joining, by = \"word\"\n"
     ]
    },
    {
     "data": {
      "text/html": [
       "<table>\n",
       "<thead><tr><th scope=col>rank</th><th scope=col>song</th><th scope=col>artist</th><th scope=col>year</th><th scope=col>word</th><th scope=col>total_words</th><th scope=col>sentiment</th></tr></thead>\n",
       "<tbody>\n",
       "\t<tr><td>1                            </td><td>wooly bully                  </td><td>sam the sham and the pharaohs</td><td>1965                         </td><td>sham                         </td><td>125                          </td><td>anger                        </td></tr>\n",
       "\t<tr><td>1                            </td><td>wooly bully                  </td><td>sam the sham and the pharaohs</td><td>1965                         </td><td>sham                         </td><td>125                          </td><td>disgust                      </td></tr>\n",
       "\t<tr><td>1                            </td><td>wooly bully                  </td><td>sam the sham and the pharaohs</td><td>1965                         </td><td>sham                         </td><td>125                          </td><td>negative                     </td></tr>\n",
       "\t<tr><td>1                            </td><td>wooly bully                  </td><td>sam the sham and the pharaohs</td><td>1965                         </td><td>bully                        </td><td>125                          </td><td>anger                        </td></tr>\n",
       "\t<tr><td>1                            </td><td>wooly bully                  </td><td>sam the sham and the pharaohs</td><td>1965                         </td><td>bully                        </td><td>125                          </td><td>fear                         </td></tr>\n",
       "\t<tr><td>1                            </td><td>wooly bully                  </td><td>sam the sham and the pharaohs</td><td>1965                         </td><td>bully                        </td><td>125                          </td><td>negative                     </td></tr>\n",
       "</tbody>\n",
       "</table>\n"
      ],
      "text/latex": [
       "\\begin{tabular}{r|lllllll}\n",
       " rank & song & artist & year & word & total\\_words & sentiment\\\\\n",
       "\\hline\n",
       "\t 1                             & wooly bully                   & sam the sham and the pharaohs & 1965                          & sham                          & 125                           & anger                        \\\\\n",
       "\t 1                             & wooly bully                   & sam the sham and the pharaohs & 1965                          & sham                          & 125                           & disgust                      \\\\\n",
       "\t 1                             & wooly bully                   & sam the sham and the pharaohs & 1965                          & sham                          & 125                           & negative                     \\\\\n",
       "\t 1                             & wooly bully                   & sam the sham and the pharaohs & 1965                          & bully                         & 125                           & anger                        \\\\\n",
       "\t 1                             & wooly bully                   & sam the sham and the pharaohs & 1965                          & bully                         & 125                           & fear                         \\\\\n",
       "\t 1                             & wooly bully                   & sam the sham and the pharaohs & 1965                          & bully                         & 125                           & negative                     \\\\\n",
       "\\end{tabular}\n"
      ],
      "text/markdown": [
       "\n",
       "rank | song | artist | year | word | total_words | sentiment | \n",
       "|---|---|---|---|---|---|\n",
       "| 1                             | wooly bully                   | sam the sham and the pharaohs | 1965                          | sham                          | 125                           | anger                         | \n",
       "| 1                             | wooly bully                   | sam the sham and the pharaohs | 1965                          | sham                          | 125                           | disgust                       | \n",
       "| 1                             | wooly bully                   | sam the sham and the pharaohs | 1965                          | sham                          | 125                           | negative                      | \n",
       "| 1                             | wooly bully                   | sam the sham and the pharaohs | 1965                          | bully                         | 125                           | anger                         | \n",
       "| 1                             | wooly bully                   | sam the sham and the pharaohs | 1965                          | bully                         | 125                           | fear                          | \n",
       "| 1                             | wooly bully                   | sam the sham and the pharaohs | 1965                          | bully                         | 125                           | negative                      | \n",
       "\n",
       "\n"
      ],
      "text/plain": [
       "  rank song        artist                        year word  total_words\n",
       "1 1    wooly bully sam the sham and the pharaohs 1965 sham  125        \n",
       "2 1    wooly bully sam the sham and the pharaohs 1965 sham  125        \n",
       "3 1    wooly bully sam the sham and the pharaohs 1965 sham  125        \n",
       "4 1    wooly bully sam the sham and the pharaohs 1965 bully 125        \n",
       "5 1    wooly bully sam the sham and the pharaohs 1965 bully 125        \n",
       "6 1    wooly bully sam the sham and the pharaohs 1965 bully 125        \n",
       "  sentiment\n",
       "1 anger    \n",
       "2 disgust  \n",
       "3 negative \n",
       "4 anger    \n",
       "5 fear     \n",
       "6 negative "
      ]
     },
     "metadata": {},
     "output_type": "display_data"
    }
   ],
   "source": [
    "lyric_sentiment <- lyric_counts %>% inner_join(get_sentiments(\"nrc\")) # Implement sentiment analysis with \"nrc\" lexicon\n",
    "head(lyric_sentiment)"
   ]
  },
  {
   "cell_type": "code",
   "execution_count": 106,
   "metadata": {},
   "outputs": [
    {
     "data": {
      "text/html": [
       "<table>\n",
       "<thead><tr><th scope=col>song</th><th scope=col>sentiment</th><th scope=col>n</th></tr></thead>\n",
       "<tbody>\n",
       "\t<tr><td>baby          </td><td>positive      </td><td>264           </td></tr>\n",
       "\t<tr><td>baby          </td><td>joy           </td><td>255           </td></tr>\n",
       "\t<tr><td>real love     </td><td>positive      </td><td>213           </td></tr>\n",
       "\t<tr><td>angel         </td><td>positive      </td><td>193           </td></tr>\n",
       "\t<tr><td>disturbia     </td><td>negative      </td><td>182           </td></tr>\n",
       "\t<tr><td>live your life</td><td>positive      </td><td>174           </td></tr>\n",
       "</tbody>\n",
       "</table>\n"
      ],
      "text/latex": [
       "\\begin{tabular}{r|lll}\n",
       " song & sentiment & n\\\\\n",
       "\\hline\n",
       "\t baby           & positive       & 264           \\\\\n",
       "\t baby           & joy            & 255           \\\\\n",
       "\t real love      & positive       & 213           \\\\\n",
       "\t angel          & positive       & 193           \\\\\n",
       "\t disturbia      & negative       & 182           \\\\\n",
       "\t live your life & positive       & 174           \\\\\n",
       "\\end{tabular}\n"
      ],
      "text/markdown": [
       "\n",
       "song | sentiment | n | \n",
       "|---|---|---|---|---|---|\n",
       "| baby           | positive       | 264            | \n",
       "| baby           | joy            | 255            | \n",
       "| real love      | positive       | 213            | \n",
       "| angel          | positive       | 193            | \n",
       "| disturbia      | negative       | 182            | \n",
       "| live your life | positive       | 174            | \n",
       "\n",
       "\n"
      ],
      "text/plain": [
       "  song           sentiment n  \n",
       "1 baby           positive  264\n",
       "2 baby           joy       255\n",
       "3 real love      positive  213\n",
       "4 angel          positive  193\n",
       "5 disturbia      negative  182\n",
       "6 live your life positive  174"
      ]
     },
     "metadata": {},
     "output_type": "display_data"
    }
   ],
   "source": [
    "lyric_sentiment %>% count(song, sentiment, sort = TRUE) %>% head()# Find how many sentiment words each song has"
   ]
  },
  {
   "cell_type": "markdown",
   "metadata": {},
   "source": [
    "The song “Baby” has the highest number of positive words while “Disturbia” has the highest number of negative words.\n",
    "\n",
    "### Exercise: The most positive and negative songs\n",
    "\"Which songs have the highest proportion of positive words? Of negative words? \n",
    "*  You calculated the total number of words for each song earlier, so now you need to count the number of words for each sentiment and song."
   ]
  },
  {
   "cell_type": "code",
   "execution_count": 110,
   "metadata": {},
   "outputs": [
    {
     "data": {
      "text/html": [
       "<table>\n",
       "<thead><tr><th scope=col>song</th><th scope=col>sentiment</th><th scope=col>total_words</th><th scope=col>n</th><th scope=col>percent</th></tr></thead>\n",
       "<tbody>\n",
       "\t<tr><td>bad boy                       </td><td>negative                      </td><td>237                           </td><td> 77                           </td><td>0.3248945                     </td></tr>\n",
       "\t<tr><td>rack city                     </td><td>negative                      </td><td>458                           </td><td>142                           </td><td>0.3100437                     </td></tr>\n",
       "\t<tr><td>ill tumble 4 ya               </td><td>negative                      </td><td>269                           </td><td> 79                           </td><td>0.2936803                     </td></tr>\n",
       "\t<tr><td>time wont let me              </td><td>negative                      </td><td>154                           </td><td> 42                           </td><td>0.2727273                     </td></tr>\n",
       "\t<tr><td>bang bang my baby shot me down</td><td>negative                      </td><td>163                           </td><td> 40                           </td><td>0.2453988                     </td></tr>\n",
       "</tbody>\n",
       "</table>\n"
      ],
      "text/latex": [
       "\\begin{tabular}{r|lllll}\n",
       " song & sentiment & total\\_words & n & percent\\\\\n",
       "\\hline\n",
       "\t bad boy                        & negative                       & 237                            &  77                            & 0.3248945                     \\\\\n",
       "\t rack city                      & negative                       & 458                            & 142                            & 0.3100437                     \\\\\n",
       "\t ill tumble 4 ya                & negative                       & 269                            &  79                            & 0.2936803                     \\\\\n",
       "\t time wont let me               & negative                       & 154                            &  42                            & 0.2727273                     \\\\\n",
       "\t bang bang my baby shot me down & negative                       & 163                            &  40                            & 0.2453988                     \\\\\n",
       "\\end{tabular}\n"
      ],
      "text/markdown": [
       "\n",
       "song | sentiment | total_words | n | percent | \n",
       "|---|---|---|---|---|\n",
       "| bad boy                        | negative                       | 237                            |  77                            | 0.3248945                      | \n",
       "| rack city                      | negative                       | 458                            | 142                            | 0.3100437                      | \n",
       "| ill tumble 4 ya                | negative                       | 269                            |  79                            | 0.2936803                      | \n",
       "| time wont let me               | negative                       | 154                            |  42                            | 0.2727273                      | \n",
       "| bang bang my baby shot me down | negative                       | 163                            |  40                            | 0.2453988                      | \n",
       "\n",
       "\n"
      ],
      "text/plain": [
       "  song                           sentiment total_words n   percent  \n",
       "1 bad boy                        negative  237          77 0.3248945\n",
       "2 rack city                      negative  458         142 0.3100437\n",
       "3 ill tumble 4 ya                negative  269          79 0.2936803\n",
       "4 time wont let me               negative  154          42 0.2727273\n",
       "5 bang bang my baby shot me down negative  163          40 0.2453988"
      ]
     },
     "metadata": {},
     "output_type": "display_data"
    }
   ],
   "source": [
    "# What songs have the highest proportion of negative words?\n",
    "lyric_sentiment %>% count(song, sentiment, total_words) %>% ungroup() %>%\n",
    "    mutate(percent = n / total_words) %>% # Make a new percent column with mutate \n",
    "    filter(sentiment == \"negative\") %>% # Filter for only negative words\n",
    "    arrange(desc(percent)) %>% head(5)"
   ]
  },
  {
   "cell_type": "code",
   "execution_count": 111,
   "metadata": {},
   "outputs": [
    {
     "data": {
      "text/html": [
       "<table>\n",
       "<thead><tr><th scope=col>song</th><th scope=col>sentiment</th><th scope=col>total_words</th><th scope=col>n</th><th scope=col>percent</th></tr></thead>\n",
       "<tbody>\n",
       "\t<tr><td>love to love you baby                 </td><td>positive                              </td><td>240                                   </td><td>78                                    </td><td>0.3250000                             </td></tr>\n",
       "\t<tr><td>dance dance dance yowsah yowsah yowsah</td><td>positive                              </td><td>305                                   </td><td>94                                    </td><td>0.3081967                             </td></tr>\n",
       "\t<tr><td>i got the feelin                      </td><td>positive                              </td><td>141                                   </td><td>35                                    </td><td>0.2482270                             </td></tr>\n",
       "\t<tr><td>i love music                          </td><td>positive                              </td><td>252                                   </td><td>61                                    </td><td>0.2420635                             </td></tr>\n",
       "\t<tr><td>sweet and innocent                    </td><td>positive                              </td><td>218                                   </td><td>51                                    </td><td>0.2339450                             </td></tr>\n",
       "</tbody>\n",
       "</table>\n"
      ],
      "text/latex": [
       "\\begin{tabular}{r|lllll}\n",
       " song & sentiment & total\\_words & n & percent\\\\\n",
       "\\hline\n",
       "\t love to love you baby                  & positive                               & 240                                    & 78                                     & 0.3250000                             \\\\\n",
       "\t dance dance dance yowsah yowsah yowsah & positive                               & 305                                    & 94                                     & 0.3081967                             \\\\\n",
       "\t i got the feelin                       & positive                               & 141                                    & 35                                     & 0.2482270                             \\\\\n",
       "\t i love music                           & positive                               & 252                                    & 61                                     & 0.2420635                             \\\\\n",
       "\t sweet and innocent                     & positive                               & 218                                    & 51                                     & 0.2339450                             \\\\\n",
       "\\end{tabular}\n"
      ],
      "text/markdown": [
       "\n",
       "song | sentiment | total_words | n | percent | \n",
       "|---|---|---|---|---|\n",
       "| love to love you baby                  | positive                               | 240                                    | 78                                     | 0.3250000                              | \n",
       "| dance dance dance yowsah yowsah yowsah | positive                               | 305                                    | 94                                     | 0.3081967                              | \n",
       "| i got the feelin                       | positive                               | 141                                    | 35                                     | 0.2482270                              | \n",
       "| i love music                           | positive                               | 252                                    | 61                                     | 0.2420635                              | \n",
       "| sweet and innocent                     | positive                               | 218                                    | 51                                     | 0.2339450                              | \n",
       "\n",
       "\n"
      ],
      "text/plain": [
       "  song                                   sentiment total_words n  percent  \n",
       "1 love to love you baby                  positive  240         78 0.3250000\n",
       "2 dance dance dance yowsah yowsah yowsah positive  305         94 0.3081967\n",
       "3 i got the feelin                       positive  141         35 0.2482270\n",
       "4 i love music                           positive  252         61 0.2420635\n",
       "5 sweet and innocent                     positive  218         51 0.2339450"
      ]
     },
     "metadata": {},
     "output_type": "display_data"
    }
   ],
   "source": [
    "# What songs have the highest proportion of positive words?\n",
    "lyric_sentiment %>% count(song, sentiment, total_words) %>% ungroup() %>%\n",
    "    mutate(percent = n / total_words) %>% filter(sentiment == \"positive\") %>% arrange(desc(percent)) %>% head(5)"
   ]
  },
  {
   "cell_type": "markdown",
   "metadata": {},
   "source": [
    "### Connecting sentiment to other quantities\n",
    "Sentiment and...\n",
    "*  how far a song reached on the Billboard chart?\n",
    "*  when the song was released?"
   ]
  },
  {
   "cell_type": "code",
   "execution_count": 116,
   "metadata": {},
   "outputs": [
    {
     "data": {
      "text/html": [
       "<table>\n",
       "<thead><tr><th scope=col>song</th><th scope=col>rank</th><th scope=col>total_words</th><th scope=col>n</th></tr></thead>\n",
       "<tbody>\n",
       "\t<tr><td>adore you          </td><td>100                </td><td>206                </td><td>25                 </td></tr>\n",
       "\t<tr><td>burn it down       </td><td>100                </td><td>270                </td><td>10                 </td></tr>\n",
       "\t<tr><td>call me            </td><td>100                </td><td>466                </td><td>27                 </td></tr>\n",
       "\t<tr><td>cant stop lovin you</td><td>100                </td><td>262                </td><td> 8                 </td></tr>\n",
       "</tbody>\n",
       "</table>\n"
      ],
      "text/latex": [
       "\\begin{tabular}{r|llll}\n",
       " song & rank & total\\_words & n\\\\\n",
       "\\hline\n",
       "\t adore you           & 100                 & 206                 & 25                 \\\\\n",
       "\t burn it down        & 100                 & 270                 & 10                 \\\\\n",
       "\t call me             & 100                 & 466                 & 27                 \\\\\n",
       "\t cant stop lovin you & 100                 & 262                 &  8                 \\\\\n",
       "\\end{tabular}\n"
      ],
      "text/markdown": [
       "\n",
       "song | rank | total_words | n | \n",
       "|---|---|---|---|\n",
       "| adore you           | 100                 | 206                 | 25                  | \n",
       "| burn it down        | 100                 | 270                 | 10                  | \n",
       "| call me             | 100                 | 466                 | 27                  | \n",
       "| cant stop lovin you | 100                 | 262                 |  8                  | \n",
       "\n",
       "\n"
      ],
      "text/plain": [
       "  song                rank total_words n \n",
       "1 adore you           100  206         25\n",
       "2 burn it down        100  270         10\n",
       "3 call me             100  466         27\n",
       "4 cant stop lovin you 100  262          8"
      ]
     },
     "metadata": {},
     "output_type": "display_data"
    }
   ],
   "source": [
    "# Sentiment and rank\n",
    "lyric_sentiment %>% filter(sentiment == \"positive\") %>% count(song, rank, total_words) %>% arrange(desc(rank)) %>% head(4)"
   ]
  },
  {
   "cell_type": "markdown",
   "metadata": {},
   "source": [
    "### Exercise: Sentiment and Billboard rank\n",
    "By using *lyric_sentiment* we can now explore how the sentiment score of a song is related to other aspects of that song. \n",
    "*  first: Billboard rank, how high on the annual Billboard chart the song reached. Do songs that use more positive or negative words achieve higher or lower ranks? \n",
    "*  Start with positive words, and make a visualization to see how these characteristics are related."
   ]
  },
  {
   "cell_type": "code",
   "execution_count": 118,
   "metadata": {},
   "outputs": [
    {
     "data": {},
     "metadata": {},
     "output_type": "display_data"
    },
    {
     "data": {
      "image/png": "[encoded data removed]",
      "text/plain": [
       "plot without title"
      ]
     },
     "metadata": {},
     "output_type": "display_data"
    }
   ],
   "source": [
    "lyric_sentiment %>% filter(sentiment == \"positive\") %>% count(song, rank, total_words) %>% ungroup() %>%\n",
    "    mutate(percent = n / total_words, rank = 10 * floor(rank / 10)) %>%\n",
    "    ggplot(aes(as.factor(rank), percent)) + geom_boxplot()"
   ]
  },
  {
   "cell_type": "markdown",
   "metadata": {},
   "source": [
    "=> no visible trend relating rank and positive sentiment.\n",
    "\n",
    "### Exercise: More on Billboard rank and sentiment scores\n",
    "we explored how positive sentiment and rank are related using boxplot and found that there was no visible trend. \n",
    "*  Songs with more positive words do not reach higher or lower ranks. \n",
    "\n",
    "Now: the same for negative words."
   ]
  },
  {
   "cell_type": "code",
   "execution_count": 119,
   "metadata": {},
   "outputs": [
    {
     "data": {},
     "metadata": {},
     "output_type": "display_data"
    },
    {
     "data": {
      "image/png": "[encoded data removed]",
      "text/plain": [
       "plot without title"
      ]
     },
     "metadata": {},
     "output_type": "display_data"
    }
   ],
   "source": [
    "lyric_sentiment %>% filter(sentiment == \"negative\") %>% count(song, rank, total_words) %>% ungroup() %>%\n",
    "    mutate(percent = n / total_words, rank = 10 * floor(rank / 10)) %>%\n",
    "    ggplot(aes(as.factor(rank), percent)) + geom_boxplot()"
   ]
  },
  {
   "cell_type": "markdown",
   "metadata": {},
   "source": [
    "still no trend! Sentiment and rank appear to be unrelated."
   ]
  },
  {
   "cell_type": "code",
   "execution_count": 117,
   "metadata": {},
   "outputs": [
    {
     "data": {
      "text/html": [
       "<table>\n",
       "<thead><tr><th scope=col>song</th><th scope=col>year</th><th scope=col>total_words</th><th scope=col>n</th></tr></thead>\n",
       "<tbody>\n",
       "\t<tr><td>0 to 100  the catch up</td><td>2014                  </td><td>894                   </td><td>34                    </td></tr>\n",
       "\t<tr><td>1 2 3 4 sumpin new    </td><td>1996                  </td><td>670                   </td><td>18                    </td></tr>\n",
       "\t<tr><td>1 2 3 red light       </td><td>1968                  </td><td>145                   </td><td> 9                    </td></tr>\n",
       "\t<tr><td>1 2 step              </td><td>2005                  </td><td>437                   </td><td>20                    </td></tr>\n",
       "\t<tr><td>100 pure love         </td><td>1994                  </td><td>590                   </td><td>11                    </td></tr>\n",
       "\t<tr><td>100 pure love         </td><td>1995                  </td><td>590                   </td><td>11                    </td></tr>\n",
       "</tbody>\n",
       "</table>\n"
      ],
      "text/latex": [
       "\\begin{tabular}{r|llll}\n",
       " song & year & total\\_words & n\\\\\n",
       "\\hline\n",
       "\t 0 to 100  the catch up & 2014                   & 894                    & 34                    \\\\\n",
       "\t 1 2 3 4 sumpin new     & 1996                   & 670                    & 18                    \\\\\n",
       "\t 1 2 3 red light        & 1968                   & 145                    &  9                    \\\\\n",
       "\t 1 2 step               & 2005                   & 437                    & 20                    \\\\\n",
       "\t 100 pure love          & 1994                   & 590                    & 11                    \\\\\n",
       "\t 100 pure love          & 1995                   & 590                    & 11                    \\\\\n",
       "\\end{tabular}\n"
      ],
      "text/markdown": [
       "\n",
       "song | year | total_words | n | \n",
       "|---|---|---|---|---|---|\n",
       "| 0 to 100  the catch up | 2014                   | 894                    | 34                     | \n",
       "| 1 2 3 4 sumpin new     | 1996                   | 670                    | 18                     | \n",
       "| 1 2 3 red light        | 1968                   | 145                    |  9                     | \n",
       "| 1 2 step               | 2005                   | 437                    | 20                     | \n",
       "| 100 pure love          | 1994                   | 590                    | 11                     | \n",
       "| 100 pure love          | 1995                   | 590                    | 11                     | \n",
       "\n",
       "\n"
      ],
      "text/plain": [
       "  song                   year total_words n \n",
       "1 0 to 100  the catch up 2014 894         34\n",
       "2 1 2 3 4 sumpin new     1996 670         18\n",
       "3 1 2 3 red light        1968 145          9\n",
       "4 1 2 step               2005 437         20\n",
       "5 100 pure love          1994 590         11\n",
       "6 100 pure love          1995 590         11"
      ]
     },
     "metadata": {},
     "output_type": "display_data"
    }
   ],
   "source": [
    "# Pop songs over time\n",
    "lyric_sentiment %>% filter(sentiment == \"positive\") %>% count(song, year, total_words) %>% head()"
   ]
  },
  {
   "cell_type": "markdown",
   "metadata": {},
   "source": [
    "### Pop songs over time\n",
    "*  Define new columns using mutate() & Visualize using geom_boxplot()\n",
    "\n",
    "### Exercise: Sentiment scores by year\n",
    "*  make two more exploratory plots: explore how sentiment has been changing with time. \n",
    "    *  Are songs on the Billboard chart changing in their use of negative or positive words through the decades?"
   ]
  },
  {
   "cell_type": "code",
   "execution_count": 120,
   "metadata": {},
   "outputs": [
    {
     "data": {},
     "metadata": {},
     "output_type": "display_data"
    },
    {
     "data": {
      "image/png": "[encoded data removed]",
      "text/plain": [
       "plot without title"
      ]
     },
     "metadata": {},
     "output_type": "display_data"
    }
   ],
   "source": [
    "# How is negative sentiment changing over time?\n",
    "lyric_sentiment %>%\n",
    "    # Filter for only negative words\n",
    "    filter(sentiment == \"negative\") %>%\n",
    "    # Count by song, year, and the total number of words\n",
    "    count(song, year, total_words) %>%\n",
    "    ungroup() %>%\n",
    "    mutate(percent = n / total_words,\n",
    "           year = 10 * floor(year / 10)) %>%\n",
    "    # Use ggplot to set up a plot with year and percent\n",
    "    ggplot(aes(as.factor(year), percent)) +\n",
    "    geom_boxplot()"
   ]
  },
  {
   "cell_type": "code",
   "execution_count": 121,
   "metadata": {},
   "outputs": [
    {
     "data": {},
     "metadata": {},
     "output_type": "display_data"
    },
    {
     "data": {
      "image/png": "[encoded data removed]",
      "text/plain": [
       "plot without title"
      ]
     },
     "metadata": {},
     "output_type": "display_data"
    }
   ],
   "source": [
    "# How is positive sentiment changing over time?\n",
    "lyric_sentiment %>%\n",
    "    filter(sentiment == \"positive\") %>%\n",
    "    count(song, year, total_words) %>%\n",
    "    ungroup() %>%\n",
    "    mutate(percent = n / total_words,\n",
    "           year = 10 * floor(year / 10)) %>%\n",
    "    ggplot(aes(as.factor(year), percent)) +\n",
    "    geom_boxplot()"
   ]
  },
  {
   "cell_type": "markdown",
   "metadata": {},
   "source": [
    "Notice that the proportion of negative words does not change significantly but the proportion of positive words exhibits a decrease over time.\n",
    "\n",
    "### Exercise: Modeling negative sentiment\n",
    "*  explore the relationship with linear modeling. \n",
    "*  make a dataframe with one row per song that contains the proportion of negative words. \n",
    "*  Then, build a linear model and see whether the relationship is significant. "
   ]
  },
  {
   "cell_type": "code",
   "execution_count": 122,
   "metadata": {},
   "outputs": [
    {
     "data": {
      "text/plain": [
       "\n",
       "Call:\n",
       "lm(formula = percent ~ year, data = negative_by_year)\n",
       "\n",
       "Residuals:\n",
       "      Min        1Q    Median        3Q       Max \n",
       "-0.030288 -0.017205 -0.005778  0.010505  0.294194 \n",
       "\n",
       "Coefficients:\n",
       "              Estimate Std. Error t value Pr(>|t|)\n",
       "(Intercept)  3.809e-02  5.022e-02   0.758    0.448\n",
       "year        -3.720e-06  2.523e-05  -0.147    0.883\n",
       "\n",
       "Residual standard error: 0.02513 on 4624 degrees of freedom\n",
       "Multiple R-squared:  4.702e-06,\tAdjusted R-squared:  -0.0002116 \n",
       "F-statistic: 0.02174 on 1 and 4624 DF,  p-value: 0.8828\n"
      ]
     },
     "metadata": {},
     "output_type": "display_data"
    }
   ],
   "source": [
    "negative_by_year <- lyric_sentiment %>%\n",
    "    # Filter for negative words\n",
    "    filter(sentiment == \"negative\") %>%\n",
    "    count(song, year, total_words) %>%\n",
    "    ungroup() %>%\n",
    "    # Define a new column: percent\n",
    "    mutate(percent = n / total_words)\n",
    "\n",
    "# Specify the model with percent as the response and year as the predictor\n",
    "model_negative <- lm(percent ~ year, data = negative_by_year)\n",
    "\n",
    "# Use summary to see the results of the model fitting\n",
    "summary(model_negative)"
   ]
  },
  {
   "cell_type": "markdown",
   "metadata": {},
   "source": [
    "Notice how high the p-values are; negative sentiment does not change significantly with year.\n",
    "\n",
    "### Exercise: Modeling positive sentiment\n",
    "Now it's time for you to build a linear model for positive sentiment in this dataset of pop songs, just like you did for negative sentiment in the last exercise. Use the same approach and see what the results are!"
   ]
  },
  {
   "cell_type": "code",
   "execution_count": 123,
   "metadata": {},
   "outputs": [
    {
     "data": {
      "text/plain": [
       "\n",
       "Call:\n",
       "lm(formula = percent ~ year, data = positive_by_year)\n",
       "\n",
       "Residuals:\n",
       "      Min        1Q    Median        3Q       Max \n",
       "-0.058050 -0.024032 -0.007756  0.014774  0.269726 \n",
       "\n",
       "Coefficients:\n",
       "              Estimate Std. Error t value Pr(>|t|)    \n",
       "(Intercept)  1.117e+00  6.859e-02   16.29   <2e-16 ***\n",
       "year        -5.373e-04  3.446e-05  -15.59   <2e-16 ***\n",
       "---\n",
       "Signif. codes:  0 '***' 0.001 '**' 0.01 '*' 0.05 '.' 0.1 ' ' 1\n",
       "\n",
       "Residual standard error: 0.03495 on 4770 degrees of freedom\n",
       "Multiple R-squared:  0.0485,\tAdjusted R-squared:  0.0483 \n",
       "F-statistic: 243.1 on 1 and 4770 DF,  p-value: < 2.2e-16\n"
      ]
     },
     "metadata": {},
     "output_type": "display_data"
    }
   ],
   "source": [
    "positive_by_year <- lyric_sentiment %>%\n",
    "    filter(sentiment == \"positive\") %>%\n",
    "    # Count by song, year, and total number of words\n",
    "    count(song, year, total_words) %>%\n",
    "    ungroup() %>%\n",
    "    # Define a new column: percent\n",
    "    mutate(percent = n / total_words)\n",
    "\n",
    "# Fit a linear model with percent as the response and year as the predictor\n",
    "model_positive <- lm(percent ~ year, data = positive_by_year)\n",
    "\n",
    "# Use summary to see the results of the model fitting\n",
    "summary(model_positive)"
   ]
  },
  {
   "cell_type": "markdown",
   "metadata": {},
   "source": [
    "Notice how low these p-values are and which direction the slope is; positive sentiment does change significantly with year, in contrast with negative sentiment.\n",
    "\n",
    "### How is sentiment in pop songs changing over the decades?\n",
    "Based on the visualizations you made and the linear modeling you explored, how is sentiment changing in this dataset of songs over time?\n",
    "**Answer:** fewer positive words => As years have passed, the proportion of positive words has decreased in these songs; you saw this both in the plots and the modeling."
   ]
  },
  {
   "cell_type": "markdown",
   "metadata": {},
   "source": [
    "### Diverse texts, powerful techniques\n",
    "*  Social media text from Twitter\n",
    "*  Classic narrative text by Shakespeare\n",
    "*  TV news text sourced from closed captioning\n",
    "*  Lyrics from pop songs\n",
    "*  Book: https://www.tidytextmining.com/ "
   ]
  }
 ],
 "metadata": {
  "kernelspec": {
   "display_name": "R",
   "language": "R",
   "name": "ir"
  },
  "language_info": {
   "codemirror_mode": "r",
   "file_extension": ".r",
   "mimetype": "text/x-r-source",
   "name": "R",
   "pygments_lexer": "r",
   "version": "3.4.3"
  },
  "toc": {
   "nav_menu": {},
   "number_sections": true,
   "sideBar": true,
   "skip_h1_title": true,
   "title_cell": "Table of Contents",
   "title_sidebar": "Table of Contents",
   "toc_cell": true,
   "toc_position": {},
   "toc_section_display": true,
   "toc_window_display": true
  },
  "varInspector": {
   "cols": {
    "lenName": 16,
    "lenType": 16,
    "lenVar": 40
   },
   "kernels_config": {
    "python": {
     "delete_cmd_postfix": "",
     "delete_cmd_prefix": "del ",
     "library": "var_list.py",
     "varRefreshCmd": "print(var_dic_list())"
    },
    "r": {
     "delete_cmd_postfix": ") ",
     "delete_cmd_prefix": "rm(",
     "library": "var_list.r",
     "varRefreshCmd": "cat(var_dic_list()) "
    }
   },
   "types_to_exclude": [
    "module",
    "function",
    "builtin_function_or_method",
    "instance",
    "_Feature"
   ],
   "window_display": false
  }
 },
 "nbformat": 4,
 "nbformat_minor": 2
}
